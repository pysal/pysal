{
 "cells": [
  {
   "cell_type": "code",
   "execution_count": 1,
   "id": "amino-suggestion",
   "metadata": {},
   "outputs": [],
   "source": [
    "import json"
   ]
  },
  {
   "cell_type": "code",
   "execution_count": 2,
   "id": "familiar-limit",
   "metadata": {},
   "outputs": [],
   "source": [
    "from release_info import get_github_info"
   ]
  },
  {
   "cell_type": "code",
   "execution_count": 3,
   "id": "graphic-arcade",
   "metadata": {},
   "outputs": [
    {
     "name": "stdout",
     "output_type": "stream",
     "text": [
      "https://api.github.com/repos/pysal/libpysal/releases/latest\n",
      "https://api.github.com/repos/pysal/access/releases/latest\n",
      "https://api.github.com/repos/pysal/esda/releases/latest\n",
      "https://api.github.com/repos/pysal/giddy/releases/latest\n",
      "https://api.github.com/repos/pysal/inequality/releases/latest\n",
      "https://api.github.com/repos/pysal/pointpats/releases/latest\n",
      "https://api.github.com/repos/pysal/segregation/releases/latest\n",
      "https://api.github.com/repos/pysal/spaghetti/releases/latest\n",
      "https://api.github.com/repos/pysal/mgwr/releases/latest\n",
      "https://api.github.com/repos/pysal/momepy/releases/latest\n",
      "https://api.github.com/repos/pysal/spglm/releases/latest\n",
      "https://api.github.com/repos/pysal/spint/releases/latest\n",
      "https://api.github.com/repos/pysal/spreg/releases/latest\n",
      "https://api.github.com/repos/pysal/spvcm/releases/latest\n",
      "https://api.github.com/repos/pysal/tobler/releases/latest\n",
      "https://api.github.com/repos/pysal/mapclassify/releases/latest\n",
      "https://api.github.com/repos/pysal/splot/releases/latest\n",
      "https://api.github.com/repos/pysal/spopt/releases/latest\n"
     ]
    }
   ],
   "source": [
    "releases = get_github_info()  "
   ]
  },
  {
   "cell_type": "code",
   "execution_count": 4,
   "id": "north-movement",
   "metadata": {},
   "outputs": [
    {
     "data": {
      "text/plain": [
       "{'libpysal': {'version': 'v4.7.0',\n",
       "  'url': 'https://api.github.com/repos/pysal/libpysal/tarball/v4.7.0',\n",
       "  'release_date': datetime.datetime(2022, 11, 17, 22, 59, 5)},\n",
       " 'access': {'version': 'v1.1.8',\n",
       "  'url': 'https://api.github.com/repos/pysal/access/tarball/v1.1.8',\n",
       "  'release_date': datetime.datetime(2022, 6, 4, 20, 15, 41)},\n",
       " 'esda': {'version': 'v2.4.1',\n",
       "  'url': 'https://api.github.com/repos/pysal/esda/tarball/v2.4.1',\n",
       "  'release_date': datetime.datetime(2021, 7, 27, 12, 54, 27)},\n",
       " 'giddy': {'version': 'v2.3.3',\n",
       "  'url': 'https://api.github.com/repos/pysal/giddy/tarball/v2.3.3',\n",
       "  'release_date': datetime.datetime(2020, 6, 10, 4, 59, 45)},\n",
       " 'inequality': {'version': 'v1.0.0',\n",
       "  'url': 'https://api.github.com/repos/pysal/inequality/tarball/v1.0.0',\n",
       "  'release_date': datetime.datetime(2018, 10, 31, 22, 28, 18)},\n",
       " 'pointpats': {'version': 'v2.2.0',\n",
       "  'url': 'https://api.github.com/repos/pysal/pointpats/tarball/v2.2.0',\n",
       "  'release_date': datetime.datetime(2020, 7, 27, 22, 17, 33)},\n",
       " 'segregation': {'version': 'v2.3.1',\n",
       "  'url': 'https://api.github.com/repos/pysal/segregation/tarball/v2.3.1',\n",
       "  'release_date': datetime.datetime(2022, 6, 18, 19, 58, 17)},\n",
       " 'spaghetti': {'version': 'v1.7.2',\n",
       "  'url': 'https://api.github.com/repos/pysal/spaghetti/tarball/v1.7.2',\n",
       "  'release_date': datetime.datetime(2023, 1, 16, 2, 1, 33)},\n",
       " 'mgwr': {'version': 'v2.1.2',\n",
       "  'url': 'https://api.github.com/repos/pysal/mgwr/tarball/v2.1.2',\n",
       "  'release_date': datetime.datetime(2020, 9, 8, 21, 20, 34)},\n",
       " 'momepy': {'version': 'v0.5.4',\n",
       "  'url': 'https://api.github.com/repos/pysal/momepy/tarball/v0.5.4',\n",
       "  'release_date': datetime.datetime(2022, 9, 20, 14, 49, 58)},\n",
       " 'spglm': {'version': 'v1.0.8',\n",
       "  'url': 'https://api.github.com/repos/pysal/spglm/tarball/v1.0.8',\n",
       "  'release_date': datetime.datetime(2020, 9, 8, 20, 34, 8)},\n",
       " 'spint': {'version': 'v1.0.7',\n",
       "  'url': 'https://api.github.com/repos/pysal/spint/tarball/v1.0.7',\n",
       "  'release_date': datetime.datetime(2020, 9, 9, 2, 28, 50)},\n",
       " 'spreg': {'version': 'v1.3.0',\n",
       "  'url': 'https://api.github.com/repos/pysal/spreg/tarball/v1.3.0',\n",
       "  'release_date': datetime.datetime(2022, 10, 28, 19, 59, 45)},\n",
       " 'spvcm': {'version': 'v0.3.0',\n",
       "  'url': 'https://api.github.com/repos/pysal/spvcm/tarball/v0.3.0',\n",
       "  'release_date': datetime.datetime(2020, 2, 2, 19, 42, 39)},\n",
       " 'tobler': {'version': 'v0.8.2',\n",
       "  'url': 'https://api.github.com/repos/pysal/tobler/tarball/v0.8.2',\n",
       "  'release_date': datetime.datetime(2021, 6, 30, 18, 24, 55)},\n",
       " 'mapclassify': {'version': 'v2.5.0',\n",
       "  'url': 'https://api.github.com/repos/pysal/mapclassify/tarball/v2.5.0',\n",
       "  'release_date': datetime.datetime(2023, 1, 14, 15, 50, 46)},\n",
       " 'splot': {'version': 'v1.1.5.post1',\n",
       "  'url': 'https://api.github.com/repos/pysal/splot/tarball/v1.1.5.post1',\n",
       "  'release_date': datetime.datetime(2022, 4, 13, 21, 13, 27)},\n",
       " 'spopt': {'version': 'v0.5.0',\n",
       "  'url': 'https://api.github.com/repos/pysal/spopt/tarball/v0.5.0',\n",
       "  'release_date': datetime.datetime(2023, 1, 14, 3, 13, 47)}}"
      ]
     },
     "execution_count": 4,
     "metadata": {},
     "output_type": "execute_result"
    }
   ],
   "source": [
    "releases"
   ]
  },
  {
   "cell_type": "code",
   "execution_count": 5,
   "id": "6d469743-97a7-4a75-98e3-997c853a3ce3",
   "metadata": {},
   "outputs": [],
   "source": [
    "import json\n",
    "requirements = []\n",
    "frozen_dict = {}\n",
    "for package in releases:\n",
    "    version = releases[package]['version']\n",
    "    version = version.replace(\"v\",\"\")\n",
    "    version = version.replace(\"V\",\"\")\n",
    "    requirements.append(f'{package}>={version}')\n",
    "    frozen_dict[package] = version\n",
    "\n",
    "with open('frozen.txt', 'w') as f:\n",
    "    f.write(\"\\n\".join(requirements))\n",
    "\n",
    "\n",
    "\n",
    "with open ('../requirements.txt', 'w') as f:\n",
    "    s = \"\\n\".join(requirements)\n",
    "    f.write(s)\n",
    "    "
   ]
  },
  {
   "cell_type": "code",
   "execution_count": 6,
   "id": "9f63f347-1fab-419f-845d-f36368351a8a",
   "metadata": {},
   "outputs": [
    {
     "data": {
      "text/plain": [
       "'libpysal>=4.7.0\\naccess>=1.1.8\\nesda>=2.4.1\\ngiddy>=2.3.3\\ninequality>=1.0.0\\npointpats>=2.2.0\\nsegregation>=2.3.1\\nspaghetti>=1.7.2\\nmgwr>=2.1.2\\nmomepy>=0.5.4\\nspglm>=1.0.8\\nspint>=1.0.7\\nspreg>=1.3.0\\nspvcm>=0.3.0\\ntobler>=0.8.2\\nmapclassify>=2.5.0\\nsplot>=1.1.5.post1\\nspopt>=0.5.0'"
      ]
     },
     "execution_count": 6,
     "metadata": {},
     "output_type": "execute_result"
    }
   ],
   "source": [
    "\"\\n\".join(requirements)"
   ]
  },
  {
   "cell_type": "code",
   "execution_count": 7,
   "id": "38da20eb-1ed6-4eba-ac55-ec0d60fbc614",
   "metadata": {},
   "outputs": [],
   "source": [
    "# update frozen.py    \n",
    "with open('../pysal/frozen.py', 'w') as f:\n",
    "    s = json.dumps(frozen_dict)\n",
    "    s = s.replace(\",\", \",\\n\\t\")\n",
    "    s = f\"frozen_packages = {s}\"\n",
    "    f.write(s)\n",
    "    "
   ]
  },
  {
   "cell_type": "code",
   "execution_count": null,
   "id": "2b66e22a-7d37-46f7-9576-c6bf5cc6e94b",
   "metadata": {},
   "outputs": [],
   "source": []
  },
  {
   "cell_type": "code",
   "execution_count": 8,
   "id": "frozen-singing",
   "metadata": {},
   "outputs": [],
   "source": [
    "import pickle \n",
    "pickle.dump(releases, open( \"releases.p\", \"wb\" ) )\n"
   ]
  },
  {
   "cell_type": "code",
   "execution_count": 9,
   "id": "328db7ce-d1c9-4f1c-a35e-3648a778afe6",
   "metadata": {},
   "outputs": [
    {
     "data": {
      "text/plain": [
       "['libpysal>=4.7.0',\n",
       " 'access>=1.1.8',\n",
       " 'esda>=2.4.1',\n",
       " 'giddy>=2.3.3',\n",
       " 'inequality>=1.0.0',\n",
       " 'pointpats>=2.2.0',\n",
       " 'segregation>=2.3.1',\n",
       " 'spaghetti>=1.7.2',\n",
       " 'mgwr>=2.1.2',\n",
       " 'momepy>=0.5.4',\n",
       " 'spglm>=1.0.8',\n",
       " 'spint>=1.0.7',\n",
       " 'spreg>=1.3.0',\n",
       " 'spvcm>=0.3.0',\n",
       " 'tobler>=0.8.2',\n",
       " 'mapclassify>=2.5.0',\n",
       " 'splot>=1.1.5.post1',\n",
       " 'spopt>=0.5.0']"
      ]
     },
     "execution_count": 9,
     "metadata": {},
     "output_type": "execute_result"
    }
   ],
   "source": [
    "requirements"
   ]
  },
  {
   "cell_type": "code",
   "execution_count": null,
   "id": "59dfe629-d7a2-4eca-b94d-3fae52f9a4c8",
   "metadata": {},
   "outputs": [],
   "source": []
  }
 ],
 "metadata": {
  "kernelspec": {
   "display_name": "Python 3 (ipykernel)",
   "language": "python",
   "name": "python3"
  },
  "language_info": {
   "codemirror_mode": {
    "name": "ipython",
    "version": 3
   },
   "file_extension": ".py",
   "mimetype": "text/x-python",
   "name": "python",
   "nbconvert_exporter": "python",
   "pygments_lexer": "ipython3",
   "version": "3.11.0"
  }
 },
 "nbformat": 4,
 "nbformat_minor": 5
}
