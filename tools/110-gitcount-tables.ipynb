{
 "cells": [
  {
   "cell_type": "markdown",
   "metadata": {},
   "source": [
    "## PySAL Change Log Statistics: Table Generation\n",
    "\n",
    "This notebook generates the summary statistics for use in the 6-month releases of PySAL, which is now a meta package. \n",
    "\n",
    "It assumes the subpackages have been git cloned in a directory below the location of this notebook. It also requires network connectivity for some of the reporting.\n",
    "\n",
    "Run this notebook after `100-gitcount.ipynb`\n"
   ]
  },
  {
   "cell_type": "code",
   "execution_count": 1,
   "metadata": {},
   "outputs": [],
   "source": [
    "from __future__ import print_function\n",
    "import os\n",
    "import json\n",
    "import re\n",
    "import sys\n",
    "import pandas\n",
    "import subprocess\n",
    "from subprocess import check_output\n",
    "\n",
    "#import yaml\n",
    "from datetime import datetime, timedelta, time\n",
    "\n",
    "from dateutil.parser import parse\n",
    "import pytz\n",
    "\n",
    "utc=pytz.UTC\n",
    "\n",
    "try:\n",
    "    from urllib import urlopen\n",
    "except:\n",
    "    from urllib.request import urlopen\n",
    "\n",
    "from release_info import release_date, start_date, PYSALVER\n",
    "\n",
    "since = datetime.combine(start_date, time(0,0))\n"
   ]
  },
  {
   "cell_type": "code",
   "execution_count": 2,
   "metadata": {},
   "outputs": [
    {
     "data": {
      "text/plain": [
       "datetime.date(2023, 1, 30)"
      ]
     },
     "execution_count": 2,
     "metadata": {},
     "output_type": "execute_result"
    }
   ],
   "source": [
    "release_date"
   ]
  },
  {
   "cell_type": "code",
   "execution_count": 3,
   "metadata": {},
   "outputs": [],
   "source": [
    "CWD = os.path.abspath(os.path.curdir)"
   ]
  },
  {
   "cell_type": "code",
   "execution_count": 4,
   "metadata": {},
   "outputs": [
    {
     "data": {
      "text/plain": [
       "'/Users/serge/Documents/p/pysal/src/pysal/tools'"
      ]
     },
     "execution_count": 4,
     "metadata": {},
     "output_type": "execute_result"
    }
   ],
   "source": [
    "CWD"
   ]
  },
  {
   "cell_type": "code",
   "execution_count": 5,
   "metadata": {},
   "outputs": [],
   "source": [
    "with open('frozen.txt', 'r') as package_list:\n",
    "    packages = package_list.readlines()\n",
    "    packages = dict([package.strip().split(\">=\") for package in packages])"
   ]
  },
  {
   "cell_type": "code",
   "execution_count": 6,
   "metadata": {},
   "outputs": [
    {
     "data": {
      "text/plain": [
       "{'libpysal': '4.7.0',\n",
       " 'access': '1.1.8',\n",
       " 'esda': '2.4.1',\n",
       " 'giddy': '2.3.3',\n",
       " 'inequality': '1.0.0',\n",
       " 'pointpats': '2.2.0',\n",
       " 'segregation': '2.3.1',\n",
       " 'spaghetti': '1.7.2',\n",
       " 'mgwr': '2.1.2',\n",
       " 'momepy': '0.5.4',\n",
       " 'spglm': '1.0.8',\n",
       " 'spint': '1.0.7',\n",
       " 'spreg': '1.3.0',\n",
       " 'spvcm': '0.3.0',\n",
       " 'tobler': '0.8.2',\n",
       " 'mapclassify': '2.5.0',\n",
       " 'splot': '1.1.5.post1',\n",
       " 'spopt': '0.5.0'}"
      ]
     },
     "execution_count": 6,
     "metadata": {},
     "output_type": "execute_result"
    }
   ],
   "source": [
    "packages"
   ]
  },
  {
   "cell_type": "markdown",
   "metadata": {},
   "source": [
    "import pysal\n",
    "packages['pysal'] = pysal.__version__"
   ]
  },
  {
   "cell_type": "code",
   "execution_count": 7,
   "metadata": {},
   "outputs": [],
   "source": [
    "import pickle"
   ]
  },
  {
   "cell_type": "code",
   "execution_count": 8,
   "metadata": {},
   "outputs": [],
   "source": [
    "issues_closed = pickle.load(open(\"issues_closed.p\", 'rb'))\n",
    "pulls_closed = pickle.load(open('pulls_closed.p', 'rb'))"
   ]
  },
  {
   "cell_type": "code",
   "execution_count": 9,
   "metadata": {},
   "outputs": [
    {
     "data": {
      "text/plain": [
       "dict"
      ]
     },
     "execution_count": 9,
     "metadata": {},
     "output_type": "execute_result"
    }
   ],
   "source": [
    "type(issues_closed)"
   ]
  },
  {
   "cell_type": "code",
   "execution_count": 10,
   "metadata": {},
   "outputs": [
    {
     "data": {
      "text/plain": [
       "dict_keys(['libpysal', 'access', 'esda', 'giddy', 'inequality', 'pointpats', 'segregation', 'spaghetti', 'mgwr', 'momepy', 'spglm', 'spint', 'spreg', 'spvcm', 'tobler', 'mapclassify', 'splot', 'spopt', 'pysal'])"
      ]
     },
     "execution_count": 10,
     "metadata": {},
     "output_type": "execute_result"
    }
   ],
   "source": [
    "issues_closed.keys()"
   ]
  },
  {
   "cell_type": "code",
   "execution_count": 11,
   "metadata": {},
   "outputs": [],
   "source": [
    "from release_info import get_pypi_info, get_github_info, clone_masters"
   ]
  },
  {
   "cell_type": "code",
   "execution_count": 12,
   "metadata": {},
   "outputs": [],
   "source": [
    "#github_releases = get_github_info()\n",
    "\n",
    "github_releases = pickle.load(open(\"releases.p\", 'rb'))\n"
   ]
  },
  {
   "cell_type": "code",
   "execution_count": 13,
   "metadata": {},
   "outputs": [],
   "source": [
    "from datetime import datetime"
   ]
  },
  {
   "cell_type": "code",
   "execution_count": 14,
   "metadata": {},
   "outputs": [],
   "source": [
    "#pysal_date = datetime.strptime('2021-07-31T12:00:00Z', '%Y-%m-%dT%H:%M:%SZ')\n",
    "pysal_date = release_date\n",
    "#ISO8601 = \"%Y-%m-%dT%H:%M:%SZ\"\n"
   ]
  },
  {
   "cell_type": "code",
   "execution_count": 15,
   "metadata": {},
   "outputs": [],
   "source": [
    "pysal_rel = {'version': f'v{PYSALVER}',\n",
    "            'release_date': release_date}\n",
    "github_releases['pysal'] = pysal_rel"
   ]
  },
  {
   "cell_type": "code",
   "execution_count": 16,
   "metadata": {},
   "outputs": [
    {
     "data": {
      "text/plain": [
       "{'libpysal': {'version': 'v4.7.0',\n",
       "  'url': 'https://api.github.com/repos/pysal/libpysal/tarball/v4.7.0',\n",
       "  'release_date': datetime.datetime(2022, 11, 17, 22, 59, 5)},\n",
       " 'access': {'version': 'v1.1.8',\n",
       "  'url': 'https://api.github.com/repos/pysal/access/tarball/v1.1.8',\n",
       "  'release_date': datetime.datetime(2022, 6, 4, 20, 15, 41)},\n",
       " 'esda': {'version': 'v2.4.1',\n",
       "  'url': 'https://api.github.com/repos/pysal/esda/tarball/v2.4.1',\n",
       "  'release_date': datetime.datetime(2021, 7, 27, 12, 54, 27)},\n",
       " 'giddy': {'version': 'v2.3.3',\n",
       "  'url': 'https://api.github.com/repos/pysal/giddy/tarball/v2.3.3',\n",
       "  'release_date': datetime.datetime(2020, 6, 10, 4, 59, 45)},\n",
       " 'inequality': {'version': 'v1.0.0',\n",
       "  'url': 'https://api.github.com/repos/pysal/inequality/tarball/v1.0.0',\n",
       "  'release_date': datetime.datetime(2018, 10, 31, 22, 28, 18)},\n",
       " 'pointpats': {'version': 'v2.2.0',\n",
       "  'url': 'https://api.github.com/repos/pysal/pointpats/tarball/v2.2.0',\n",
       "  'release_date': datetime.datetime(2020, 7, 27, 22, 17, 33)},\n",
       " 'segregation': {'version': 'v2.3.1',\n",
       "  'url': 'https://api.github.com/repos/pysal/segregation/tarball/v2.3.1',\n",
       "  'release_date': datetime.datetime(2022, 6, 18, 19, 58, 17)},\n",
       " 'spaghetti': {'version': 'v1.7.2',\n",
       "  'url': 'https://api.github.com/repos/pysal/spaghetti/tarball/v1.7.2',\n",
       "  'release_date': datetime.datetime(2023, 1, 16, 2, 1, 33)},\n",
       " 'mgwr': {'version': 'v2.1.2',\n",
       "  'url': 'https://api.github.com/repos/pysal/mgwr/tarball/v2.1.2',\n",
       "  'release_date': datetime.datetime(2020, 9, 8, 21, 20, 34)},\n",
       " 'momepy': {'version': 'v0.5.4',\n",
       "  'url': 'https://api.github.com/repos/pysal/momepy/tarball/v0.5.4',\n",
       "  'release_date': datetime.datetime(2022, 9, 20, 14, 49, 58)},\n",
       " 'spglm': {'version': 'v1.0.8',\n",
       "  'url': 'https://api.github.com/repos/pysal/spglm/tarball/v1.0.8',\n",
       "  'release_date': datetime.datetime(2020, 9, 8, 20, 34, 8)},\n",
       " 'spint': {'version': 'v1.0.7',\n",
       "  'url': 'https://api.github.com/repos/pysal/spint/tarball/v1.0.7',\n",
       "  'release_date': datetime.datetime(2020, 9, 9, 2, 28, 50)},\n",
       " 'spreg': {'version': 'v1.3.0',\n",
       "  'url': 'https://api.github.com/repos/pysal/spreg/tarball/v1.3.0',\n",
       "  'release_date': datetime.datetime(2022, 10, 28, 19, 59, 45)},\n",
       " 'spvcm': {'version': 'v0.3.0',\n",
       "  'url': 'https://api.github.com/repos/pysal/spvcm/tarball/v0.3.0',\n",
       "  'release_date': datetime.datetime(2020, 2, 2, 19, 42, 39)},\n",
       " 'tobler': {'version': 'v0.8.2',\n",
       "  'url': 'https://api.github.com/repos/pysal/tobler/tarball/v0.8.2',\n",
       "  'release_date': datetime.datetime(2021, 6, 30, 18, 24, 55)},\n",
       " 'mapclassify': {'version': 'v2.5.0',\n",
       "  'url': 'https://api.github.com/repos/pysal/mapclassify/tarball/v2.5.0',\n",
       "  'release_date': datetime.datetime(2023, 1, 14, 15, 50, 46)},\n",
       " 'splot': {'version': 'v1.1.5.post1',\n",
       "  'url': 'https://api.github.com/repos/pysal/splot/tarball/v1.1.5.post1',\n",
       "  'release_date': datetime.datetime(2022, 4, 13, 21, 13, 27)},\n",
       " 'spopt': {'version': 'v0.5.0',\n",
       "  'url': 'https://api.github.com/repos/pysal/spopt/tarball/v0.5.0',\n",
       "  'release_date': datetime.datetime(2023, 1, 14, 3, 13, 47)},\n",
       " 'pysal': {'version': 'v23.01', 'release_date': datetime.date(2023, 1, 30)}}"
      ]
     },
     "execution_count": 16,
     "metadata": {},
     "output_type": "execute_result"
    }
   ],
   "source": [
    "github_releases"
   ]
  },
  {
   "cell_type": "code",
   "execution_count": 17,
   "metadata": {},
   "outputs": [
    {
     "name": "stdout",
     "output_type": "stream",
     "text": [
      "libpysal 2022-11-17 22:59:05 29 10 0 0\n",
      "access 2022-06-04 20:15:41 2 0 1 0\n",
      "esda 2021-07-27 12:54:27 33 0 0 0\n",
      "giddy 2020-06-10 04:59:45 9 0 0 0\n",
      "inequality 2018-10-31 22:28:18 22 0 10 0\n",
      "pointpats 2020-07-27 22:17:33 0 0 0 0\n",
      "segregation 2022-06-18 19:58:17 8 0 0 0\n",
      "spaghetti 2023-01-16 02:01:33 30 28 0 0\n",
      "mgwr 2020-09-08 21:20:34 3 0 1 0\n",
      "momepy 2022-09-20 14:49:58 66 41 0 0\n",
      "spglm 2020-09-08 20:34:08 1 0 1 0\n",
      "spint 2020-09-09 02:28:50 0 0 0 0\n",
      "spreg 2022-10-28 19:59:45 11 5 5 4\n",
      "spvcm 2020-02-02 19:42:39 0 0 0 0\n",
      "tobler 2021-06-30 18:24:55 1 0 0 0\n",
      "mapclassify 2023-01-14 15:50:46 44 42 15 15\n",
      "splot 2022-04-13 21:13:27 11 0 5 0\n",
      "spopt 2023-01-14 03:13:47 79 79 0 0\n"
     ]
    }
   ],
   "source": [
    "from datetime import datetime\n",
    "datetime.fromtimestamp(0)\n",
    "ISO8601 = \"%Y-%m-%dT%H:%M:%SZ\"\n",
    "\n",
    "\n",
    "final_pulls = {}\n",
    "final_issues = {}\n",
    "for package in packages:\n",
    "    filtered_issues = []\n",
    "    filtered_pulls = []\n",
    "    released = github_releases[package]['release_date']\n",
    "    package_pulls = pulls_closed[package]\n",
    "    package_issues = issues_closed[package]\n",
    "    for issue in package_issues:\n",
    "        #print(issue['number'], issue['title'], issue['closed_at'])\n",
    "        closed = datetime.strptime(issue['closed_at'], ISO8601)\n",
    "        if closed <= released and closed > since:\n",
    "            filtered_issues.append(issue)\n",
    "    final_issues[package] = filtered_issues\n",
    "    for pull in package_pulls:\n",
    "        #print(pull['number'], pull['title'], pull['closed_at'])\n",
    "        closed = datetime.strptime(pull['closed_at'], ISO8601)\n",
    "        if closed <= released and closed > since:\n",
    "            filtered_pulls.append(pull)\n",
    "    final_pulls[package] = filtered_pulls\n",
    "    print(package, released, len(package_issues), len(filtered_issues), len(package_pulls),\n",
    "         len(filtered_pulls))"
   ]
  },
  {
   "cell_type": "code",
   "execution_count": 18,
   "metadata": {},
   "outputs": [],
   "source": [
    "issue_details = final_issues\n",
    "pull_details = final_pulls"
   ]
  },
  {
   "cell_type": "code",
   "execution_count": 19,
   "metadata": {},
   "outputs": [
    {
     "data": {
      "text/plain": [
       "{'libpysal': '4.7.0',\n",
       " 'access': '1.1.8',\n",
       " 'esda': '2.4.1',\n",
       " 'giddy': '2.3.3',\n",
       " 'inequality': '1.0.0',\n",
       " 'pointpats': '2.2.0',\n",
       " 'segregation': '2.3.1',\n",
       " 'spaghetti': '1.7.2',\n",
       " 'mgwr': '2.1.2',\n",
       " 'momepy': '0.5.4',\n",
       " 'spglm': '1.0.8',\n",
       " 'spint': '1.0.7',\n",
       " 'spreg': '1.3.0',\n",
       " 'spvcm': '0.3.0',\n",
       " 'tobler': '0.8.2',\n",
       " 'mapclassify': '2.5.0',\n",
       " 'splot': '1.1.5.post1',\n",
       " 'spopt': '0.5.0'}"
      ]
     },
     "execution_count": 19,
     "metadata": {},
     "output_type": "execute_result"
    }
   ],
   "source": [
    "packages"
   ]
  },
  {
   "cell_type": "code",
   "execution_count": 20,
   "metadata": {},
   "outputs": [],
   "source": [
    "github_releases['pysal']['release_date'] = release_date"
   ]
  },
  {
   "cell_type": "code",
   "execution_count": 21,
   "metadata": {},
   "outputs": [
    {
     "data": {
      "text/plain": [
       "datetime.datetime(2023, 1, 14, 3, 13, 47)"
      ]
     },
     "execution_count": 21,
     "metadata": {},
     "output_type": "execute_result"
    }
   ],
   "source": [
    "released"
   ]
  },
  {
   "cell_type": "code",
   "execution_count": 22,
   "metadata": {},
   "outputs": [
    {
     "data": {
      "text/plain": [
       "dict_keys(['libpysal', 'access', 'esda', 'giddy', 'inequality', 'pointpats', 'segregation', 'spaghetti', 'mgwr', 'momepy', 'spglm', 'spint', 'spreg', 'spvcm', 'tobler', 'mapclassify', 'splot', 'spopt'])"
      ]
     },
     "execution_count": 22,
     "metadata": {},
     "output_type": "execute_result"
    }
   ],
   "source": [
    "packages.keys()"
   ]
  },
  {
   "cell_type": "code",
   "execution_count": 23,
   "metadata": {},
   "outputs": [],
   "source": [
    "spvcm = packages['spvcm']"
   ]
  },
  {
   "cell_type": "code",
   "execution_count": 24,
   "metadata": {},
   "outputs": [],
   "source": [
    "## skip packages not released since last meta release\n",
    "\n",
    "# handle meta\n",
    "mrd = github_releases['pysal']['release_date']\n",
    "github_releases['pysal']['release_date'] =  datetime.combine(mrd, time(0,0))\n"
   ]
  },
  {
   "cell_type": "code",
   "execution_count": 25,
   "metadata": {},
   "outputs": [
    {
     "name": "stdout",
     "output_type": "stream",
     "text": [
      "new:  libpysal\n",
      "old: access\n",
      "old: esda\n",
      "old: giddy\n",
      "old: inequality\n",
      "old: pointpats\n",
      "old: segregation\n",
      "new:  spaghetti\n",
      "old: mgwr\n",
      "new:  momepy\n",
      "old: spglm\n",
      "old: spint\n",
      "new:  spreg\n",
      "old: spvcm\n",
      "old: tobler\n",
      "new:  mapclassify\n",
      "old: splot\n",
      "new:  spopt\n",
      "new:  pysal\n"
     ]
    }
   ],
   "source": [
    "for package in github_releases:\n",
    "    if github_releases[package]['release_date']>since:\n",
    "        print(\"new: \",package)\n",
    "    else:\n",
    "        print('old:', package)"
   ]
  },
  {
   "cell_type": "code",
   "execution_count": 26,
   "metadata": {},
   "outputs": [
    {
     "data": {
      "text/plain": [
       "datetime.datetime(2023, 1, 30, 0, 0)"
      ]
     },
     "execution_count": 26,
     "metadata": {},
     "output_type": "execute_result"
    }
   ],
   "source": [
    "github_releases[package]['release_date']"
   ]
  },
  {
   "cell_type": "code",
   "execution_count": 27,
   "metadata": {},
   "outputs": [
    {
     "data": {
      "text/plain": [
       "datetime.datetime(2022, 7, 31, 0, 0)"
      ]
     },
     "execution_count": 27,
     "metadata": {},
     "output_type": "execute_result"
    }
   ],
   "source": [
    "since"
   ]
  },
  {
   "cell_type": "code",
   "execution_count": 28,
   "metadata": {},
   "outputs": [
    {
     "data": {
      "text/plain": [
       "{'libpysal': {'version': 'v4.7.0',\n",
       "  'url': 'https://api.github.com/repos/pysal/libpysal/tarball/v4.7.0',\n",
       "  'release_date': datetime.datetime(2022, 11, 17, 22, 59, 5)},\n",
       " 'access': {'version': 'v1.1.8',\n",
       "  'url': 'https://api.github.com/repos/pysal/access/tarball/v1.1.8',\n",
       "  'release_date': datetime.datetime(2022, 6, 4, 20, 15, 41)},\n",
       " 'esda': {'version': 'v2.4.1',\n",
       "  'url': 'https://api.github.com/repos/pysal/esda/tarball/v2.4.1',\n",
       "  'release_date': datetime.datetime(2021, 7, 27, 12, 54, 27)},\n",
       " 'giddy': {'version': 'v2.3.3',\n",
       "  'url': 'https://api.github.com/repos/pysal/giddy/tarball/v2.3.3',\n",
       "  'release_date': datetime.datetime(2020, 6, 10, 4, 59, 45)},\n",
       " 'inequality': {'version': 'v1.0.0',\n",
       "  'url': 'https://api.github.com/repos/pysal/inequality/tarball/v1.0.0',\n",
       "  'release_date': datetime.datetime(2018, 10, 31, 22, 28, 18)},\n",
       " 'pointpats': {'version': 'v2.2.0',\n",
       "  'url': 'https://api.github.com/repos/pysal/pointpats/tarball/v2.2.0',\n",
       "  'release_date': datetime.datetime(2020, 7, 27, 22, 17, 33)},\n",
       " 'segregation': {'version': 'v2.3.1',\n",
       "  'url': 'https://api.github.com/repos/pysal/segregation/tarball/v2.3.1',\n",
       "  'release_date': datetime.datetime(2022, 6, 18, 19, 58, 17)},\n",
       " 'spaghetti': {'version': 'v1.7.2',\n",
       "  'url': 'https://api.github.com/repos/pysal/spaghetti/tarball/v1.7.2',\n",
       "  'release_date': datetime.datetime(2023, 1, 16, 2, 1, 33)},\n",
       " 'mgwr': {'version': 'v2.1.2',\n",
       "  'url': 'https://api.github.com/repos/pysal/mgwr/tarball/v2.1.2',\n",
       "  'release_date': datetime.datetime(2020, 9, 8, 21, 20, 34)},\n",
       " 'momepy': {'version': 'v0.5.4',\n",
       "  'url': 'https://api.github.com/repos/pysal/momepy/tarball/v0.5.4',\n",
       "  'release_date': datetime.datetime(2022, 9, 20, 14, 49, 58)},\n",
       " 'spglm': {'version': 'v1.0.8',\n",
       "  'url': 'https://api.github.com/repos/pysal/spglm/tarball/v1.0.8',\n",
       "  'release_date': datetime.datetime(2020, 9, 8, 20, 34, 8)},\n",
       " 'spint': {'version': 'v1.0.7',\n",
       "  'url': 'https://api.github.com/repos/pysal/spint/tarball/v1.0.7',\n",
       "  'release_date': datetime.datetime(2020, 9, 9, 2, 28, 50)},\n",
       " 'spreg': {'version': 'v1.3.0',\n",
       "  'url': 'https://api.github.com/repos/pysal/spreg/tarball/v1.3.0',\n",
       "  'release_date': datetime.datetime(2022, 10, 28, 19, 59, 45)},\n",
       " 'spvcm': {'version': 'v0.3.0',\n",
       "  'url': 'https://api.github.com/repos/pysal/spvcm/tarball/v0.3.0',\n",
       "  'release_date': datetime.datetime(2020, 2, 2, 19, 42, 39)},\n",
       " 'tobler': {'version': 'v0.8.2',\n",
       "  'url': 'https://api.github.com/repos/pysal/tobler/tarball/v0.8.2',\n",
       "  'release_date': datetime.datetime(2021, 6, 30, 18, 24, 55)},\n",
       " 'mapclassify': {'version': 'v2.5.0',\n",
       "  'url': 'https://api.github.com/repos/pysal/mapclassify/tarball/v2.5.0',\n",
       "  'release_date': datetime.datetime(2023, 1, 14, 15, 50, 46)},\n",
       " 'splot': {'version': 'v1.1.5.post1',\n",
       "  'url': 'https://api.github.com/repos/pysal/splot/tarball/v1.1.5.post1',\n",
       "  'release_date': datetime.datetime(2022, 4, 13, 21, 13, 27)},\n",
       " 'spopt': {'version': 'v0.5.0',\n",
       "  'url': 'https://api.github.com/repos/pysal/spopt/tarball/v0.5.0',\n",
       "  'release_date': datetime.datetime(2023, 1, 14, 3, 13, 47)},\n",
       " 'pysal': {'version': 'v23.01',\n",
       "  'release_date': datetime.datetime(2023, 1, 30, 0, 0)}}"
      ]
     },
     "execution_count": 28,
     "metadata": {},
     "output_type": "execute_result"
    }
   ],
   "source": [
    "github_releases"
   ]
  },
  {
   "cell_type": "code",
   "execution_count": 29,
   "metadata": {},
   "outputs": [
    {
     "data": {
      "text/plain": [
       "'--since=\"2022-07-31\"'"
      ]
     },
     "execution_count": 29,
     "metadata": {},
     "output_type": "execute_result"
    }
   ],
   "source": [
    "since_date = '--since=\"{start}\"'.format(start=start_date.strftime(\"%Y-%m-%d\"))\n",
    "since_date\n",
    "                                        "
   ]
  },
  {
   "cell_type": "code",
   "execution_count": 30,
   "metadata": {},
   "outputs": [
    {
     "name": "stdout",
     "output_type": "stream",
     "text": [
      "2022-11-17\n",
      "libpysal 62 34 2022-11-17\n",
      "2022-06-04\n",
      "access 62 0 2022-06-04\n",
      "2021-07-27\n",
      "esda 62 0 2021-07-27\n",
      "2020-06-10\n",
      "giddy 62 0 2020-06-10\n",
      "2018-10-31\n",
      "inequality 62 0 2018-10-31\n",
      "2020-07-27\n",
      "pointpats 62 0 2020-07-27\n",
      "2022-06-18\n",
      "segregation 62 0 2022-06-18\n",
      "2023-01-16\n",
      "spaghetti 68 68 2023-01-16\n",
      "2020-09-08\n",
      "mgwr 68 0 2020-09-08\n",
      "2022-09-20\n",
      "momepy 37 26 2022-09-20\n",
      "2020-09-08\n",
      "spglm 37 0 2020-09-08\n",
      "2020-09-09\n",
      "spint 37 0 2020-09-09\n",
      "2022-10-28\n",
      "spreg 11 9 2022-10-28\n",
      "2020-02-02\n",
      "spvcm 11 0 2020-02-02\n",
      "2021-06-30\n",
      "tobler 11 0 2021-06-30\n",
      "2023-01-14\n",
      "mapclassify 60 60 2023-01-14\n",
      "2022-04-13\n",
      "splot 60 0 2022-04-13\n",
      "2023-01-14\n",
      "spopt 241 241 2023-01-14\n"
     ]
    }
   ],
   "source": [
    "# commits\n",
    "cmd = ['git', 'log', '--oneline', since_date]\n",
    "\n",
    "activity = {}\n",
    "total_commits = 0\n",
    "tag_dates = {}\n",
    "ncommits_total = 0\n",
    "for subpackage in packages:\n",
    "    released = github_releases[subpackage]['release_date']\n",
    "    tag_date = released.strftime(\"%Y-%m-%d\")\n",
    "    tag_dates[subpackage] = tag_date\n",
    "    print(tag_date)\n",
    "    #tag_date = tag_dates[subpackage]\n",
    "    ncommits = 0\n",
    "    if released > since:\n",
    "        os.chdir(CWD)\n",
    "        os.chdir('tmp/{subpackage}'.format(subpackage=subpackage))\n",
    "        cmd_until = cmd + ['--until=\"{tag_date}\"'.format(tag_date=tag_date)]\n",
    "        ncommits = len(check_output(cmd_until).splitlines())\n",
    "        ncommits_total = len(check_output(cmd).splitlines())\n",
    "    print(subpackage, ncommits_total, ncommits, tag_date)\n",
    "    total_commits += ncommits\n",
    "    activity[subpackage] = ncommits"
   ]
  },
  {
   "cell_type": "code",
   "execution_count": 31,
   "metadata": {},
   "outputs": [
    {
     "data": {
      "text/plain": [
       "{'libpysal': 34,\n",
       " 'access': 0,\n",
       " 'esda': 0,\n",
       " 'giddy': 0,\n",
       " 'inequality': 0,\n",
       " 'pointpats': 0,\n",
       " 'segregation': 0,\n",
       " 'spaghetti': 68,\n",
       " 'mgwr': 0,\n",
       " 'momepy': 26,\n",
       " 'spglm': 0,\n",
       " 'spint': 0,\n",
       " 'spreg': 9,\n",
       " 'spvcm': 0,\n",
       " 'tobler': 0,\n",
       " 'mapclassify': 60,\n",
       " 'splot': 0,\n",
       " 'spopt': 241}"
      ]
     },
     "execution_count": 31,
     "metadata": {},
     "output_type": "execute_result"
    }
   ],
   "source": [
    "activity"
   ]
  },
  {
   "cell_type": "code",
   "execution_count": null,
   "metadata": {},
   "outputs": [],
   "source": []
  },
  {
   "cell_type": "code",
   "execution_count": 32,
   "metadata": {},
   "outputs": [
    {
     "data": {
      "text/plain": [
       "'spopt'"
      ]
     },
     "execution_count": 32,
     "metadata": {},
     "output_type": "execute_result"
    }
   ],
   "source": [
    "subpackage"
   ]
  },
  {
   "cell_type": "code",
   "execution_count": 33,
   "metadata": {},
   "outputs": [
    {
     "data": {
      "text/plain": [
       "'/Users/serge/Documents/p/pysal/src/pysal/tools'"
      ]
     },
     "execution_count": 33,
     "metadata": {},
     "output_type": "execute_result"
    }
   ],
   "source": [
    "CWD"
   ]
  },
  {
   "cell_type": "code",
   "execution_count": 34,
   "metadata": {},
   "outputs": [
    {
     "name": "stdout",
     "output_type": "stream",
     "text": [
      "34\n",
      "libpysal 62 34 2022-11-17\n",
      "68\n",
      "spaghetti 68 68 2023-01-16\n",
      "26\n",
      "momepy 37 26 2022-09-20\n",
      "9\n",
      "spreg 11 9 2022-10-28\n",
      "60\n",
      "mapclassify 60 60 2023-01-14\n",
      "241\n",
      "spopt 241 241 2023-01-14\n"
     ]
    }
   ],
   "source": [
    "# commits\n",
    "cmd = ['git', 'log', '--oneline', since_date]\n",
    "\n",
    "activity = {}\n",
    "total_commits = 0\n",
    "for subpackage in packages:\n",
    "    ncommits = 0\n",
    "    tag_date = tag_dates[subpackage]\n",
    "    released = github_releases[subpackage]['release_date']\n",
    "    if released > since:\n",
    "        os.chdir(CWD)\n",
    "        os.chdir('tmp/{subpackage}'.format(subpackage=subpackage))\n",
    "        cmd_until = cmd + ['--until=\"{tag_date}\"'.format(tag_date=tag_date)]\n",
    "        ncommits = len(check_output(cmd_until).splitlines())\n",
    "        print(ncommits)\n",
    "        ncommits_total = len(check_output(cmd).splitlines())\n",
    "        print(subpackage, ncommits_total, ncommits, tag_date)\n",
    "    total_commits += ncommits\n",
    "    activity[subpackage] = ncommits"
   ]
  },
  {
   "cell_type": "code",
   "execution_count": 35,
   "metadata": {},
   "outputs": [],
   "source": [
    "identities = {'Levi John Wolf': ('ljwolf', 'Levi John Wolf'),\n",
    "              'Serge Rey': ('Serge Rey', 'Sergio Rey', 'sjsrey', 'serge'),\n",
    "              'Wei Kang': ('Wei Kang', 'weikang9009'),\n",
    "              'Dani Arribas-Bel': ('Dani Arribas-Bel', 'darribas'),\n",
    "              'Antti Härkönen': ( 'antth', 'Antti Härkönen', 'Antti Härkönen', 'Antth'  ),\n",
    "              'Juan C Duque': ('Juan C Duque', \"Juan Duque\"),\n",
    "              'Renan Xavier Cortes': ('Renan Xavier Cortes', 'renanxcortes', 'Renan Xavier Cortes'   ),\n",
    "              'Taylor Oshan': ('Tayloroshan', 'Taylor Oshan', 'TaylorOshan'),\n",
    "              'Tom Gertin': ('@Tomgertin', 'Tom Gertin', '@tomgertin')\n",
    "}\n",
    "\n",
    "def regularize_identity(string):\n",
    "    string = string.decode()\n",
    "    for name, aliases in identities.items():\n",
    "        for alias in aliases:\n",
    "            if alias in string:\n",
    "                string = string.replace(alias, name)\n",
    "    if len(string.split(' '))>1:\n",
    "        string = string.title()\n",
    "    return string.lstrip('* ')"
   ]
  },
  {
   "cell_type": "code",
   "execution_count": 36,
   "metadata": {},
   "outputs": [],
   "source": [
    "author_cmd = ['git', 'log', '--format=* %aN', since_date]"
   ]
  },
  {
   "cell_type": "code",
   "execution_count": 37,
   "metadata": {},
   "outputs": [],
   "source": [
    "author_cmd.append('blank')"
   ]
  },
  {
   "cell_type": "code",
   "execution_count": 38,
   "metadata": {},
   "outputs": [
    {
     "data": {
      "text/plain": [
       "['git', 'log', '--format=* %aN', '--since=\"2022-07-31\"', 'blank']"
      ]
     },
     "execution_count": 38,
     "metadata": {},
     "output_type": "execute_result"
    }
   ],
   "source": [
    "author_cmd"
   ]
  },
  {
   "cell_type": "code",
   "execution_count": 39,
   "metadata": {},
   "outputs": [],
   "source": [
    "from collections import Counter"
   ]
  },
  {
   "cell_type": "code",
   "execution_count": 40,
   "metadata": {},
   "outputs": [
    {
     "data": {
      "text/plain": [
       "{'libpysal': '2022-11-17',\n",
       " 'access': '2022-06-04',\n",
       " 'esda': '2021-07-27',\n",
       " 'giddy': '2020-06-10',\n",
       " 'inequality': '2018-10-31',\n",
       " 'pointpats': '2020-07-27',\n",
       " 'segregation': '2022-06-18',\n",
       " 'spaghetti': '2023-01-16',\n",
       " 'mgwr': '2020-09-08',\n",
       " 'momepy': '2022-09-20',\n",
       " 'spglm': '2020-09-08',\n",
       " 'spint': '2020-09-09',\n",
       " 'spreg': '2022-10-28',\n",
       " 'spvcm': '2020-02-02',\n",
       " 'tobler': '2021-06-30',\n",
       " 'mapclassify': '2023-01-14',\n",
       " 'splot': '2022-04-13',\n",
       " 'spopt': '2023-01-14'}"
      ]
     },
     "execution_count": 40,
     "metadata": {},
     "output_type": "execute_result"
    }
   ],
   "source": [
    "tag_dates"
   ]
  },
  {
   "cell_type": "code",
   "execution_count": 41,
   "metadata": {},
   "outputs": [
    {
     "name": "stdout",
     "output_type": "stream",
     "text": [
      "['git', 'log', '--oneline', '--since=\"2022-07-31\"']\n",
      "libpysal ['git', 'log', '--format=* %aN', '--since=\"2022-07-31\"', '--until=\"2022-11-18\"']\n",
      "['git', 'log', '--oneline', '--since=\"2022-07-31\"']\n",
      "spaghetti ['git', 'log', '--format=* %aN', '--since=\"2022-07-31\"', '--until=\"2023-01-17\"']\n",
      "['git', 'log', '--oneline', '--since=\"2022-07-31\"']\n",
      "momepy ['git', 'log', '--format=* %aN', '--since=\"2022-07-31\"', '--until=\"2022-09-21\"']\n",
      "['git', 'log', '--oneline', '--since=\"2022-07-31\"']\n",
      "spreg ['git', 'log', '--format=* %aN', '--since=\"2022-07-31\"', '--until=\"2022-10-29\"']\n",
      "['git', 'log', '--oneline', '--since=\"2022-07-31\"']\n",
      "mapclassify ['git', 'log', '--format=* %aN', '--since=\"2022-07-31\"', '--until=\"2023-01-15\"']\n",
      "['git', 'log', '--oneline', '--since=\"2022-07-31\"']\n",
      "spopt ['git', 'log', '--format=* %aN', '--since=\"2022-07-31\"', '--until=\"2023-01-15\"']\n"
     ]
    }
   ],
   "source": [
    "authors_global = set()\n",
    "authors = {}\n",
    "global_counter = Counter()\n",
    "counters = dict()\n",
    "cmd = ['git', 'log', '--oneline', since_date]\n",
    "total_commits = 0\n",
    "activity = {}\n",
    "for subpackage in packages:\n",
    "    ncommits = 0\n",
    "    released = github_releases[subpackage]['release_date']\n",
    "    if released > since:\n",
    "        os.chdir(CWD)\n",
    "        os.chdir('tmp/{subpackage}'.format(subpackage=subpackage))\n",
    "        ncommits = len(check_output(cmd).splitlines())\n",
    "        print(cmd)\n",
    "        tag_date = tag_dates[subpackage]\n",
    "        tag_date = (datetime.strptime(tag_date, '%Y-%m-%d') + timedelta(days=1)).strftime('%Y-%m-%d')\n",
    "        author_cmd[-1] = '--until=\"{tag_date}\"'.format(tag_date=tag_date)\n",
    "        #cmd_until = cmd + ['--until=\"{tag_date}\"'.format(tag_date=tag_date)]\n",
    "        print(subpackage, author_cmd)\n",
    "\n",
    "\n",
    "        all_authors = check_output(author_cmd).splitlines()\n",
    "        counter = Counter([regularize_identity(author) for author in all_authors])\n",
    "        global_counter += counter\n",
    "        counters.update({subpackage: counter})\n",
    "        unique_authors = sorted(set(all_authors))\n",
    "        authors[subpackage] =  unique_authors\n",
    "        authors_global.update(unique_authors)\n",
    "    total_commits += ncommits\n",
    "    activity[subpackage] = ncommits"
   ]
  },
  {
   "cell_type": "code",
   "execution_count": 42,
   "metadata": {},
   "outputs": [
    {
     "data": {
      "text/plain": [
       "['git',\n",
       " 'log',\n",
       " '--format=* %aN',\n",
       " '--since=\"2022-07-31\"',\n",
       " '--until=\"2023-01-15\"']"
      ]
     },
     "execution_count": 42,
     "metadata": {},
     "output_type": "execute_result"
    }
   ],
   "source": [
    "author_cmd"
   ]
  },
  {
   "cell_type": "code",
   "execution_count": 43,
   "metadata": {},
   "outputs": [
    {
     "data": {
      "text/plain": [
       "'spopt'"
      ]
     },
     "execution_count": 43,
     "metadata": {},
     "output_type": "execute_result"
    }
   ],
   "source": [
    "subpackage"
   ]
  },
  {
   "cell_type": "code",
   "execution_count": 44,
   "metadata": {},
   "outputs": [
    {
     "data": {
      "text/plain": [
       "{b'* Andres Morfin Veytia',\n",
       " b'* Erin Olson',\n",
       " b'* Germano Barcelos',\n",
       " b'* Greg Maya',\n",
       " b'* James Gaboardi',\n",
       " b'* Levi John Wolf',\n",
       " b'* Martin Fleischmann',\n",
       " b'* Nick Bearman',\n",
       " b'* Pedro Amaral',\n",
       " b'* Serge Rey',\n",
       " b'* Sergio Rey',\n",
       " b'* Thi',\n",
       " b'* dependabot[bot]',\n",
       " b'* github-actions[bot]',\n",
       " b'* ljwolf',\n",
       " b'* pedrovma',\n",
       " b'* pre-commit-ci[bot]'}"
      ]
     },
     "execution_count": 44,
     "metadata": {},
     "output_type": "execute_result"
    }
   ],
   "source": [
    "authors_global"
   ]
  },
  {
   "cell_type": "code",
   "execution_count": 45,
   "metadata": {},
   "outputs": [
    {
     "data": {
      "text/plain": [
       "{'libpysal': 62,\n",
       " 'access': 0,\n",
       " 'esda': 0,\n",
       " 'giddy': 0,\n",
       " 'inequality': 0,\n",
       " 'pointpats': 0,\n",
       " 'segregation': 0,\n",
       " 'spaghetti': 68,\n",
       " 'mgwr': 0,\n",
       " 'momepy': 37,\n",
       " 'spglm': 0,\n",
       " 'spint': 0,\n",
       " 'spreg': 11,\n",
       " 'spvcm': 0,\n",
       " 'tobler': 0,\n",
       " 'mapclassify': 60,\n",
       " 'splot': 0,\n",
       " 'spopt': 241}"
      ]
     },
     "execution_count": 45,
     "metadata": {},
     "output_type": "execute_result"
    }
   ],
   "source": [
    "activity"
   ]
  },
  {
   "cell_type": "code",
   "execution_count": 46,
   "metadata": {},
   "outputs": [],
   "source": [
    "def get_tag(title, level=\"##\", as_string=True):\n",
    "    words = title.split()\n",
    "    tag = \"-\".join([word.lower() for word in words])\n",
    "    heading = level+\" \"+title\n",
    "    line = \"\\n\\n<a name=\\\"{}\\\"></a>\".format(tag)\n",
    "    lines = [line]\n",
    "    lines.append(heading)\n",
    "    if as_string:\n",
    "        return \"\\n\".join(lines)\n",
    "    else:\n",
    "        return lines"
   ]
  },
  {
   "cell_type": "code",
   "execution_count": 47,
   "metadata": {},
   "outputs": [],
   "source": [
    "subs = issue_details.keys()\n",
    "table = []\n",
    "txt = []\n",
    "lines = get_tag(\"Changes by Package\", as_string=False)\n",
    "\n",
    "for sub in subs:\n",
    "    total= issue_details[sub]\n",
    "    pr = pull_details[sub]\n",
    "    \n",
    "    row = [sub, activity[sub], len(total), len(pr)]\n",
    "    table.append(row)\n",
    "    #line = \"\\n<a name=\\\"{sub}\\\"></a>\".format(sub=sub)\n",
    "    #lines.append(line)\n",
    "    #line = \"### {sub}\".format(sub=sub)\n",
    "    #lines.append(line)\n",
    "    lines.extend(get_tag(sub.lower(), \"###\", as_string=False))\n",
    "    for issue in total:\n",
    "        url = issue['html_url']\n",
    "        title = issue['title']\n",
    "        number = issue['number']\n",
    "        line = \"* [#{number}:]({url}) {title} \".format(title=title,\n",
    "                                                     number=number,\n",
    "                                                     url=url)\n",
    "        lines.append(line)\n",
    "\n"
   ]
  },
  {
   "cell_type": "code",
   "execution_count": 48,
   "metadata": {},
   "outputs": [
    {
     "data": {
      "text/plain": [
       "'spopt'"
      ]
     },
     "execution_count": 48,
     "metadata": {},
     "output_type": "execute_result"
    }
   ],
   "source": [
    "sub"
   ]
  },
  {
   "cell_type": "code",
   "execution_count": 49,
   "metadata": {},
   "outputs": [],
   "source": [
    "os.chdir(CWD)\n",
    "\n",
    "import pandas"
   ]
  },
  {
   "cell_type": "code",
   "execution_count": 50,
   "metadata": {},
   "outputs": [],
   "source": [
    "df = pandas.DataFrame(table, columns=['package', 'commits', 'total issues', 'pulls'])"
   ]
  },
  {
   "cell_type": "code",
   "execution_count": 51,
   "metadata": {},
   "outputs": [
    {
     "data": {
      "text/html": [
       "<div>\n",
       "<style scoped>\n",
       "    .dataframe tbody tr th:only-of-type {\n",
       "        vertical-align: middle;\n",
       "    }\n",
       "\n",
       "    .dataframe tbody tr th {\n",
       "        vertical-align: top;\n",
       "    }\n",
       "\n",
       "    .dataframe thead th {\n",
       "        text-align: right;\n",
       "    }\n",
       "</style>\n",
       "<table border=\"1\" class=\"dataframe\">\n",
       "  <thead>\n",
       "    <tr style=\"text-align: right;\">\n",
       "      <th></th>\n",
       "      <th>package</th>\n",
       "      <th>commits</th>\n",
       "      <th>total issues</th>\n",
       "      <th>pulls</th>\n",
       "    </tr>\n",
       "  </thead>\n",
       "  <tbody>\n",
       "    <tr>\n",
       "      <th>0</th>\n",
       "      <td>libpysal</td>\n",
       "      <td>62</td>\n",
       "      <td>10</td>\n",
       "      <td>0</td>\n",
       "    </tr>\n",
       "    <tr>\n",
       "      <th>1</th>\n",
       "      <td>access</td>\n",
       "      <td>0</td>\n",
       "      <td>0</td>\n",
       "      <td>0</td>\n",
       "    </tr>\n",
       "    <tr>\n",
       "      <th>2</th>\n",
       "      <td>esda</td>\n",
       "      <td>0</td>\n",
       "      <td>0</td>\n",
       "      <td>0</td>\n",
       "    </tr>\n",
       "    <tr>\n",
       "      <th>3</th>\n",
       "      <td>giddy</td>\n",
       "      <td>0</td>\n",
       "      <td>0</td>\n",
       "      <td>0</td>\n",
       "    </tr>\n",
       "    <tr>\n",
       "      <th>4</th>\n",
       "      <td>inequality</td>\n",
       "      <td>0</td>\n",
       "      <td>0</td>\n",
       "      <td>0</td>\n",
       "    </tr>\n",
       "  </tbody>\n",
       "</table>\n",
       "</div>"
      ],
      "text/plain": [
       "      package  commits  total issues  pulls\n",
       "0    libpysal       62            10      0\n",
       "1      access        0             0      0\n",
       "2        esda        0             0      0\n",
       "3       giddy        0             0      0\n",
       "4  inequality        0             0      0"
      ]
     },
     "execution_count": 51,
     "metadata": {},
     "output_type": "execute_result"
    }
   ],
   "source": [
    "df.head()"
   ]
  },
  {
   "cell_type": "code",
   "execution_count": 52,
   "metadata": {},
   "outputs": [
    {
     "data": {
      "text/plain": [
       "(18, 4)"
      ]
     },
     "execution_count": 52,
     "metadata": {},
     "output_type": "execute_result"
    }
   ],
   "source": [
    "df.shape"
   ]
  },
  {
   "cell_type": "code",
   "execution_count": 53,
   "metadata": {},
   "outputs": [
    {
     "data": {
      "text/plain": [
       "dict"
      ]
     },
     "execution_count": 53,
     "metadata": {},
     "output_type": "execute_result"
    }
   ],
   "source": [
    "type(counters)"
   ]
  },
  {
   "cell_type": "code",
   "execution_count": 54,
   "metadata": {},
   "outputs": [],
   "source": [
    "df.sort_values(['commits','pulls'], ascending=False)\\\n",
    "  .to_html('./commit_table.html', index=None)"
   ]
  },
  {
   "cell_type": "code",
   "execution_count": 55,
   "metadata": {},
   "outputs": [
    {
     "data": {
      "text/plain": [
       "package         libpysalaccessesdagiddyinequalitypointpatssegr...\n",
       "commits                                                       479\n",
       "total issues                                                  205\n",
       "pulls                                                          19\n",
       "dtype: object"
      ]
     },
     "execution_count": 55,
     "metadata": {},
     "output_type": "execute_result"
    }
   ],
   "source": [
    "df.sum()"
   ]
  },
  {
   "cell_type": "code",
   "execution_count": 56,
   "metadata": {},
   "outputs": [],
   "source": [
    "contributor_table = pandas.DataFrame.from_dict(counters).fillna(0).astype(int).T"
   ]
  },
  {
   "cell_type": "code",
   "execution_count": 57,
   "metadata": {},
   "outputs": [],
   "source": [
    "contributor_table.to_html('./contributor_table.html')"
   ]
  },
  {
   "cell_type": "code",
   "execution_count": 58,
   "metadata": {},
   "outputs": [
    {
     "data": {
      "text/html": [
       "<div>\n",
       "<style scoped>\n",
       "    .dataframe tbody tr th:only-of-type {\n",
       "        vertical-align: middle;\n",
       "    }\n",
       "\n",
       "    .dataframe tbody tr th {\n",
       "        vertical-align: top;\n",
       "    }\n",
       "\n",
       "    .dataframe thead th {\n",
       "        text-align: right;\n",
       "    }\n",
       "</style>\n",
       "<table border=\"1\" class=\"dataframe\">\n",
       "  <thead>\n",
       "    <tr style=\"text-align: right;\">\n",
       "      <th></th>\n",
       "      <th>commits</th>\n",
       "    </tr>\n",
       "  </thead>\n",
       "  <tbody>\n",
       "    <tr>\n",
       "      <th>Andres Morfin Veytia</th>\n",
       "      <td>1</td>\n",
       "    </tr>\n",
       "    <tr>\n",
       "      <th>Dependabot[Bot]</th>\n",
       "      <td>3</td>\n",
       "    </tr>\n",
       "    <tr>\n",
       "      <th>Erin Olson</th>\n",
       "      <td>137</td>\n",
       "    </tr>\n",
       "    <tr>\n",
       "      <th>Germano Barcelos</th>\n",
       "      <td>9</td>\n",
       "    </tr>\n",
       "    <tr>\n",
       "      <th>Github-Actions[Bot]</th>\n",
       "      <td>7</td>\n",
       "    </tr>\n",
       "    <tr>\n",
       "      <th>Greg Maya</th>\n",
       "      <td>2</td>\n",
       "    </tr>\n",
       "    <tr>\n",
       "      <th>James Gaboardi</th>\n",
       "      <td>222</td>\n",
       "    </tr>\n",
       "    <tr>\n",
       "      <th>Levi John Wolf</th>\n",
       "      <td>5</td>\n",
       "    </tr>\n",
       "    <tr>\n",
       "      <th>Martin Fleischmann</th>\n",
       "      <td>20</td>\n",
       "    </tr>\n",
       "    <tr>\n",
       "      <th>Nick Bearman</th>\n",
       "      <td>1</td>\n",
       "    </tr>\n",
       "    <tr>\n",
       "      <th>Pedro Amaral</th>\n",
       "      <td>3</td>\n",
       "    </tr>\n",
       "    <tr>\n",
       "      <th>Pedrovma</th>\n",
       "      <td>2</td>\n",
       "    </tr>\n",
       "    <tr>\n",
       "      <th>Pre-Commit-Ci[Bot]</th>\n",
       "      <td>15</td>\n",
       "    </tr>\n",
       "    <tr>\n",
       "      <th>Serge Rey</th>\n",
       "      <td>11</td>\n",
       "    </tr>\n",
       "    <tr>\n",
       "      <th>Thi</th>\n",
       "      <td>1</td>\n",
       "    </tr>\n",
       "  </tbody>\n",
       "</table>\n",
       "</div>"
      ],
      "text/plain": [
       "                      commits\n",
       "Andres Morfin Veytia        1\n",
       "Dependabot[Bot]             3\n",
       "Erin Olson                137\n",
       "Germano Barcelos            9\n",
       "Github-Actions[Bot]         7\n",
       "Greg Maya                   2\n",
       "James Gaboardi            222\n",
       "Levi John Wolf              5\n",
       "Martin Fleischmann         20\n",
       "Nick Bearman                1\n",
       "Pedro Amaral                3\n",
       "Pedrovma                    2\n",
       "Pre-Commit-Ci[Bot]         15\n",
       "Serge Rey                  11\n",
       "Thi                         1"
      ]
     },
     "execution_count": 58,
     "metadata": {},
     "output_type": "execute_result"
    }
   ],
   "source": [
    "totals = contributor_table.sum(axis=0).T\n",
    "totals.sort_index().to_frame('commits')"
   ]
  },
  {
   "cell_type": "code",
   "execution_count": 59,
   "metadata": {},
   "outputs": [],
   "source": [
    "totals = contributor_table.sum(axis=0).T\n",
    "totals.sort_index().to_frame('commits').to_html('./commits_by_person.html')"
   ]
  },
  {
   "cell_type": "code",
   "execution_count": 60,
   "metadata": {},
   "outputs": [
    {
     "data": {
      "text/plain": [
       "James Gaboardi          222\n",
       "Serge Rey                11\n",
       "Martin Fleischmann       20\n",
       "Levi John Wolf            5\n",
       "Github-Actions[Bot]       7\n",
       "Pre-Commit-Ci[Bot]       15\n",
       "Dependabot[Bot]           3\n",
       "Greg Maya                 2\n",
       "Thi                       1\n",
       "Andres Morfin Veytia      1\n",
       "Pedro Amaral              3\n",
       "Pedrovma                  2\n",
       "Germano Barcelos          9\n",
       "Nick Bearman              1\n",
       "Erin Olson              137\n",
       "dtype: int64"
      ]
     },
     "execution_count": 60,
     "metadata": {},
     "output_type": "execute_result"
    }
   ],
   "source": [
    "totals"
   ]
  },
  {
   "cell_type": "code",
   "execution_count": 61,
   "metadata": {},
   "outputs": [],
   "source": [
    "n_commits = df.commits.sum()\n",
    "n_issues = df['total issues'].sum()\n",
    "n_pulls = df.pulls.sum()"
   ]
  },
  {
   "cell_type": "code",
   "execution_count": 62,
   "metadata": {},
   "outputs": [
    {
     "data": {
      "text/plain": [
       "479"
      ]
     },
     "execution_count": 62,
     "metadata": {},
     "output_type": "execute_result"
    }
   ],
   "source": [
    "n_commits"
   ]
  },
  {
   "cell_type": "code",
   "execution_count": 63,
   "metadata": {},
   "outputs": [],
   "source": [
    "#Overall, there were 719 commits that closed 240 issues, together with 105 pull requests across 12 packages since our last release on 2017-11-03.\n",
    "#('{0} Here is a really long '\n",
    "#           'sentence with {1}').format(3, 5))\n",
    "line = ('Overall, there were {n_commits} commits that closed {n_issues} issues,'  \n",
    "    ' together with {n_pulls} pull requests since our last release' \n",
    "        ' on {since_date}.\\n'.format(n_commits=n_commits, n_issues=n_issues,\n",
    "        n_pulls=n_pulls, since_date = start_date))"
   ]
  },
  {
   "cell_type": "code",
   "execution_count": 64,
   "metadata": {},
   "outputs": [
    {
     "data": {
      "text/plain": [
       "'Overall, there were 479 commits that closed 205 issues, together with 19 pull requests since our last release on 2022-07-31.\\n'"
      ]
     },
     "execution_count": 64,
     "metadata": {},
     "output_type": "execute_result"
    }
   ],
   "source": [
    "line"
   ]
  },
  {
   "cell_type": "markdown",
   "metadata": {},
   "source": [
    "## append html files to end of changes.md with tags for toc"
   ]
  },
  {
   "cell_type": "code",
   "execution_count": 65,
   "metadata": {},
   "outputs": [],
   "source": [
    "with open('changes.md', 'w') as fout:\n",
    "    fout.write(line)\n",
    "    fout.write(\"\\n\".join(lines))\n",
    "    fout.write(get_tag(\"Contributors\"))\n",
    "    fout.write(\"\\n\\nMany thanks to all of the following individuals who contributed to this release:\\n\\n\")\n",
    "    \n",
    "    \n",
    "    \n",
    "    totals = contributor_table.sum(axis=0).T\n",
    "    contributors = totals.index.values\n",
    "    contributors.sort()\n",
    "    contributors = contributors.tolist() \n",
    "    contributors = [ f'\\n - {contributor}' for contributor in contributors]\n",
    "    fout.write(\"\".join(contributors))\n",
    "    \n"
   ]
  },
  {
   "cell_type": "code",
   "execution_count": null,
   "metadata": {},
   "outputs": [],
   "source": []
  },
  {
   "cell_type": "code",
   "execution_count": null,
   "metadata": {},
   "outputs": [],
   "source": []
  }
 ],
 "metadata": {
  "kernelspec": {
   "display_name": "Python 3 (ipykernel)",
   "language": "python",
   "name": "python3"
  },
  "language_info": {
   "codemirror_mode": {
    "name": "ipython",
    "version": 3
   },
   "file_extension": ".py",
   "mimetype": "text/x-python",
   "name": "python",
   "nbconvert_exporter": "python",
   "pygments_lexer": "ipython3",
   "version": "3.11.0"
  }
 },
 "nbformat": 4,
 "nbformat_minor": 4
}
