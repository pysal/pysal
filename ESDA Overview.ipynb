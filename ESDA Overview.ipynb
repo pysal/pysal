{
 "cells": [
  {
   "cell_type": "markdown",
   "metadata": {},
   "source": [
    "In general, I've made two types of additions in esda:\n",
    "\n",
    "1. functions that apply a given statistic or classifier over an arbitrary set of columns\n",
    "2. reshaping/typecasting & shaping according to the docstrings of the functions. \n",
    "\n",
    "2 came down to wrapping pretty much every input to an esda function in a: \n",
    "\n",
    "```python\n",
    "x = np.asarray(x).reshape(whatever)\n",
    "```\n",
    "if what the function was written for expected a flat or a column vector or what have you. \n",
    "\n",
    "I've been building other improvements, too, like the metadata stuff that comes with the tabular accessors. I'll show that below."
   ]
  },
  {
   "cell_type": "code",
   "execution_count": 1,
   "metadata": {
    "collapsed": false
   },
   "outputs": [
    {
     "name": "stderr",
     "output_type": "stream",
     "text": [
      "/home/ljw/.local/lib/python2.7/site-packages/matplotlib/__init__.py:872: UserWarning: axes.color_cycle is deprecated and replaced with axes.prop_cycle; please use the latter.\n",
      "  warnings.warn(self.msg_depr % (key, alt_key))\n"
     ]
    }
   ],
   "source": [
    "import pysal as ps\n",
    "import numpy as np\n",
    "import matplotlib.pyplot as plt\n",
    "import seaborn as sns\n",
    "%matplotlib inline"
   ]
  },
  {
   "cell_type": "code",
   "execution_count": 2,
   "metadata": {
    "collapsed": false
   },
   "outputs": [],
   "source": [
    "df = ps.open(ps.examples.get_path('south.dbf')).to_df()"
   ]
  },
  {
   "cell_type": "code",
   "execution_count": 3,
   "metadata": {
    "collapsed": false
   },
   "outputs": [
    {
     "data": {
      "text/html": [
       "<div>\n",
       "<table border=\"1\" class=\"dataframe\">\n",
       "  <thead>\n",
       "    <tr style=\"text-align: right;\">\n",
       "      <th></th>\n",
       "      <th>FIPSNO</th>\n",
       "      <th>NAME</th>\n",
       "      <th>STATE_NAME</th>\n",
       "      <th>STATE_FIPS</th>\n",
       "      <th>CNTY_FIPS</th>\n",
       "      <th>FIPS</th>\n",
       "      <th>STFIPS</th>\n",
       "      <th>COFIPS</th>\n",
       "      <th>SOUTH</th>\n",
       "      <th>HR60</th>\n",
       "      <th>...</th>\n",
       "      <th>BLK90</th>\n",
       "      <th>GI59</th>\n",
       "      <th>GI69</th>\n",
       "      <th>GI79</th>\n",
       "      <th>GI89</th>\n",
       "      <th>FH60</th>\n",
       "      <th>FH70</th>\n",
       "      <th>FH80</th>\n",
       "      <th>FH90</th>\n",
       "      <th>geometry</th>\n",
       "    </tr>\n",
       "  </thead>\n",
       "  <tbody>\n",
       "    <tr>\n",
       "      <th>0</th>\n",
       "      <td>54029</td>\n",
       "      <td>Hancock</td>\n",
       "      <td>West Virginia</td>\n",
       "      <td>54</td>\n",
       "      <td>029</td>\n",
       "      <td>54029</td>\n",
       "      <td>54</td>\n",
       "      <td>29</td>\n",
       "      <td>1</td>\n",
       "      <td>1.682864</td>\n",
       "      <td>...</td>\n",
       "      <td>2.557262</td>\n",
       "      <td>0.223645</td>\n",
       "      <td>0.295377</td>\n",
       "      <td>0.332251</td>\n",
       "      <td>0.363934</td>\n",
       "      <td>9.981297</td>\n",
       "      <td>7.8</td>\n",
       "      <td>9.785797</td>\n",
       "      <td>12.604552</td>\n",
       "      <td>&lt;pysal.cg.shapes.Polygon object at 0x7f45acc19...</td>\n",
       "    </tr>\n",
       "    <tr>\n",
       "      <th>1</th>\n",
       "      <td>54009</td>\n",
       "      <td>Brooke</td>\n",
       "      <td>West Virginia</td>\n",
       "      <td>54</td>\n",
       "      <td>009</td>\n",
       "      <td>54009</td>\n",
       "      <td>54</td>\n",
       "      <td>9</td>\n",
       "      <td>1</td>\n",
       "      <td>4.607233</td>\n",
       "      <td>...</td>\n",
       "      <td>0.748370</td>\n",
       "      <td>0.220407</td>\n",
       "      <td>0.318453</td>\n",
       "      <td>0.314165</td>\n",
       "      <td>0.350569</td>\n",
       "      <td>10.929337</td>\n",
       "      <td>8.0</td>\n",
       "      <td>10.214990</td>\n",
       "      <td>11.242293</td>\n",
       "      <td>&lt;pysal.cg.shapes.Polygon object at 0x7f45acc19...</td>\n",
       "    </tr>\n",
       "    <tr>\n",
       "      <th>2</th>\n",
       "      <td>54069</td>\n",
       "      <td>Ohio</td>\n",
       "      <td>West Virginia</td>\n",
       "      <td>54</td>\n",
       "      <td>069</td>\n",
       "      <td>54069</td>\n",
       "      <td>54</td>\n",
       "      <td>69</td>\n",
       "      <td>1</td>\n",
       "      <td>0.974132</td>\n",
       "      <td>...</td>\n",
       "      <td>3.310334</td>\n",
       "      <td>0.272398</td>\n",
       "      <td>0.358454</td>\n",
       "      <td>0.376963</td>\n",
       "      <td>0.390534</td>\n",
       "      <td>15.621643</td>\n",
       "      <td>12.9</td>\n",
       "      <td>14.716681</td>\n",
       "      <td>17.574021</td>\n",
       "      <td>&lt;pysal.cg.shapes.Polygon object at 0x7f45acc19...</td>\n",
       "    </tr>\n",
       "    <tr>\n",
       "      <th>3</th>\n",
       "      <td>54051</td>\n",
       "      <td>Marshall</td>\n",
       "      <td>West Virginia</td>\n",
       "      <td>54</td>\n",
       "      <td>051</td>\n",
       "      <td>54051</td>\n",
       "      <td>54</td>\n",
       "      <td>51</td>\n",
       "      <td>1</td>\n",
       "      <td>0.876248</td>\n",
       "      <td>...</td>\n",
       "      <td>0.546097</td>\n",
       "      <td>0.227647</td>\n",
       "      <td>0.319580</td>\n",
       "      <td>0.320953</td>\n",
       "      <td>0.377346</td>\n",
       "      <td>11.962834</td>\n",
       "      <td>8.8</td>\n",
       "      <td>8.803253</td>\n",
       "      <td>13.564159</td>\n",
       "      <td>&lt;pysal.cg.shapes.Polygon object at 0x7f45acc19...</td>\n",
       "    </tr>\n",
       "    <tr>\n",
       "      <th>4</th>\n",
       "      <td>10003</td>\n",
       "      <td>New Castle</td>\n",
       "      <td>Delaware</td>\n",
       "      <td>10</td>\n",
       "      <td>003</td>\n",
       "      <td>10003</td>\n",
       "      <td>10</td>\n",
       "      <td>3</td>\n",
       "      <td>1</td>\n",
       "      <td>4.228385</td>\n",
       "      <td>...</td>\n",
       "      <td>16.480294</td>\n",
       "      <td>0.256106</td>\n",
       "      <td>0.329678</td>\n",
       "      <td>0.365830</td>\n",
       "      <td>0.332703</td>\n",
       "      <td>12.035714</td>\n",
       "      <td>10.7</td>\n",
       "      <td>15.169480</td>\n",
       "      <td>16.380903</td>\n",
       "      <td>&lt;pysal.cg.shapes.Polygon object at 0x7f45acc19...</td>\n",
       "    </tr>\n",
       "  </tbody>\n",
       "</table>\n",
       "<p>5 rows × 70 columns</p>\n",
       "</div>"
      ],
      "text/plain": [
       "   FIPSNO        NAME     STATE_NAME STATE_FIPS CNTY_FIPS   FIPS  STFIPS  \\\n",
       "0   54029     Hancock  West Virginia         54       029  54029      54   \n",
       "1   54009      Brooke  West Virginia         54       009  54009      54   \n",
       "2   54069        Ohio  West Virginia         54       069  54069      54   \n",
       "3   54051    Marshall  West Virginia         54       051  54051      54   \n",
       "4   10003  New Castle       Delaware         10       003  10003      10   \n",
       "\n",
       "   COFIPS  SOUTH      HR60                        ...                          \\\n",
       "0      29      1  1.682864                        ...                           \n",
       "1       9      1  4.607233                        ...                           \n",
       "2      69      1  0.974132                        ...                           \n",
       "3      51      1  0.876248                        ...                           \n",
       "4       3      1  4.228385                        ...                           \n",
       "\n",
       "       BLK90      GI59      GI69      GI79      GI89       FH60  FH70  \\\n",
       "0   2.557262  0.223645  0.295377  0.332251  0.363934   9.981297   7.8   \n",
       "1   0.748370  0.220407  0.318453  0.314165  0.350569  10.929337   8.0   \n",
       "2   3.310334  0.272398  0.358454  0.376963  0.390534  15.621643  12.9   \n",
       "3   0.546097  0.227647  0.319580  0.320953  0.377346  11.962834   8.8   \n",
       "4  16.480294  0.256106  0.329678  0.365830  0.332703  12.035714  10.7   \n",
       "\n",
       "        FH80       FH90                                           geometry  \n",
       "0   9.785797  12.604552  <pysal.cg.shapes.Polygon object at 0x7f45acc19...  \n",
       "1  10.214990  11.242293  <pysal.cg.shapes.Polygon object at 0x7f45acc19...  \n",
       "2  14.716681  17.574021  <pysal.cg.shapes.Polygon object at 0x7f45acc19...  \n",
       "3   8.803253  13.564159  <pysal.cg.shapes.Polygon object at 0x7f45acc19...  \n",
       "4  15.169480  16.380903  <pysal.cg.shapes.Polygon object at 0x7f45acc19...  \n",
       "\n",
       "[5 rows x 70 columns]"
      ]
     },
     "execution_count": 3,
     "metadata": {},
     "output_type": "execute_result"
    }
   ],
   "source": [
    "df.head()"
   ]
  },
  {
   "cell_type": "code",
   "execution_count": 4,
   "metadata": {
    "collapsed": true
   },
   "outputs": [],
   "source": [
    "W = ps.weights.Rook.from_dataframe(df)"
   ]
  },
  {
   "cell_type": "markdown",
   "metadata": {},
   "source": [
    "All of the following columnar application methods should respect the metadata of the input dataframe. Recently, pandas added a `_metadata` list to the dataframe, which essentially allows you to persist methods & attributes between copies of dataframes. \n",
    "\n",
    "Right now, I've implemented this as a function, `insert_metadata` in the tabular module. I think it might make sense to add it directly to the dataframe. But, nothing aside from the by_col stuff can find that `W` yet. Where I think it'd be neat would be in something like:\n",
    "\n",
    "`ML_Lag.from_formula('y ~ X', df)`\n",
    "\n",
    "where the W is just pulled in from the df metadata."
   ]
  },
  {
   "cell_type": "code",
   "execution_count": 5,
   "metadata": {
    "collapsed": false
   },
   "outputs": [],
   "source": [
    "from pysal.contrib.geotable.utils import insert_metadata"
   ]
  },
  {
   "cell_type": "markdown",
   "metadata": {},
   "source": [
    "For this, the name is automatically culled from the type of the `W`. "
   ]
  },
  {
   "cell_type": "code",
   "execution_count": 6,
   "metadata": {
    "collapsed": false
   },
   "outputs": [],
   "source": [
    "insert_metadata(df, W, name='W')"
   ]
  },
  {
   "cell_type": "code",
   "execution_count": 7,
   "metadata": {
    "collapsed": false
   },
   "outputs": [
    {
     "data": {
      "text/plain": [
       "<pysal.weights.Contiguity.Rook at 0x7f45accffe90>"
      ]
     },
     "execution_count": 7,
     "metadata": {},
     "output_type": "execute_result"
    }
   ],
   "source": [
    "df.W"
   ]
  },
  {
   "cell_type": "code",
   "execution_count": 8,
   "metadata": {
    "collapsed": false
   },
   "outputs": [
    {
     "data": {
      "text/plain": [
       "['W']"
      ]
     },
     "execution_count": 8,
     "metadata": {},
     "output_type": "execute_result"
    }
   ],
   "source": [
    "df._metadata"
   ]
  },
  {
   "cell_type": "code",
   "execution_count": 9,
   "metadata": {
    "collapsed": true
   },
   "outputs": [],
   "source": [
    "insert_metadata(df, W)"
   ]
  },
  {
   "cell_type": "code",
   "execution_count": 10,
   "metadata": {
    "collapsed": false
   },
   "outputs": [
    {
     "data": {
      "text/plain": [
       "['W', 'Rook']"
      ]
     },
     "execution_count": 10,
     "metadata": {},
     "output_type": "execute_result"
    }
   ],
   "source": [
    "df._metadata"
   ]
  },
  {
   "cell_type": "code",
   "execution_count": 11,
   "metadata": {
    "collapsed": false
   },
   "outputs": [
    {
     "data": {
      "text/plain": [
       "True"
      ]
     },
     "execution_count": 11,
     "metadata": {},
     "output_type": "execute_result"
    }
   ],
   "source": [
    "df.W == df.Rook"
   ]
  },
  {
   "cell_type": "markdown",
   "metadata": {},
   "source": [
    "it won't overwrite existing metadata"
   ]
  },
  {
   "cell_type": "code",
   "execution_count": 12,
   "metadata": {
    "collapsed": false
   },
   "outputs": [
    {
     "name": "stdout",
     "output_type": "stream",
     "text": [
      "('This would have been raised:', Exception('Dataframe already has attribute W. Cowardly refusing to break dataframe. ',))\n"
     ]
    }
   ],
   "source": [
    "try:\n",
    "    insert_metadata(df, W, name='W')\n",
    "except Exception as e:\n",
    "    print('This would have been raised:', e)"
   ]
  },
  {
   "cell_type": "markdown",
   "metadata": {},
   "source": [
    "unless you tell it to:"
   ]
  },
  {
   "cell_type": "code",
   "execution_count": 13,
   "metadata": {
    "collapsed": false
   },
   "outputs": [
    {
     "name": "stderr",
     "output_type": "stream",
     "text": [
      "pysal/contrib/geotable/utils.py:65: UserWarning: Overwriting attribute W! This may break the dataframe!\n",
      "  warn('Overwriting attribute {}! This may break the dataframe!'.format(name))\n"
     ]
    }
   ],
   "source": [
    "insert_metadata(df, W, name='W', overwrite=True)"
   ]
  },
  {
   "cell_type": "markdown",
   "metadata": {},
   "source": [
    "### statistics"
   ]
  },
  {
   "cell_type": "markdown",
   "metadata": {},
   "source": [
    "All the statistics are warpped in `asarray`, so you can pass pretty much any arraylike"
   ]
  },
  {
   "cell_type": "code",
   "execution_count": 14,
   "metadata": {
    "collapsed": false
   },
   "outputs": [
    {
     "data": {
      "text/plain": [
       "array([ 0.59122198,  0.50869881,  0.40200111,  0.59861622,  0.32358641])"
      ]
     },
     "execution_count": 14,
     "metadata": {},
     "output_type": "execute_result"
    }
   ],
   "source": [
    "ps.Moran_Local(df.HR80, df.W).Is[0:5]"
   ]
  },
  {
   "cell_type": "markdown",
   "metadata": {},
   "source": [
    "The methods for the statistics are called `by_col`, mimicking the filehandler stuff. They operate on lists of strings (or just one string, if you just want one column) and return the statistic applied with the configuration options over those columns."
   ]
  },
  {
   "cell_type": "code",
   "execution_count": 15,
   "metadata": {
    "collapsed": false
   },
   "outputs": [],
   "source": [
    "stats = ps.Moran_Local.by_col(df, ['HR90', 'HR80', 'HR70'])"
   ]
  },
  {
   "cell_type": "code",
   "execution_count": 16,
   "metadata": {
    "collapsed": true
   },
   "outputs": [],
   "source": [
    "stat_cols = [col for col in stats.columns if col.startswith('HR')]\n",
    "mis = [col for col in stat_cols if col.endswith('moran_local')]"
   ]
  },
  {
   "cell_type": "code",
   "execution_count": 17,
   "metadata": {
    "collapsed": false
   },
   "outputs": [
    {
     "data": {
      "text/html": [
       "<div>\n",
       "<table border=\"1\" class=\"dataframe\">\n",
       "  <thead>\n",
       "    <tr style=\"text-align: right;\">\n",
       "      <th></th>\n",
       "      <th>HR60</th>\n",
       "      <th>HR70</th>\n",
       "      <th>HR80</th>\n",
       "      <th>HR90</th>\n",
       "      <th>HR90_moran_local</th>\n",
       "      <th>HR90_p_sim</th>\n",
       "      <th>HR80_moran_local</th>\n",
       "      <th>HR80_p_sim</th>\n",
       "      <th>HR70_moran_local</th>\n",
       "      <th>HR70_p_sim</th>\n",
       "    </tr>\n",
       "  </thead>\n",
       "  <tbody>\n",
       "    <tr>\n",
       "      <th>0</th>\n",
       "      <td>1.682864</td>\n",
       "      <td>4.192978</td>\n",
       "      <td>6.597720</td>\n",
       "      <td>0.946083</td>\n",
       "      <td>1.443729</td>\n",
       "      <td>0.087</td>\n",
       "      <td>0.591222</td>\n",
       "      <td>0.116</td>\n",
       "      <td>0.693289</td>\n",
       "      <td>0.144</td>\n",
       "    </tr>\n",
       "    <tr>\n",
       "      <th>1</th>\n",
       "      <td>4.607233</td>\n",
       "      <td>3.284827</td>\n",
       "      <td>3.213677</td>\n",
       "      <td>1.234934</td>\n",
       "      <td>1.303192</td>\n",
       "      <td>0.029</td>\n",
       "      <td>0.508699</td>\n",
       "      <td>0.254</td>\n",
       "      <td>0.633980</td>\n",
       "      <td>0.125</td>\n",
       "    </tr>\n",
       "    <tr>\n",
       "      <th>2</th>\n",
       "      <td>0.974132</td>\n",
       "      <td>5.254391</td>\n",
       "      <td>7.601796</td>\n",
       "      <td>2.621009</td>\n",
       "      <td>0.937053</td>\n",
       "      <td>0.045</td>\n",
       "      <td>0.402001</td>\n",
       "      <td>0.060</td>\n",
       "      <td>0.528287</td>\n",
       "      <td>0.085</td>\n",
       "    </tr>\n",
       "    <tr>\n",
       "      <th>3</th>\n",
       "      <td>0.876248</td>\n",
       "      <td>4.432860</td>\n",
       "      <td>4.005640</td>\n",
       "      <td>4.461577</td>\n",
       "      <td>0.757154</td>\n",
       "      <td>0.040</td>\n",
       "      <td>0.598616</td>\n",
       "      <td>0.169</td>\n",
       "      <td>0.728111</td>\n",
       "      <td>0.038</td>\n",
       "    </tr>\n",
       "    <tr>\n",
       "      <th>4</th>\n",
       "      <td>4.228385</td>\n",
       "      <td>6.738265</td>\n",
       "      <td>7.116872</td>\n",
       "      <td>6.712736</td>\n",
       "      <td>0.241699</td>\n",
       "      <td>0.118</td>\n",
       "      <td>0.323586</td>\n",
       "      <td>0.112</td>\n",
       "      <td>0.103081</td>\n",
       "      <td>0.367</td>\n",
       "    </tr>\n",
       "  </tbody>\n",
       "</table>\n",
       "</div>"
      ],
      "text/plain": [
       "       HR60      HR70      HR80      HR90  HR90_moran_local  HR90_p_sim  \\\n",
       "0  1.682864  4.192978  6.597720  0.946083          1.443729       0.087   \n",
       "1  4.607233  3.284827  3.213677  1.234934          1.303192       0.029   \n",
       "2  0.974132  5.254391  7.601796  2.621009          0.937053       0.045   \n",
       "3  0.876248  4.432860  4.005640  4.461577          0.757154       0.040   \n",
       "4  4.228385  6.738265  7.116872  6.712736          0.241699       0.118   \n",
       "\n",
       "   HR80_moran_local  HR80_p_sim  HR70_moran_local  HR70_p_sim  \n",
       "0          0.591222       0.116          0.693289       0.144  \n",
       "1          0.508699       0.254          0.633980       0.125  \n",
       "2          0.402001       0.060          0.528287       0.085  \n",
       "3          0.598616       0.169          0.728111       0.038  \n",
       "4          0.323586       0.112          0.103081       0.367  "
      ]
     },
     "execution_count": 17,
     "metadata": {},
     "output_type": "execute_result"
    }
   ],
   "source": [
    "stats[stat_cols].head()"
   ]
  },
  {
   "cell_type": "code",
   "execution_count": 18,
   "metadata": {
    "collapsed": false
   },
   "outputs": [
    {
     "data": {
      "image/png": "[encoded data removed]",
      "text/plain": [
       "<matplotlib.figure.Figure at 0x7f45ac4cec90>"
      ]
     },
     "metadata": {},
     "output_type": "display_data"
    }
   ],
   "source": [
    "f,ax = plt.subplots(1,3, figsize=(8, 2))\n",
    "for a, col in zip(ax, mis):\n",
    "    a.hist(stats[col].values, bins=100)\n",
    "    a.set_title(col)\n",
    "plt.show()"
   ]
  },
  {
   "cell_type": "code",
   "execution_count": 19,
   "metadata": {
    "collapsed": true
   },
   "outputs": [],
   "source": [
    "stats = ps.Moran_Local.by_col(df, 'HR90', permutations=9)"
   ]
  },
  {
   "cell_type": "code",
   "execution_count": 20,
   "metadata": {
    "collapsed": false
   },
   "outputs": [
    {
     "data": {
      "text/plain": [
       "0    1.443729\n",
       "1    1.303192\n",
       "2    0.937053\n",
       "3    0.757154\n",
       "4    0.241699\n",
       "Name: HR90_moran_local, dtype: float64"
      ]
     },
     "execution_count": 20,
     "metadata": {},
     "output_type": "execute_result"
    }
   ],
   "source": [
    "stats['HR90_moran_local'].head()"
   ]
  },
  {
   "cell_type": "markdown",
   "metadata": {},
   "source": [
    "It can also be done by updating the dataframe inplace. Like most pandas functions, I made it copy by default. Also, you can specify arbitrary attributes of the object that you want to turn into columns."
   ]
  },
  {
   "cell_type": "code",
   "execution_count": 21,
   "metadata": {
    "collapsed": false
   },
   "outputs": [
    {
     "data": {
      "text/html": [
       "<div>\n",
       "<table border=\"1\" class=\"dataframe\">\n",
       "  <thead>\n",
       "    <tr style=\"text-align: right;\">\n",
       "      <th></th>\n",
       "      <th>GI89</th>\n",
       "      <th>GI89_moran_local</th>\n",
       "      <th>GI89_p_z_sim</th>\n",
       "      <th>GI89_p_sim</th>\n",
       "    </tr>\n",
       "  </thead>\n",
       "  <tbody>\n",
       "    <tr>\n",
       "      <th>0</th>\n",
       "      <td>0.363934</td>\n",
       "      <td>1.008983</td>\n",
       "      <td>0.125209</td>\n",
       "      <td>0.098901</td>\n",
       "    </tr>\n",
       "    <tr>\n",
       "      <th>1</th>\n",
       "      <td>0.350569</td>\n",
       "      <td>0.547154</td>\n",
       "      <td>0.283638</td>\n",
       "      <td>0.270729</td>\n",
       "    </tr>\n",
       "    <tr>\n",
       "      <th>2</th>\n",
       "      <td>0.390534</td>\n",
       "      <td>0.058397</td>\n",
       "      <td>0.110480</td>\n",
       "      <td>0.097902</td>\n",
       "    </tr>\n",
       "    <tr>\n",
       "      <th>3</th>\n",
       "      <td>0.377346</td>\n",
       "      <td>-0.015205</td>\n",
       "      <td>0.494106</td>\n",
       "      <td>0.486513</td>\n",
       "    </tr>\n",
       "    <tr>\n",
       "      <th>4</th>\n",
       "      <td>0.332703</td>\n",
       "      <td>1.822810</td>\n",
       "      <td>0.032565</td>\n",
       "      <td>0.027972</td>\n",
       "    </tr>\n",
       "  </tbody>\n",
       "</table>\n",
       "</div>"
      ],
      "text/plain": [
       "       GI89  GI89_moran_local  GI89_p_z_sim  GI89_p_sim\n",
       "0  0.363934          1.008983      0.125209    0.098901\n",
       "1  0.350569          0.547154      0.283638    0.270729\n",
       "2  0.390534          0.058397      0.110480    0.097902\n",
       "3  0.377346         -0.015205      0.494106    0.486513\n",
       "4  0.332703          1.822810      0.032565    0.027972"
      ]
     },
     "execution_count": 21,
     "metadata": {},
     "output_type": "execute_result"
    }
   ],
   "source": [
    "ps.Moran_Local.by_col(df, 'GI89', permutations=1000, \n",
    "                      outvals=['p_z_sim'], inplace=True)\n",
    "df[[col for col in df.columns if col.startswith('GI89')]].head()"
   ]
  },
  {
   "cell_type": "markdown",
   "metadata": {},
   "source": [
    "The bivariate stuff uses two sets of columns. They'are assumed surjective. So:\n",
    "1. if there is only one variate passed (string or list), it's repeated for all other columns. \n",
    "2.  `y=x` if `y` is empty, so if there is no `y` list passed, elementwise comparisons are done within the `x` list, like `Moran_BV_matrix`\n",
    "3. if `p` `x` covariates are passed and `q` y covariates are passed, an error is raised flagging that there's not a one-to-one mapping. "
   ]
  },
  {
   "cell_type": "code",
   "execution_count": 22,
   "metadata": {
    "collapsed": false
   },
   "outputs": [
    {
     "data": {
      "text/html": [
       "<div>\n",
       "<table border=\"1\" class=\"dataframe\">\n",
       "  <thead>\n",
       "    <tr style=\"text-align: right;\">\n",
       "      <th></th>\n",
       "      <th>HR90-HR70_moran_local_bv</th>\n",
       "      <th>HR80-HR70_moran_local_bv</th>\n",
       "    </tr>\n",
       "  </thead>\n",
       "  <tbody>\n",
       "    <tr>\n",
       "      <th>0</th>\n",
       "      <td>1.089638</td>\n",
       "      <td>0.492041</td>\n",
       "    </tr>\n",
       "    <tr>\n",
       "      <th>1</th>\n",
       "      <td>0.840000</td>\n",
       "      <td>0.761771</td>\n",
       "    </tr>\n",
       "    <tr>\n",
       "      <th>2</th>\n",
       "      <td>0.806675</td>\n",
       "      <td>0.326055</td>\n",
       "    </tr>\n",
       "    <tr>\n",
       "      <th>3</th>\n",
       "      <td>0.703970</td>\n",
       "      <td>0.924931</td>\n",
       "    </tr>\n",
       "    <tr>\n",
       "      <th>4</th>\n",
       "      <td>0.090582</td>\n",
       "      <td>0.106153</td>\n",
       "    </tr>\n",
       "  </tbody>\n",
       "</table>\n",
       "</div>"
      ],
      "text/plain": [
       "   HR90-HR70_moran_local_bv  HR80-HR70_moran_local_bv\n",
       "0                  1.089638                  0.492041\n",
       "1                  0.840000                  0.761771\n",
       "2                  0.806675                  0.326055\n",
       "3                  0.703970                  0.924931\n",
       "4                  0.090582                  0.106153"
      ]
     },
     "execution_count": 22,
     "metadata": {},
     "output_type": "execute_result"
    }
   ],
   "source": [
    "stats = ps.Moran_Local_BV.by_col(df, ['HR90', 'HR80'], 'HR70')\n",
    "stat_cols = [col for col in stats.columns if col.startswith('HR')]\n",
    "mis = [col for col in stats if col.endswith('moran_local_bv')]\n",
    "stats[mis].head()"
   ]
  },
  {
   "cell_type": "markdown",
   "metadata": {},
   "source": [
    "The rate stuff matches one-to-one, too, between events and populations, and will also scale events to match populations (or vice versa). But, it won't compute combinations between the lists, and does not complete if passed only one list."
   ]
  },
  {
   "cell_type": "code",
   "execution_count": 23,
   "metadata": {
    "collapsed": false
   },
   "outputs": [],
   "source": [
    "sids = ps.open(ps.examples.get_path('sids2.dbf')).to_df()\n",
    "W = ps.open(ps.examples.get_path('sids2.gal')).read()"
   ]
  },
  {
   "cell_type": "code",
   "execution_count": 24,
   "metadata": {
    "collapsed": false
   },
   "outputs": [],
   "source": [
    "stats = ps.esda.moran.Moran_Local_Rate.by_col(sids, ['SID74', 'SID79'], \n",
    "                                            ['BIR74', 'BIR79'], w=W)"
   ]
  },
  {
   "cell_type": "code",
   "execution_count": 25,
   "metadata": {
    "collapsed": true
   },
   "outputs": [],
   "source": [
    "stat_cols = [col for col in stats if col.endswith('rate')]"
   ]
  },
  {
   "cell_type": "code",
   "execution_count": 26,
   "metadata": {
    "collapsed": false
   },
   "outputs": [
    {
     "data": {
      "text/html": [
       "<div>\n",
       "<table border=\"1\" class=\"dataframe\">\n",
       "  <thead>\n",
       "    <tr style=\"text-align: right;\">\n",
       "      <th></th>\n",
       "      <th>SID74-BIR74_moran_local_rate</th>\n",
       "      <th>SID79-BIR79_moran_local_rate</th>\n",
       "    </tr>\n",
       "  </thead>\n",
       "  <tbody>\n",
       "    <tr>\n",
       "      <th>0</th>\n",
       "      <td>0.557723</td>\n",
       "      <td>-0.134524</td>\n",
       "    </tr>\n",
       "    <tr>\n",
       "      <th>1</th>\n",
       "      <td>0.535580</td>\n",
       "      <td>-1.211340</td>\n",
       "    </tr>\n",
       "    <tr>\n",
       "      <th>2</th>\n",
       "      <td>0.379260</td>\n",
       "      <td>0.050198</td>\n",
       "    </tr>\n",
       "    <tr>\n",
       "      <th>3</th>\n",
       "      <td>0.069379</td>\n",
       "      <td>0.061271</td>\n",
       "    </tr>\n",
       "    <tr>\n",
       "      <th>4</th>\n",
       "      <td>4.416906</td>\n",
       "      <td>-0.126275</td>\n",
       "    </tr>\n",
       "  </tbody>\n",
       "</table>\n",
       "</div>"
      ],
      "text/plain": [
       "   SID74-BIR74_moran_local_rate  SID79-BIR79_moran_local_rate\n",
       "0                      0.557723                     -0.134524\n",
       "1                      0.535580                     -1.211340\n",
       "2                      0.379260                      0.050198\n",
       "3                      0.069379                      0.061271\n",
       "4                      4.416906                     -0.126275"
      ]
     },
     "execution_count": 26,
     "metadata": {},
     "output_type": "execute_result"
    }
   ],
   "source": [
    "stats[stat_cols].head()"
   ]
  },
  {
   "cell_type": "markdown",
   "metadata": {},
   "source": [
    "Unfortunately, `df.query` doesn't work quite right when the column contains an algebraic operator, so I'm considering just making everything underscores. Not sure yet. "
   ]
  },
  {
   "cell_type": "code",
   "execution_count": 27,
   "metadata": {
    "collapsed": false,
    "scrolled": true
   },
   "outputs": [
    {
     "name": "stdout",
     "output_type": "stream",
     "text": [
      "the numexpr parser is very eager, and misreads A-B_moran_local_rate!\n",
      "name 'BIR74_moran_local_rate' is not defined\n"
     ]
    }
   ],
   "source": [
    "try:\n",
    "    stats.query('SID74-BIR74_moran_local_rate <= .01').head()\n",
    "except Exception as e:\n",
    "    print('the numexpr parser is very eager, and misreads '\n",
    "           'A-B_moran_local_rate!\\n{}'.format(e))"
   ]
  },
  {
   "cell_type": "markdown",
   "metadata": {},
   "source": [
    "And, this isn't just on the moran stuff:"
   ]
  },
  {
   "cell_type": "code",
   "execution_count": 28,
   "metadata": {
    "collapsed": false
   },
   "outputs": [
    {
     "data": {
      "text/plain": [
       "0    0.000092\n",
       "1    0.000132\n",
       "2    0.000211\n",
       "3    0.000161\n",
       "4    0.000395\n",
       "Name: HR90_g_local, dtype: float64"
      ]
     },
     "execution_count": 28,
     "metadata": {},
     "output_type": "execute_result"
    }
   ],
   "source": [
    "ps.G_Local.by_col(df, 'HR90')['HR90_g_local'].head()"
   ]
  },
  {
   "cell_type": "markdown",
   "metadata": {},
   "source": [
    "nor the local stuff:"
   ]
  },
  {
   "cell_type": "code",
   "execution_count": 29,
   "metadata": {
    "collapsed": false
   },
   "outputs": [
    {
     "data": {
      "text/plain": [
       "0    10830.853847\n",
       "1    10830.853847\n",
       "2    10830.853847\n",
       "3    10830.853847\n",
       "4    10830.853847\n",
       "Name: BLK80_gamma, dtype: float64"
      ]
     },
     "execution_count": 29,
     "metadata": {},
     "output_type": "execute_result"
    }
   ],
   "source": [
    "ps.Gamma.by_col(df, ['BLK80'], operation='a')['BLK80_gamma'].head()"
   ]
  },
  {
   "cell_type": "markdown",
   "metadata": {},
   "source": [
    "### classifiers"
   ]
  },
  {
   "cell_type": "markdown",
   "metadata": {},
   "source": [
    "This is where I went into exploring partial application. Essentially, to make it easy to do `dataframe.apply(classifier)`, we needed some way to create a closure around the `__init__` function. \n",
    "\n",
    "I detail my initial exploration in this [in this gist](http://nbviewer.jupyter.org/gist/ljwolf/80b7f6518e44688ed85c8d9f3c67613e), where I make the Local Moran function partially applicative. \n",
    "\n",
    "\n",
    "In addition, this allows us to do rolling classifiers directly, whereas before we had to chain an update & a reclassify. So, say we have data $x_1, x_2, ...$ that we want to classify (like a rolling window or something). We have some classifier function `Classifier(**configs)`, and the closure around it, which I've just simply called `classifier`, stores the actual *instance* of the classified data seen so far. So, we get:\n",
    "\n",
    "```python\n",
    "cfunc = Classifier(rolling=True, **configs)\n",
    "x1b = cfunc(x1) #Classifier(x1, **configs).yb\n",
    "x2b = cfunc(x2) #Classifier(x1 U x2 **configs).find_bin(x2)\n",
    "x3b = cfunc(x3) #Classifier(x1 U x2 U x3, **configs).find_bin(x3)\n",
    "```\n",
    "\n",
    "I thought this idea was pretty cool. But, I think making classes partially applicative by default is probably less than pythonic so I stuffed it into a separate method, `make`.\n",
    "\n",
    "I wrote this to make it easy to use with `dataframe.apply`, but it's not dataframe-specific, and could work on any set of chunked data. Let's cook a small example to show how it works. "
   ]
  },
  {
   "cell_type": "code",
   "execution_count": 30,
   "metadata": {
    "collapsed": true
   },
   "outputs": [],
   "source": [
    "import pandas as pd"
   ]
  },
  {
   "cell_type": "code",
   "execution_count": 31,
   "metadata": {
    "collapsed": true
   },
   "outputs": [],
   "source": [
    "#ps.Quantiles.make?"
   ]
  },
  {
   "cell_type": "code",
   "execution_count": 32,
   "metadata": {
    "collapsed": false
   },
   "outputs": [],
   "source": [
    "small_data = np.arange(0, 18, 1).reshape(6,3)"
   ]
  },
  {
   "cell_type": "code",
   "execution_count": 33,
   "metadata": {
    "collapsed": false
   },
   "outputs": [],
   "source": [
    "small_data[:,1] = list(reversed(small_data[:,1]))"
   ]
  },
  {
   "cell_type": "code",
   "execution_count": 34,
   "metadata": {
    "collapsed": false
   },
   "outputs": [
    {
     "data": {
      "text/plain": [
       "array([[ 0, 16,  2, 14, 15,  1],\n",
       "       [ 3, 13,  5, 17,  0, 16],\n",
       "       [ 6, 10,  8,  2,  3, 13],\n",
       "       [ 9,  7, 11,  5,  6, 10],\n",
       "       [12,  4, 14,  8,  9,  7],\n",
       "       [15,  1, 17, 11, 12,  4]])"
      ]
     },
     "execution_count": 34,
     "metadata": {},
     "output_type": "execute_result"
    }
   ],
   "source": [
    "small_data = np.hstack((small_data, np.roll(small_data, 4)))\n",
    "small_data"
   ]
  },
  {
   "cell_type": "code",
   "execution_count": 35,
   "metadata": {
    "collapsed": false
   },
   "outputs": [],
   "source": [
    "small_df = pd.DataFrame(small_data, columns=[chr(x) for x in range(65, 71)])"
   ]
  },
  {
   "cell_type": "code",
   "execution_count": 36,
   "metadata": {
    "collapsed": false
   },
   "outputs": [
    {
     "data": {
      "text/html": [
       "<div>\n",
       "<table border=\"1\" class=\"dataframe\">\n",
       "  <thead>\n",
       "    <tr style=\"text-align: right;\">\n",
       "      <th></th>\n",
       "      <th>A</th>\n",
       "      <th>B</th>\n",
       "      <th>C</th>\n",
       "      <th>D</th>\n",
       "      <th>E</th>\n",
       "      <th>F</th>\n",
       "    </tr>\n",
       "  </thead>\n",
       "  <tbody>\n",
       "    <tr>\n",
       "      <th>0</th>\n",
       "      <td>0</td>\n",
       "      <td>16</td>\n",
       "      <td>2</td>\n",
       "      <td>14</td>\n",
       "      <td>15</td>\n",
       "      <td>1</td>\n",
       "    </tr>\n",
       "    <tr>\n",
       "      <th>1</th>\n",
       "      <td>3</td>\n",
       "      <td>13</td>\n",
       "      <td>5</td>\n",
       "      <td>17</td>\n",
       "      <td>0</td>\n",
       "      <td>16</td>\n",
       "    </tr>\n",
       "    <tr>\n",
       "      <th>2</th>\n",
       "      <td>6</td>\n",
       "      <td>10</td>\n",
       "      <td>8</td>\n",
       "      <td>2</td>\n",
       "      <td>3</td>\n",
       "      <td>13</td>\n",
       "    </tr>\n",
       "    <tr>\n",
       "      <th>3</th>\n",
       "      <td>9</td>\n",
       "      <td>7</td>\n",
       "      <td>11</td>\n",
       "      <td>5</td>\n",
       "      <td>6</td>\n",
       "      <td>10</td>\n",
       "    </tr>\n",
       "    <tr>\n",
       "      <th>4</th>\n",
       "      <td>12</td>\n",
       "      <td>4</td>\n",
       "      <td>14</td>\n",
       "      <td>8</td>\n",
       "      <td>9</td>\n",
       "      <td>7</td>\n",
       "    </tr>\n",
       "    <tr>\n",
       "      <th>5</th>\n",
       "      <td>15</td>\n",
       "      <td>1</td>\n",
       "      <td>17</td>\n",
       "      <td>11</td>\n",
       "      <td>12</td>\n",
       "      <td>4</td>\n",
       "    </tr>\n",
       "  </tbody>\n",
       "</table>\n",
       "</div>"
      ],
      "text/plain": [
       "    A   B   C   D   E   F\n",
       "0   0  16   2  14  15   1\n",
       "1   3  13   5  17   0  16\n",
       "2   6  10   8   2   3  13\n",
       "3   9   7  11   5   6  10\n",
       "4  12   4  14   8   9   7\n",
       "5  15   1  17  11  12   4"
      ]
     },
     "execution_count": 36,
     "metadata": {},
     "output_type": "execute_result"
    }
   ],
   "source": [
    "small_df"
   ]
  },
  {
   "cell_type": "markdown",
   "metadata": {},
   "source": [
    "So, the `make` function takes anything the `__init__` does, as well as an extra `rolling` argument, that does what I mentioned above. "
   ]
  },
  {
   "cell_type": "code",
   "execution_count": 37,
   "metadata": {
    "collapsed": true
   },
   "outputs": [],
   "source": [
    "classifier = ps.Quantiles.make(k=4, rolling=False)"
   ]
  },
  {
   "cell_type": "markdown",
   "metadata": {},
   "source": [
    "Classifier is a closure around `ps.Quantiles` that has bound the `k` option to the constructor (as well as all the rest of the default values). So, it just takes `x` and returns `yb`, according to `**configs`. It's configuration is immutable after runtime, unless you wanna poke around inside of the closure. "
   ]
  },
  {
   "cell_type": "markdown",
   "metadata": {},
   "source": [
    "So, you can just apply this over the columns you want to classify. "
   ]
  },
  {
   "cell_type": "code",
   "execution_count": 38,
   "metadata": {
    "collapsed": false
   },
   "outputs": [
    {
     "data": {
      "text/html": [
       "<div>\n",
       "<table border=\"1\" class=\"dataframe\">\n",
       "  <thead>\n",
       "    <tr style=\"text-align: right;\">\n",
       "      <th></th>\n",
       "      <th>A</th>\n",
       "      <th>B</th>\n",
       "      <th>C</th>\n",
       "      <th>D</th>\n",
       "      <th>E</th>\n",
       "      <th>F</th>\n",
       "    </tr>\n",
       "  </thead>\n",
       "  <tbody>\n",
       "    <tr>\n",
       "      <th>0</th>\n",
       "      <td>0</td>\n",
       "      <td>3</td>\n",
       "      <td>0</td>\n",
       "      <td>3</td>\n",
       "      <td>3</td>\n",
       "      <td>0</td>\n",
       "    </tr>\n",
       "    <tr>\n",
       "      <th>1</th>\n",
       "      <td>0</td>\n",
       "      <td>3</td>\n",
       "      <td>0</td>\n",
       "      <td>3</td>\n",
       "      <td>0</td>\n",
       "      <td>3</td>\n",
       "    </tr>\n",
       "    <tr>\n",
       "      <th>2</th>\n",
       "      <td>1</td>\n",
       "      <td>2</td>\n",
       "      <td>1</td>\n",
       "      <td>0</td>\n",
       "      <td>0</td>\n",
       "      <td>3</td>\n",
       "    </tr>\n",
       "    <tr>\n",
       "      <th>3</th>\n",
       "      <td>2</td>\n",
       "      <td>1</td>\n",
       "      <td>2</td>\n",
       "      <td>0</td>\n",
       "      <td>1</td>\n",
       "      <td>2</td>\n",
       "    </tr>\n",
       "    <tr>\n",
       "      <th>4</th>\n",
       "      <td>3</td>\n",
       "      <td>0</td>\n",
       "      <td>3</td>\n",
       "      <td>1</td>\n",
       "      <td>2</td>\n",
       "      <td>1</td>\n",
       "    </tr>\n",
       "    <tr>\n",
       "      <th>5</th>\n",
       "      <td>3</td>\n",
       "      <td>0</td>\n",
       "      <td>3</td>\n",
       "      <td>2</td>\n",
       "      <td>3</td>\n",
       "      <td>0</td>\n",
       "    </tr>\n",
       "  </tbody>\n",
       "</table>\n",
       "</div>"
      ],
      "text/plain": [
       "   A  B  C  D  E  F\n",
       "0  0  3  0  3  3  0\n",
       "1  0  3  0  3  0  3\n",
       "2  1  2  1  0  0  3\n",
       "3  2  1  2  0  1  2\n",
       "4  3  0  3  1  2  1\n",
       "5  3  0  3  2  3  0"
      ]
     },
     "execution_count": 38,
     "metadata": {},
     "output_type": "execute_result"
    }
   ],
   "source": [
    "small_df.apply(classifier)"
   ]
  },
  {
   "cell_type": "markdown",
   "metadata": {},
   "source": [
    "And, of course, you can combine that into a single call:"
   ]
  },
  {
   "cell_type": "code",
   "execution_count": 39,
   "metadata": {
    "collapsed": false
   },
   "outputs": [
    {
     "data": {
      "text/html": [
       "<div>\n",
       "<table border=\"1\" class=\"dataframe\">\n",
       "  <thead>\n",
       "    <tr style=\"text-align: right;\">\n",
       "      <th></th>\n",
       "      <th>A</th>\n",
       "      <th>B</th>\n",
       "      <th>C</th>\n",
       "      <th>D</th>\n",
       "      <th>E</th>\n",
       "      <th>F</th>\n",
       "    </tr>\n",
       "  </thead>\n",
       "  <tbody>\n",
       "    <tr>\n",
       "      <th>0</th>\n",
       "      <td>0</td>\n",
       "      <td>3</td>\n",
       "      <td>0</td>\n",
       "      <td>3</td>\n",
       "      <td>3</td>\n",
       "      <td>0</td>\n",
       "    </tr>\n",
       "    <tr>\n",
       "      <th>1</th>\n",
       "      <td>0</td>\n",
       "      <td>3</td>\n",
       "      <td>0</td>\n",
       "      <td>3</td>\n",
       "      <td>0</td>\n",
       "      <td>3</td>\n",
       "    </tr>\n",
       "    <tr>\n",
       "      <th>2</th>\n",
       "      <td>1</td>\n",
       "      <td>2</td>\n",
       "      <td>1</td>\n",
       "      <td>0</td>\n",
       "      <td>0</td>\n",
       "      <td>3</td>\n",
       "    </tr>\n",
       "    <tr>\n",
       "      <th>3</th>\n",
       "      <td>2</td>\n",
       "      <td>1</td>\n",
       "      <td>2</td>\n",
       "      <td>0</td>\n",
       "      <td>1</td>\n",
       "      <td>2</td>\n",
       "    </tr>\n",
       "    <tr>\n",
       "      <th>4</th>\n",
       "      <td>3</td>\n",
       "      <td>0</td>\n",
       "      <td>3</td>\n",
       "      <td>1</td>\n",
       "      <td>2</td>\n",
       "      <td>1</td>\n",
       "    </tr>\n",
       "    <tr>\n",
       "      <th>5</th>\n",
       "      <td>3</td>\n",
       "      <td>0</td>\n",
       "      <td>3</td>\n",
       "      <td>2</td>\n",
       "      <td>3</td>\n",
       "      <td>0</td>\n",
       "    </tr>\n",
       "  </tbody>\n",
       "</table>\n",
       "</div>"
      ],
      "text/plain": [
       "   A  B  C  D  E  F\n",
       "0  0  3  0  3  3  0\n",
       "1  0  3  0  3  0  3\n",
       "2  1  2  1  0  0  3\n",
       "3  2  1  2  0  1  2\n",
       "4  3  0  3  1  2  1\n",
       "5  3  0  3  2  3  0"
      ]
     },
     "execution_count": 39,
     "metadata": {},
     "output_type": "execute_result"
    }
   ],
   "source": [
    "small_df.apply(ps.Quantiles.make(k=4))"
   ]
  },
  {
   "cell_type": "markdown",
   "metadata": {},
   "source": [
    "This is a more concise version of the lambda that does a similar thing without closure:"
   ]
  },
  {
   "cell_type": "code",
   "execution_count": 40,
   "metadata": {
    "collapsed": false
   },
   "outputs": [
    {
     "data": {
      "text/html": [
       "<div>\n",
       "<table border=\"1\" class=\"dataframe\">\n",
       "  <thead>\n",
       "    <tr style=\"text-align: right;\">\n",
       "      <th></th>\n",
       "      <th>A</th>\n",
       "      <th>B</th>\n",
       "      <th>C</th>\n",
       "      <th>D</th>\n",
       "      <th>E</th>\n",
       "      <th>F</th>\n",
       "    </tr>\n",
       "  </thead>\n",
       "  <tbody>\n",
       "    <tr>\n",
       "      <th>0</th>\n",
       "      <td>0</td>\n",
       "      <td>3</td>\n",
       "      <td>0</td>\n",
       "      <td>3</td>\n",
       "      <td>3</td>\n",
       "      <td>0</td>\n",
       "    </tr>\n",
       "    <tr>\n",
       "      <th>1</th>\n",
       "      <td>0</td>\n",
       "      <td>3</td>\n",
       "      <td>0</td>\n",
       "      <td>3</td>\n",
       "      <td>0</td>\n",
       "      <td>3</td>\n",
       "    </tr>\n",
       "    <tr>\n",
       "      <th>2</th>\n",
       "      <td>1</td>\n",
       "      <td>2</td>\n",
       "      <td>1</td>\n",
       "      <td>0</td>\n",
       "      <td>0</td>\n",
       "      <td>3</td>\n",
       "    </tr>\n",
       "    <tr>\n",
       "      <th>3</th>\n",
       "      <td>2</td>\n",
       "      <td>1</td>\n",
       "      <td>2</td>\n",
       "      <td>0</td>\n",
       "      <td>1</td>\n",
       "      <td>2</td>\n",
       "    </tr>\n",
       "    <tr>\n",
       "      <th>4</th>\n",
       "      <td>3</td>\n",
       "      <td>0</td>\n",
       "      <td>3</td>\n",
       "      <td>1</td>\n",
       "      <td>2</td>\n",
       "      <td>1</td>\n",
       "    </tr>\n",
       "    <tr>\n",
       "      <th>5</th>\n",
       "      <td>3</td>\n",
       "      <td>0</td>\n",
       "      <td>3</td>\n",
       "      <td>2</td>\n",
       "      <td>3</td>\n",
       "      <td>0</td>\n",
       "    </tr>\n",
       "  </tbody>\n",
       "</table>\n",
       "</div>"
      ],
      "text/plain": [
       "   A  B  C  D  E  F\n",
       "0  0  3  0  3  3  0\n",
       "1  0  3  0  3  0  3\n",
       "2  1  2  1  0  0  3\n",
       "3  2  1  2  0  1  2\n",
       "4  3  0  3  1  2  1\n",
       "5  3  0  3  2  3  0"
      ]
     },
     "execution_count": 40,
     "metadata": {},
     "output_type": "execute_result"
    }
   ],
   "source": [
    "small_df.apply(lambda x: ps.Quantiles(x, k=4).yb)"
   ]
  },
  {
   "cell_type": "markdown",
   "metadata": {},
   "source": [
    "But, the closure allows the following. \n",
    "\n",
    "First, we make a rolling quantile classifier:"
   ]
  },
  {
   "cell_type": "code",
   "execution_count": 41,
   "metadata": {
    "collapsed": true
   },
   "outputs": [],
   "source": [
    "roller = ps.Quantiles.make(k=4, rolling=True)"
   ]
  },
  {
   "cell_type": "markdown",
   "metadata": {},
   "source": [
    "It can be used just like a regular classifier above:"
   ]
  },
  {
   "cell_type": "code",
   "execution_count": 42,
   "metadata": {
    "collapsed": false
   },
   "outputs": [
    {
     "data": {
      "text/html": [
       "<div>\n",
       "<table border=\"1\" class=\"dataframe\">\n",
       "  <thead>\n",
       "    <tr style=\"text-align: right;\">\n",
       "      <th></th>\n",
       "      <th>A</th>\n",
       "      <th>B</th>\n",
       "      <th>C</th>\n",
       "      <th>D</th>\n",
       "      <th>E</th>\n",
       "      <th>F</th>\n",
       "    </tr>\n",
       "  </thead>\n",
       "  <tbody>\n",
       "    <tr>\n",
       "      <th>0</th>\n",
       "      <td>0</td>\n",
       "      <td>3</td>\n",
       "      <td>0</td>\n",
       "      <td>3</td>\n",
       "      <td>3</td>\n",
       "      <td>0</td>\n",
       "    </tr>\n",
       "    <tr>\n",
       "      <th>1</th>\n",
       "      <td>1</td>\n",
       "      <td>3</td>\n",
       "      <td>1</td>\n",
       "      <td>3</td>\n",
       "      <td>0</td>\n",
       "      <td>3</td>\n",
       "    </tr>\n",
       "    <tr>\n",
       "      <th>2</th>\n",
       "      <td>1</td>\n",
       "      <td>2</td>\n",
       "      <td>1</td>\n",
       "      <td>0</td>\n",
       "      <td>0</td>\n",
       "      <td>3</td>\n",
       "    </tr>\n",
       "    <tr>\n",
       "      <th>3</th>\n",
       "      <td>2</td>\n",
       "      <td>1</td>\n",
       "      <td>2</td>\n",
       "      <td>1</td>\n",
       "      <td>1</td>\n",
       "      <td>2</td>\n",
       "    </tr>\n",
       "    <tr>\n",
       "      <th>4</th>\n",
       "      <td>3</td>\n",
       "      <td>1</td>\n",
       "      <td>3</td>\n",
       "      <td>1</td>\n",
       "      <td>2</td>\n",
       "      <td>1</td>\n",
       "    </tr>\n",
       "    <tr>\n",
       "      <th>5</th>\n",
       "      <td>3</td>\n",
       "      <td>0</td>\n",
       "      <td>3</td>\n",
       "      <td>2</td>\n",
       "      <td>2</td>\n",
       "      <td>1</td>\n",
       "    </tr>\n",
       "  </tbody>\n",
       "</table>\n",
       "</div>"
      ],
      "text/plain": [
       "   A  B  C  D  E  F\n",
       "0  0  3  0  3  3  0\n",
       "1  1  3  1  3  0  3\n",
       "2  1  2  1  0  0  3\n",
       "3  2  1  2  1  1  2\n",
       "4  3  1  3  1  2  1\n",
       "5  3  0  3  2  2  1"
      ]
     },
     "execution_count": 42,
     "metadata": {},
     "output_type": "execute_result"
    }
   ],
   "source": [
    "small_df.apply(roller)"
   ]
  },
  {
   "cell_type": "markdown",
   "metadata": {},
   "source": [
    "But, you see that some cells are different, since the classifications change as the columns to the left are included. You can see this really obviously in a more obviously-structured array:"
   ]
  },
  {
   "cell_type": "code",
   "execution_count": 43,
   "metadata": {
    "collapsed": false
   },
   "outputs": [
    {
     "data": {
      "text/plain": [
       "array([[ 0,  1,  2,  3,  4],\n",
       "       [ 5,  6,  7,  8,  9],\n",
       "       [10, 11, 12, 13, 14],\n",
       "       [15, 16, 17, 18, 19],\n",
       "       [20, 21, 22, 23, 24]])"
      ]
     },
     "execution_count": 43,
     "metadata": {},
     "output_type": "execute_result"
    }
   ],
   "source": [
    "easy_gradient = np.arange(0,25).reshape(5,5)\n",
    "easy_gradient"
   ]
  },
  {
   "cell_type": "code",
   "execution_count": 44,
   "metadata": {
    "collapsed": false
   },
   "outputs": [
    {
     "data": {
      "text/plain": [
       "[array([0, 1, 2, 3, 3]),\n",
       " array([2, 2, 3, 3, 3]),\n",
       " array([2, 3, 3, 3, 3]),\n",
       " array([3, 3, 3, 3, 3]),\n",
       " array([3, 3, 3, 3, 3])]"
      ]
     },
     "execution_count": 44,
     "metadata": {},
     "output_type": "execute_result"
    }
   ],
   "source": [
    "tmp_roller = ps.Quantiles.make(k=4, rolling=True)\n",
    "[tmp_roller(a) for a in easy_gradient]"
   ]
  },
  {
   "cell_type": "code",
   "execution_count": 45,
   "metadata": {
    "collapsed": false
   },
   "outputs": [
    {
     "data": {
      "text/plain": [
       "[array([0, 0, 1, 2, 3]),\n",
       " array([0, 0, 1, 2, 3]),\n",
       " array([0, 0, 1, 2, 3]),\n",
       " array([0, 0, 1, 2, 3]),\n",
       " array([0, 0, 1, 2, 3])]"
      ]
     },
     "execution_count": 45,
     "metadata": {},
     "output_type": "execute_result"
    }
   ],
   "source": [
    "non_roller = ps.Quantiles.make(k=4, rolling=False)\n",
    "[non_roller(a) for a in easy_gradient]"
   ]
  },
  {
   "cell_type": "code",
   "execution_count": 46,
   "metadata": {
    "collapsed": false
   },
   "outputs": [
    {
     "data": {
      "text/plain": [
       "array([0, 0, 0, 0, 1])"
      ]
     },
     "execution_count": 46,
     "metadata": {},
     "output_type": "execute_result"
    }
   ],
   "source": [
    "tmp_roller(np.arange(0,5))"
   ]
  },
  {
   "cell_type": "markdown",
   "metadata": {},
   "source": [
    "If you're really interested in going under the hood, you can actually inspect the closure. I'll do that now to show that the rolling classifier really does accrete data."
   ]
  },
  {
   "cell_type": "code",
   "execution_count": 47,
   "metadata": {
    "collapsed": false
   },
   "outputs": [
    {
     "data": {
      "text/html": [
       "<div>\n",
       "<table border=\"1\" class=\"dataframe\">\n",
       "  <thead>\n",
       "    <tr style=\"text-align: right;\">\n",
       "      <th></th>\n",
       "      <th>A</th>\n",
       "      <th>B</th>\n",
       "      <th>C</th>\n",
       "      <th>D</th>\n",
       "      <th>E</th>\n",
       "      <th>F</th>\n",
       "    </tr>\n",
       "  </thead>\n",
       "  <tbody>\n",
       "    <tr>\n",
       "      <th>0</th>\n",
       "      <td>0</td>\n",
       "      <td>16</td>\n",
       "      <td>2</td>\n",
       "      <td>14</td>\n",
       "      <td>15</td>\n",
       "      <td>1</td>\n",
       "    </tr>\n",
       "    <tr>\n",
       "      <th>1</th>\n",
       "      <td>3</td>\n",
       "      <td>13</td>\n",
       "      <td>5</td>\n",
       "      <td>17</td>\n",
       "      <td>0</td>\n",
       "      <td>16</td>\n",
       "    </tr>\n",
       "    <tr>\n",
       "      <th>2</th>\n",
       "      <td>6</td>\n",
       "      <td>10</td>\n",
       "      <td>8</td>\n",
       "      <td>2</td>\n",
       "      <td>3</td>\n",
       "      <td>13</td>\n",
       "    </tr>\n",
       "    <tr>\n",
       "      <th>3</th>\n",
       "      <td>9</td>\n",
       "      <td>7</td>\n",
       "      <td>11</td>\n",
       "      <td>5</td>\n",
       "      <td>6</td>\n",
       "      <td>10</td>\n",
       "    </tr>\n",
       "    <tr>\n",
       "      <th>4</th>\n",
       "      <td>12</td>\n",
       "      <td>4</td>\n",
       "      <td>14</td>\n",
       "      <td>8</td>\n",
       "      <td>9</td>\n",
       "      <td>7</td>\n",
       "    </tr>\n",
       "    <tr>\n",
       "      <th>5</th>\n",
       "      <td>15</td>\n",
       "      <td>1</td>\n",
       "      <td>17</td>\n",
       "      <td>11</td>\n",
       "      <td>12</td>\n",
       "      <td>4</td>\n",
       "    </tr>\n",
       "  </tbody>\n",
       "</table>\n",
       "</div>"
      ],
      "text/plain": [
       "    A   B   C   D   E   F\n",
       "0   0  16   2  14  15   1\n",
       "1   3  13   5  17   0  16\n",
       "2   6  10   8   2   3  13\n",
       "3   9   7  11   5   6  10\n",
       "4  12   4  14   8   9   7\n",
       "5  15   1  17  11  12   4"
      ]
     },
     "execution_count": 47,
     "metadata": {},
     "output_type": "execute_result"
    }
   ],
   "source": [
    "small_df"
   ]
  },
  {
   "cell_type": "code",
   "execution_count": 48,
   "metadata": {
    "collapsed": true
   },
   "outputs": [],
   "source": [
    "roller = ps.Quantiles.make(k=4, rolling=True)"
   ]
  },
  {
   "cell_type": "code",
   "execution_count": 49,
   "metadata": {
    "collapsed": false
   },
   "outputs": [
    {
     "data": {
      "text/plain": [
       "array([0, 0, 1, 2, 3, 3])"
      ]
     },
     "execution_count": 49,
     "metadata": {},
     "output_type": "execute_result"
    }
   ],
   "source": [
    "roller(small_df.A)"
   ]
  },
  {
   "cell_type": "code",
   "execution_count": 50,
   "metadata": {
    "collapsed": false
   },
   "outputs": [
    {
     "data": {
      "text/plain": [
       "(               Quantiles               \n",
       "  \n",
       " Lower            Upper            Count\n",
       " =======================================\n",
       "          x[i] <=  3.750               2\n",
       "  3.750 < x[i] <=  7.500               1\n",
       "  7.500 < x[i] <= 11.250               1\n",
       " 11.250 < x[i] <= 15.000               2,\n",
       " array([  0.,   3.,   6.,   9.,  12.,  15.]))"
      ]
     },
     "execution_count": 50,
     "metadata": {},
     "output_type": "execute_result"
    }
   ],
   "source": [
    "roller.func_defaults[0], roller.func_defaults[0].y"
   ]
  },
  {
   "cell_type": "code",
   "execution_count": 51,
   "metadata": {
    "collapsed": false
   },
   "outputs": [
    {
     "data": {
      "text/plain": [
       "array([3, 3, 2, 1, 1, 0])"
      ]
     },
     "execution_count": 51,
     "metadata": {},
     "output_type": "execute_result"
    }
   ],
   "source": [
    "roller(small_df.B)"
   ]
  },
  {
   "cell_type": "code",
   "execution_count": 52,
   "metadata": {
    "collapsed": false
   },
   "outputs": [
    {
     "data": {
      "text/plain": [
       "(               Quantiles               \n",
       "  \n",
       " Lower            Upper            Count\n",
       " =======================================\n",
       "          x[i] <=  3.750               3\n",
       "  3.750 < x[i] <=  8.000               3\n",
       "  8.000 < x[i] <= 12.250               3\n",
       " 12.250 < x[i] <= 16.000               3,\n",
       " array([ 16.,  13.,  10.,   7.,   4.,   1.,   0.,   3.,   6.,   9.,  12.,\n",
       "         15.]))"
      ]
     },
     "execution_count": 52,
     "metadata": {},
     "output_type": "execute_result"
    }
   ],
   "source": [
    "roller.func_defaults[0], roller.func_defaults[0].y"
   ]
  },
  {
   "cell_type": "code",
   "execution_count": 53,
   "metadata": {
    "collapsed": false
   },
   "outputs": [
    {
     "data": {
      "text/plain": [
       "array([0, 1, 1, 2, 3, 3])"
      ]
     },
     "execution_count": 53,
     "metadata": {},
     "output_type": "execute_result"
    }
   ],
   "source": [
    "roller(small_df.C)"
   ]
  },
  {
   "cell_type": "code",
   "execution_count": 54,
   "metadata": {
    "collapsed": false
   },
   "outputs": [
    {
     "data": {
      "text/plain": [
       "(               Quantiles               \n",
       "  \n",
       " Lower            Upper            Count\n",
       " =======================================\n",
       "          x[i] <=  4.250               5\n",
       "  4.250 < x[i] <=  8.500               4\n",
       "  8.500 < x[i] <= 12.750               4\n",
       " 12.750 < x[i] <= 17.000               5,\n",
       " array([  2.,   5.,   8.,  11.,  14.,  17.,  16.,  13.,  10.,   7.,   4.,\n",
       "          1.,   0.,   3.,   6.,   9.,  12.,  15.]))"
      ]
     },
     "execution_count": 54,
     "metadata": {},
     "output_type": "execute_result"
    }
   ],
   "source": [
    "roller.func_defaults[0], roller.func_defaults[0].y"
   ]
  },
  {
   "cell_type": "markdown",
   "metadata": {},
   "source": [
    "**Be careful expecting this to work on columnar dataframes & series, though.**"
   ]
  },
  {
   "cell_type": "markdown",
   "metadata": {},
   "source": [
    "Apply on a series is *down*, not columnar/across."
   ]
  },
  {
   "cell_type": "code",
   "execution_count": 55,
   "metadata": {
    "collapsed": false
   },
   "outputs": [],
   "source": [
    "rollercoaster = range(0,10) + range(10,-10,-1) + range(-10,20)"
   ]
  },
  {
   "cell_type": "code",
   "execution_count": 56,
   "metadata": {
    "collapsed": false
   },
   "outputs": [
    {
     "data": {
      "text/plain": [
       "[<matplotlib.lines.Line2D at 0x7f45a2461c50>]"
      ]
     },
     "execution_count": 56,
     "metadata": {},
     "output_type": "execute_result"
    },
    {
     "data": {
      "image/png": "[encoded data removed]",
      "text/plain": [
       "<matplotlib.figure.Figure at 0x7f45a24c7d50>"
      ]
     },
     "metadata": {},
     "output_type": "display_data"
    }
   ],
   "source": [
    "plt.plot(rollercoaster)"
   ]
  },
  {
   "cell_type": "code",
   "execution_count": 57,
   "metadata": {
    "collapsed": false
   },
   "outputs": [],
   "source": [
    "roller = ps.Quantiles.make(k=5, rolling=True)"
   ]
  },
  {
   "cell_type": "code",
   "execution_count": 58,
   "metadata": {
    "collapsed": false
   },
   "outputs": [],
   "source": [
    "rollercoaster = pd.Series(rollercoaster)"
   ]
  },
  {
   "cell_type": "code",
   "execution_count": 59,
   "metadata": {
    "collapsed": false,
    "scrolled": true
   },
   "outputs": [
    {
     "data": {
      "text/plain": [
       "<matplotlib.axes._subplots.AxesSubplot at 0x7f45a2426450>"
      ]
     },
     "execution_count": 59,
     "metadata": {},
     "output_type": "execute_result"
    },
    {
     "data": {
      "image/png": "[encoded data removed]",
      "text/plain": [
       "<matplotlib.figure.Figure at 0x7f45a25eb890>"
      ]
     },
     "metadata": {},
     "output_type": "display_data"
    }
   ],
   "source": [
    "steppercoaster = pd.Series(rollercoaster).apply(roller)\n",
    "steppercoaster.plot()"
   ]
  },
  {
   "cell_type": "markdown",
   "metadata": {},
   "source": [
    "and the double application:"
   ]
  },
  {
   "cell_type": "code",
   "execution_count": 60,
   "metadata": {
    "collapsed": false
   },
   "outputs": [],
   "source": [
    "two_timer = ps.Quantiles.make(k=3, rolling=True)"
   ]
  },
  {
   "cell_type": "code",
   "execution_count": 61,
   "metadata": {
    "collapsed": false
   },
   "outputs": [
    {
     "data": {
      "text/html": [
       "<div>\n",
       "<table border=\"1\" class=\"dataframe\">\n",
       "  <thead>\n",
       "    <tr style=\"text-align: right;\">\n",
       "      <th></th>\n",
       "      <th>A</th>\n",
       "    </tr>\n",
       "  </thead>\n",
       "  <tbody>\n",
       "    <tr>\n",
       "      <th>0</th>\n",
       "      <td>0</td>\n",
       "    </tr>\n",
       "    <tr>\n",
       "      <th>1</th>\n",
       "      <td>0</td>\n",
       "    </tr>\n",
       "    <tr>\n",
       "      <th>2</th>\n",
       "      <td>1</td>\n",
       "    </tr>\n",
       "    <tr>\n",
       "      <th>3</th>\n",
       "      <td>1</td>\n",
       "    </tr>\n",
       "    <tr>\n",
       "      <th>4</th>\n",
       "      <td>2</td>\n",
       "    </tr>\n",
       "    <tr>\n",
       "      <th>5</th>\n",
       "      <td>2</td>\n",
       "    </tr>\n",
       "  </tbody>\n",
       "</table>\n",
       "</div>"
      ],
      "text/plain": [
       "   A\n",
       "0  0\n",
       "1  0\n",
       "2  1\n",
       "3  1\n",
       "4  2\n",
       "5  2"
      ]
     },
     "execution_count": 61,
     "metadata": {},
     "output_type": "execute_result"
    }
   ],
   "source": [
    "small_df[['A']].apply(two_timer)"
   ]
  },
  {
   "cell_type": "code",
   "execution_count": 62,
   "metadata": {
    "collapsed": false
   },
   "outputs": [
    {
     "data": {
      "text/plain": [
       "               Quantiles               \n",
       " \n",
       "Lower            Upper            Count\n",
       "=======================================\n",
       "         x[i] <=  5.000               4\n",
       " 5.000 < x[i] <= 10.000               4\n",
       "10.000 < x[i] <= 15.000               4"
      ]
     },
     "execution_count": 62,
     "metadata": {},
     "output_type": "execute_result"
    }
   ],
   "source": [
    "two_timer.func_defaults[0]"
   ]
  },
  {
   "cell_type": "code",
   "execution_count": 63,
   "metadata": {
    "collapsed": false
   },
   "outputs": [
    {
     "data": {
      "text/plain": [
       "True"
      ]
     },
     "execution_count": 63,
     "metadata": {},
     "output_type": "execute_result"
    }
   ],
   "source": [
    "4 + 4 + 4 == 6 * 2"
   ]
  },
  {
   "cell_type": "markdown",
   "metadata": {},
   "source": [
    "### smoother"
   ]
  },
  {
   "cell_type": "markdown",
   "metadata": {},
   "source": [
    "Finally, I wrapped the smoothers in `asarray` and provided bycol methods as well."
   ]
  },
  {
   "cell_type": "code",
   "execution_count": 64,
   "metadata": {
    "collapsed": true
   },
   "outputs": [],
   "source": [
    "from pysal.esda import smoothing as sm"
   ]
  },
  {
   "cell_type": "code",
   "execution_count": 65,
   "metadata": {
    "collapsed": true
   },
   "outputs": [],
   "source": [
    "sids = ps.open(ps.examples.get_path('sids2.dbf')).to_df()"
   ]
  },
  {
   "cell_type": "code",
   "execution_count": 66,
   "metadata": {
    "collapsed": false,
    "scrolled": true
   },
   "outputs": [
    {
     "data": {
      "text/plain": [
       "array([[ 0.        ],\n",
       "       [ 2.79660658],\n",
       "       [ 0.83836326],\n",
       "       [ 1.21747853],\n",
       "       [ 0.94381119],\n",
       "       [ 1.37446569],\n",
       "       [ 2.88716336],\n",
       "       [ 1.70119053],\n",
       "       [ 0.84916569],\n",
       "       [ 1.23958191],\n",
       "       [ 0.80647021],\n",
       "       [ 0.46904344],\n",
       "       [ 0.97445244],\n",
       "       [ 1.1290583 ],\n",
       "       [ 1.10117019],\n",
       "       [ 1.92455994],\n",
       "       [ 0.88835796],\n",
       "       [ 0.94946983],\n",
       "       [ 0.28464991],\n",
       "       [ 0.        ],\n",
       "       [ 0.56201734],\n",
       "       [ 0.        ],\n",
       "       [ 0.32222805],\n",
       "       [ 0.        ],\n",
       "       [ 0.57912408],\n",
       "       [ 0.93460723],\n",
       "       [ 0.96372281],\n",
       "       [ 1.56328462],\n",
       "       [ 0.67698114],\n",
       "       [ 1.06552712],\n",
       "       [ 0.68159089],\n",
       "       [ 1.09957255],\n",
       "       [ 1.04319392],\n",
       "       [ 1.07020059],\n",
       "       [ 0.58141955],\n",
       "       [ 0.27325775],\n",
       "       [ 0.75096424],\n",
       "       [ 1.09126045],\n",
       "       [ 0.4678274 ],\n",
       "       [ 1.05407564],\n",
       "       [ 0.60042019],\n",
       "       [ 0.5658727 ],\n",
       "       [ 1.75679273],\n",
       "       [ 0.        ],\n",
       "       [ 0.        ],\n",
       "       [ 1.14052729],\n",
       "       [ 1.06164298],\n",
       "       [ 0.63209373],\n",
       "       [ 1.39572815],\n",
       "       [ 0.62891376],\n",
       "       [ 0.83764725],\n",
       "       [ 1.54152628],\n",
       "       [ 0.91347575],\n",
       "       [ 1.37412064],\n",
       "       [ 1.64109976],\n",
       "       [ 0.47710443],\n",
       "       [ 0.6947454 ],\n",
       "       [ 1.14440224],\n",
       "       [ 1.71563188],\n",
       "       [ 1.02798289],\n",
       "       [ 1.1408492 ],\n",
       "       [ 1.41252371],\n",
       "       [ 1.05502942],\n",
       "       [ 1.92007335],\n",
       "       [ 1.25551122],\n",
       "       [ 1.67969943],\n",
       "       [ 0.71484662],\n",
       "       [ 0.5749545 ],\n",
       "       [ 1.78251398],\n",
       "       [ 2.52942973],\n",
       "       [ 1.1637957 ],\n",
       "       [ 1.09867592],\n",
       "       [ 1.03535571],\n",
       "       [ 1.67421307],\n",
       "       [ 1.44255129],\n",
       "       [ 1.14679994],\n",
       "       [ 0.        ],\n",
       "       [ 1.31007845],\n",
       "       [ 0.5863111 ],\n",
       "       [ 0.80071884],\n",
       "       [ 0.43073622],\n",
       "       [ 1.09212949],\n",
       "       [ 1.55462643],\n",
       "       [ 0.862371  ],\n",
       "       [ 1.07787432],\n",
       "       [ 1.77697628],\n",
       "       [ 0.        ],\n",
       "       [ 1.27359565],\n",
       "       [ 1.13795853],\n",
       "       [ 0.        ],\n",
       "       [ 1.19744103],\n",
       "       [ 3.08905518],\n",
       "       [ 0.79296025],\n",
       "       [ 1.44564689],\n",
       "       [ 0.60527534],\n",
       "       [ 1.23112473],\n",
       "       [ 0.94616777],\n",
       "       [ 2.07271018],\n",
       "       [ 0.65740672],\n",
       "       [ 1.14181602]])"
      ]
     },
     "execution_count": 66,
     "metadata": {},
     "output_type": "execute_result"
    }
   ],
   "source": [
    "sm.Excess_Risk(sids.SID79, sids.BIR79).r"
   ]
  },
  {
   "cell_type": "code",
   "execution_count": 67,
   "metadata": {
    "collapsed": true
   },
   "outputs": [],
   "source": [
    "#sm.Excess_Risk?"
   ]
  },
  {
   "cell_type": "code",
   "execution_count": 68,
   "metadata": {
    "collapsed": false,
    "scrolled": true
   },
   "outputs": [
    {
     "data": {
      "text/html": [
       "<div>\n",
       "<table border=\"1\" class=\"dataframe\">\n",
       "  <thead>\n",
       "    <tr style=\"text-align: right;\">\n",
       "      <th></th>\n",
       "      <th>SID74-BIR74_excess_risk</th>\n",
       "      <th>SID79-BIR79_excess_risk</th>\n",
       "    </tr>\n",
       "  </thead>\n",
       "  <tbody>\n",
       "    <tr>\n",
       "      <th>0</th>\n",
       "      <td>0.453433</td>\n",
       "      <td>0.000000</td>\n",
       "    </tr>\n",
       "    <tr>\n",
       "      <th>1</th>\n",
       "      <td>0.000000</td>\n",
       "      <td>2.796607</td>\n",
       "    </tr>\n",
       "    <tr>\n",
       "      <th>2</th>\n",
       "      <td>0.775871</td>\n",
       "      <td>0.838363</td>\n",
       "    </tr>\n",
       "    <tr>\n",
       "      <th>3</th>\n",
       "      <td>0.973810</td>\n",
       "      <td>1.217479</td>\n",
       "    </tr>\n",
       "    <tr>\n",
       "      <th>4</th>\n",
       "      <td>3.133189</td>\n",
       "      <td>0.943811</td>\n",
       "    </tr>\n",
       "  </tbody>\n",
       "</table>\n",
       "</div>"
      ],
      "text/plain": [
       "   SID74-BIR74_excess_risk  SID79-BIR79_excess_risk\n",
       "0                 0.453433                 0.000000\n",
       "1                 0.000000                 2.796607\n",
       "2                 0.775871                 0.838363\n",
       "3                 0.973810                 1.217479\n",
       "4                 3.133189                 0.943811"
      ]
     },
     "execution_count": 68,
     "metadata": {},
     "output_type": "execute_result"
    }
   ],
   "source": [
    "er = sm.Excess_Risk.by_col(sids, ['SID74', 'SID79'], ['BIR74', 'BIR79'])\n",
    "er[[col for col in er.columns if col.endswith('excess_risk')]].head()"
   ]
  },
  {
   "cell_type": "code",
   "execution_count": 69,
   "metadata": {
    "collapsed": true
   },
   "outputs": [],
   "source": [
    "W = ps.open(ps.examples.get_path('sids2.gal')).read()"
   ]
  },
  {
   "cell_type": "code",
   "execution_count": 70,
   "metadata": {
    "collapsed": false
   },
   "outputs": [
    {
     "data": {
      "text/plain": [
       "<pysal.esda.smoothing.Disk_Smoother at 0x7f45a2323e10>"
      ]
     },
     "execution_count": 70,
     "metadata": {},
     "output_type": "execute_result"
    }
   ],
   "source": [
    "sm.Disk_Smoother(sids.SID79, sids.BIR79, W)"
   ]
  },
  {
   "cell_type": "code",
   "execution_count": 71,
   "metadata": {
    "collapsed": false
   },
   "outputs": [
    {
     "data": {
      "text/html": [
       "<div>\n",
       "<table border=\"1\" class=\"dataframe\">\n",
       "  <thead>\n",
       "    <tr style=\"text-align: right;\">\n",
       "      <th></th>\n",
       "      <th>AREA</th>\n",
       "      <th>PERIMETER</th>\n",
       "      <th>CNTY_</th>\n",
       "      <th>CNTY_ID</th>\n",
       "      <th>NAME</th>\n",
       "      <th>FIPS</th>\n",
       "      <th>FIPSNO</th>\n",
       "      <th>CRESS_ID</th>\n",
       "      <th>BIR74</th>\n",
       "      <th>SID74</th>\n",
       "      <th>NWBIR74</th>\n",
       "      <th>BIR79</th>\n",
       "      <th>SID79</th>\n",
       "      <th>NWBIR79</th>\n",
       "      <th>SIDR74</th>\n",
       "      <th>SIDR79</th>\n",
       "      <th>NWR74</th>\n",
       "      <th>NWR79</th>\n",
       "      <th>geometry</th>\n",
       "      <th>SID79-BIR79_disk_smoother</th>\n",
       "    </tr>\n",
       "  </thead>\n",
       "  <tbody>\n",
       "    <tr>\n",
       "      <th>0</th>\n",
       "      <td>0.114</td>\n",
       "      <td>1.442</td>\n",
       "      <td>1825</td>\n",
       "      <td>1825</td>\n",
       "      <td>Ashe</td>\n",
       "      <td>37009</td>\n",
       "      <td>37009</td>\n",
       "      <td>5</td>\n",
       "      <td>1091.0</td>\n",
       "      <td>1.0</td>\n",
       "      <td>10.0</td>\n",
       "      <td>1364.0</td>\n",
       "      <td>0.0</td>\n",
       "      <td>19.0</td>\n",
       "      <td>0.916590</td>\n",
       "      <td>0.000000</td>\n",
       "      <td>9.165903</td>\n",
       "      <td>13.929619</td>\n",
       "      <td>&lt;pysal.cg.shapes.Polygon object at 0x7f45a28e7...</td>\n",
       "      <td>0.002659</td>\n",
       "    </tr>\n",
       "    <tr>\n",
       "      <th>1</th>\n",
       "      <td>0.061</td>\n",
       "      <td>1.231</td>\n",
       "      <td>1827</td>\n",
       "      <td>1827</td>\n",
       "      <td>Alleghany</td>\n",
       "      <td>37005</td>\n",
       "      <td>37005</td>\n",
       "      <td>3</td>\n",
       "      <td>487.0</td>\n",
       "      <td>0.0</td>\n",
       "      <td>10.0</td>\n",
       "      <td>542.0</td>\n",
       "      <td>3.0</td>\n",
       "      <td>12.0</td>\n",
       "      <td>0.000000</td>\n",
       "      <td>5.535055</td>\n",
       "      <td>20.533881</td>\n",
       "      <td>22.140221</td>\n",
       "      <td>&lt;pysal.cg.shapes.Polygon object at 0x7f45a2b0a...</td>\n",
       "      <td>0.001179</td>\n",
       "    </tr>\n",
       "    <tr>\n",
       "      <th>2</th>\n",
       "      <td>0.143</td>\n",
       "      <td>1.630</td>\n",
       "      <td>1828</td>\n",
       "      <td>1828</td>\n",
       "      <td>Surry</td>\n",
       "      <td>37171</td>\n",
       "      <td>37171</td>\n",
       "      <td>86</td>\n",
       "      <td>3188.0</td>\n",
       "      <td>5.0</td>\n",
       "      <td>208.0</td>\n",
       "      <td>3616.0</td>\n",
       "      <td>6.0</td>\n",
       "      <td>260.0</td>\n",
       "      <td>1.568381</td>\n",
       "      <td>1.659292</td>\n",
       "      <td>65.244668</td>\n",
       "      <td>71.902655</td>\n",
       "      <td>&lt;pysal.cg.shapes.Polygon object at 0x7f45a23aa...</td>\n",
       "      <td>0.002330</td>\n",
       "    </tr>\n",
       "    <tr>\n",
       "      <th>3</th>\n",
       "      <td>0.070</td>\n",
       "      <td>2.968</td>\n",
       "      <td>1831</td>\n",
       "      <td>1831</td>\n",
       "      <td>Currituck</td>\n",
       "      <td>37053</td>\n",
       "      <td>37053</td>\n",
       "      <td>27</td>\n",
       "      <td>508.0</td>\n",
       "      <td>1.0</td>\n",
       "      <td>123.0</td>\n",
       "      <td>830.0</td>\n",
       "      <td>2.0</td>\n",
       "      <td>145.0</td>\n",
       "      <td>1.968504</td>\n",
       "      <td>2.409639</td>\n",
       "      <td>242.125984</td>\n",
       "      <td>174.698795</td>\n",
       "      <td>&lt;pysal.cg.shapes.Polygon object at 0x7f45a23aa...</td>\n",
       "      <td>0.003329</td>\n",
       "    </tr>\n",
       "    <tr>\n",
       "      <th>4</th>\n",
       "      <td>0.153</td>\n",
       "      <td>2.206</td>\n",
       "      <td>1832</td>\n",
       "      <td>1832</td>\n",
       "      <td>Northampton</td>\n",
       "      <td>37131</td>\n",
       "      <td>37131</td>\n",
       "      <td>66</td>\n",
       "      <td>1421.0</td>\n",
       "      <td>9.0</td>\n",
       "      <td>1066.0</td>\n",
       "      <td>1606.0</td>\n",
       "      <td>3.0</td>\n",
       "      <td>1197.0</td>\n",
       "      <td>6.333568</td>\n",
       "      <td>1.867995</td>\n",
       "      <td>750.175932</td>\n",
       "      <td>745.330012</td>\n",
       "      <td>&lt;pysal.cg.shapes.Polygon object at 0x7f45a23aa...</td>\n",
       "      <td>0.002826</td>\n",
       "    </tr>\n",
       "  </tbody>\n",
       "</table>\n",
       "</div>"
      ],
      "text/plain": [
       "    AREA  PERIMETER  CNTY_  CNTY_ID         NAME   FIPS  FIPSNO  CRESS_ID  \\\n",
       "0  0.114      1.442   1825     1825         Ashe  37009   37009         5   \n",
       "1  0.061      1.231   1827     1827    Alleghany  37005   37005         3   \n",
       "2  0.143      1.630   1828     1828        Surry  37171   37171        86   \n",
       "3  0.070      2.968   1831     1831    Currituck  37053   37053        27   \n",
       "4  0.153      2.206   1832     1832  Northampton  37131   37131        66   \n",
       "\n",
       "    BIR74  SID74  NWBIR74   BIR79  SID79  NWBIR79    SIDR74    SIDR79  \\\n",
       "0  1091.0    1.0     10.0  1364.0    0.0     19.0  0.916590  0.000000   \n",
       "1   487.0    0.0     10.0   542.0    3.0     12.0  0.000000  5.535055   \n",
       "2  3188.0    5.0    208.0  3616.0    6.0    260.0  1.568381  1.659292   \n",
       "3   508.0    1.0    123.0   830.0    2.0    145.0  1.968504  2.409639   \n",
       "4  1421.0    9.0   1066.0  1606.0    3.0   1197.0  6.333568  1.867995   \n",
       "\n",
       "        NWR74       NWR79                                           geometry  \\\n",
       "0    9.165903   13.929619  <pysal.cg.shapes.Polygon object at 0x7f45a28e7...   \n",
       "1   20.533881   22.140221  <pysal.cg.shapes.Polygon object at 0x7f45a2b0a...   \n",
       "2   65.244668   71.902655  <pysal.cg.shapes.Polygon object at 0x7f45a23aa...   \n",
       "3  242.125984  174.698795  <pysal.cg.shapes.Polygon object at 0x7f45a23aa...   \n",
       "4  750.175932  745.330012  <pysal.cg.shapes.Polygon object at 0x7f45a23aa...   \n",
       "\n",
       "   SID79-BIR79_disk_smoother  \n",
       "0                   0.002659  \n",
       "1                   0.001179  \n",
       "2                   0.002330  \n",
       "3                   0.003329  \n",
       "4                   0.002826  "
      ]
     },
     "execution_count": 71,
     "metadata": {},
     "output_type": "execute_result"
    }
   ],
   "source": [
    "sm.Disk_Smoother.by_col(sids, 'SID79', 'BIR79', w=W).head()"
   ]
  }
 ],
 "metadata": {
  "kernelspec": {
   "display_name": "Python 2",
   "language": "python",
   "name": "python2"
  },
  "language_info": {
   "codemirror_mode": {
    "name": "ipython",
    "version": 2
   },
   "file_extension": ".py",
   "mimetype": "text/x-python",
   "name": "python",
   "nbconvert_exporter": "python",
   "pygments_lexer": "ipython2",
   "version": "2.7.11"
  }
 },
 "nbformat": 4,
 "nbformat_minor": 0
}
