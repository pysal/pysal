{
 "metadata": {
  "name": "",
  "signature": "sha256:8b52f827a2925a9285cec8ea299b649abc0379c6dc1b8e64461377fe911c4660"
 },
 "nbformat": 3,
 "nbformat_minor": 0,
 "worksheets": [
  {
   "cells": [
    {
     "cell_type": "code",
     "collapsed": false,
     "input": [
      "import pysal as ps\n",
      "import fw\n",
      "import time\n",
      "import numpy as np"
     ],
     "language": "python",
     "metadata": {},
     "outputs": [],
     "prompt_number": 4
    },
    {
     "cell_type": "code",
     "collapsed": false,
     "input": [
      "N = ps.network.network.Network(ps.examples.get_path('geodanet/streets.shp'))"
     ],
     "language": "python",
     "metadata": {},
     "outputs": [],
     "prompt_number": 5
    },
    {
     "cell_type": "markdown",
     "metadata": {},
     "source": [
      "Here I'll just illustrate the floyd warshall algorithm's usage. "
     ]
    },
    {
     "cell_type": "code",
     "collapsed": false,
     "input": [
      "tfw = time.time()\n",
      "dfw, pfw = fw.floyd_warshall(N)\n",
      "tfw = time.time() - tfw\n",
      "print tfw"
     ],
     "language": "python",
     "metadata": {},
     "outputs": [
      {
       "output_type": "stream",
       "stream": "stdout",
       "text": [
        "2.90875315666\n"
       ]
      }
     ],
     "prompt_number": 6
    },
    {
     "cell_type": "markdown",
     "metadata": {},
     "source": [
      "This implementation uses the standard 3-nested for loop structure. It requires a network object, and can take an alternate edge cost dictionary as a keyword. In addition, it can handle directed graphs with a boolean keyword. \n",
      "\n",
      "It returns two dicts of dicts, each with outer keys of the origins and inner keys of the destinations. \n",
      "\n",
      "`dfw` is the distance dictionary, containing all distances from nodes to nodes. The distance from a node to itself is zero by default. \n",
      "\n",
      "`pfw` is the precedence or path dictionary containing all distances from nodes to nodes. This contains the steps to take from start to destination. So, if you have a path $A \\rightarrow B \\rightarrow E \\rightarrow D \\rightarrow C$, the list would be $[B, E, D, C]$, as it's four steps from $A$ to $C$."
     ]
    },
    {
     "cell_type": "code",
     "collapsed": false,
     "input": [
      "trd = time.time()\n",
      "N.node_distance_matrix()\n",
      "trd = time.time() - trd\n",
      "print trd"
     ],
     "language": "python",
     "metadata": {},
     "outputs": [
      {
       "output_type": "stream",
       "stream": "stdout",
       "text": [
        "1.0536608696\n"
       ]
      }
     ],
     "prompt_number": 7
    },
    {
     "cell_type": "markdown",
     "metadata": {},
     "source": [
      "Floyd-Warshall is slow wrt. repeat dijkstra here. It's got a triple `for` loop through the nodes. But, if `streets.shp` were denser, $V >> N$, it might win out. Do we have a dense network to test that out on?"
     ]
    },
    {
     "cell_type": "code",
     "collapsed": false,
     "input": [
      "np.testing.assert_allclose(N.alldistances[0][0], dfw[0].values())"
     ],
     "language": "python",
     "metadata": {},
     "outputs": [],
     "prompt_number": 8
    },
    {
     "cell_type": "code",
     "collapsed": false,
     "input": [
      "for idx in N.alldistances:\n",
      "    np.testing.assert_allclose(N.alldistances[idx][0], dfw[idx].values())"
     ],
     "language": "python",
     "metadata": {},
     "outputs": [],
     "prompt_number": 9
    },
    {
     "cell_type": "markdown",
     "metadata": {},
     "source": [
      "But, distances are the same. Predecessor networks are harder to compare due to the behavior I mentioned in [#576](https://github.com/pysal/pysal/issues/576). "
     ]
    },
    {
     "cell_type": "code",
     "collapsed": false,
     "input": [
      "starts_rd = []\n",
      "nostarts_rd = []\n",
      "\n",
      "starts_fw = []\n",
      "nostarts_fw = []\n",
      "for start in N.alldistances:\n",
      "    for dest, path in N.alldistances[idx][1].iteritems():\n",
      "        if start == dest:\n",
      "            pass\n",
      "        elif path[-1] != start:\n",
      "            nostarts_rd.append((start,dest))\n",
      "        else:\n",
      "            starts_rd.append((start,dest))\n",
      "for start in pfw.keys():\n",
      "    for dest,path in pfw[start].iteritems():\n",
      "        if start == dest:\n",
      "            pass\n",
      "        elif path[0] != start:\n",
      "            nostarts_fw.append((start,dest))\n",
      "        else: \n",
      "            starts_fw.append((start,dest))"
     ],
     "language": "python",
     "metadata": {},
     "outputs": [],
     "prompt_number": 10
    },
    {
     "cell_type": "code",
     "collapsed": false,
     "input": [
      "print len(nostarts_rd), len(starts_rd)\n",
      "print len(nostarts_fw), len(starts_fw)"
     ],
     "language": "python",
     "metadata": {},
     "outputs": [
      {
       "output_type": "stream",
       "stream": "stdout",
       "text": [
        "39445 172\n",
        "52670 0\n"
       ]
      }
     ],
     "prompt_number": 13
    },
    {
     "cell_type": "markdown",
     "metadata": {},
     "source": [
      "So, all of the floyd-warshall paths end with the destination node, but some of the repeat dijkstra paths are inconsistent. Sometimes they're the same and both leave out the starting node:"
     ]
    },
    {
     "cell_type": "code",
     "collapsed": false,
     "input": [
      "print N.alldistances[0][1][3]\n",
      "print pfw[0][3][::-1]"
     ],
     "language": "python",
     "metadata": {},
     "outputs": [
      {
       "output_type": "stream",
       "stream": "stdout",
       "text": [
        "[3, 23, 22, 20, 19, 170, 2]\n",
        "[3, 23, 22, 20, 19, 170, 2]\n"
       ]
      }
     ],
     "prompt_number": 14
    },
    {
     "cell_type": "markdown",
     "metadata": {},
     "source": [
      "And sometimes they're different, and dijkstra includes the starting node:"
     ]
    },
    {
     "cell_type": "code",
     "collapsed": false,
     "input": [
      "print N.alldistances[229][1][217]\n",
      "print pfw[229][217][::-1]"
     ],
     "language": "python",
     "metadata": {},
     "outputs": [
      {
       "output_type": "stream",
       "stream": "stdout",
       "text": [
        "[217, 79, 216, 63, 62, 174, 20, 228, 116, 119, 229]\n",
        "[217, 79, 216, 63, 62, 174, 20, 228, 116, 119]\n"
       ]
      }
     ],
     "prompt_number": 15
    },
    {
     "cell_type": "markdown",
     "metadata": {},
     "source": [
      "I can't tell why though. 167 that end in the destination node... that's not the total number of nodes. I'm wondering if it's something wonky related to the leftovers from inserting and removing nodes from the candidate list."
     ]
    }
   ],
   "metadata": {}
  }
 ]
}