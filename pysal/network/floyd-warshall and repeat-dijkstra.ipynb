{
 "cells": [
  {
   "cell_type": "code",
   "execution_count": 7,
   "metadata": {
    "collapsed": true
   },
   "outputs": [],
   "source": [
    "import pysal as ps\n",
    "import fw\n",
    "import time\n",
    "import numpy as np"
   ]
  },
  {
   "cell_type": "code",
   "execution_count": 2,
   "metadata": {
    "collapsed": true
   },
   "outputs": [],
   "source": [
    "N = ps.network.network.Network(ps.examples.get_path('geodanet/streets.shp'))"
   ]
  },
  {
   "cell_type": "markdown",
   "metadata": {},
   "source": [
    "Here I'll just illustrate the floyd warshall algorithm's usage. "
   ]
  },
  {
   "cell_type": "code",
   "execution_count": 12,
   "metadata": {
    "collapsed": false
   },
   "outputs": [
    {
     "name": "stdout",
     "output_type": "stream",
     "text": [
      "3.38626980782\n"
     ]
    }
   ],
   "source": [
    "tfw = time.time()\n",
    "dfw, pfw = fw.floyd_warshall(N)\n",
    "tfw = time.time() - tfw\n",
    "print tfw"
   ]
  },
  {
   "cell_type": "markdown",
   "metadata": {},
   "source": [
    "This implementation uses the standard 3-nested for loop structure. It requires a network object, and can take an alternate edge cost dictionary as a keyword. In addition, it can handle directed graphs with a boolean keyword. \n",
    "\n",
    "It returns two dicts of dicts, each with outer keys of the origins and inner keys of the destinations. \n",
    "\n",
    "`dfw` is the distance dictionary, containing all distances from nodes to nodes. The distance from a node to itself is zero by default. \n",
    "\n",
    "`pfw` is the precedence or path dictionary containing all distances from nodes to nodes. This contains the steps to take from start to destination. So, if you have a path $A \\rightarrow B \\rightarrow E \\rightarrow D \\rightarrow C$, the list would be $[B, E, D, C]$, as it's four steps from $A$ to $C$."
   ]
  },
  {
   "cell_type": "code",
   "execution_count": 4,
   "metadata": {
    "collapsed": false
   },
   "outputs": [
    {
     "name": "stdout",
     "output_type": "stream",
     "text": [
      "1.16067194939\n"
     ]
    }
   ],
   "source": [
    "trd = time.time()\n",
    "N.node_distance_matrix()\n",
    "trd = time.time() - trd\n",
    "print trd"
   ]
  },
  {
   "cell_type": "markdown",
   "metadata": {},
   "source": [
    "Floyd-Warshall is slow wrt. repeat dijkstra here. It's got a triple `for` loop through the nodes. But, if `streets.shp` were denser, $V >> N$, it might win out. Do we have a dense network to test that out on?"
   ]
  },
  {
   "cell_type": "code",
   "execution_count": 30,
   "metadata": {
    "collapsed": false
   },
   "outputs": [],
   "source": [
    "np.testing.assert_allclose(N.alldistances[0][0], dfw[0].values())"
   ]
  },
  {
   "cell_type": "code",
   "execution_count": 37,
   "metadata": {
    "collapsed": false
   },
   "outputs": [],
   "source": [
    "for idx in N.alldistances:\n",
    "    np.testing.assert_allclose(N.alldistances[idx][0], dfw[idx].values())"
   ]
  },
  {
   "cell_type": "markdown",
   "metadata": {},
   "source": [
    "But, distances are the same. Predecessor networks are harder to compare due to the behavior I mentioned in [#576](https://github.com/pysal/pysal/issues/576). "
   ]
  },
  {
   "cell_type": "code",
   "execution_count": 72,
   "metadata": {
    "collapsed": false
   },
   "outputs": [],
   "source": [
    "starts_rd = []\n",
    "nostarts_rd = []\n",
    "\n",
    "starts_fw = []\n",
    "nostarts_fw = []\n",
    "for start in N.alldistances:\n",
    "    for dest, path in N.alldistances[idx][1].iteritems():\n",
    "        if start == dest:\n",
    "            pass\n",
    "        elif path[-1] != start:\n",
    "            nostarts_rd.append((start,dest))\n",
    "        else:\n",
    "            starts_rd.append((start,dest))\n",
    "for start in pfw.keys():\n",
    "    for dest,path in pfw[start].iteritems():\n",
    "        if start == dest:\n",
    "            pass\n",
    "        elif path[0] != start:\n",
    "            nostarts_fw.append((start,dest))\n",
    "        else: \n",
    "            starts_fw.append((start,dest))"
   ]
  },
  {
   "cell_type": "code",
   "execution_count": 73,
   "metadata": {
    "collapsed": false
   },
   "outputs": [
    {
     "name": "stdout",
     "output_type": "stream",
     "text": [
      "38534 167\n",
      "52670 0\n"
     ]
    }
   ],
   "source": [
    "print len(noends_rd), len(ends_rd)\n",
    "print len(noends_fw), len(ends_fw)"
   ]
  },
  {
   "cell_type": "markdown",
   "metadata": {},
   "source": [
    "So, all of the floyd-warshall paths end with the destination node, but some of the repeat dijkstra paths are inconsistent. Sometimes they're the same and both leave out the starting node:"
   ]
  },
  {
   "cell_type": "code",
   "execution_count": 69,
   "metadata": {
    "collapsed": false
   },
   "outputs": [
    {
     "name": "stdout",
     "output_type": "stream",
     "text": [
      "[3, 23, 22, 20, 19, 170, 2]\n",
      "[3, 23, 22, 20, 19, 170, 2]\n"
     ]
    }
   ],
   "source": [
    "print N.alldistances[0][1][3]\n",
    "print pfw[0][3][::-1]"
   ]
  },
  {
   "cell_type": "markdown",
   "metadata": {},
   "source": [
    "And sometimes they're different, and dijkstra includes the starting node:"
   ]
  },
  {
   "cell_type": "code",
   "execution_count": 65,
   "metadata": {
    "collapsed": false
   },
   "outputs": [
    {
     "name": "stdout",
     "output_type": "stream",
     "text": [
      "[217, 79, 216, 63, 62, 174, 20, 228, 116, 119, 229]\n",
      "[217, 79, 216, 63, 62, 174, 20, 228, 116, 119]\n"
     ]
    }
   ],
   "source": [
    "print N.alldistances[229][1][217]\n",
    "print pfw[229][217][::-1]"
   ]
  },
  {
   "cell_type": "markdown",
   "metadata": {},
   "source": [
    "I can't tell why though. 167 that end in the "
   ]
  },
  {
   "cell_type": "code",
   "execution_count": null,
   "metadata": {
    "collapsed": true
   },
   "outputs": [],
   "source": []
  }
 ],
 "metadata": {
  "kernelspec": {
   "display_name": "Python 2",
   "language": "python",
   "name": "python2"
  },
  "language_info": {
   "codemirror_mode": {
    "name": "ipython",
    "version": 2
   },
   "file_extension": ".py",
   "mimetype": "text/x-python",
   "name": "python",
   "nbconvert_exporter": "python",
   "pygments_lexer": "ipython2",
   "version": "2.7.9"
  }
 },
 "nbformat": 4,
 "nbformat_minor": 0
}
