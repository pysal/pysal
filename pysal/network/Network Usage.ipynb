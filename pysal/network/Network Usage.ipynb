{
 "metadata": {
  "name": "",
  "signature": "sha256:3557e5401a25a7785b34b52227c07f5af269db7296f873cfaa1b24650aa4e200"
 },
 "nbformat": 3,
 "nbformat_minor": 0,
 "worksheets": [
  {
   "cells": [
    {
     "cell_type": "code",
     "collapsed": false,
     "input": [
      "%pylab inline\n",
      "import pysal as ps\n",
      "\n",
      "#Lots of reload for dev.\n",
      "try:\n",
      "    reload(network)\n",
      "except:\n",
      "    import network\n",
      "    \n",
      "try:\n",
      "    reload(analysis)\n",
      "except:\n",
      "    import analysis\n",
      "    \n",
      "\n",
      "try:\n",
      "    reload(util)\n",
      "except:\n",
      "    import util"
     ],
     "language": "python",
     "metadata": {},
     "outputs": [
      {
       "output_type": "stream",
       "stream": "stdout",
       "text": [
        "Populating the interactive namespace from numpy and matplotlib\n"
       ]
      },
      {
       "output_type": "stream",
       "stream": "stderr",
       "text": [
        "WARNING: pylab import has clobbered these variables: ['e']\n",
        "`%matplotlib` prevents importing * from pylab and numpy\n"
       ]
      }
     ],
     "prompt_number": 15
    },
    {
     "cell_type": "code",
     "collapsed": false,
     "input": [
      "ntw = network.Network(ps.examples.get_path('geodanet/streets.shp'))\n",
      "\n",
      "#Snap a point pattern to the network\n",
      "ntw.snapobservations(ps.examples.get_path('geodanet/crimes.shp'), 'crimes', attribute=True)\n",
      "ntw.snapobservations(ps.examples.get_path('geodanet/schools.shp'), 'schools', attribute=False)"
     ],
     "language": "python",
     "metadata": {},
     "outputs": [],
     "prompt_number": 16
    },
    {
     "cell_type": "markdown",
     "metadata": {},
     "source": [
      "####A network is composed of a single topological representation of a road and $n$ point patterns which are snapped to the network."
     ]
    },
    {
     "cell_type": "code",
     "collapsed": false,
     "input": [
      "ntw.pointpatterns"
     ],
     "language": "python",
     "metadata": {},
     "outputs": [
      {
       "metadata": {},
       "output_type": "pyout",
       "prompt_number": 17,
       "text": [
        "{'crimes': <network.PointPattern instance at 0x7f2a338e3ab8>,\n",
        " 'schools': <network.PointPattern instance at 0x7f2a338e3f80>}"
       ]
      }
     ],
     "prompt_number": 17
    },
    {
     "cell_type": "code",
     "collapsed": false,
     "input": [
      "dir(ntw.pointpatterns['crimes'])"
     ],
     "language": "python",
     "metadata": {},
     "outputs": [
      {
       "metadata": {},
       "output_type": "pyout",
       "prompt_number": 18,
       "text": [
        "['__doc__',\n",
        " '__init__',\n",
        " '__module__',\n",
        " 'dist_to_node',\n",
        " 'npoints',\n",
        " 'obs_to_edge',\n",
        " 'obs_to_node',\n",
        " 'points',\n",
        " 'snapped_coordinates']"
       ]
      }
     ],
     "prompt_number": 18
    },
    {
     "cell_type": "code",
     "collapsed": false,
     "input": [
      "ntw.nodes"
     ],
     "language": "python",
     "metadata": {},
     "outputs": [
      {
       "metadata": {},
       "output_type": "pyout",
       "prompt_number": 19,
       "text": [
        "{(723414.3683108028, 881216.5754796545): 32,\n",
        " (723419.3659789836, 881059.3969595932): 31,\n",
        " (723419.4218264627, 880983.7166824836): 30,\n",
        " (723424.4625205079, 880768.3225873626): 29,\n",
        " (723427.7919723372, 876256.6187814318): 34,\n",
        " (723427.9809663153, 876000.4707072203): 33,\n",
        " (723429.6150153902, 880401.5679958053): 28,\n",
        " (723429.7482387446, 880221.0996995087): 27,\n",
        " (723432.4638927985, 876541.8782284681): 35,\n",
        " (723434.793405809, 879999.8841214463): 26,\n",
        " (723436.9939083343, 877019.2488358747): 36,\n",
        " (723440.1051821121, 879417.7320872933): 24,\n",
        " (723441.4206018315, 877636.3367658389): 38,\n",
        " (723441.6613136822, 877310.3299313051): 37,\n",
        " (723445.2279284217, 879091.7286006078): 25,\n",
        " (723446.087857827, 877927.4179418385): 40,\n",
        " (723446.1910444337, 877787.7007032051): 39,\n",
        " (723450.7292169855, 878253.4284717967): 41,\n",
        " (723455.3403598762, 878620.1899244477): 17,\n",
        " (723635.3833007468, 879417.8768947495): 48,\n",
        " (723635.8747359592, 878757.8770777106): 223,\n",
        " (723635.9771579131, 878620.3239086122): 16,\n",
        " (723636.1229049602, 879555.4433372533): 222,\n",
        " (723636.2762407397, 878218.6367450831): 138,\n",
        " (723636.5969864682, 877787.8418956319): 149,\n",
        " (723637.0883639597, 877127.8420785499): 199,\n",
        " (723637.1691024002, 877019.3972334567): 144,\n",
        " (723637.5244915554, 876542.0302267465): 136,\n",
        " (723637.7108492, 876291.7036660706): 198,\n",
        " (723638.9254202017, 881216.7419514875): 106,\n",
        " (723639.0988713676, 880983.8795506966): 208,\n",
        " (723639.590464563, 880323.8797337753): 224,\n",
        " (723639.6712392577, 880215.4337987932): 74,\n",
        " (723701.4041054173, 875994.8520724566): 153,\n",
        " (723771.1418355647, 879417.9796849826): 47,\n",
        " (723771.7556856008, 878620.426708022): 15,\n",
        " (723772.0648373872, 878218.7395491137): 137,\n",
        " (724000.1694689994, 881217.0130878797): 105,\n",
        " (724037.8764950418, 876548.1523503202): 135,\n",
        " (724038.0175290048, 876361.8628113586): 194,\n",
        " (724038.299591164, 875989.2837796228): 159,\n",
        " (724047.2841380007, 877019.7052089315): 143,\n",
        " (724050.0847901877, 877134.1836499815): 195,\n",
        " (724063.8078290528, 880984.1987407161): 207,\n",
        " (724064.3082537716, 880324.198930432): 220,\n",
        " (724064.3948936244, 880209.9314209069): 73,\n",
        " (724066.2264979465, 877793.9862305089): 148,\n",
        " (724273.5477991867, 881211.3994449285): 104,\n",
        " (724400.6459719042, 880984.455932584): 206,\n",
        " (724415.6090854943, 880571.136483785): 7,\n",
        " (724420.6028450881, 880425.6012745391): 6,\n",
        " (724424.8797958398, 881211.5155546282): 103,\n",
        " (724430.5367226076, 880204.3895794549): 72,\n",
        " (724431.044731775, 879544.389774965): 221,\n",
        " (724431.1416463812, 879418.4794070402): 46,\n",
        " (724431.4194515735, 879057.5429752344): 203,\n",
        " (724431.7554964393, 878620.9264011041): 14,\n",
        " (724432.0646482367, 878219.2392276021): 139,\n",
        " (724432.3872317314, 877800.0874706974): 147,\n",
        " (724432.8951522101, 877140.0876661392): 197,\n",
        " (724432.9875691227, 877019.9996861964): 141,\n",
        " (724433.495462402, 876359.9998816174): 196,\n",
        " (724433.5206758433, 876327.2353874716): 133,\n",
        " (724433.7849792398, 875983.7640914185): 158,\n",
        " (724560.7738408807, 880984.5811163984): 205,\n",
        " (724571.1757409879, 880203.4769833761): 71,\n",
        " (724579.7356841143, 876333.6895793828): 132,\n",
        " (724581.5460738199, 879418.5970915924): 45,\n",
        " (724583.4532241145, 877020.1173981265): 140,\n",
        " (724586.8693074245, 879054.334737479): 202,\n",
        " (724587.7805758071, 877802.4281426128): 146,\n",
        " (724596.8265124949, 878621.055592177): 13,\n",
        " (724654.093559773, 880422.0698103458): 5,\n",
        " (724698.2537271213, 881211.7271303106): 102,\n",
        " (724786.7422589619, 880420.0635458478): 9,\n",
        " (724791.5058257086, 880571.4278841101): 8,\n",
        " (724892.7427863819, 875978.299024131): 157,\n",
        " (725127.845947692, 881206.2428033439): 101,\n",
        " (725215.7161577349, 881206.312499262): 100,\n",
        " (725220.7736391944, 880985.0970871209): 204,\n",
        " (725229.4968791509, 880325.1547373019): 219,\n",
        " (725231.1618463969, 880199.1943828656): 70,\n",
        " (725234.5211717597, 875972.7472497084): 156,\n",
        " (725239.0936180996, 876362.7948175822): 134,\n",
        " (725239.1769124517, 876258.0069546566): 177,\n",
        " (725239.9466402344, 879539.2528495482): 218,\n",
        " (725241.5458717826, 879419.1135111019): 43,\n",
        " (725243.4530221478, 877020.6337275846): 142,\n",
        " (725244.1606682661, 877152.3780392171): 178,\n",
        " (725246.728790812, 879040.71628736): 201,\n",
        " (725247.7057146893, 877812.3685184256): 145,\n",
        " (725249.3878724849, 877961.6140522598): 179,\n",
        " (725256.826310362, 878621.5721339907): 12,\n",
        " (725357.7766603399, 879419.2073611463): 42,\n",
        " (725358.2581768411, 879038.2812046874): 200,\n",
        " (725622.9820041237, 878621.8655716002): 11,\n",
        " (725623.514719259, 877961.8657865891): 68,\n",
        " (725623.6351420352, 877812.6697131826): 66,\n",
        " (725623.9217586962, 877457.5550756624): 67,\n",
        " (725625.1198296861, 875973.0600655096): 155,\n",
        " (725651.0042137535, 880193.709354089): 57,\n",
        " (725655.787533696, 880325.8967589648): 56,\n",
        " (725679.475603845, 881206.6843691433): 99,\n",
        " (725679.6546054512, 880985.4650745211): 58,\n",
        " (725869.2487362764, 875967.4364680187): 154,\n",
        " (726016.254147701, 881276.8174424708): 92,\n",
        " (726016.4927659871, 880985.7394154306): 169,\n",
        " (726017.033795437, 880325.7396371828): 168,\n",
        " (726017.1465540647, 880188.1858139538): 69,\n",
        " (726017.6875527202, 879528.1860356807): 167,\n",
        " (726017.7764451904, 879419.7402751006): 44,\n",
        " (726018.1009207417, 879023.87449369): 166,\n",
        " (726018.4301583883, 878622.1872277324): 10,\n",
        " (726023.6128906424, 878255.4333535549): 55,\n",
        " (726023.9708042189, 877818.8169122782): 54,\n",
        " (726032.5917150568, 877158.8732177888): 53,\n",
        " (726034.3892078967, 877021.2724366329): 52,\n",
        " (726039.1557178714, 876361.2896486886): 51,\n",
        " (726039.8969737022, 876258.6535286724): 49,\n",
        " (726045.0181676529, 875967.5801538614): 50,\n",
        " (726136.0317092487, 877021.3570016251): 131,\n",
        " (726140.4101371323, 877816.2941595102): 121,\n",
        " (726145.4243186455, 878250.2201274886): 150,\n",
        " (726147.9785121233, 880980.0416487692): 193,\n",
        " (726168.1989441594, 879418.7849349771): 65,\n",
        " (726177.3636439047, 880186.0447437763): 81,\n",
        " (726260.3423522701, 881271.1969155143): 91,\n",
        " (726413.5586089815, 879006.7364157238): 4,\n",
        " (726416.5605957515, 881265.505001414): 90,\n",
        " (726423.9622882428, 878238.2993953588): 152,\n",
        " (726443.170774413, 878622.5381970447): 3,\n",
        " (726538.1539434035, 875962.1669189737): 165,\n",
        " (726782.2732940742, 875968.1934350679): 164,\n",
        " (726786.944599449, 876218.5241038695): 126,\n",
        " (726788.5668400208, 876361.9483253725): 171,\n",
        " (726796.0314808233, 877021.9061112481): 130,\n",
        " (726796.6817709154, 877142.007752461): 172,\n",
        " (726800.255287192, 877801.9980781336): 120,\n",
        " (726804.7835801153, 878221.1539899481): 151,\n",
        " (726807.3597057294, 880951.4682079782): 182,\n",
        " (726809.32648285, 878622.8453178687): 23,\n",
        " (726818.780777165, 878989.611511281): 176,\n",
        " (726828.1856337554, 879414.5933295332): 64,\n",
        " (726829.4134109389, 879517.2727617536): 188,\n",
        " (726831.512357321, 881254.2099875094): 89,\n",
        " (726837.2653391528, 880223.7980501355): 180,\n",
        " (726837.3047188624, 880177.2255837487): 80,\n",
        " (726861.1965649182, 880788.5099309301): 183,\n",
        " (726915.8126898436, 878622.9365350427): 22,\n",
        " (726933.0497689467, 880354.5706805073): 181,\n",
        " (726937.4308648093, 876218.6529778391): 125,\n",
        " (726968.7383707959, 880619.7757814601): 184,\n",
        " (726973.7982551971, 880410.2038010688): 187,\n",
        " (726988.2802981931, 880602.3277021656): 185,\n",
        " (726988.3545534427, 880515.0043133543): 186,\n",
        " (727173.23932981, 881242.8576160339): 84,\n",
        " (727176.1898556277, 877796.4961038963): 119,\n",
        " (727205.8584357832, 877137.1632779642): 229,\n",
        " (727211.0288815818, 877022.2590721712): 129,\n",
        " (727266.211192575, 880986.788496025): 192,\n",
        " (727275.7544691876, 881242.9455586546): 83,\n",
        " (727278.6361033127, 880326.9054597275): 217,\n",
        " (727281.5569020961, 880171.782770292): 79,\n",
        " (727294.7967606715, 879511.91558203): 216,\n",
        " (727296.8582650218, 879409.171351687): 63,\n",
        " (727334.0040528476, 875957.0204833085): 163,\n",
        " (727539.364829306, 881243.173217344): 82,\n",
        " (727575.812447696, 878623.5018975852): 20,\n",
        " (727576.385760391, 877963.502146591): 228,\n",
        " (727576.5406451506, 877785.1982233586): 116,\n",
        " (727576.6417801541, 877668.767182152): 226,\n",
        " (727576.8440475768, 877435.9051177741): 225,\n",
        " (727577.2030637657, 877022.575012746): 128,\n",
        " (727585.2275329268, 879025.1976688919): 174,\n",
        " (727589.7806483175, 879403.6030456243): 62,\n",
        " (727592.3245388934, 879506.4458619007): 211,\n",
        " (727593.8158051783, 876362.7841240375): 227,\n",
        " (727597.4306227898, 876219.2181908076): 123,\n",
        " (727602.5458572294, 875951.4312347381): 162,\n",
        " (727608.6451185264, 880166.2440421652): 78,\n",
        " (727612.1201000666, 880315.6362718584): 212,\n",
        " (727627.4680710458, 880975.457793019): 191,\n",
        " (727632.1166232715, 881243.2538402074): 88,\n",
        " (727707.4581540128, 877785.3130594891): 115,\n",
        " (727708.1395699126, 877022.6903725836): 127,\n",
        " (727708.857356897, 876219.3163903549): 122,\n",
        " (727740.5242235027, 879025.3346183386): 173,\n",
        " (727767.8296522219, 881243.3737059644): 87,\n",
        " (727999.8649812295, 879403.9621369608): 61,\n",
        " (728001.6551808394, 879500.8900696734): 209,\n",
        " (728002.920075958, 875940.1386928648): 161,\n",
        " (728013.8428984549, 880160.7775294265): 77,\n",
        " (728016.3319171357, 880304.2649432773): 210,\n",
        " (728027.7789506093, 880964.1656671932): 190,\n",
        " (728103.0766904623, 878623.9643013792): 19,\n",
        " (728118.4654266224, 877785.6735802874): 117,\n",
        " (728168.8971177296, 878415.3183303288): 170,\n",
        " (728367.4578973657, 877785.895088948): 2,\n",
        " (728368.047617978, 877125.8953524104): 0,\n",
        " (728368.1393137584, 877023.2718564296): 1,\n",
        " (728368.7290007939, 876363.2721198621): 213,\n",
        " (728368.8571005939, 876219.8980431916): 124,\n",
        " (728369.1119567839, 875934.6421928697): 160,\n",
        " (728396.0012741444, 878624.2249763781): 18,\n",
        " (728400.5239668713, 879025.916643618): 175,\n",
        " (728405.0725733781, 879398.5006003892): 60,\n",
        " (728406.2354782354, 879495.3593822058): 214,\n",
        " (728414.1589920268, 880155.311818317): 76,\n",
        " (728415.6661212159, 880287.0958135226): 215,\n",
        " (728423.2136251502, 880947.0526569482): 189,\n",
        " (728427.8293947908, 881243.9566372379): 86,\n",
        " (728509.0209412894, 877809.3081254998): 118,\n",
        " (728611.5366856294, 877821.043464844): 113,\n",
        " (728611.8619687525, 877460.1072374567): 112,\n",
        " (728612.0613315826, 877238.8882879419): 111,\n",
        " (728612.255444922, 877023.490910587): 110,\n",
        " (728612.8502061395, 876363.4911785726): 109,\n",
        " (728612.9794082335, 876220.1170900937): 107,\n",
        " (728613.2417032791, 875929.0396895551): 108,\n",
        " (728617.5312762493, 877965.0200030295): 114,\n",
        " (728637.7413567879, 881244.1453633078): 85,\n",
        " (728638.0040168767, 880953.0673137229): 98,\n",
        " (728638.2351531298, 880696.9186611834): 97,\n",
        " (728638.7289297098, 880149.6920919145): 75,\n",
        " (728638.8602499415, 880004.1531330893): 95,\n",
        " (728638.9495469007, 879905.1866464601): 93,\n",
        " (728639.2174338996, 879608.2872126315): 94,\n",
        " (728639.41177965, 879392.8896086445): 59,\n",
        " (728644.2002577812, 878732.9069797237): 96,\n",
        " (728644.987172764, 878624.44867525): 21}"
       ]
      }
     ],
     "prompt_number": 19
    },
    {
     "cell_type": "markdown",
     "metadata": {},
     "source": [
      "#####Attributes for every point pattern\n",
      "\n",
      "1. dist_to_node dict keyed by pointid with the value being a dict in the form {node: distance to node, node: distance to node}\n",
      "2. obs_to_edge dict keyed by edge with the value being a dict in the form {pointID:(x-coord, y-coord), pointID:(x-coord, y-coord), ... }\n",
      "3. obs_to_node\n",
      "4. points geojson like representation of the point pattern.  Includes properties if read with attributes=True\n",
      "5. snapped_coordinates dict keyed by pointid with the value being (x-coord, y-coord)"
     ]
    },
    {
     "cell_type": "markdown",
     "metadata": {},
     "source": [
      "####Counts per edge are important, but should not be precomputed since we have different representations of the network (digitized and graph currently).  (Relatively) Uniform segmentation still needs to be done."
     ]
    },
    {
     "cell_type": "code",
     "collapsed": false,
     "input": [
      "counts = ntw.count_per_edge(ntw.pointpatterns['crimes'].obs_to_edge,\n",
      "                            graph=False)"
     ],
     "language": "python",
     "metadata": {},
     "outputs": [],
     "prompt_number": 20
    },
    {
     "cell_type": "markdown",
     "metadata": {},
     "source": [
      "#####Moran's I using the digitized network"
     ]
    },
    {
     "cell_type": "code",
     "collapsed": false,
     "input": [
      "#Binary Adjacency\n",
      "ntw.contiguityweights(graph=False)\n",
      "#Build the y vector\n",
      "edges = ntw.w.neighbors.keys()\n",
      "y = np.zeros(len(edges))\n",
      "for i, e in enumerate(edges):\n",
      "    if e in counts.keys():\n",
      "        y[i] = counts[e]\n",
      "\n",
      "#Moran's I\n",
      "res = ps.esda.moran.Moran(y, ntw.w, permutations=99)\n",
      "print dir(res)"
     ],
     "language": "python",
     "metadata": {},
     "outputs": [
      {
       "output_type": "stream",
       "stream": "stdout",
       "text": [
        "['EI', 'EI_sim', 'I', 'VI_norm', 'VI_rand', 'VI_sim', '_Moran__calc', '_Moran__moments', '__doc__', '__init__', '__module__', 'n', 'p_norm', 'p_rand', 'p_sim', 'p_z_sim', 'permutations', 'seI_norm', 'seI_rand', 'seI_sim', 'sim', 'w', 'y', 'z', 'z2ss', 'z_norm', 'z_rand', 'z_sim']\n"
       ]
      }
     ],
     "prompt_number": 21
    },
    {
     "cell_type": "markdown",
     "metadata": {},
     "source": [
      "####Moran's I using the graph representation to generate the W\n",
      "\n",
      "Note that we have to regenerate the counts per edge, since the graph will have less edges."
     ]
    },
    {
     "cell_type": "code",
     "collapsed": false,
     "input": [
      "counts = ntw.count_per_edge(ntw.pointpatterns['crimes'].obs_to_edge, graph=True)\n",
      "\n",
      "#Binary Adjacency\n",
      "ntw.contiguityweights(graph=True)\n",
      "\n",
      "#Build the y vector\n",
      "edges = ntw.w.neighbors.keys()\n",
      "y = np.zeros(len(edges))\n",
      "for i, e in enumerate(edges):\n",
      "    if e in counts.keys():\n",
      "        y[i] = counts[e]\n",
      "\n",
      "#Moran's I\n",
      "res = ps.esda.moran.Moran(y, ntw.w, permutations=99)\n",
      "print dir(res)"
     ],
     "language": "python",
     "metadata": {},
     "outputs": [
      {
       "output_type": "stream",
       "stream": "stdout",
       "text": [
        "['EI', 'EI_sim', 'I', 'VI_norm', 'VI_rand', 'VI_sim', '_Moran__calc', '_Moran__moments', '__doc__', '__init__', '__module__', 'n', 'p_norm', 'p_rand', 'p_sim', 'p_z_sim', 'permutations', 'seI_norm', 'seI_rand', 'seI_sim', 'sim', 'w', 'y', 'z', 'z2ss', 'z_norm', 'z_rand', 'z_sim']\n"
       ]
      }
     ],
     "prompt_number": 22
    },
    {
     "cell_type": "code",
     "collapsed": false,
     "input": [
      "import time\n",
      "t1 = time.time()\n",
      "n0 = ntw.allNeighborDistances(ntw.pointpatterns['crimes'])\n",
      "print time.time()-t1"
     ],
     "language": "python",
     "metadata": {},
     "outputs": [
      {
       "output_type": "stream",
       "stream": "stdout",
       "text": [
        "1.04399585724\n"
       ]
      }
     ],
     "prompt_number": 23
    },
    {
     "cell_type": "code",
     "collapsed": false,
     "input": [
      "import time\n",
      "t1 = time.time()\n",
      "n1 = ntw.allNeighborDistances1(ntw.pointpatterns['crimes'])\n",
      "print time.time()-t1"
     ],
     "language": "python",
     "metadata": {},
     "outputs": [
      {
       "output_type": "stream",
       "stream": "stdout",
       "text": [
        "0.804588079453\n"
       ]
      }
     ],
     "prompt_number": 24
    },
    {
     "cell_type": "code",
     "collapsed": false,
     "input": [
      "n0[0,0:5]"
     ],
     "language": "python",
     "metadata": {},
     "outputs": [
      {
       "metadata": {},
       "output_type": "pyout",
       "prompt_number": 25,
       "text": [
        "array([           nan,  3105.1894797 ,   526.27926592,    99.01708008,\n",
        "         392.45394228])"
       ]
      }
     ],
     "prompt_number": 25
    },
    {
     "cell_type": "code",
     "collapsed": false,
     "input": [
      "n1[0,0:5]"
     ],
     "language": "python",
     "metadata": {},
     "outputs": [
      {
       "metadata": {},
       "output_type": "pyout",
       "prompt_number": 26,
       "text": [
        "array([           nan,  3105.1894797 ,   526.27926592,    99.01708008,\n",
        "         392.45394228])"
       ]
      }
     ],
     "prompt_number": 26
    },
    {
     "cell_type": "markdown",
     "metadata": {},
     "source": [
      "####Simulate a point pattern on the network\n",
      "\n",
      "Need to supply a count of the number of points and a distirbution (default is uniform).  Generally this will not be called by the user, since the simulation will be used for Monte Carlo permutation."
     ]
    },
    {
     "cell_type": "code",
     "collapsed": false,
     "input": [
      "npts = ntw.pointpatterns['crimes'].npoints\n",
      "sim = ntw.simulate_observations(npts)\n",
      "sim"
     ],
     "language": "python",
     "metadata": {},
     "outputs": [
      {
       "metadata": {},
       "output_type": "pyout",
       "prompt_number": 9,
       "text": [
        "<network.SimulatedPointPattern instance at 0x7f45262a6ea8>"
       ]
      }
     ],
     "prompt_number": 9
    },
    {
     "cell_type": "markdown",
     "metadata": {},
     "source": [
      "####Create a nearest neighbor matrix using the crimes point pattern\n",
      "\n",
      "Right now, both the G and K functions generate a full distance matrix.  This is because, I know that the full generation is correct and I believe that the truncated generated, e.g. nearest neighbor, has a big."
     ]
    },
    {
     "cell_type": "code",
     "collapsed": false,
     "input": [
      "import time\n",
      "t1 = time.time()\n",
      "nearest = ntw.allneighbordistances(ntw.pointpatterns['crimes'])\n",
      "t2 = time.time()\n",
      "\n",
      "print t2 - t1"
     ],
     "language": "python",
     "metadata": {},
     "outputs": [
      {
       "output_type": "stream",
       "stream": "stdout",
       "text": [
        "1.00886392593\n"
       ]
      }
     ],
     "prompt_number": 12
    },
    {
     "cell_type": "markdown",
     "metadata": {},
     "source": [
      "###G-function\n",
      "\n",
      "Each simulation requires ~ 3 seconds..."
     ]
    },
    {
     "cell_type": "code",
     "collapsed": false,
     "input": [
      "gres = analysis.NetworkG(ntw,\n",
      "                         ntw.pointpatterns['crimes'],\n",
      "                         permutations = 99)"
     ],
     "language": "python",
     "metadata": {},
     "outputs": [],
     "prompt_number": 13
    },
    {
     "cell_type": "code",
     "collapsed": false,
     "input": [
      "figsize(5,5)\n",
      "plot(gres.xaxis, gres.observed, 'b-', linewidth=1.5, label='Observed')\n",
      "plot(gres.xaxis, gres.upperenvelope, 'r--', label='Upper')\n",
      "plot(gres.xaxis, gres.lowerenvelope, 'k--', label='Lower')\n",
      "legend(loc='best')"
     ],
     "language": "python",
     "metadata": {},
     "outputs": [
      {
       "metadata": {},
       "output_type": "pyout",
       "prompt_number": 14,
       "text": [
        "<matplotlib.legend.Legend at 0x7fa732cff8d0>"
       ]
      },
      {
       "metadata": {},
       "output_type": "display_data",
       "png": "[encoded data removed]",
       "text": [
        "<matplotlib.figure.Figure at 0x7fa7586ab550>"
       ]
      }
     ],
     "prompt_number": 14
    },
    {
     "cell_type": "markdown",
     "metadata": {},
     "source": [
      "###K-function"
     ]
    },
    {
     "cell_type": "code",
     "collapsed": false,
     "input": [
      "kres = analysis.NetworkK(ntw,\n",
      "                         ntw.pointpatterns['crimes'],\n",
      "                         permutations=99)"
     ],
     "language": "python",
     "metadata": {},
     "outputs": [
      {
       "output_type": "stream",
       "stream": "stderr",
       "text": [
        "analysis.py:115: RuntimeWarning: invalid value encountered in less_equal\n",
        "  y[i] = len(nearest[nearest <= s])\n"
       ]
      }
     ],
     "prompt_number": 15
    },
    {
     "cell_type": "code",
     "collapsed": false,
     "input": [
      "figsize(5,5)\n",
      "plot(kres.xaxis, kres.observed, 'b-', linewidth=1.5, label='Observed')\n",
      "plot(kres.xaxis, kres.upperenvelope, 'r--', label='Upper')\n",
      "plot(kres.xaxis, kres.lowerenvelope, 'k--', label='Lower')\n",
      "legend(loc='best')"
     ],
     "language": "python",
     "metadata": {},
     "outputs": [
      {
       "metadata": {},
       "output_type": "pyout",
       "prompt_number": 16,
       "text": [
        "<matplotlib.legend.Legend at 0x7fa733983890>"
       ]
      },
      {
       "metadata": {},
       "output_type": "display_data",
       "png": "[encoded data removed]",
       "text": [
        "<matplotlib.figure.Figure at 0x7fa7586ab410>"
       ]
      }
     ],
     "prompt_number": 16
    },
    {
     "cell_type": "code",
     "collapsed": false,
     "input": [],
     "language": "python",
     "metadata": {},
     "outputs": []
    }
   ],
   "metadata": {}
  }
 ]
}