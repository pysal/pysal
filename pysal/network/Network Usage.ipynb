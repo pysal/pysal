{
 "metadata": {
  "name": "",
  "signature": "sha256:d2d205642619b60b07d0508fe0981760bd43cd8e480276a64a5037015cad23a3"
 },
 "nbformat": 3,
 "nbformat_minor": 0,
 "worksheets": [
  {
   "cells": [
    {
     "cell_type": "code",
     "collapsed": false,
     "input": [
      "%pylab inline\n",
      "import pysal as ps\n",
      "\n",
      "#Lots of reload for dev.\n",
      "try:\n",
      "    reload(network)\n",
      "except:\n",
      "    import network\n",
      "    \n",
      "try:\n",
      "    reload(analysis)\n",
      "except:\n",
      "    import analysis\n",
      "    \n",
      "\n",
      "try:\n",
      "    reload(util)\n",
      "except:\n",
      "    import util"
     ],
     "language": "python",
     "metadata": {},
     "outputs": [
      {
       "output_type": "stream",
       "stream": "stdout",
       "text": [
        "Populating the interactive namespace from numpy and matplotlib\n"
       ]
      }
     ],
     "prompt_number": 89
    },
    {
     "cell_type": "code",
     "collapsed": false,
     "input": [
      "ntw = network.Network('geodanet/streets.shp')\n",
      "\n",
      "#Snap a point pattern to the network\n",
      "ntw.snapobservations('geodanet/crimes.shp', 'crimes', attribute=True)\n",
      "ntw.snapobservations('geodanet/schools.shp', 'schools', attribute=False)"
     ],
     "language": "python",
     "metadata": {},
     "outputs": [],
     "prompt_number": 90
    },
    {
     "cell_type": "markdown",
     "metadata": {},
     "source": [
      "####A network is composed of a single topological representation of a road and $n$ point patterns which are snapped to the network."
     ]
    },
    {
     "cell_type": "code",
     "collapsed": false,
     "input": [
      "ntw.pointpatterns"
     ],
     "language": "python",
     "metadata": {},
     "outputs": [
      {
       "metadata": {},
       "output_type": "pyout",
       "prompt_number": 74,
       "text": [
        "{'crimes': <network.PointPattern instance at 0x10a4a3878>,\n",
        " 'schools': <network.PointPattern instance at 0x10a4a33f8>}"
       ]
      }
     ],
     "prompt_number": 74
    },
    {
     "cell_type": "code",
     "collapsed": false,
     "input": [
      "dir(ntw.pointpatterns['crimes'])"
     ],
     "language": "python",
     "metadata": {},
     "outputs": [
      {
       "metadata": {},
       "output_type": "pyout",
       "prompt_number": 75,
       "text": [
        "['__doc__',\n",
        " '__init__',\n",
        " '__module__',\n",
        " 'dist_to_node',\n",
        " 'npoints',\n",
        " 'obs_to_edge',\n",
        " 'obs_to_node',\n",
        " 'points',\n",
        " 'snapped_coordinates']"
       ]
      }
     ],
     "prompt_number": 75
    },
    {
     "cell_type": "markdown",
     "metadata": {},
     "source": [
      "#####Attributes for every point pattern\n",
      "\n",
      "1. dist_to_node dict keyed by pointid with the value being a dict in the form {node: distance to node, node: distance to node}\n",
      "2. obs_to_edge dict keyed by edge with the value being a dict in the form {pointID:(x-coord, y-coord), pointID:(x-coord, y-coord), ... }\n",
      "3. obs_to_node\n",
      "4. points geojson like representation of the point pattern.  Includes properties if read with attributes=True\n",
      "5. snapped_coordinates dict keyed by pointid with the value being (x-coord, y-coord)"
     ]
    },
    {
     "cell_type": "markdown",
     "metadata": {},
     "source": [
      "####Counts per edge are important, but should not be precomputed since we have different representations of the network (digitized and graph currently).  (Relatively) Uniform segmentation still needs to be done."
     ]
    },
    {
     "cell_type": "code",
     "collapsed": false,
     "input": [
      "counts = ntw.count_per_edge(ntw.pointpatterns['crimes'].obs_to_edge,\n",
      "                            graph=False)"
     ],
     "language": "python",
     "metadata": {},
     "outputs": [],
     "prompt_number": 84
    },
    {
     "cell_type": "markdown",
     "metadata": {},
     "source": [
      "#####Moran's I using the digitized network"
     ]
    },
    {
     "cell_type": "code",
     "collapsed": false,
     "input": [
      "#Binary Adjacency\n",
      "ntw.contiguityweights(graph=False)\n",
      "#Build the y vector\n",
      "edges = ntw.w.neighbors.keys()\n",
      "y = np.zeros(len(edges))\n",
      "for i, e in enumerate(edges):\n",
      "    if e in counts.keys():\n",
      "        y[i] = counts[e]\n",
      "\n",
      "#Moran's I\n",
      "res = ps.esda.moran.Moran(y, ntw.w, permutations=99)\n",
      "print dir(res)"
     ],
     "language": "python",
     "metadata": {},
     "outputs": [
      {
       "output_type": "stream",
       "stream": "stdout",
       "text": [
        "['EI', 'EI_sim', 'I', 'VI_norm', 'VI_rand', 'VI_sim', '_Moran__calc', '_Moran__moments', '__doc__', '__init__', '__module__', 'n', 'p_norm', 'p_rand', 'p_sim', 'p_z_sim', 'permutations', 'seI_norm', 'seI_rand', 'seI_sim', 'sim', 'w', 'y', 'z', 'z2ss', 'z_norm', 'z_rand', 'z_sim']\n"
       ]
      }
     ],
     "prompt_number": 94
    },
    {
     "cell_type": "markdown",
     "metadata": {},
     "source": [
      "####Moran's I using the graph representation to generate the W\n",
      "\n",
      "Note that we have to regenerate the counts per edge, since the graph will have less edges."
     ]
    },
    {
     "cell_type": "code",
     "collapsed": false,
     "input": [
      "counts = ntw.count_per_edge(ntw.pointpatterns['crimes'].obs_to_edge, graph=True)\n",
      "\n",
      "#Binary Adjacency\n",
      "ntw.contiguityweights(graph=True)\n",
      "\n",
      "#Build the y vector\n",
      "edges = ntw.w.neighbors.keys()\n",
      "y = np.zeros(len(edges))\n",
      "for i, e in enumerate(edges):\n",
      "    if e in counts.keys():\n",
      "        y[i] = counts[e]\n",
      "\n",
      "#Moran's I\n",
      "res = ps.esda.moran.Moran(y, ntw.w, permutations=99)\n",
      "print dir(res)"
     ],
     "language": "python",
     "metadata": {},
     "outputs": [
      {
       "output_type": "stream",
       "stream": "stdout",
       "text": [
        "['EI', 'EI_sim', 'I', 'VI_norm', 'VI_rand', 'VI_sim', '_Moran__calc', '_Moran__moments', '__doc__', '__init__', '__module__', 'n', 'p_norm', 'p_rand', 'p_sim', 'p_z_sim', 'permutations', 'seI_norm', 'seI_rand', 'seI_sim', 'sim', 'w', 'y', 'z', 'z2ss', 'z_norm', 'z_rand', 'z_sim']\n"
       ]
      }
     ],
     "prompt_number": 95
    },
    {
     "cell_type": "code",
     "collapsed": false,
     "input": [],
     "language": "python",
     "metadata": {},
     "outputs": []
    },
    {
     "cell_type": "markdown",
     "metadata": {},
     "source": [
      "####Simulate a point pattern on the network\n",
      "\n",
      "Need to supply a count of the number of points and a distirbution (default is uniform).  Generally this will not be called by the user, since the simulation will be used for Monte Carlo permutation."
     ]
    },
    {
     "cell_type": "code",
     "collapsed": false,
     "input": [
      "npts = ntw.pointpatterns['crimes'].npoints\n",
      "sim = ntw.simulate_observations(npts)\n",
      "sim"
     ],
     "language": "python",
     "metadata": {},
     "outputs": [
      {
       "metadata": {},
       "output_type": "pyout",
       "prompt_number": 21,
       "text": [
        "<network.SimulatedPointPattern instance at 0x1094b6c68>"
       ]
      }
     ],
     "prompt_number": 21
    },
    {
     "cell_type": "markdown",
     "metadata": {},
     "source": [
      "####Create a nearest neighbor matrix using the crimes point pattern\n",
      "\n",
      "Right now, both the G and K functions generate a full distance matrix.  This is because, I know that the full generation is correct and I believe that the truncated generated, e.g. nearest neighbor, has a big."
     ]
    },
    {
     "cell_type": "code",
     "collapsed": false,
     "input": [
      "import time\n",
      "t1 = time.time()\n",
      "nearest = ntw.allneighbordistances(ntw.pointpatterns['crimes'])\n",
      "t2 = time.time()\n",
      "\n",
      "print t2 - t1"
     ],
     "language": "python",
     "metadata": {},
     "outputs": [
      {
       "output_type": "stream",
       "stream": "stdout",
       "text": [
        "3.05432891846\n"
       ]
      }
     ],
     "prompt_number": 22
    },
    {
     "cell_type": "markdown",
     "metadata": {},
     "source": [
      "###G-function\n",
      "\n",
      "Each simulation requires ~ 3 seconds..."
     ]
    },
    {
     "cell_type": "code",
     "collapsed": false,
     "input": [
      "gres = analysis.NetworkG(ntw,\n",
      "                         ntw.pointpatterns['crimes'],\n",
      "                         permutations = 99)"
     ],
     "language": "python",
     "metadata": {},
     "outputs": [],
     "prompt_number": 23
    },
    {
     "cell_type": "code",
     "collapsed": false,
     "input": [
      "figsize(5,5)\n",
      "plot(gres.xaxis, gres.observed, 'b-', linewidth=1.5, label='Observed')\n",
      "plot(gres.xaxis, gres.upperenvelope, 'r--', label='Upper')\n",
      "plot(gres.xaxis, gres.lowerenvelope, 'k--', label='Lower')\n",
      "legend(loc='best')"
     ],
     "language": "python",
     "metadata": {},
     "outputs": [
      {
       "metadata": {},
       "output_type": "pyout",
       "prompt_number": 24,
       "text": [
        "<matplotlib.legend.Legend at 0x109e18390>"
       ]
      },
      {
       "metadata": {},
       "output_type": "display_data",
       "png": "[encoded data removed]",
       "text": [
        "<matplotlib.figure.Figure at 0x1093f0850>"
       ]
      }
     ],
     "prompt_number": 24
    },
    {
     "cell_type": "markdown",
     "metadata": {},
     "source": [
      "###K-function"
     ]
    },
    {
     "cell_type": "code",
     "collapsed": false,
     "input": [
      "kres = analysis.NetworkK(ntw,\n",
      "                         ntw.pointpatterns['crimes'],\n",
      "                         permutations=99)"
     ],
     "language": "python",
     "metadata": {},
     "outputs": [
      {
       "output_type": "stream",
       "stream": "stderr",
       "text": [
        "analysis.py:115: RuntimeWarning: invalid value encountered in less_equal\n",
        "  for i, s in enumerate(x):\n"
       ]
      }
     ],
     "prompt_number": 25
    },
    {
     "cell_type": "code",
     "collapsed": false,
     "input": [
      "figsize(5,5)\n",
      "plot(kres.xaxis, kres.observed, 'b-', linewidth=1.5, label='Observed')\n",
      "plot(kres.xaxis, kres.upperenvelope, 'r--', label='Upper')\n",
      "plot(kres.xaxis, kres.lowerenvelope, 'k--', label='Lower')\n",
      "legend(loc='best')"
     ],
     "language": "python",
     "metadata": {},
     "outputs": [
      {
       "metadata": {},
       "output_type": "pyout",
       "prompt_number": 26,
       "text": [
        "<matplotlib.legend.Legend at 0x107cb3ed0>"
       ]
      },
      {
       "metadata": {},
       "output_type": "display_data",
       "png": "[encoded data removed]",
       "text": [
        "<matplotlib.figure.Figure at 0x109e18ed0>"
       ]
      }
     ],
     "prompt_number": 26
    },
    {
     "cell_type": "code",
     "collapsed": false,
     "input": [],
     "language": "python",
     "metadata": {},
     "outputs": []
    }
   ],
   "metadata": {}
  }
 ]
}