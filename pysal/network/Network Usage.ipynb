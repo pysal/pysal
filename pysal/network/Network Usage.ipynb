{
 "metadata": {
  "name": "",
  "signature": "sha256:f84f99283fedb1f49957c3de28f9805d33dfec82e1d8b51898e7f34ccb30c8df"
 },
 "nbformat": 3,
 "nbformat_minor": 0,
 "worksheets": [
  {
   "cells": [
    {
     "cell_type": "code",
     "collapsed": false,
     "input": [
      "%pylab inline\n",
      "import pysal as ps"
     ],
     "language": "python",
     "metadata": {},
     "outputs": [
      {
       "output_type": "stream",
       "stream": "stdout",
       "text": [
        "Populating the interactive namespace from numpy and matplotlib\n"
       ]
      }
     ],
     "prompt_number": 13
    },
    {
     "cell_type": "code",
     "collapsed": false,
     "input": [
      "ntw = ps.network.Network(ps.examples.get_path('geodanet/streets.shp'))\n",
      "\n",
      "#Snap a point pattern to the network\n",
      "ntw.snapobservations(ps.examples.get_path('geodanet/crimes.shp'), 'crimes', attribute=True)\n",
      "ntw.snapobservations(ps.examples.get_path('geodanet/schools.shp'), 'schools', attribute=False)"
     ],
     "language": "python",
     "metadata": {},
     "outputs": [],
     "prompt_number": 14
    },
    {
     "cell_type": "markdown",
     "metadata": {},
     "source": [
      "####A network is composed of a single topological representation of a road and $n$ point patterns which are snapped to the network."
     ]
    },
    {
     "cell_type": "code",
     "collapsed": false,
     "input": [
      "ntw.pointpatterns"
     ],
     "language": "python",
     "metadata": {},
     "outputs": [
      {
       "metadata": {},
       "output_type": "pyout",
       "prompt_number": 15,
       "text": [
        "{'crimes': <pysal.network.network.PointPattern instance at 0x1091bb7e8>,\n",
        " 'schools': <pysal.network.network.PointPattern instance at 0x10941eab8>}"
       ]
      }
     ],
     "prompt_number": 15
    },
    {
     "cell_type": "code",
     "collapsed": false,
     "input": [
      "dir(ntw.pointpatterns['crimes'])"
     ],
     "language": "python",
     "metadata": {},
     "outputs": [
      {
       "metadata": {},
       "output_type": "pyout",
       "prompt_number": 16,
       "text": [
        "['__doc__',\n",
        " '__init__',\n",
        " '__module__',\n",
        " 'dist_to_node',\n",
        " 'npoints',\n",
        " 'obs_to_edge',\n",
        " 'obs_to_node',\n",
        " 'points',\n",
        " 'snapped_coordinates']"
       ]
      }
     ],
     "prompt_number": 16
    },
    {
     "cell_type": "markdown",
     "metadata": {},
     "source": [
      "#####Attributes for every point pattern\n",
      "\n",
      "1. dist_to_node dict keyed by pointid with the value being a dict in the form {node: distance to node, node: distance to node}\n",
      "2. obs_to_edge dict keyed by edge with the value being a dict in the form {pointID:(x-coord, y-coord), pointID:(x-coord, y-coord), ... }\n",
      "3. obs_to_node\n",
      "4. points geojson like representation of the point pattern.  Includes properties if read with attributes=True\n",
      "5. snapped_coordinates dict keyed by pointid with the value being (x-coord, y-coord)"
     ]
    },
    {
     "cell_type": "markdown",
     "metadata": {},
     "source": [
      "####Counts per edge are important, but should not be precomputed since we have different representations of the network (digitized and graph currently).  (Relatively) Uniform segmentation still needs to be done."
     ]
    },
    {
     "cell_type": "code",
     "collapsed": false,
     "input": [
      "counts = ntw.count_per_edge(ntw.pointpatterns['crimes'].obs_to_edge,\n",
      "                            graph=False)"
     ],
     "language": "python",
     "metadata": {},
     "outputs": [],
     "prompt_number": 17
    },
    {
     "cell_type": "markdown",
     "metadata": {},
     "source": [
      "#####Moran's I using the digitized network"
     ]
    },
    {
     "cell_type": "code",
     "collapsed": false,
     "input": [
      "#Binary Adjacency\n",
      "ntw.contiguityweights(graph=False)\n",
      "#Build the y vector\n",
      "edges = ntw.w.neighbors.keys()\n",
      "y = np.zeros(len(edges))\n",
      "for i, e in enumerate(edges):\n",
      "    if e in counts.keys():\n",
      "        y[i] = counts[e]\n",
      "\n",
      "#Moran's I\n",
      "res = ps.esda.moran.Moran(y, ntw.w, permutations=99)\n",
      "print dir(res)"
     ],
     "language": "python",
     "metadata": {},
     "outputs": [
      {
       "output_type": "stream",
       "stream": "stdout",
       "text": [
        "['EI', 'EI_sim', 'I', 'VI_norm', 'VI_rand', 'VI_sim', '_Moran__calc', '_Moran__moments', '__doc__', '__init__', '__module__', 'n', 'p_norm', 'p_rand', 'p_sim', 'p_z_sim', 'permutations', 'seI_norm', 'seI_rand', 'seI_sim', 'sim', 'w', 'y', 'z', 'z2ss', 'z_norm', 'z_rand', 'z_sim']\n"
       ]
      }
     ],
     "prompt_number": 18
    },
    {
     "cell_type": "markdown",
     "metadata": {},
     "source": [
      "####Moran's I using the graph representation to generate the W\n",
      "\n",
      "Note that we have to regenerate the counts per edge, since the graph will have less edges."
     ]
    },
    {
     "cell_type": "code",
     "collapsed": false,
     "input": [
      "counts = ntw.count_per_edge(ntw.pointpatterns['crimes'].obs_to_edge, graph=True)\n",
      "\n",
      "#Binary Adjacency\n",
      "ntw.contiguityweights(graph=True)\n",
      "\n",
      "#Build the y vector\n",
      "edges = ntw.w.neighbors.keys()\n",
      "y = np.zeros(len(edges))\n",
      "for i, e in enumerate(edges):\n",
      "    if e in counts.keys():\n",
      "        y[i] = counts[e]\n",
      "\n",
      "#Moran's I\n",
      "res = ps.esda.moran.Moran(y, ntw.w, permutations=99)\n",
      "print dir(res)"
     ],
     "language": "python",
     "metadata": {},
     "outputs": [
      {
       "output_type": "stream",
       "stream": "stdout",
       "text": [
        "['EI', 'EI_sim', 'I', 'VI_norm', 'VI_rand', 'VI_sim', '_Moran__calc', '_Moran__moments', '__doc__', '__init__', '__module__', 'n', 'p_norm', 'p_rand', 'p_sim', 'p_z_sim', 'permutations', 'seI_norm', 'seI_rand', 'seI_sim', 'sim', 'w', 'y', 'z', 'z2ss', 'z_norm', 'z_rand', 'z_sim']\n"
       ]
      }
     ],
     "prompt_number": 19
    },
    {
     "cell_type": "markdown",
     "metadata": {},
     "source": [
      "####Simulate a point pattern on the network\n",
      "\n",
      "Need to supply a count of the number of points and a distirbution (default is uniform).  Generally this will not be called by the user, since the simulation will be used for Monte Carlo permutation."
     ]
    },
    {
     "cell_type": "code",
     "collapsed": false,
     "input": [
      "npts = ntw.pointpatterns['crimes'].npoints\n",
      "sim = ntw.simulate_observations(npts)\n",
      "sim"
     ],
     "language": "python",
     "metadata": {},
     "outputs": [
      {
       "metadata": {},
       "output_type": "pyout",
       "prompt_number": 20,
       "text": [
        "<pysal.network.network.SimulatedPointPattern instance at 0x1096026c8>"
       ]
      }
     ],
     "prompt_number": 20
    },
    {
     "cell_type": "markdown",
     "metadata": {},
     "source": [
      "####Create a nearest neighbor matrix using the crimes point pattern\n",
      "\n",
      "Right now, both the G and K functions generate a full distance matrix.  This is because, I know that the full generation is correct and I believe that the truncated generated, e.g. nearest neighbor, has a big."
     ]
    },
    {
     "cell_type": "code",
     "collapsed": false,
     "input": [
      "import time\n",
      "t1 = time.time()\n",
      "nearest = ntw.allneighbordistances(ntw.pointpatterns['crimes'])\n",
      "t2 = time.time()\n",
      "\n",
      "print t2 - t1"
     ],
     "language": "python",
     "metadata": {},
     "outputs": [
      {
       "output_type": "stream",
       "stream": "stdout",
       "text": [
        "1.8944671154\n"
       ]
      }
     ],
     "prompt_number": 21
    },
    {
     "cell_type": "markdown",
     "metadata": {},
     "source": [
      "###G-function\n",
      "\n",
      "Each simulation requires ~ 3 seconds on an old air."
     ]
    },
    {
     "cell_type": "code",
     "collapsed": false,
     "input": [
      "gres = ntw.NetworkG(ntw.pointpatterns['crimes'],permutations = 99)"
     ],
     "language": "python",
     "metadata": {},
     "outputs": [],
     "prompt_number": 22
    },
    {
     "cell_type": "code",
     "collapsed": false,
     "input": [
      "figsize(5,5)\n",
      "plot(gres.xaxis, gres.observed, 'b-', linewidth=1.5, label='Observed')\n",
      "plot(gres.xaxis, gres.upperenvelope, 'r--', label='Upper')\n",
      "plot(gres.xaxis, gres.lowerenvelope, 'k--', label='Lower')\n",
      "legend(loc='best')"
     ],
     "language": "python",
     "metadata": {},
     "outputs": [
      {
       "metadata": {},
       "output_type": "pyout",
       "prompt_number": 23,
       "text": [
        "<matplotlib.legend.Legend at 0x10a9f8c50>"
       ]
      },
      {
       "metadata": {},
       "output_type": "display_data",
       "png": "[encoded data removed]",
       "text": [
        "<matplotlib.figure.Figure at 0x10940f0d0>"
       ]
      }
     ],
     "prompt_number": 23
    },
    {
     "cell_type": "heading",
     "level": 3,
     "metadata": {},
     "source": [
      "F-Function"
     ]
    },
    {
     "cell_type": "code",
     "collapsed": false,
     "input": [
      "fres = ntw.NetworkF(ntw.pointpatterns['crimes'], permutations=99)"
     ],
     "language": "python",
     "metadata": {},
     "outputs": [],
     "prompt_number": 24
    },
    {
     "cell_type": "code",
     "collapsed": false,
     "input": [
      "figsize(5,5)\n",
      "plot(fres.xaxis, fres.observed, 'b-', linewidth=1.5, label='Observed')\n",
      "plot(fres.xaxis, fres.upperenvelope, 'r--', label='Upper')\n",
      "plot(fres.xaxis, fres.lowerenvelope, 'k--', label='Lower')\n",
      "legend(loc='best')"
     ],
     "language": "python",
     "metadata": {},
     "outputs": [
      {
       "metadata": {},
       "output_type": "pyout",
       "prompt_number": 25,
       "text": [
        "<matplotlib.legend.Legend at 0x107c6ec50>"
       ]
      },
      {
       "metadata": {},
       "output_type": "display_data",
       "png": "[encoded data removed]",
       "text": [
        "<matplotlib.figure.Figure at 0x1090221d0>"
       ]
      }
     ],
     "prompt_number": 25
    },
    {
     "cell_type": "code",
     "collapsed": false,
     "input": [
      "plot(fres.xaxis, fres.observed, 'b-', linewidth=1.5, label='F Observed')\n",
      "plot(gres.xaxis, gres.observed, 'r-', linewidth=1.5, label='G Observed')\n",
      "legend(loc='best')"
     ],
     "language": "python",
     "metadata": {},
     "outputs": [
      {
       "metadata": {},
       "output_type": "pyout",
       "prompt_number": 26,
       "text": [
        "<matplotlib.legend.Legend at 0x107ca7590>"
       ]
      },
      {
       "metadata": {},
       "output_type": "display_data",
       "png": "[encoded data removed]",
       "text": [
        "<matplotlib.figure.Figure at 0x10924df10>"
       ]
      }
     ],
     "prompt_number": 26
    },
    {
     "cell_type": "markdown",
     "metadata": {},
     "source": [
      "###K-function"
     ]
    },
    {
     "cell_type": "code",
     "collapsed": false,
     "input": [
      "kres = ntw.NetworkK(ntw.pointpatterns['crimes'],permutations=99)"
     ],
     "language": "python",
     "metadata": {},
     "outputs": [
      {
       "output_type": "stream",
       "stream": "stderr",
       "text": [
        "/Users/Jay/github/pysal/pysal/network/analysis.py:185: RuntimeWarning: invalid value encountered in less_equal\n",
        "  y[i] = len(nearest[nearest <= s])\n"
       ]
      }
     ],
     "prompt_number": 27
    },
    {
     "cell_type": "code",
     "collapsed": false,
     "input": [
      "figsize(5,5)\n",
      "plot(kres.xaxis, kres.observed, 'b-', linewidth=1.5, label='Observed')\n",
      "plot(kres.xaxis, kres.upperenvelope, 'r--', label='Upper')\n",
      "plot(kres.xaxis, kres.lowerenvelope, 'k--', label='Lower')\n",
      "legend(loc='best')"
     ],
     "language": "python",
     "metadata": {},
     "outputs": [
      {
       "metadata": {},
       "output_type": "pyout",
       "prompt_number": 28,
       "text": [
        "<matplotlib.legend.Legend at 0x10a615310>"
       ]
      },
      {
       "metadata": {},
       "output_type": "display_data",
       "png": "[encoded data removed]",
       "text": [
        "<matplotlib.figure.Figure at 0x109d33190>"
       ]
      }
     ],
     "prompt_number": 28
    },
    {
     "cell_type": "heading",
     "level": 3,
     "metadata": {},
     "source": [
      "Save / Load a Network"
     ]
    },
    {
     "cell_type": "code",
     "collapsed": false,
     "input": [
      "ntw.savenetwork('test.pkl')"
     ],
     "language": "python",
     "metadata": {},
     "outputs": [],
     "prompt_number": 29
    },
    {
     "cell_type": "code",
     "collapsed": false,
     "input": [
      "ntw2 = ps.network.Network.loadnetwork('test.pkl')"
     ],
     "language": "python",
     "metadata": {},
     "outputs": [],
     "prompt_number": 30
    }
   ],
   "metadata": {}
  }
 ]
}