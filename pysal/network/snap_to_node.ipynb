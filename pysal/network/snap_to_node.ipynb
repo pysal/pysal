{
 "metadata": {
  "name": "snap_to_node"
 },
 "nbformat": 3,
 "nbformat_minor": 0,
 "worksheets": [
  {
   "cells": [
    {
     "cell_type": "code",
     "collapsed": false,
     "input": [
      "import pysal as ps\n",
      "\n",
      "#Setup to read the shapefile and generate the WED\n",
      "import net_shp_io\n",
      "try:\n",
      "    reload(wed)\n",
      "except:\n",
      "    import wed\n",
      "\n",
      "file_name = \"streets_net.shp\"\n",
      "coords, edges = net_shp_io.reader(file_name)\n",
      "coords1, edges1 = net_shp_io.reader(file_name, doubleEdges=False)\n",
      "wed_streets = wed.extract_wed(edges, coords)\n",
      "\n",
      "#Read in the new shapefile of sample data to get both geometry and attribute.\n",
      "geomshp = ps.open('../examples/street_net_pts.shp')\n",
      "geoms = [geom for geom in geomshp]\n",
      "geomshp.close()\n",
      "\n",
      "dbfshp = ps.open('../examples/street_net_pts.dbf')\n",
      "attribs = [row[0] for row in dbfshp] #This is super boring, just a list of integers from 0 to 302.\n",
      "dbfshp.close()\n",
      "\n",
      "#Setup a dictionary that stores node_id:[observations values]\n",
      "obs_to_node = wed.assign_points_to_nodes(geoms,attribs,wed_streets)\n",
      "\n",
      "#return obs_to_node\n",
      "print obs_to_node"
     ],
     "language": "python",
     "metadata": {},
     "outputs": [
      {
       "output_type": "stream",
       "stream": "stdout",
       "text": [
        "{0: set([13, 55]), 1: set([51]), 2: set([242]), 3: set([272, 22]), 4: set([]), 5: set([245]), 6: set([]), 7: set([236]), 8: set([]), 9: set([]), 10: set([]), 11: set([8, 263, 111]), 12: set([250, 37]), 13: set([289, 196]), 14: set([185]), 15: set([]), 16: set([]), 17: set([43, 204]), 18: set([]), 19: set([33, 247]), 20: set([112, 195]), 21: set([]), 22: set([296, 82, 6, 39]), 23: set([]), 24: set([]), 25: set([59]), 26: set([]), 27: set([]), 28: set([62]), 29: set([]), 30: set([]), 31: set([]), 32: set([]), 33: set([275]), 34: set([]), 35: set([206]), 36: set([285, 223]), 37: set([]), 38: set([293]), 39: set([]), 40: set([]), 41: set([281]), 42: set([212, 116, 197, 95]), 43: set([75]), 44: set([]), 45: set([238]), 46: set([]), 47: set([72, 200, 260]), 48: set([]), 49: set([273]), 50: set([88, 251, 284]), 51: set([188, 164, 292]), 52: set([121, 102]), 53: set([68, 31]), 54: set([34]), 55: set([35]), 56: set([]), 57: set([211]), 58: set([144]), 59: set([38]), 60: set([288]), 61: set([]), 62: set([]), 63: set([]), 64: set([246]), 65: set([]), 66: set([257, 50]), 67: set([225, 198, 103, 53, 86, 248, 153]), 68: set([218]), 69: set([155, 158]), 70: set([73, 5, 113]), 71: set([280, 241, 125]), 72: set([89]), 73: set([115, 117]), 74: set([]), 75: set([]), 76: set([]), 77: set([179, 76, 207]), 78: set([36]), 79: set([57]), 80: set([40, 119]), 81: set([165, 109, 85, 79]), 82: set([]), 83: set([]), 84: set([2]), 85: set([]), 86: set([45]), 87: set([]), 88: set([]), 89: set([41]), 90: set([]), 91: set([230]), 92: set([162]), 93: set([168]), 94: set([]), 95: set([]), 96: set([270, 182]), 97: set([83]), 98: set([]), 99: set([224]), 100: set([141]), 101: set([]), 102: set([3]), 103: set([12]), 104: set([220]), 105: set([266]), 106: set([]), 107: set([]), 108: set([]), 109: set([]), 110: set([243]), 111: set([]), 112: set([128, 137, 249]), 113: set([277]), 114: set([178, 69, 110, 23]), 115: set([93]), 116: set([]), 117: set([169, 42]), 118: set([167]), 119: set([120, 98, 77]), 120: set([65, 262, 190, 233]), 121: set([29]), 122: set([214, 135]), 123: set([]), 124: set([]), 125: set([294]), 126: set([19]), 127: set([106, 21]), 128: set([48, 139, 295]), 129: set([213]), 130: set([264, 217]), 131: set([150]), 132: set([186]), 133: set([]), 134: set([265, 156, 286, 46]), 135: set([100]), 136: set([176, 99, 151]), 137: set([64]), 138: set([138]), 139: set([131, 101, 235, 15, 18, 180]), 140: set([26, 143, 127]), 141: set([124, 174]), 142: set([96, 160, 146, 253]), 143: set([90, 268]), 144: set([]), 145: set([291, 91, 187, 269]), 146: set([16, 232, 258]), 147: set([71]), 148: set([256, 145, 114, 239]), 149: set([140]), 150: set([276]), 151: set([221, 254, 63]), 152: set([194, 205]), 153: set([32]), 154: set([]), 155: set([271]), 156: set([189]), 157: set([]), 158: set([]), 159: set([14]), 160: set([61]), 161: set([80]), 162: set([209]), 163: set([]), 164: set([208]), 165: set([58, 199]), 166: set([25, 201, 94, 49]), 167: set([136, 234, 147, 84]), 168: set([]), 169: set([267]), 170: set([81]), 171: set([290, 159]), 172: set([161, 60, 7]), 173: set([118]), 174: set([]), 175: set([240, 166, 175]), 176: set([203, 231]), 177: set([130]), 178: set([152, 252, 28, 30, 215]), 179: set([9, 282, 244, 193]), 180: set([192]), 181: set([]), 182: set([11, 134]), 183: set([]), 184: set([]), 185: set([122]), 186: set([]), 187: set([]), 188: set([177, 108, 229, 126]), 189: set([222]), 190: set([0, 173]), 191: set([]), 192: set([255, 301, 87]), 193: set([184, 202, 107, 191]), 194: set([]), 195: set([172]), 196: set([228]), 197: set([67]), 198: set([163, 47]), 199: set([]), 200: set([]), 201: set([226, 133]), 202: set([210]), 203: set([105]), 204: set([216, 227, 287]), 205: set([27]), 206: set([]), 207: set([1, 170, 300, 278]), 208: set([]), 209: set([297, 154, 237]), 210: set([66]), 211: set([17, 283]), 212: set([70]), 213: set([129, 219, 20, 149]), 214: set([299]), 215: set([142]), 216: set([4]), 217: set([104, 157]), 218: set([56, 132, 44]), 219: set([]), 220: set([274]), 221: set([97, 171, 261]), 222: set([123, 148]), 223: set([]), 224: set([74, 92]), 225: set([302, 78]), 226: set([183]), 227: set([24, 10, 298, 181, 279]), 228: set([259]), 229: set([52, 54])}\n"
       ]
      }
     ],
     "prompt_number": 62
    },
    {
     "cell_type": "code",
     "collapsed": false,
     "input": [
      "#Setup to read the shapefile and generate the WED\n",
      "import net_shp_io\n",
      "try:\n",
      "    reload(wed)\n",
      "except:\n",
      "    import wed\n",
      "file_name = \"streets_net.shp\"\n",
      "coords, edges = net_shp_io.reader(file_name)\n",
      "coords1, edges1 = net_shp_io.reader(file_name, doubleEdges=False)\n",
      "wed_streets = wed.extract_wed(edges, coords)\n",
      "\n",
      "#Read in the new shapefile of sample data to get both geometry and attribute.\n",
      "geomshp = ps.open('../examples/street_net_pts.shp')\n",
      "geoms = [geom for geom in geomshp]\n",
      "geomshp.close()\n",
      "\n",
      "dbfshp = ps.open('../examples/street_net_pts.dbf')\n",
      "attribs = [row[0] for row in dbfshp] #This is super boring, just a list of integers from 0 to 302.\n",
      "dbfshp.close()\n",
      "\n",
      "obs_to_edge = wed.assign_points_to_edges(geoms, attribs, wed_streets)\n",
      "\n",
      "print obs_to_edge[0,2]\n",
      "print obs_to_edge[2,0]"
     ],
     "language": "python",
     "metadata": {},
     "outputs": [
      {
       "output_type": "stream",
       "stream": "stdout",
       "text": [
        "set([249, 13, 55])\n",
        "set([249, 13, 55])\n"
       ]
      }
     ],
     "prompt_number": 59
    },
    {
     "cell_type": "heading",
     "level": 1,
     "metadata": {},
     "source": [
      "Below this point is testing work to fix some of the filament issues we saw in Streets"
     ]
    },
    {
     "cell_type": "code",
     "collapsed": false,
     "input": [
      "try:\n",
      "    reload(wed)\n",
      "except:\n",
      "        import wed\n",
      "try:\n",
      "    reload(net_shp_io)\n",
      "except:\n",
      "    import net_shp_io"
     ],
     "language": "python",
     "metadata": {},
     "outputs": [],
     "prompt_number": 186
    },
    {
     "cell_type": "code",
     "collapsed": false,
     "input": [
      "import net_shp_io\n",
      "file_name = \"streets_net.shp\"\n",
      "coords, edges = net_shp_io.reader(file_name)\n",
      "coords1, edges1 = net_shp_io.reader(file_name, doubleEdges=False)\n",
      "\n",
      "import wed\n",
      "\n",
      "wed_streets = wed.extract_wed(edges, coords)\n"
     ],
     "language": "python",
     "metadata": {},
     "outputs": [
      {
       "output_type": "stream",
       "stream": "stdout",
       "text": [
        "Filament:  [194, 135]\n",
        "[194, 135] 135\n",
        "Internal:  2 [194, 135]\n",
        "Filament:  [198, 136]\n",
        "[198, 136] 136\n",
        "Internal:  2 [198, 136]\n",
        "Filament:  [67, 66]\n",
        "[67, 66] 66\n",
        "Internal:  30 [67, 66]\n"
       ]
      }
     ],
     "prompt_number": 187
    },
    {
     "cell_type": "code",
     "collapsed": false,
     "input": [
      "print wed_streets.end_c[(135,194)]\n",
      "print wed_streets.end_cc[(135,194)]\n",
      "print wed_streets.start_c[(135,194)]\n",
      "print wed_streets.start_cc[(135,194)]"
     ],
     "language": "python",
     "metadata": {},
     "outputs": [
      {
       "output_type": "stream",
       "stream": "stdout",
       "text": [
        "(135, 194)\n",
        "(194, 135)\n",
        "(136, 135)\n",
        "(135, 143)\n"
       ]
      }
     ],
     "prompt_number": 188
    },
    {
     "cell_type": "code",
     "collapsed": false,
     "input": [
      "wed.enum_edges_region(wed_streets,2)"
     ],
     "language": "python",
     "metadata": {},
     "outputs": [
      {
       "output_type": "pyout",
       "prompt_number": 189,
       "text": [
        "[(33, 34),\n",
        " (34, 35),\n",
        " (35, 136),\n",
        " (136, 198),\n",
        " (198, 136),\n",
        " (136, 135),\n",
        " (135, 194),\n",
        " (194, 135),\n",
        " (135, 143),\n",
        " (143, 141),\n",
        " (141, 196),\n",
        " (196, 133),\n",
        " (133, 132),\n",
        " (132, 134),\n",
        " (134, 177),\n",
        " (177, 156),\n",
        " (156, 157),\n",
        " (157, 158),\n",
        " (158, 159),\n",
        " (159, 153),\n",
        " (153, 33),\n",
        " (33, 34)]"
       ]
      }
     ],
     "prompt_number": 189
    },
    {
     "cell_type": "code",
     "collapsed": false,
     "input": [
      "print wed_streets.end_c[66,67]\n",
      "print wed_streets.end_cc[66,67]\n",
      "print wed_streets.start_c[66,67]\n",
      "print wed_streets.start_cc[66,67]"
     ],
     "language": "python",
     "metadata": {},
     "outputs": [
      {
       "output_type": "stream",
       "stream": "stdout",
       "text": [
        "(66, 67)\n",
        "(67, 66)\n",
        "(145, 66)\n",
        "(66, 54)\n"
       ]
      }
     ],
     "prompt_number": 190
    },
    {
     "cell_type": "code",
     "collapsed": false,
     "input": [
      "wed.enum_edges_region(wed_streets, 30)"
     ],
     "language": "python",
     "metadata": {},
     "outputs": [
      {
       "output_type": "pyout",
       "prompt_number": 191,
       "text": [
        "[(155, 156),\n",
        " (156, 177),\n",
        " (177, 134),\n",
        " (134, 142),\n",
        " (142, 178),\n",
        " (178, 145),\n",
        " (145, 66),\n",
        " (66, 67),\n",
        " (67, 66),\n",
        " (66, 54),\n",
        " (54, 53),\n",
        " (53, 52),\n",
        " (52, 51),\n",
        " (51, 49),\n",
        " (49, 50),\n",
        " (50, 154),\n",
        " (154, 155),\n",
        " (155, 156)]"
       ]
      }
     ],
     "prompt_number": 191
    },
    {
     "cell_type": "code",
     "collapsed": false,
     "input": [],
     "language": "python",
     "metadata": {},
     "outputs": []
    }
   ],
   "metadata": {}
  }
 ]
}