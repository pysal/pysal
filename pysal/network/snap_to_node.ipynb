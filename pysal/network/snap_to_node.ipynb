{
 "metadata": {
  "name": "snap_to_node"
 },
 "nbformat": 3,
 "nbformat_minor": 0,
 "worksheets": [
  {
   "cells": [
    {
     "cell_type": "code",
     "collapsed": false,
     "input": [
      "import pysal as ps\n",
      "#Grab the KDTree\n",
      "from pysal.cg import KDTree\n",
      "\n",
      "#Setup to read the shapefile and generate the WED\n",
      "import net_shp_io\n",
      "import wed\n",
      "file_name = \"streets_net.shp\"\n",
      "coords, edges = net_shp_io.reader(file_name)\n",
      "coords1, edges1 = net_shp_io.reader(file_name, doubleEdges=False)\n",
      "wed_streets = wed.extract_wed(edges, coords)\n",
      "\n",
      "#Generate a KDTree of all of the nodes in the wed\n",
      "kd_tree = KDTree([node for node in wed_streets.node_coords.itervalues()])\n",
      "sample = (728368.04, 877125.8)\n",
      "nn = kd_tree.query(sample, k=1)\n",
      "#KDTree.data (a list) and wed_streets.node_coords should always have the same order.  One is a list and the other ordered with sequential keys\n",
      "assert tuple(kd_tree.data[nn[1]]) == wed_streets.node_coords[0]\n",
      "\n",
      "#Read in the new shapefile of sample data to get both geometry and attribute.\n",
      "geomshp = ps.open('street_net_pts.shp')\n",
      "geoms = [geom for geom in geomshp]\n",
      "geomshp.close()\n",
      "\n",
      "dbfshp = ps.open('street_net_pts.dbf')\n",
      "attribs = [row[0] for row in dbfshp] #This is super boring, just a list of integers from 0 to 302.\n",
      "dbfshp.close()\n",
      "\n",
      "#Setup a dictionary that stores node_id:[observations values]\n",
      "obs_to_node = {}\n",
      "for x in wed_streets.node_coords.iterkeys():\n",
      "    obs_to_node[x] = []\n",
      "#Instead of observation values, should this store IDs to values?  Then we could store multiple attributes per observation.\n",
      "\n",
      "#Iterate over each observation and query the KDTree.\n",
      "for index,point in enumerate(geoms):\n",
      "    nn = kd_tree.query(point, k=1)\n",
      "    obs_to_node[nn[1]].append(attribs[index])\n",
      "\n",
      "#return obs_to_node\n",
      "print obs_to_node"
     ],
     "language": "python",
     "metadata": {},
     "outputs": [
      {
       "output_type": "stream",
       "stream": "stdout",
       "text": [
        "Filament:  [194, 135]\n",
        "[194, 135] 135\n",
        "Internal:  2 [194, 135]\n",
        "Filament:  [198, 136]\n",
        "[198, 136] 136\n",
        "Internal:  2 [198, 136]\n",
        "Filament:  [67, 66]\n",
        "[67, 66] 66\n",
        "Internal:  30 [67, 66]\n",
        "{0: [13, 55], 1: [51], 2: [242], 3: [22, 272], 4: [], 5: [245], 6: [], 7: [236], 8: [], 9: [], 10: [], 11: [8, 111, 263], 12: [37, 250], 13: [196, 289], 14: [185], 15: [], 16: [], 17: [43, 204], 18: [], 19: [33, 247], 20: [112, 195], 21: [], 22: [6, 39, 82, 296], 23: [], 24: [], 25: [59], 26: [], 27: [], 28: [62], 29: [], 30: [], 31: [], 32: [], 33: [275], 34: [], 35: [206], 36: [223, 285], 37: [], 38: [293], 39: [], 40: [], 41: [281], 42: [95, 116, 197, 212], 43: [75], 44: [], 45: [238], 46: [], 47: [72, 200, 260], 48: [], 49: [273], 50: [88, 251, 284], 51: [164, 188, 292], 52: [102, 121], 53: [31, 68], 54: [34], 55: [35], 56: [], 57: [211], 58: [144], 59: [38], 60: [288], 61: [], 62: [], 63: [], 64: [246], 65: [], 66: [50, 257], 67: [53, 86, 103, 153, 198, 225, 248], 68: [218], 69: [155, 158], 70: [5, 73, 113], 71: [125, 241, 280], 72: [89], 73: [115, 117], 74: [], 75: [], 76: [], 77: [76, 179, 207], 78: [36], 79: [57], 80: [40, 119], 81: [79, 85, 109, 165], 82: [], 83: [], 84: [2], 85: [], 86: [45], 87: [], 88: [], 89: [41], 90: [], 91: [230], 92: [162], 93: [168], 94: [], 95: [], 96: [182, 270], 97: [83], 98: [], 99: [224], 100: [141], 101: [], 102: [3], 103: [12], 104: [220], 105: [266], 106: [], 107: [], 108: [], 109: [], 110: [243], 111: [], 112: [128, 137, 249], 113: [277], 114: [23, 69, 110, 178], 115: [93], 116: [], 117: [42, 169], 118: [167], 119: [77, 98, 120], 120: [65, 190, 233, 262], 121: [29], 122: [135, 214], 123: [], 124: [], 125: [294], 126: [19], 127: [21, 106], 128: [48, 139, 295], 129: [213], 130: [217, 264], 131: [150], 132: [186], 133: [], 134: [46, 156, 265, 286], 135: [100], 136: [99, 151, 176], 137: [64], 138: [138], 139: [15, 18, 101, 131, 180, 235], 140: [26, 127, 143], 141: [124, 174], 142: [96, 146, 160, 253], 143: [90, 268], 144: [], 145: [91, 187, 269, 291], 146: [16, 232, 258], 147: [71], 148: [114, 145, 239, 256], 149: [140], 150: [276], 151: [63, 221, 254], 152: [194, 205], 153: [32], 154: [], 155: [271], 156: [189], 157: [], 158: [], 159: [14], 160: [61], 161: [80], 162: [209], 163: [], 164: [208], 165: [58, 199], 166: [25, 49, 94, 201], 167: [84, 136, 147, 234], 168: [], 169: [267], 170: [81], 171: [159, 290], 172: [7, 60, 161], 173: [118], 174: [], 175: [166, 175, 240], 176: [203, 231], 177: [130], 178: [28, 30, 152, 215, 252], 179: [9, 193, 244, 282], 180: [192], 181: [], 182: [11, 134], 183: [], 184: [], 185: [122], 186: [], 187: [], 188: [108, 126, 177, 229], 189: [222], 190: [0, 173], 191: [], 192: [87, 255, 301], 193: [107, 184, 191, 202], 194: [], 195: [172], 196: [228], 197: [67], 198: [47, 163], 199: [], 200: [], 201: [133, 226], 202: [210], 203: [105], 204: [216, 227, 287], 205: [27], 206: [], 207: [1, 170, 278, 300], 208: [], 209: [154, 237, 297], 210: [66], 211: [17, 283], 212: [70], 213: [20, 129, 149, 219], 214: [299], 215: [142], 216: [4], 217: [104, 157], 218: [44, 56, 132], 219: [], 220: [274], 221: [97, 171, 261], 222: [123, 148], 223: [], 224: [74, 92], 225: [78, 302], 226: [183], 227: [10, 24, 181, 279, 298], 228: [259], 229: [52, 54]}"
       ]
      },
      {
       "output_type": "stream",
       "stream": "stdout",
       "text": [
        "\n"
       ]
      }
     ],
     "prompt_number": 229
    },
    {
     "cell_type": "heading",
     "level": 1,
     "metadata": {},
     "source": [
      "Below this point is testing work to fix some of the filament issues we saw in Streets"
     ]
    },
    {
     "cell_type": "code",
     "collapsed": false,
     "input": [
      "try:\n",
      "    reload(wed)\n",
      "except:\n",
      "        import wed\n",
      "try:\n",
      "    reload(net_shp_io)\n",
      "except:\n",
      "    import net_shp_io"
     ],
     "language": "python",
     "metadata": {},
     "outputs": [],
     "prompt_number": 186
    },
    {
     "cell_type": "code",
     "collapsed": false,
     "input": [
      "import net_shp_io\n",
      "file_name = \"streets_net.shp\"\n",
      "coords, edges = net_shp_io.reader(file_name)\n",
      "coords1, edges1 = net_shp_io.reader(file_name, doubleEdges=False)\n",
      "\n",
      "import wed\n",
      "\n",
      "wed_streets = wed.extract_wed(edges, coords)\n"
     ],
     "language": "python",
     "metadata": {},
     "outputs": [
      {
       "output_type": "stream",
       "stream": "stdout",
       "text": [
        "Filament:  [194, 135]\n",
        "[194, 135] 135\n",
        "Internal:  2 [194, 135]\n",
        "Filament:  [198, 136]\n",
        "[198, 136] 136\n",
        "Internal:  2 [198, 136]\n",
        "Filament:  [67, 66]\n",
        "[67, 66] 66\n",
        "Internal:  30 [67, 66]\n"
       ]
      }
     ],
     "prompt_number": 187
    },
    {
     "cell_type": "code",
     "collapsed": false,
     "input": [
      "print wed_streets.end_c[(135,194)]\n",
      "print wed_streets.end_cc[(135,194)]\n",
      "print wed_streets.start_c[(135,194)]\n",
      "print wed_streets.start_cc[(135,194)]"
     ],
     "language": "python",
     "metadata": {},
     "outputs": [
      {
       "output_type": "stream",
       "stream": "stdout",
       "text": [
        "(135, 194)\n",
        "(194, 135)\n",
        "(136, 135)\n",
        "(135, 143)\n"
       ]
      }
     ],
     "prompt_number": 188
    },
    {
     "cell_type": "code",
     "collapsed": false,
     "input": [
      "wed.enum_edges_region(wed_streets,2)"
     ],
     "language": "python",
     "metadata": {},
     "outputs": [
      {
       "output_type": "pyout",
       "prompt_number": 189,
       "text": [
        "[(33, 34),\n",
        " (34, 35),\n",
        " (35, 136),\n",
        " (136, 198),\n",
        " (198, 136),\n",
        " (136, 135),\n",
        " (135, 194),\n",
        " (194, 135),\n",
        " (135, 143),\n",
        " (143, 141),\n",
        " (141, 196),\n",
        " (196, 133),\n",
        " (133, 132),\n",
        " (132, 134),\n",
        " (134, 177),\n",
        " (177, 156),\n",
        " (156, 157),\n",
        " (157, 158),\n",
        " (158, 159),\n",
        " (159, 153),\n",
        " (153, 33),\n",
        " (33, 34)]"
       ]
      }
     ],
     "prompt_number": 189
    },
    {
     "cell_type": "code",
     "collapsed": false,
     "input": [
      "print wed_streets.end_c[66,67]\n",
      "print wed_streets.end_cc[66,67]\n",
      "print wed_streets.start_c[66,67]\n",
      "print wed_streets.start_cc[66,67]"
     ],
     "language": "python",
     "metadata": {},
     "outputs": [
      {
       "output_type": "stream",
       "stream": "stdout",
       "text": [
        "(66, 67)\n",
        "(67, 66)\n",
        "(145, 66)\n",
        "(66, 54)\n"
       ]
      }
     ],
     "prompt_number": 190
    },
    {
     "cell_type": "code",
     "collapsed": false,
     "input": [
      "wed.enum_edges_region(wed_streets, 30)"
     ],
     "language": "python",
     "metadata": {},
     "outputs": [
      {
       "output_type": "pyout",
       "prompt_number": 191,
       "text": [
        "[(155, 156),\n",
        " (156, 177),\n",
        " (177, 134),\n",
        " (134, 142),\n",
        " (142, 178),\n",
        " (178, 145),\n",
        " (145, 66),\n",
        " (66, 67),\n",
        " (67, 66),\n",
        " (66, 54),\n",
        " (54, 53),\n",
        " (53, 52),\n",
        " (52, 51),\n",
        " (51, 49),\n",
        " (49, 50),\n",
        " (50, 154),\n",
        " (154, 155),\n",
        " (155, 156)]"
       ]
      }
     ],
     "prompt_number": 191
    },
    {
     "cell_type": "code",
     "collapsed": false,
     "input": [],
     "language": "python",
     "metadata": {},
     "outputs": []
    }
   ],
   "metadata": {}
  }
 ]
}