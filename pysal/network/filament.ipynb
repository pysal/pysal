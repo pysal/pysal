{
 "metadata": {
  "name": "filament"
 },
 "nbformat": 3,
 "nbformat_minor": 0,
 "worksheets": [
  {
   "cells": [
    {
     "cell_type": "markdown",
     "metadata": {},
     "source": [
      "Exploring how to handle a filament that is adjacent to multiple regions.\n",
      "\n",
      "Since the filament can be internal to only one region, in the case where it is incident to multiple regions we find the one containing the filament.\n",
      "\n",
      "In the case where the filament is incident to multiple regions, but not internal to any of the regions it must be external to the component formed by the incident regions."
     ]
    },
    {
     "cell_type": "code",
     "collapsed": false,
     "input": [
      "import numpy as np\n",
      "import pysal as ps"
     ],
     "language": "python",
     "metadata": {},
     "outputs": [],
     "prompt_number": 1
    },
    {
     "cell_type": "code",
     "collapsed": false,
     "input": [
      "r0 = [ (0,0), (5,0), (5,3), (2,3), (0,3), (0,0) ]\n",
      "r1 = [ (0,3), (0,5), (2,5), (2,3), (0,3) ]\n",
      "r2 = [ (2,5), (5,5), (3,5), (2,3), (2,5) ]\n",
      "f = [ (2,3), (2,1) ]\n",
      "rs = [r0, r1, r2]\n",
      "regions = {}\n",
      "for i in range(3):\n",
      "    regions[i] = rs[i]"
     ],
     "language": "python",
     "metadata": {},
     "outputs": [],
     "prompt_number": 2
    },
    {
     "cell_type": "code",
     "collapsed": false,
     "input": [
      "regions"
     ],
     "language": "python",
     "metadata": {},
     "outputs": [
      {
       "output_type": "pyout",
       "prompt_number": 3,
       "text": [
        "{0: [(0, 0), (5, 0), (5, 3), (2, 3), (0, 3), (0, 0)],\n",
        " 1: [(0, 3), (0, 5), (2, 5), (2, 3), (0, 3)],\n",
        " 2: [(2, 5), (5, 5), (3, 5), (2, 3), (2, 5)]}"
       ]
      }
     ],
     "prompt_number": 3
    },
    {
     "cell_type": "code",
     "collapsed": false,
     "input": [
      "f = set(f)\n",
      "fl = list(f)\n",
      "incident_regions = []\n",
      "internal_regions = []\n",
      "for r in regions:\n",
      "    node = f.intersection(regions[r])\n",
      "    if node:\n",
      "        incident_regions.append(r)\n",
      "        # check if node end point is internal or external to poly\n",
      "        pr = ps.cg.Polygon([list(regions[r])])\n",
      "        if pr.contains_point(fl[1]):\n",
      "            internal_regions.append(r)\n"
     ],
     "language": "python",
     "metadata": {},
     "outputs": [],
     "prompt_number": 4
    },
    {
     "cell_type": "code",
     "collapsed": false,
     "input": [
      "internal_regions"
     ],
     "language": "python",
     "metadata": {},
     "outputs": [
      {
       "output_type": "pyout",
       "prompt_number": 5,
       "text": [
        "[0]"
       ]
      }
     ],
     "prompt_number": 5
    },
    {
     "cell_type": "markdown",
     "metadata": {},
     "source": [
      "So we should insert only in region 0"
     ]
    },
    {
     "cell_type": "markdown",
     "metadata": {},
     "source": [
      "# now case where filament is external to two regions\n"
     ]
    },
    {
     "cell_type": "code",
     "collapsed": false,
     "input": [
      "regions.popitem()"
     ],
     "language": "python",
     "metadata": {},
     "outputs": [
      {
       "output_type": "pyout",
       "prompt_number": 6,
       "text": [
        "(0, [(0, 0), (5, 0), (5, 3), (2, 3), (0, 3), (0, 0)])"
       ]
      }
     ],
     "prompt_number": 6
    },
    {
     "cell_type": "code",
     "collapsed": false,
     "input": [
      "regions"
     ],
     "language": "python",
     "metadata": {},
     "outputs": [
      {
       "output_type": "pyout",
       "prompt_number": 7,
       "text": [
        "{1: [(0, 3), (0, 5), (2, 5), (2, 3), (0, 3)],\n",
        " 2: [(2, 5), (5, 5), (3, 5), (2, 3), (2, 5)]}"
       ]
      }
     ],
     "prompt_number": 7
    },
    {
     "cell_type": "code",
     "collapsed": false,
     "input": [
      "f = set(f)\n",
      "fl = list(f)\n",
      "incident_regions = []\n",
      "internal_regions = []\n",
      "for r in regions:\n",
      "    node = f.intersection(regions[r])\n",
      "    if node:\n",
      "        incident_regions.append(r)\n",
      "        # check if node end point is internal or external to poly\n",
      "        pr = ps.cg.Polygon([list(regions[r])])\n",
      "        if pr.contains_point(fl[1]):\n",
      "            internal_regions.append(r)\n"
     ],
     "language": "python",
     "metadata": {},
     "outputs": [],
     "prompt_number": 8
    },
    {
     "cell_type": "code",
     "collapsed": false,
     "input": [
      "internal_regions"
     ],
     "language": "python",
     "metadata": {},
     "outputs": [
      {
       "output_type": "pyout",
       "prompt_number": 9,
       "text": [
        "[]"
       ]
      }
     ],
     "prompt_number": 9
    },
    {
     "cell_type": "markdown",
     "metadata": {},
     "source": [
      "so insertion is in the \"external polgon\" which is a polygon that has a hole defined as the component formed on the regions incident with the filament"
     ]
    },
    {
     "cell_type": "code",
     "collapsed": false,
     "input": [
      "import networkx as nx"
     ],
     "language": "python",
     "metadata": {},
     "outputs": [],
     "prompt_number": 10
    },
    {
     "cell_type": "code",
     "collapsed": false,
     "input": [
      "g = nx.Graph()"
     ],
     "language": "python",
     "metadata": {},
     "outputs": [],
     "prompt_number": 11
    },
    {
     "cell_type": "code",
     "collapsed": false,
     "input": [
      "r0 = [ (0,0), (5,0), (5,3), (2,3), (0,3), (0,0) ]\n",
      "r1 = [ (0,3), (0,5), (2,5), (2,3), (0,3) ]\n",
      "r2 = [ (2,5), (5,5), (3,5), (2,3), (2,5) ]\n",
      "filament = [ (2,3), (2,1) ]\n",
      "rs = [r1, r2]\n",
      "\n",
      "regions = {}\n",
      "nodes = {}\n",
      "for i in range(2):\n",
      "    regions[i] = rs[i]\n",
      "    for node in regions[i]:\n",
      "        nodes[node] = node\n",
      "nodes[filament[1]] = filament[1]\n",
      "nIds = nodes.keys()"
     ],
     "language": "python",
     "metadata": {},
     "outputs": [],
     "prompt_number": 12
    },
    {
     "cell_type": "code",
     "collapsed": false,
     "input": [
      "for i in range(2):\n",
      "    region = rs[i]\n",
      "    nEdges = len(region) - 1\n",
      "    for ei in range(nEdges):\n",
      "        t,f = region[ei: ei + 2]\n",
      "        t = nIds.index(t)\n",
      "        f = nIds.index(f)\n",
      "        g.add_edge(t, f)\n",
      "\n",
      "t = nIds.index(filament[0])\n",
      "f = nIds.index(filament[1])\n",
      "g.add_edge(t, f)"
     ],
     "language": "python",
     "metadata": {},
     "outputs": [],
     "prompt_number": 13
    },
    {
     "cell_type": "code",
     "collapsed": false,
     "input": [
      "nx.draw(g, pos=nIds)"
     ],
     "language": "python",
     "metadata": {},
     "outputs": [
      {
       "output_type": "display_data",
       "png": "[encoded data removed]"
      }
     ],
     "prompt_number": 14
    },
    {
     "cell_type": "code",
     "collapsed": false,
     "input": [],
     "language": "python",
     "metadata": {},
     "outputs": []
    }
   ],
   "metadata": {}
  }
 ]
}