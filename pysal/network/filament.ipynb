{
 "metadata": {
  "name": "filament"
 },
 "nbformat": 3,
 "nbformat_minor": 0,
 "worksheets": [
  {
   "cells": [
    {
     "cell_type": "markdown",
     "metadata": {},
     "source": [
      "Exploring how to handle a filament that is adjacent to multiple regions.\n",
      "\n",
      "Since the filament can be internal to only one region, in the case where it is incident to multiple regions we find the one containing the filament.\n",
      "\n",
      "In the case where the filament is incident to multiple regions, but not internal to any of the regions it must be external to the component formed by the incident regions."
     ]
    },
    {
     "cell_type": "code",
     "collapsed": false,
     "input": [
      "import numpy as np\n",
      "import pysal as ps"
     ],
     "language": "python",
     "metadata": {},
     "outputs": [],
     "prompt_number": 1
    },
    {
     "cell_type": "code",
     "collapsed": false,
     "input": [
      "r0 = [ (0,0), (5,0), (5,3), (2,3), (0,3), (0,0) ]\n",
      "r1 = [ (0,3), (0,5), (2,5), (2,3), (0,3) ]\n",
      "r2 = [ (2,5), (5,5), (3,5), (2,3), (2,5) ]\n",
      "f = [ (2,3), (2,1) ]\n",
      "rs = [r0, r1, r2]\n",
      "regions = {}\n",
      "for i in range(3):\n",
      "    regions[i] = rs[i]"
     ],
     "language": "python",
     "metadata": {},
     "outputs": [],
     "prompt_number": 2
    },
    {
     "cell_type": "code",
     "collapsed": false,
     "input": [
      "regions"
     ],
     "language": "python",
     "metadata": {},
     "outputs": [
      {
       "output_type": "pyout",
       "prompt_number": 3,
       "text": [
        "{0: [(0, 0), (5, 0), (5, 3), (2, 3), (0, 3), (0, 0)],\n",
        " 1: [(0, 3), (0, 5), (2, 5), (2, 3), (0, 3)],\n",
        " 2: [(2, 5), (5, 5), (3, 5), (2, 3), (2, 5)]}"
       ]
      }
     ],
     "prompt_number": 3
    },
    {
     "cell_type": "code",
     "collapsed": false,
     "input": [
      "f = set(f)\n",
      "fl = list(f)\n",
      "incident_regions = []\n",
      "internal_regions = []\n",
      "for r in regions:\n",
      "    node = f.intersection(regions[r])\n",
      "    if node:\n",
      "        incident_regions.append(r)\n",
      "        # check if node end point is internal or external to poly\n",
      "        pr = ps.cg.Polygon([list(regions[r])])\n",
      "        if pr.contains_point(fl[1]):\n",
      "            internal_regions.append(r)\n"
     ],
     "language": "python",
     "metadata": {},
     "outputs": [],
     "prompt_number": 4
    },
    {
     "cell_type": "code",
     "collapsed": false,
     "input": [
      "internal_regions"
     ],
     "language": "python",
     "metadata": {},
     "outputs": [
      {
       "output_type": "pyout",
       "prompt_number": 5,
       "text": [
        "[0]"
       ]
      }
     ],
     "prompt_number": 5
    },
    {
     "cell_type": "markdown",
     "metadata": {},
     "source": [
      "So we should insert only in region 0"
     ]
    },
    {
     "cell_type": "markdown",
     "metadata": {},
     "source": [
      "# now case where filament is external to two regions\n"
     ]
    },
    {
     "cell_type": "code",
     "collapsed": false,
     "input": [
      "regions.popitem()"
     ],
     "language": "python",
     "metadata": {},
     "outputs": [
      {
       "output_type": "pyout",
       "prompt_number": 6,
       "text": [
        "(0, [(0, 0), (5, 0), (5, 3), (2, 3), (0, 3), (0, 0)])"
       ]
      }
     ],
     "prompt_number": 6
    },
    {
     "cell_type": "code",
     "collapsed": false,
     "input": [
      "regions"
     ],
     "language": "python",
     "metadata": {},
     "outputs": [
      {
       "output_type": "pyout",
       "prompt_number": 7,
       "text": [
        "{1: [(0, 3), (0, 5), (2, 5), (2, 3), (0, 3)],\n",
        " 2: [(2, 5), (5, 5), (3, 5), (2, 3), (2, 5)]}"
       ]
      }
     ],
     "prompt_number": 7
    },
    {
     "cell_type": "code",
     "collapsed": false,
     "input": [
      "f = set(f)\n",
      "fl = list(f)\n",
      "incident_regions = []\n",
      "internal_regions = []\n",
      "for r in regions:\n",
      "    node = f.intersection(regions[r])\n",
      "    if node:\n",
      "        incident_regions.append(r)\n",
      "        # check if node end point is internal or external to poly\n",
      "        pr = ps.cg.Polygon([list(regions[r])])\n",
      "        if pr.contains_point(fl[1]):\n",
      "            internal_regions.append(r)\n"
     ],
     "language": "python",
     "metadata": {},
     "outputs": [],
     "prompt_number": 8
    },
    {
     "cell_type": "code",
     "collapsed": false,
     "input": [
      "internal_regions"
     ],
     "language": "python",
     "metadata": {},
     "outputs": [
      {
       "output_type": "pyout",
       "prompt_number": 9,
       "text": [
        "[]"
       ]
      }
     ],
     "prompt_number": 9
    },
    {
     "cell_type": "markdown",
     "metadata": {},
     "source": [
      "so insertion is in the \"external polgon\" which is a polygon that has a hole defined as the component formed on the regions incident with the filament"
     ]
    },
    {
     "cell_type": "code",
     "collapsed": false,
     "input": [
      "import networkx as nx"
     ],
     "language": "python",
     "metadata": {},
     "outputs": [],
     "prompt_number": 10
    },
    {
     "cell_type": "code",
     "collapsed": false,
     "input": [
      "g = nx.Graph()"
     ],
     "language": "python",
     "metadata": {},
     "outputs": [],
     "prompt_number": 11
    },
    {
     "cell_type": "code",
     "collapsed": false,
     "input": [
      "r0 = [ (0,0), (5,0), (5,3), (2,3), (0,3), (0,0) ]\n",
      "r1 = [ (0,3), (0,5), (2,5), (2,3), (0,3) ]\n",
      "r2 = [ (2,5), (5,5), (3,5), (2,3), (2,5) ]\n",
      "filament = [ (2,3), (2,1) ]\n",
      "rs = [r1, r2]\n",
      "\n",
      "regions = {}\n",
      "nodes = {}\n",
      "for i in range(2):\n",
      "    regions[i] = rs[i]\n",
      "    for node in regions[i]:\n",
      "        nodes[node] = node\n",
      "nodes[filament[1]] = filament[1]\n",
      "nIds = nodes.keys()"
     ],
     "language": "python",
     "metadata": {},
     "outputs": [],
     "prompt_number": 12
    },
    {
     "cell_type": "code",
     "collapsed": false,
     "input": [
      "for i in range(2):\n",
      "    region = rs[i]\n",
      "    nEdges = len(region) - 1\n",
      "    for ei in range(nEdges):\n",
      "        t,f = region[ei: ei + 2]\n",
      "        t = nIds.index(t)\n",
      "        f = nIds.index(f)\n",
      "        g.add_edge(t, f)\n",
      "\n",
      "t = nIds.index(filament[0])\n",
      "f = nIds.index(filament[1])\n",
      "g.add_edge(t, f)"
     ],
     "language": "python",
     "metadata": {},
     "outputs": [],
     "prompt_number": 13
    },
    {
     "cell_type": "code",
     "collapsed": false,
     "input": [
      "nx.draw(g, pos=nIds)"
     ],
     "language": "python",
     "metadata": {},
     "outputs": [
      {
       "output_type": "display_data",
       "png": "[encoded data removed]"
      }
     ],
     "prompt_number": 14
    },
    {
     "cell_type": "code",
     "collapsed": false,
     "input": [
      "def regionPointers(region):\n",
      "    nEdges = len(region)\n",
      "    sc = {}\n",
      "    ecc = {}\n",
      "    ec = {}\n",
      "    scc = {}\n",
      "    for edge in range(nEdges):\n",
      "        \n",
      "        twin = edge[1], edge[0]\n",
      "        # see lines 781-800 of wed.py\n",
      "        \n",
      "    return ecc, sc, scc, ec"
     ],
     "language": "python",
     "metadata": {},
     "outputs": [],
     "prompt_number": 68
    },
    {
     "cell_type": "code",
     "collapsed": false,
     "input": [
      "nodes = {}\n",
      "nodes[1] = 0, 0\n",
      "nodes[2] = 10, 0\n",
      "nodes[3] = 10, 4\n",
      "nodes[4] = 5, 4\n",
      "nodes[5] = 0, 4\n",
      "nodes[6] = 0, 7\n",
      "nodes[7] = 5, 7\n",
      "nodes[8] = 8, 7"
     ],
     "language": "python",
     "metadata": {},
     "outputs": [],
     "prompt_number": 69
    },
    {
     "cell_type": "code",
     "collapsed": false,
     "input": [
      "nodes"
     ],
     "language": "python",
     "metadata": {},
     "outputs": [
      {
       "output_type": "pyout",
       "prompt_number": 70,
       "text": [
        "{1: (0, 0),\n",
        " 2: (10, 0),\n",
        " 3: (10, 4),\n",
        " 4: (5, 4),\n",
        " 5: (0, 4),\n",
        " 6: (0, 7),\n",
        " 7: (5, 7),\n",
        " 8: (8, 7)}"
       ]
      }
     ],
     "prompt_number": 70
    },
    {
     "cell_type": "code",
     "collapsed": false,
     "input": [
      "r1 = [ (1, 5), (5, 4), (4, 3), (3, 2), (2, 1) ]\n",
      "r2 = [ (5, 6), (6, 7), (7, 4), (4, 5) ]\n",
      "r3 = [ (4, 7), (7, 8), (8, 4) ]\n",
      "regions = [ r1, r2, r3 ]\n"
     ],
     "language": "python",
     "metadata": {},
     "outputs": [],
     "prompt_number": 88
    },
    {
     "cell_type": "code",
     "collapsed": false,
     "input": [
      "g = nx.Graph()\n",
      "g.add_edges_from(r1)\n",
      "g.add_edges_from(r2)\n",
      "g.add_edges_from(r3)"
     ],
     "language": "python",
     "metadata": {},
     "outputs": [],
     "prompt_number": 90
    },
    {
     "cell_type": "code",
     "collapsed": false,
     "input": [
      "g.nodes()"
     ],
     "language": "python",
     "metadata": {},
     "outputs": [
      {
       "output_type": "pyout",
       "prompt_number": 91,
       "text": [
        "[1, 2, 3, 4, 5, 6, 7, 8]"
       ]
      }
     ],
     "prompt_number": 91
    },
    {
     "cell_type": "code",
     "collapsed": false,
     "input": [
      "nodes.values()\n"
     ],
     "language": "python",
     "metadata": {},
     "outputs": [
      {
       "output_type": "pyout",
       "prompt_number": 92,
       "text": [
        "[(0, 0), (10, 0), (10, 4), (5, 4), (0, 4), (0, 7), (5, 7), (8, 7), (3, 2)]"
       ]
      }
     ],
     "prompt_number": 92
    },
    {
     "cell_type": "code",
     "collapsed": false,
     "input": [
      "nodes.values()"
     ],
     "language": "python",
     "metadata": {},
     "outputs": [
      {
       "output_type": "pyout",
       "prompt_number": 93,
       "text": [
        "[(0, 0), (10, 0), (10, 4), (5, 4), (0, 4), (0, 7), (5, 7), (8, 7), (3, 2)]"
       ]
      }
     ],
     "prompt_number": 93
    },
    {
     "cell_type": "code",
     "collapsed": false,
     "input": [
      "nx.draw(g, pos=nodes)"
     ],
     "language": "python",
     "metadata": {},
     "outputs": [
      {
       "output_type": "display_data",
       "png": "[encoded data removed]"
      }
     ],
     "prompt_number": 94
    },
    {
     "cell_type": "code",
     "collapsed": false,
     "input": [
      "regionPointers(r3)"
     ],
     "language": "python",
     "metadata": {},
     "outputs": [
      {
       "output_type": "pyout",
       "prompt_number": 95,
       "text": [
        "({(4, 7): (7, 8), (7, 8): (8, 4), (8, 4): (4, 7)},\n",
        " {(4, 7): (8, 4), (7, 8): (4, 7), (8, 4): (7, 8)},\n",
        " 3)"
       ]
      }
     ],
     "prompt_number": 95
    },
    {
     "cell_type": "code",
     "collapsed": false,
     "input": [
      "g.add_node(9)"
     ],
     "language": "python",
     "metadata": {},
     "outputs": [],
     "prompt_number": 96
    },
    {
     "cell_type": "code",
     "collapsed": false,
     "input": [
      "g.add_edge(4,9)"
     ],
     "language": "python",
     "metadata": {},
     "outputs": [],
     "prompt_number": 97
    },
    {
     "cell_type": "code",
     "collapsed": false,
     "input": [
      "nodes[9] = (3,2)"
     ],
     "language": "python",
     "metadata": {},
     "outputs": [],
     "prompt_number": 98
    },
    {
     "cell_type": "code",
     "collapsed": false,
     "input": [
      "nx.draw(g, pos=nodes)"
     ],
     "language": "python",
     "metadata": {},
     "outputs": [
      {
       "output_type": "display_data",
       "png": "[encoded data removed]"
      }
     ],
     "prompt_number": 99
    },
    {
     "cell_type": "code",
     "collapsed": false,
     "input": [
      "nodeEdge = {}\n",
      "for region in regions:\n",
      "    for edge in region:\n",
      "        h,t = edge\n",
      "        nodeEdge[h] = edge\n",
      "        nodeEdge[t] = edge\n",
      "nodeEdge[9] = (4,9)\n",
      "    "
     ],
     "language": "python",
     "metadata": {},
     "outputs": [],
     "prompt_number": 100
    },
    {
     "cell_type": "code",
     "collapsed": false,
     "input": [
      "nodeEdge"
     ],
     "language": "python",
     "metadata": {},
     "outputs": [
      {
       "output_type": "pyout",
       "prompt_number": 101,
       "text": [
        "{1: (2, 1),\n",
        " 2: (2, 1),\n",
        " 3: (3, 2),\n",
        " 4: (8, 4),\n",
        " 5: (4, 5),\n",
        " 6: (6, 7),\n",
        " 7: (7, 8),\n",
        " 8: (8, 4),\n",
        " 9: (4, 9)}"
       ]
      }
     ],
     "prompt_number": 101
    },
    {
     "cell_type": "code",
     "collapsed": false,
     "input": [
      "def enumLinksCwNode(node, startC, endC, nodeEdge):\n",
      "    links = []\n",
      "    if node not in nodeEdge:\n",
      "        return links\n",
      "    l0 = nodeEdge[node]\n",
      "    links.append(l0)\n",
      "    l = l0\n",
      "    v = node\n",
      "    searching = True\n",
      "    while searching:\n",
      "        if v == l[0]:\n",
      "            l = startC[l]\n",
      "        else:\n",
      "            l = endC[l]\n",
      "        if set(l) == set(l0):\n",
      "            searching = False\n",
      "        else:\n",
      "            links.append(l)\n",
      "    return links"
     ],
     "language": "python",
     "metadata": {},
     "outputs": [],
     "prompt_number": 102
    },
    {
     "cell_type": "code",
     "collapsed": false,
     "input": [],
     "language": "python",
     "metadata": {},
     "outputs": []
    }
   ],
   "metadata": {}
  }
 ]
}