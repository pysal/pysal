{
 "metadata": {
  "name": "filament"
 },
 "nbformat": 3,
 "nbformat_minor": 0,
 "worksheets": [
  {
   "cells": [
    {
     "cell_type": "markdown",
     "metadata": {},
     "source": [
      "Exploring how to handle a filament that is adjacent to multiple regions\n",
      "\n",
      "Since the filament can be internal to only one region, in the case where it is incident to multiple regions we find the one containing the filament.\n",
      "In the case where the filament is incident to multiple regions, but not internal to any of the regions it must be external to the component formed by the incident regions."
     ]
    },
    {
     "cell_type": "code",
     "collapsed": false,
     "input": [
      "import numpy as np\n",
      "import pysal as ps"
     ],
     "language": "python",
     "metadata": {},
     "outputs": [],
     "prompt_number": 10
    },
    {
     "cell_type": "code",
     "collapsed": false,
     "input": [
      "r0 = [ (0,0), (5,0), (5,3), (2,3), (0,3), (0,0) ]\n",
      "r1 = [ (0,3), (0,5), (2,5), (2,3), (0,3) ]\n",
      "r2 = [ (2,5), (5,5), (3,5), (2,3), (2,5) ]\n",
      "f = [ (2,3), (2,1) ]\n",
      "rs = [r0, r1, r2]\n",
      "regions = {}\n",
      "for i in range(3):\n",
      "    regions[i] = rs[i]"
     ],
     "language": "python",
     "metadata": {},
     "outputs": [],
     "prompt_number": 11
    },
    {
     "cell_type": "code",
     "collapsed": false,
     "input": [
      "regions"
     ],
     "language": "python",
     "metadata": {},
     "outputs": [
      {
       "output_type": "pyout",
       "prompt_number": 12,
       "text": [
        "{0: [(0, 0), (5, 0), (5, 3), (2, 3), (0, 3), (0, 0)],\n",
        " 1: [(0, 3), (0, 5), (2, 5), (2, 3), (0, 3)],\n",
        " 2: [(2, 5), (5, 5), (3, 5), (2, 3), (2, 5)]}"
       ]
      }
     ],
     "prompt_number": 12
    },
    {
     "cell_type": "code",
     "collapsed": false,
     "input": [
      "f = set(f)\n",
      "fl = list(f)\n",
      "incident_regions = []\n",
      "internal_regions = []\n",
      "for r in regions:\n",
      "    node = f.intersection(regions[r])\n",
      "    if node:\n",
      "        incident_regions.append(r)\n",
      "        # check if node end point is internal or external to poly\n",
      "        pr = ps.cg.Polygon([list(regions[r])])\n",
      "        if pr.contains_point(fl[1]):\n",
      "            internal_regions.append(r)\n"
     ],
     "language": "python",
     "metadata": {},
     "outputs": [],
     "prompt_number": 13
    },
    {
     "cell_type": "code",
     "collapsed": false,
     "input": [
      "internal_regions"
     ],
     "language": "python",
     "metadata": {},
     "outputs": [
      {
       "output_type": "pyout",
       "prompt_number": 14,
       "text": [
        "[0]"
       ]
      }
     ],
     "prompt_number": 14
    },
    {
     "cell_type": "markdown",
     "metadata": {},
     "source": [
      "So we should insert only in region 0"
     ]
    },
    {
     "cell_type": "markdown",
     "metadata": {},
     "source": [
      "# now case where filament is external to two regions\n"
     ]
    },
    {
     "cell_type": "code",
     "collapsed": false,
     "input": [
      "regions.popitem()"
     ],
     "language": "python",
     "metadata": {},
     "outputs": [
      {
       "output_type": "pyout",
       "prompt_number": 15,
       "text": [
        "(0, [(0, 0), (5, 0), (5, 3), (2, 3), (0, 3), (0, 0)])"
       ]
      }
     ],
     "prompt_number": 15
    },
    {
     "cell_type": "code",
     "collapsed": false,
     "input": [
      "regions"
     ],
     "language": "python",
     "metadata": {},
     "outputs": [
      {
       "output_type": "pyout",
       "prompt_number": 16,
       "text": [
        "{1: [(0, 3), (0, 5), (2, 5), (2, 3), (0, 3)],\n",
        " 2: [(2, 5), (5, 5), (3, 5), (2, 3), (2, 5)]}"
       ]
      }
     ],
     "prompt_number": 16
    },
    {
     "cell_type": "code",
     "collapsed": false,
     "input": [
      "f = set(f)\n",
      "fl = list(f)\n",
      "incident_regions = []\n",
      "internal_regions = []\n",
      "for r in regions:\n",
      "    node = f.intersection(regions[r])\n",
      "    if node:\n",
      "        incident_regions.append(r)\n",
      "        # check if node end point is internal or external to poly\n",
      "        pr = ps.cg.Polygon([list(regions[r])])\n",
      "        if pr.contains_point(fl[1]):\n",
      "            internal_regions.append(r)\n"
     ],
     "language": "python",
     "metadata": {},
     "outputs": [],
     "prompt_number": 17
    },
    {
     "cell_type": "code",
     "collapsed": false,
     "input": [
      "internal_regions"
     ],
     "language": "python",
     "metadata": {},
     "outputs": [
      {
       "output_type": "pyout",
       "prompt_number": 18,
       "text": [
        "[]"
       ]
      }
     ],
     "prompt_number": 18
    },
    {
     "cell_type": "markdown",
     "metadata": {},
     "source": [
      "so insertion is in the \"external polgon\" which is a polygon that has a hole defined as the component formed on the regions incident with the filament"
     ]
    },
    {
     "cell_type": "code",
     "collapsed": false,
     "input": [],
     "language": "python",
     "metadata": {},
     "outputs": []
    }
   ],
   "metadata": {}
  }
 ]
}