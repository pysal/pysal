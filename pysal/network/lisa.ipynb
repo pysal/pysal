{
 "metadata": {
  "name": "lisa"
 },
 "nbformat": 3,
 "nbformat_minor": 0,
 "worksheets": [
  {
   "cells": [
    {
     "cell_type": "code",
     "collapsed": false,
     "input": [
      "import wed\n",
      "import pysal as ps\n",
      "import numpy as np"
     ],
     "language": "python",
     "metadata": {},
     "outputs": [],
     "prompt_number": 1
    },
    {
     "cell_type": "code",
     "collapsed": false,
     "input": [
      "import net_shp_io"
     ],
     "language": "python",
     "metadata": {},
     "outputs": [],
     "prompt_number": 2
    },
    {
     "cell_type": "heading",
     "level": 2,
     "metadata": {},
     "source": [
      "Read planar network to create coords and edges"
     ]
    },
    {
     "cell_type": "code",
     "collapsed": false,
     "input": [
      "coords, edges = net_shp_io.reader(ps.examples.get_path(\"eberly_net.shp\"))\n"
     ],
     "language": "python",
     "metadata": {},
     "outputs": [],
     "prompt_number": 3
    },
    {
     "cell_type": "heading",
     "level": 2,
     "metadata": {},
     "source": [
      "Extract winged edge data structure for network"
     ]
    },
    {
     "cell_type": "code",
     "collapsed": false,
     "input": [
      "wed_eberly = wed.extract_wed(edges, coords)"
     ],
     "language": "python",
     "metadata": {},
     "outputs": [],
     "prompt_number": 4
    },
    {
     "cell_type": "heading",
     "level": 2,
     "metadata": {},
     "source": [
      "Generate spatial weights for the edges/links in the network"
     ]
    },
    {
     "cell_type": "code",
     "collapsed": false,
     "input": [
      "w = wed.w_links(wed_eberly)"
     ],
     "language": "python",
     "metadata": {},
     "outputs": [],
     "prompt_number": 5
    },
    {
     "cell_type": "code",
     "collapsed": false,
     "input": [
      "w.n"
     ],
     "language": "python",
     "metadata": {},
     "outputs": [
      {
       "output_type": "pyout",
       "prompt_number": 6,
       "text": [
        "29"
       ]
      }
     ],
     "prompt_number": 6
    },
    {
     "cell_type": "heading",
     "level": 2,
     "metadata": {},
     "source": [
      "Create  some attributes that will be associated (eventually) with the edges"
     ]
    },
    {
     "cell_type": "code",
     "collapsed": false,
     "input": [
      "y = np.arange(29)"
     ],
     "language": "python",
     "metadata": {},
     "outputs": [],
     "prompt_number": 7
    },
    {
     "cell_type": "heading",
     "level": 2,
     "metadata": {},
     "source": [
      "Global Autocorrelation"
     ]
    },
    {
     "cell_type": "code",
     "collapsed": false,
     "input": [
      "mi = ps.Moran(y, w)"
     ],
     "language": "python",
     "metadata": {},
     "outputs": [],
     "prompt_number": 8
    },
    {
     "cell_type": "code",
     "collapsed": false,
     "input": [
      "mi.p_sim"
     ],
     "language": "python",
     "metadata": {},
     "outputs": [
      {
       "output_type": "pyout",
       "prompt_number": 9,
       "text": [
        "0.001"
       ]
      }
     ],
     "prompt_number": 9
    },
    {
     "cell_type": "heading",
     "level": 2,
     "metadata": {},
     "source": [
      "Local Autocorrelation"
     ]
    },
    {
     "cell_type": "code",
     "collapsed": false,
     "input": [
      "lmi = ps.Moran_Local(y, w)"
     ],
     "language": "python",
     "metadata": {},
     "outputs": [],
     "prompt_number": 10
    },
    {
     "cell_type": "code",
     "collapsed": false,
     "input": [
      "lmi.p_sim"
     ],
     "language": "python",
     "metadata": {},
     "outputs": [
      {
       "output_type": "pyout",
       "prompt_number": 11,
       "text": [
        "array([ 0.003,  0.004,  0.008,  0.159,  0.002,  0.002,  0.039,  0.184,\n",
        "        0.183,  0.14 ,  0.179,  0.305,  0.383,  0.446,  0.001,  0.461,\n",
        "        0.44 ,  0.482,  0.188,  0.02 ,  0.109,  0.024,  0.052,  0.05 ,\n",
        "        0.018,  0.009,  0.013,  0.011,  0.046])"
       ]
      }
     ],
     "prompt_number": 11
    },
    {
     "cell_type": "heading",
     "level": 2,
     "metadata": {},
     "source": [
      "Connectivity Histogram for Links"
     ]
    },
    {
     "cell_type": "code",
     "collapsed": false,
     "input": [
      "w.histogram"
     ],
     "language": "python",
     "metadata": {},
     "outputs": [
      {
       "output_type": "pyout",
       "prompt_number": 12,
       "text": [
        "[(1, 3), (2, 9), (3, 8), (4, 4), (5, 3), (6, 2)]"
       ]
      }
     ],
     "prompt_number": 12
    },
    {
     "cell_type": "code",
     "collapsed": false,
     "input": [
      "w.neighbors.keys()"
     ],
     "language": "python",
     "metadata": {},
     "outputs": [
      {
       "output_type": "pyout",
       "prompt_number": 13,
       "text": [
        "[(0, 1),\n",
        " (6, 9),\n",
        " (17, 19),\n",
        " (10, 11),\n",
        " (11, 14),\n",
        " (4, 8),\n",
        " (4, 5),\n",
        " (18, 24),\n",
        " (13, 15),\n",
        " (21, 23),\n",
        " (1, 4),\n",
        " (0, 5),\n",
        " (18, 19),\n",
        " (19, 22),\n",
        " (11, 19),\n",
        " (10, 14),\n",
        " (3, 5),\n",
        " (16, 17),\n",
        " (20, 23),\n",
        " (6, 7),\n",
        " (14, 16),\n",
        " (12, 13),\n",
        " (8, 10),\n",
        " (24, 25),\n",
        " (20, 21),\n",
        " (19, 25),\n",
        " (2, 3),\n",
        " (17, 22),\n",
        " (7, 9)]"
       ]
      }
     ],
     "prompt_number": 13
    },
    {
     "cell_type": "code",
     "collapsed": false,
     "input": [
      "w.neighbors"
     ],
     "language": "python",
     "metadata": {},
     "outputs": [
      {
       "output_type": "pyout",
       "prompt_number": 14,
       "text": [
        "{(0, 1): [(0, 5), (1, 4)],\n",
        " (0, 5): [(0, 1), (4, 5), (3, 5)],\n",
        " (1, 4): [(0, 1), (4, 8), (4, 5)],\n",
        " (2, 3): [(3, 5)],\n",
        " (3, 5): [(2, 3), (4, 5), (0, 5)],\n",
        " (4, 5): [(1, 4), (4, 8), (0, 5), (3, 5)],\n",
        " (4, 8): [(1, 4), (4, 5), (8, 10)],\n",
        " (6, 7): [(6, 9), (7, 9)],\n",
        " (6, 9): [(6, 7), (7, 9)],\n",
        " (7, 9): [(6, 7), (6, 9)],\n",
        " (8, 10): [(4, 8), (10, 14), (10, 11)],\n",
        " (10, 11): [(10, 14), (8, 10), (11, 14), (11, 19)],\n",
        " (10, 14): [(10, 11), (8, 10), (14, 16), (11, 14)],\n",
        " (11, 14): [(11, 19), (10, 11), (10, 14), (14, 16)],\n",
        " (11, 19): [(11, 14), (10, 11), (17, 19), (19, 22), (19, 25), (18, 19)],\n",
        " (12, 13): [(13, 15)],\n",
        " (13, 15): [(12, 13)],\n",
        " (14, 16): [(10, 14), (11, 14), (16, 17)],\n",
        " (16, 17): [(14, 16), (17, 22), (17, 19)],\n",
        " (17, 19): [(16, 17), (17, 22), (19, 22), (19, 25), (18, 19), (11, 19)],\n",
        " (17, 22): [(16, 17), (17, 19), (19, 22)],\n",
        " (18, 19): [(18, 24), (17, 19), (19, 22), (19, 25), (11, 19)],\n",
        " (18, 24): [(18, 19), (24, 25)],\n",
        " (19, 22): [(17, 19), (19, 25), (18, 19), (11, 19), (17, 22)],\n",
        " (19, 25): [(17, 19), (19, 22), (18, 19), (11, 19), (24, 25)],\n",
        " (20, 21): [(20, 23), (21, 23)],\n",
        " (20, 23): [(20, 21), (21, 23)],\n",
        " (21, 23): [(20, 21), (20, 23)],\n",
        " (24, 25): [(18, 24), (19, 25)]}"
       ]
      }
     ],
     "prompt_number": 14
    },
    {
     "cell_type": "markdown",
     "metadata": {},
     "source": [
      " we need the coords for the nodes to know where we are"
     ]
    },
    {
     "cell_type": "code",
     "collapsed": false,
     "input": [
      "wed_eberly.node_coords"
     ],
     "language": "python",
     "metadata": {},
     "outputs": [
      {
       "output_type": "pyout",
       "prompt_number": 15,
       "text": [
        "{0: (0.0, 4.0),\n",
        " 1: (1.0, 7.0),\n",
        " 2: (2.0, 4.5),\n",
        " 3: (3.0, 5.0),\n",
        " 4: (4.0, 7.0),\n",
        " 5: (5.0, 4.0),\n",
        " 6: (5.5, 3.0),\n",
        " 7: (6.2, 5.0),\n",
        " 8: (6.5, 9.0),\n",
        " 9: (7.0, 3.0),\n",
        " 10: (7.5, 7.25),\n",
        " 11: (8.0, 4.0),\n",
        " 12: (9.0, 1.0),\n",
        " 13: (11.0, 3.0),\n",
        " 14: (11.5, 7.25),\n",
        " 15: (12.0, 2.0),\n",
        " 16: (13.5, 6.0),\n",
        " 17: (14.0, 7.25),\n",
        " 18: (16.0, 1.0),\n",
        " 19: (16.0, 4.0),\n",
        " 20: (17.0, 2.0),\n",
        " 21: (18.0, 3.5),\n",
        " 22: (18.0, 8.5),\n",
        " 23: (19.0, 2.0),\n",
        " 24: (21.0, 1.0),\n",
        " 25: (21.0, 4.0)}"
       ]
      }
     ],
     "prompt_number": 15
    },
    {
     "cell_type": "code",
     "collapsed": false,
     "input": [
      "import networkx as nx"
     ],
     "language": "python",
     "metadata": {},
     "outputs": [],
     "prompt_number": 16
    },
    {
     "cell_type": "code",
     "collapsed": false,
     "input": [
      "g = nx.Graph()\n",
      "g.add_nodes_from(wed_eberly.node_coords.keys())\n",
      "\n",
      "nx.draw(g,pos = wed_eberly.node_coords.values())"
     ],
     "language": "python",
     "metadata": {},
     "outputs": [
      {
       "output_type": "display_data",
       "png": "[encoded data removed]"
      }
     ],
     "prompt_number": 17
    },
    {
     "cell_type": "code",
     "collapsed": false,
     "input": [
      "for edge in w.neighbors.keys():\n",
      "   \n",
      "        g.add_edge(*edge)\n",
      "nx.draw(g,pos = wed_eberly.node_coords.values())"
     ],
     "language": "python",
     "metadata": {},
     "outputs": [
      {
       "output_type": "display_data",
       "png": "[encoded data removed]"
      }
     ],
     "prompt_number": 18
    },
    {
     "cell_type": "code",
     "collapsed": false,
     "input": [
      "w[(11,19)]"
     ],
     "language": "python",
     "metadata": {},
     "outputs": [
      {
       "output_type": "pyout",
       "prompt_number": 19,
       "text": [
        "{(10, 11): 0.16666666666666666,\n",
        " (11, 14): 0.16666666666666666,\n",
        " (17, 19): 0.16666666666666666,\n",
        " (18, 19): 0.16666666666666666,\n",
        " (19, 22): 0.16666666666666666,\n",
        " (19, 25): 0.16666666666666666}"
       ]
      }
     ],
     "prompt_number": 19
    },
    {
     "cell_type": "code",
     "collapsed": false,
     "input": [
      "w[(8,10)]"
     ],
     "language": "python",
     "metadata": {},
     "outputs": [
      {
       "output_type": "pyout",
       "prompt_number": 20,
       "text": [
        "{(4, 8): 0.3333333333333333,\n",
        " (10, 11): 0.3333333333333333,\n",
        " (10, 14): 0.3333333333333333}"
       ]
      }
     ],
     "prompt_number": 20
    },
    {
     "cell_type": "code",
     "collapsed": false,
     "input": [
      "wed_eberly.node_coords"
     ],
     "language": "python",
     "metadata": {},
     "outputs": [
      {
       "output_type": "pyout",
       "prompt_number": 21,
       "text": [
        "{0: (0.0, 4.0),\n",
        " 1: (1.0, 7.0),\n",
        " 2: (2.0, 4.5),\n",
        " 3: (3.0, 5.0),\n",
        " 4: (4.0, 7.0),\n",
        " 5: (5.0, 4.0),\n",
        " 6: (5.5, 3.0),\n",
        " 7: (6.2, 5.0),\n",
        " 8: (6.5, 9.0),\n",
        " 9: (7.0, 3.0),\n",
        " 10: (7.5, 7.25),\n",
        " 11: (8.0, 4.0),\n",
        " 12: (9.0, 1.0),\n",
        " 13: (11.0, 3.0),\n",
        " 14: (11.5, 7.25),\n",
        " 15: (12.0, 2.0),\n",
        " 16: (13.5, 6.0),\n",
        " 17: (14.0, 7.25),\n",
        " 18: (16.0, 1.0),\n",
        " 19: (16.0, 4.0),\n",
        " 20: (17.0, 2.0),\n",
        " 21: (18.0, 3.5),\n",
        " 22: (18.0, 8.5),\n",
        " 23: (19.0, 2.0),\n",
        " 24: (21.0, 1.0),\n",
        " 25: (21.0, 4.0)}"
       ]
      }
     ],
     "prompt_number": 21
    },
    {
     "cell_type": "code",
     "collapsed": false,
     "input": [
      "edges = set( [ tuple(sorted(edge)) for edge in wed_eberly.start_node.keys()])"
     ],
     "language": "python",
     "metadata": {},
     "outputs": [],
     "prompt_number": 22
    },
    {
     "cell_type": "code",
     "collapsed": false,
     "input": [
      "edges"
     ],
     "language": "python",
     "metadata": {},
     "outputs": [
      {
       "output_type": "pyout",
       "prompt_number": 23,
       "text": [
        "set([(6, 9),\n",
        "     (10, 11),\n",
        "     (19, 22),\n",
        "     (4, 8),\n",
        "     (17, 19),\n",
        "     (18, 19),\n",
        "     (11, 14),\n",
        "     (11, 19),\n",
        "     (16, 17),\n",
        "     (6, 7),\n",
        "     (12, 13),\n",
        "     (8, 10),\n",
        "     (19, 25),\n",
        "     (7, 9),\n",
        "     (13, 15),\n",
        "     (4, 5),\n",
        "     (18, 24),\n",
        "     (21, 23),\n",
        "     (1, 4),\n",
        "     (17, 22),\n",
        "     (3, 5),\n",
        "     (0, 1),\n",
        "     (20, 23),\n",
        "     (14, 16),\n",
        "     (24, 25),\n",
        "     (20, 21),\n",
        "     (10, 14),\n",
        "     (2, 3),\n",
        "     (0, 5)])"
       ]
      }
     ],
     "prompt_number": 23
    },
    {
     "cell_type": "code",
     "collapsed": false,
     "input": [
      "len(edges)"
     ],
     "language": "python",
     "metadata": {},
     "outputs": [
      {
       "output_type": "pyout",
       "prompt_number": 24,
       "text": [
        "29"
       ]
      }
     ],
     "prompt_number": 24
    },
    {
     "cell_type": "code",
     "collapsed": false,
     "input": [
      "sort(edges)"
     ],
     "language": "python",
     "metadata": {},
     "outputs": [
      {
       "output_type": "pyout",
       "prompt_number": 25,
       "text": [
        "array(set([(6, 9), (10, 11), (19, 22), (4, 8), (17, 19), (18, 19), (11, 14), (11, 19), (16, 17), (6, 7), (12, 13), (8, 10), (19, 25), (7, 9), (13, 15), (4, 5), (18, 24), (21, 23), (1, 4), (17, 22), (3, 5), (0, 1), (20, 23), (14, 16), (24, 25), (20, 21), (10, 14), (2, 3), (0, 5)]), dtype=object)"
       ]
      }
     ],
     "prompt_number": 25
    },
    {
     "cell_type": "code",
     "collapsed": false,
     "input": [
      "eedges = set( [ tuple(sorted(edge)) for edge in wed_eberly.end_node.keys()])"
     ],
     "language": "python",
     "metadata": {},
     "outputs": [],
     "prompt_number": 26
    },
    {
     "cell_type": "code",
     "collapsed": false,
     "input": [
      "len(eedges)"
     ],
     "language": "python",
     "metadata": {},
     "outputs": [
      {
       "output_type": "pyout",
       "prompt_number": 27,
       "text": [
        "29"
       ]
      }
     ],
     "prompt_number": 27
    },
    {
     "cell_type": "code",
     "collapsed": false,
     "input": [
      "w.id_order # note this is what should be used to assign attributes to the correct edges"
     ],
     "language": "python",
     "metadata": {},
     "outputs": [
      {
       "output_type": "pyout",
       "prompt_number": 28,
       "text": [
        "[(0, 1),\n",
        " (0, 5),\n",
        " (1, 4),\n",
        " (2, 3),\n",
        " (3, 5),\n",
        " (4, 5),\n",
        " (4, 8),\n",
        " (6, 7),\n",
        " (6, 9),\n",
        " (7, 9),\n",
        " (8, 10),\n",
        " (10, 11),\n",
        " (10, 14),\n",
        " (11, 14),\n",
        " (11, 19),\n",
        " (12, 13),\n",
        " (13, 15),\n",
        " (14, 16),\n",
        " (16, 17),\n",
        " (17, 19),\n",
        " (17, 22),\n",
        " (18, 19),\n",
        " (18, 24),\n",
        " (19, 22),\n",
        " (19, 25),\n",
        " (20, 21),\n",
        " (20, 23),\n",
        " (21, 23),\n",
        " (24, 25)]"
       ]
      }
     ],
     "prompt_number": 28
    },
    {
     "cell_type": "code",
     "collapsed": false,
     "input": [
      "for wid in w.id_order:\n",
      "    print wid, w[wid]"
     ],
     "language": "python",
     "metadata": {},
     "outputs": [
      {
       "output_type": "stream",
       "stream": "stdout",
       "text": [
        "(0, 1) {(0, 5): 0.5, (1, 4): 0.5}\n",
        "(0, 5) {(0, 1): 0.3333333333333333, (4, 5): 0.3333333333333333, (3, 5): 0.3333333333333333}\n",
        "(1, 4) {(0, 1): 0.3333333333333333, (4, 5): 0.3333333333333333, (4, 8): 0.3333333333333333}\n",
        "(2, 3) {(3, 5): 1.0}\n",
        "(3, 5) {(4, 5): 0.3333333333333333, (0, 5): 0.3333333333333333, (2, 3): 0.3333333333333333}\n",
        "(4, 5) {(3, 5): 0.25, (0, 5): 0.25, (1, 4): 0.25, (4, 8): 0.25}\n",
        "(4, 8) {(4, 5): 0.3333333333333333, (8, 10): 0.3333333333333333, (1, 4): 0.3333333333333333}\n",
        "(6, 7) {(6, 9): 0.5, (7, 9): 0.5}\n",
        "(6, 9) {(6, 7): 0.5, (7, 9): 0.5}\n",
        "(7, 9) {(6, 9): 0.5, (6, 7): 0.5}\n",
        "(8, 10) {(10, 14): 0.3333333333333333, (10, 11): 0.3333333333333333, (4, 8): 0.3333333333333333}\n",
        "(10, 11) {(10, 14): 0.25, (8, 10): 0.25, (11, 14): 0.25, (11, 19): 0.25}\n",
        "(10, 14) {(10, 11): 0.25, (8, 10): 0.25, (11, 14): 0.25, (14, 16): 0.25}\n",
        "(11, 14) {(10, 14): 0.25, (10, 11): 0.25, (11, 19): 0.25, (14, 16): 0.25}\n",
        "(11, 19) {(17, 19): 0.16666666666666666, (10, 11): 0.16666666666666666, (11, 14): 0.16666666666666666, (19, 25): 0.16666666666666666, (18, 19): 0.16666666666666666, (19, 22): 0.16666666666666666}\n",
        "(12, 13) {(13, 15): 1.0}\n",
        "(13, 15) {(12, 13): 1.0}\n",
        "(14, 16) {(16, 17): 0.3333333333333333, (10, 14): 0.3333333333333333, (11, 14): 0.3333333333333333}\n",
        "(16, 17) {(17, 19): 0.3333333333333333, (17, 22): 0.3333333333333333, (14, 16): 0.3333333333333333}\n",
        "(17, 19) {(16, 17): 0.16666666666666666, (19, 25): 0.16666666666666666, (18, 19): 0.16666666666666666, (19, 22): 0.16666666666666666, (17, 22): 0.16666666666666666, (11, 19): 0.16666666666666666}\n",
        "(17, 22) {(16, 17): 0.3333333333333333, (17, 19): 0.3333333333333333, (19, 22): 0.3333333333333333}\n",
        "(18, 19) {(18, 24): 0.2, (17, 19): 0.2, (19, 25): 0.2, (19, 22): 0.2, (11, 19): 0.2}\n",
        "(18, 24) {(24, 25): 0.5, (18, 19): 0.5}\n",
        "(19, 22) {(17, 22): 0.2, (17, 19): 0.2, (18, 19): 0.2, (19, 25): 0.2, (11, 19): 0.2}\n",
        "(19, 25) {(24, 25): 0.2, (17, 19): 0.2, (18, 19): 0.2, (11, 19): 0.2, (19, 22): 0.2}\n",
        "(20, 21) {(20, 23): 0.5, (21, 23): 0.5}\n",
        "(20, 23) {(20, 21): 0.5, (21, 23): 0.5}\n",
        "(21, 23) {(20, 21): 0.5, (20, 23): 0.5}\n",
        "(24, 25) {(18, 24): 0.5, (19, 25): 0.5}\n"
       ]
      }
     ],
     "prompt_number": 29
    }
   ],
   "metadata": {}
  }
 ]
}