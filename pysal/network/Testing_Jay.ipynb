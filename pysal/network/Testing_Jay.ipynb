{
 "metadata": {
  "name": "Testing_Jay"
 },
 "nbformat": 3,
 "nbformat_minor": 0,
 "worksheets": [
  {
   "cells": [
    {
     "cell_type": "code",
     "collapsed": false,
     "input": [
      "try:\n",
      "    reload(wed)\n",
      "except:\n",
      "    import wed\n",
      "    \n",
      "import pysal as ps\n",
      "import numpy as np\n",
      "import time\n",
      "import net_shp_io"
     ],
     "language": "python",
     "metadata": {},
     "outputs": [],
     "prompt_number": 614
    },
    {
     "cell_type": "heading",
     "level": 2,
     "metadata": {},
     "source": [
      "Testing for filament types.  Internal first using streets_net.shp."
     ]
    },
    {
     "cell_type": "code",
     "collapsed": false,
     "input": [
      "coords, edges = net_shp_io.reader(ps.examples.get_path(\"streets_net.shp\"))\n",
      "t1 = time.time()\n",
      "s_wed = wed.WED(edges, coords)\n",
      "t2 = time.time()\n",
      "print \"WED took {} seconds to generate\".format(t2-t1)\n",
      "#Filament ID is working as expected."
     ],
     "language": "python",
     "metadata": {},
     "outputs": [
      {
       "output_type": "stream",
       "stream": "stdout",
       "text": [
        "WED took 0.210316896439 seconds to generate\n"
       ]
      }
     ],
     "prompt_number": 615
    },
    {
     "cell_type": "code",
     "collapsed": false,
     "input": [
      "print s_wed.end_c[(35,136)]\n",
      "print s_wed.end_cc[(35,136)]\n",
      "print s_wed.start_c[(136,35)]\n",
      "print s_wed.start_cc[(136,35)]"
     ],
     "language": "python",
     "metadata": {},
     "outputs": [
      {
       "output_type": "stream",
       "stream": "stdout",
       "text": [
        "(144, 136)\n",
        "(136, 198)\n",
        "(144, 136)\n",
        "(136, 198)\n"
       ]
      }
     ],
     "prompt_number": 616
    },
    {
     "cell_type": "code",
     "collapsed": false,
     "input": [
      "print s_wed.end_c[(198,136)]\n",
      "print s_wed.end_cc[(198,136)]\n",
      "print \"EDGE (136,198)\"\n",
      "print s_wed.start_c[(136, 198)]\n",
      "print s_wed.start_cc[(136,198)]\n",
      "print s_wed.end_cc[(136,198)]\n",
      "print s_wed.end_c[(136,198)]"
     ],
     "language": "python",
     "metadata": {},
     "outputs": [
      {
       "output_type": "stream",
       "stream": "stdout",
       "text": [
        "(136, 35)\n",
        "(136, 135)\n",
        "EDGE (136,198)\n",
        "(35, 136)\n",
        "(135, 136)\n",
        "(198, 136)\n",
        "(136, 198)\n"
       ]
      }
     ],
     "prompt_number": 617
    },
    {
     "cell_type": "code",
     "collapsed": false,
     "input": [
      "print s_wed.end_c[(135, 136)]\n",
      "print s_wed.end_cc[(135, 136)]\n",
      "print s_wed.start_c[(136, 135)]\n",
      "print s_wed.start_cc[(136, 135)]"
     ],
     "language": "python",
     "metadata": {},
     "outputs": [
      {
       "output_type": "stream",
       "stream": "stdout",
       "text": [
        "(136, 198)\n",
        "(136, 144)\n",
        "(136, 198)\n",
        "(136, 144)\n"
       ]
      }
     ],
     "prompt_number": 618
    },
    {
     "cell_type": "code",
     "collapsed": false,
     "input": [
      "print s_wed.enum_links_node(136)\n",
      "print s_wed.enum_links_node(66)\n",
      "print s_wed.enum_links_node(135)"
     ],
     "language": "python",
     "metadata": {},
     "outputs": [
      {
       "output_type": "stream",
       "stream": "stdout",
       "text": [
        "[(35, 136), (144, 136), (135, 136), (136, 198)]\n",
        "[(145, 66), (68, 66), (54, 66), (66, 67)]\n",
        "[(136, 135), (143, 135), (135, 194)]\n"
       ]
      }
     ],
     "prompt_number": 619
    },
    {
     "cell_type": "code",
     "collapsed": false,
     "input": [
      "print s_wed.enum_edges_region(2)"
     ],
     "language": "python",
     "metadata": {},
     "outputs": [
      {
       "output_type": "stream",
       "stream": "stdout",
       "text": [
        "[(33, 34), (34, 35), (35, 136), (136, 198), (135, 136), (135, 194), (143, 135), (143, 141), (141, 196), (196, 133), (133, 132), (132, 134), (134, 177), (177, 156), (156, 157), (157, 158), (158, 159), (159, 153), (153, 33), (33, 34)]\n"
       ]
      }
     ],
     "prompt_number": 620
    },
    {
     "cell_type": "code",
     "collapsed": false,
     "input": [
      "#How does eberly work?  Here we see that the internal filament is found.  \n",
      "coords, edges = net_shp_io.reader(ps.examples.get_path(\"eberly_net.shp\"))\n",
      "t1 = time.time()\n",
      "e_wed = wed.WED(edges, coords)\n",
      "t2 = time.time()\n",
      "print \"WED took {} seconds to generate\".format(t2-t1)"
     ],
     "language": "python",
     "metadata": {},
     "outputs": [
      {
       "output_type": "stream",
       "stream": "stdout",
       "text": [
        "WED took 0.0113599300385 seconds to generate\n"
       ]
      }
     ],
     "prompt_number": 621
    },
    {
     "cell_type": "code",
     "collapsed": false,
     "input": [
      "print e_wed.start_c[(5,3)]\n",
      "print e_wed.start_cc[(5,3)]\n",
      "print e_wed.end_c[(3,5)]\n",
      "print e_wed.end_cc[(3,5)]"
     ],
     "language": "python",
     "metadata": {},
     "outputs": [
      {
       "output_type": "stream",
       "stream": "stdout",
       "text": [
        "(4, 5)\n",
        "(0, 5)\n",
        "(5, 4)\n",
        "(5, 0)\n"
       ]
      }
     ],
     "prompt_number": 622
    },
    {
     "cell_type": "code",
     "collapsed": false,
     "input": [
      "print e_wed.end_c[(4,5)]\n",
      "print e_wed.end_cc[(4,5)]"
     ],
     "language": "python",
     "metadata": {},
     "outputs": [
      {
       "output_type": "stream",
       "stream": "stdout",
       "text": [
        "(5, 0)\n",
        "(5, 3)\n"
       ]
      }
     ],
     "prompt_number": 623
    },
    {
     "cell_type": "code",
     "collapsed": false,
     "input": [
      "print e_wed.enum_links_node(4)\n",
      "print e_wed.enum_links_node(10)\n",
      "print e_wed.enum_links_node(5)"
     ],
     "language": "python",
     "metadata": {},
     "outputs": [
      {
       "output_type": "stream",
       "stream": "stdout",
       "text": [
        "[(1, 4), (4, 8), (5, 4)]\n",
        "[(10, 14), (11, 10), (10, 8)]\n",
        "[(4, 5), (5, 0), (5, 3)]\n"
       ]
      }
     ],
     "prompt_number": 624
    },
    {
     "cell_type": "code",
     "collapsed": false,
     "input": [
      "print e_wed.end_c[(8,4)]\n",
      "print e_wed.end_cc[(8,4)]\n",
      "print e_wed.start_c[(4,8)]\n",
      "print e_wed.start_cc[(4,8)]"
     ],
     "language": "python",
     "metadata": {},
     "outputs": [
      {
       "output_type": "stream",
       "stream": "stdout",
       "text": [
        "(4, 5)\n",
        "(4, 1)\n",
        "(5, 4)\n",
        "(1, 4)\n"
       ]
      }
     ],
     "prompt_number": 625
    },
    {
     "cell_type": "code",
     "collapsed": false,
     "input": [
      "print e_wed.end_c[(1,4)]\n",
      "print e_wed.end_cc[(1,4)]\n",
      "print e_wed.start_c[(4,1)]\n",
      "print e_wed.start_cc[(4,1)]"
     ],
     "language": "python",
     "metadata": {},
     "outputs": [
      {
       "output_type": "stream",
       "stream": "stdout",
       "text": [
        "(4, 8)\n",
        "(4, 5)\n",
        "(4, 8)\n",
        "(4, 5)\n"
       ]
      }
     ],
     "prompt_number": 626
    },
    {
     "cell_type": "code",
     "collapsed": false,
     "input": [
      "print e_wed.end_c[(5,4)]\n",
      "print e_wed.end_cc[(5,4)]\n",
      "print e_wed.start_c[(4,5)]\n",
      "print e_wed.start_cc[(4,5)]"
     ],
     "language": "python",
     "metadata": {},
     "outputs": [
      {
       "output_type": "stream",
       "stream": "stdout",
       "text": [
        "(1, 4)\n",
        "(4, 8)\n",
        "(1, 4)\n",
        "(4, 8)\n"
       ]
      }
     ],
     "prompt_number": 627
    },
    {
     "cell_type": "code",
     "collapsed": false,
     "input": [
      "print e_wed.end_c[(4,5)]\n",
      "print e_wed.end_cc[(4,5)]\n",
      "print e_wed.start_c[(4,5)]\n",
      "print e_wed.start_cc[(4,5)]\n"
     ],
     "language": "python",
     "metadata": {},
     "outputs": [
      {
       "output_type": "stream",
       "stream": "stdout",
       "text": [
        "(5, 0)\n",
        "(5, 3)\n",
        "(1, 4)\n",
        "(4, 8)\n"
       ]
      }
     ],
     "prompt_number": 628
    },
    {
     "cell_type": "code",
     "collapsed": false,
     "input": [
      "print e_wed.enum_edges_region(0)"
     ],
     "language": "python",
     "metadata": {},
     "outputs": [
      {
       "output_type": "stream",
       "stream": "stdout",
       "text": [
        "[(5, 0), (0, 1), (1, 4), (4, 5), (5, 3), (3, 2), (2, 3), (3, 5), (5, 0)]\n"
       ]
      }
     ],
     "prompt_number": 630
    },
    {
     "cell_type": "code",
     "collapsed": false,
     "input": [
      "#So this issue must be in another pointer that neds to be updated at filament entry.\n",
      "#Start with the edge at the node edge\n",
      "links = []\n",
      "l0 = s_wed.node_edge[136]\n",
      "print l0\n",
      "links.append(l0)\n",
      "l = l0\n",
      "node = 136\n",
      "v = node\n",
      "searching = True\n",
      "while searching:\n",
      "    if v == l[0]:\n",
      "        print \"Equal\"\n",
      "        l = s_wed.start_c[l]\n",
      "    else:\n",
      "        l = s_wed.end_c[l]\n",
      "        print \"Else\", l\n",
      "    if (l is None) or (set(l) == set(l0)):\n",
      "        searching = False\n",
      "    else:\n",
      "        links.append(l)\n",
      "print\n",
      "#Here we see that the end_c of 135,136 is incorrect.  It should be the filament, but it isn't.\n",
      "print s_wed.end_c[(135,136)]"
     ],
     "language": "python",
     "metadata": {},
     "outputs": [
      {
       "output_type": "stream",
       "stream": "stdout",
       "text": [
        "(35, 136)\n",
        "Else (144, 136)\n",
        "Else (135, 136)\n",
        "Else (136, 198)\n",
        "Equal\n",
        "\n",
        "(136, 198)\n"
       ]
      }
     ],
     "prompt_number": 629
    },
    {
     "cell_type": "code",
     "collapsed": false,
     "input": [
      "x = (1,2)\n",
      "x.index(2)"
     ],
     "language": "python",
     "metadata": {},
     "outputs": [
      {
       "output_type": "pyout",
       "prompt_number": 503,
       "text": [
        "1"
       ]
      }
     ],
     "prompt_number": 503
    },
    {
     "cell_type": "code",
     "collapsed": false,
     "input": [],
     "language": "python",
     "metadata": {},
     "outputs": []
    },
    {
     "cell_type": "code",
     "collapsed": false,
     "input": [],
     "language": "python",
     "metadata": {},
     "outputs": []
    },
    {
     "cell_type": "code",
     "collapsed": false,
     "input": [],
     "language": "python",
     "metadata": {},
     "outputs": []
    },
    {
     "cell_type": "code",
     "collapsed": false,
     "input": [],
     "language": "python",
     "metadata": {},
     "outputs": []
    },
    {
     "cell_type": "code",
     "collapsed": false,
     "input": [],
     "language": "python",
     "metadata": {},
     "outputs": []
    },
    {
     "cell_type": "code",
     "collapsed": false,
     "input": [],
     "language": "python",
     "metadata": {},
     "outputs": []
    },
    {
     "cell_type": "code",
     "collapsed": false,
     "input": [],
     "language": "python",
     "metadata": {},
     "outputs": []
    },
    {
     "cell_type": "code",
     "collapsed": false,
     "input": [],
     "language": "python",
     "metadata": {},
     "outputs": []
    }
   ],
   "metadata": {}
  }
 ]
}