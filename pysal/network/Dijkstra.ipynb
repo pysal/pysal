{
 "metadata": {
  "name": "Dijkstra"
 },
 "nbformat": 3,
 "nbformat_minor": 0,
 "worksheets": [
  {
   "cells": [
    {
     "cell_type": "code",
     "collapsed": false,
     "input": [
      "try:\n",
      "    reload(wed)\n",
      "except:\n",
      "    import wed\n",
      "    \n",
      "import pysal as ps\n",
      "import numpy as np\n",
      "import time\n",
      "import net_shp_io"
     ],
     "language": "python",
     "metadata": {},
     "outputs": [],
     "prompt_number": 6
    },
    {
     "cell_type": "code",
     "collapsed": false,
     "input": [
      "coords, edges = net_shp_io.reader(ps.examples.get_path(\"streets_net.shp\"))\n",
      "t1 = time.time()\n",
      "s_wed = wed.WED(edges, coords)\n",
      "t2 = time.time()\n",
      "print \"WED took {} seconds to generate\".format(t2-t1)\n",
      "#Filament ID is working as expected."
     ],
     "language": "python",
     "metadata": {},
     "outputs": [
      {
       "output_type": "stream",
       "stream": "stdout",
       "text": [
        "WED took 0.215730905533 seconds to generate\n"
       ]
      }
     ],
     "prompt_number": 7
    },
    {
     "cell_type": "markdown",
     "metadata": {},
     "source": [
      "Design question: edge_length is a helper, does it do into util or stay in the class? It requires the coordiantes and the edge list."
     ]
    },
    {
     "cell_type": "code",
     "collapsed": false,
     "input": [
      "#Assume that cost is length\n",
      "l = s_wed.edge_length()"
     ],
     "language": "python",
     "metadata": {},
     "outputs": [],
     "prompt_number": 8
    },
    {
     "cell_type": "markdown",
     "metadata": {},
     "source": [
      "Multiple computational methods require node lists and edge lists.  Okabe defiens these as N = (V,L) where N is the network, V is the node set and L is the link set.  I added an edge_list pointer to the wed.  Do we do the same for the nodes?"
     ]
    },
    {
     "cell_type": "code",
     "collapsed": false,
     "input": [
      "node_list = [n for n in s_wed.node_coords.keys()]"
     ],
     "language": "python",
     "metadata": {},
     "outputs": [],
     "prompt_number": 33
    },
    {
     "cell_type": "markdown",
     "metadata": {},
     "source": [
      "Dijkstra's - Args: edge set, node set, edge lengths, node"
     ]
    },
    {
     "cell_type": "code",
     "collapsed": false,
     "input": [
      "#Node to check\n",
      "v0 = 31\n",
      "\n",
      "#Helper to get the adjacent nodes by index and the length to them.\n",
      "def get_neighbor_distances(v0, l):\n",
      "    edges = s_wed.enum_links_node(v0)\n",
      "    neighbors = {}\n",
      "    for e in edges:\n",
      "        if e[0] != v0:\n",
      "            neighbors[e[0]] = l[e]\n",
      "        else:\n",
      "            neighbors[e[1]] = l[e]\n",
      "    return neighbors\n",
      "\n",
      "#2. Set the distance to all nodes to infinity, except the start node\n",
      "distance = [float('inf') for x in node_list]\n",
      "distance[node_list.index(v0)] = 0\n",
      "#2a. Setup a predicessor list so that we can compute the path\n",
      "pred = [None for x in node_list]\n",
      "#3. Generate a set of all unvisited nodes\n",
      "a = set()\n",
      "a.add(v0)\n",
      "while len(a) > 0:\n",
      "    #Get node with the lowest value from distance\n",
      "    v = float('inf')\n",
      "    for node in a:\n",
      "        if distance[node] < v:\n",
      "            v = distance[node]\n",
      "            v0 = node\n",
      "    #Remove that node from the set\n",
      "    a.remove(v0)\n",
      "    #4. Get the neighbors to the current node\n",
      "    neighbors = get_neighbor_distances(v0, l)\n",
      "    for v1, length in neighbors.iteritems():\n",
      "        if distance[v1] > distance[v] + length:\n",
      "            distance[v1] = distance[v] + length\n",
      "            pred[v1] = v\n",
      "            a.add(v1)\n",
      "#We should step over pred recursively to find our way from some node back to the start node\n",
      "print \"Preceeding node:\", pred\n",
      "print pred[208], pred[32], pred[31]\n",
      "#print \"Distance: \",distance"
     ],
     "language": "python",
     "metadata": {},
     "outputs": [
      {
       "output_type": "stream",
       "stream": "stdout",
       "text": [
        "31\n",
        "Preceeding node: [None, None, None, None, None, None, None, None, None, None, None, None, None, None, None, None, None, None, None, None, None, None, None, None, None, None, None, None, None, None, None, None, None, None, None, None, None, None, None, None, None, None, None, None, None, None, None, None, None, None, None, None, None, None, None, None, None, None, None, None, None, None, None, None, None, None, None, None, None, None, None, None, None, None, None, None, None, None, None, None, None, None, None, None, None, None, None, None, None, None, None, None, None, None, None, None, None, None, None, None, None, None, None, None, None, None, None, None, None, None, None, None, None, None, None, None, None, None, None, None, None, None, None, None, None, None, None, None, None, None, None, None, None, None, None, None, None, None, None, None, None, None, None, None, None, None, None, None, None, None, None, None, None, None, None, None, None, None, None, None, None, None, None, None, None, None, None, None, None, None, None, None, None, None, None, None, None, None, None, None, None, None, None, None, None, None, None, None, None, None, None, None, None, None, None, None, None, None, None, None, None, None, None, None, None, None, None, None, None, None, None, None, None, None, None, None, None, None, None, None, None, None, None, None, None, None, None, None, None, None]\n",
        "None None None\n"
       ]
      }
     ],
     "prompt_number": 41
    },
    {
     "cell_type": "code",
     "collapsed": false,
     "input": [
      "start = 9\n",
      "end = 72\n",
      "print pred[71]\n",
      "path = [end]\n",
      "previous = pred[end]\n",
      "print pred[end-1], previous\n",
      "counter = 0\n",
      "while previous != start:\n",
      "    path.append(previous)\n",
      "    end = previous\n",
      "    previous = pred[end]\n",
      "    counter += 1\n",
      "    if counter > 50:\n",
      "        break\n",
      "print path"
     ],
     "language": "python",
     "metadata": {},
     "outputs": [
      {
       "output_type": "stream",
       "stream": "stdout",
       "text": [
        "8\n",
        "8 103\n",
        "[72, 103, 64, 32, 2, 64, 32, 2, 64, 32, 2, 64, 32, 2, 64, 32, 2, 64, 32, 2, 64, 32, 2, 64, 32, 2, 64, 32, 2, 64, 32, 2, 64, 32, 2, 64, 32, 2, 64, 32, 2, 64, 32, 2, 64, 32, 2, 64, 32, 2, 64, 32]\n"
       ]
      }
     ],
     "prompt_number": 24
    },
    {
     "cell_type": "code",
     "collapsed": false,
     "input": [],
     "language": "python",
     "metadata": {},
     "outputs": []
    }
   ],
   "metadata": {}
  }
 ]
}