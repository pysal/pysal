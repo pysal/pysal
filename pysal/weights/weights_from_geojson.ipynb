{
 "cells": [
  {
   "cell_type": "markdown",
   "metadata": {},
   "source": [
    "## Prototyping the construction of PySAL weights from geojson. Supports local files, uri, and serialized objects "
   ]
  },
  {
   "cell_type": "raw",
   "metadata": {},
   "source": [
    "Author: Sergio Rey <sjsrey@gmail.com>"
   ]
  },
  {
   "cell_type": "code",
   "execution_count": 1,
   "metadata": {
    "collapsed": false
   },
   "outputs": [],
   "source": [
    "import geojson\n",
    "import pysal as ps\n",
    "import urllib2 as urllib\n",
    "import numpy as np"
   ]
  },
  {
   "cell_type": "code",
   "execution_count": 2,
   "metadata": {
    "collapsed": false
   },
   "outputs": [],
   "source": [
    "class PolygonCollection:\n",
    "    def __init__(self, polygons, bbox=None):\n",
    "        \"\"\"\n",
    "\n",
    "        Parameters\n",
    "        ==========\n",
    "        polygons: dict\n",
    "                  key is polygon Id, value is PySAL Polygon object\n",
    "        bbox: list (optional)\n",
    "              [left, lower, right, upper]\n",
    "\n",
    "        Notes\n",
    "        =====\n",
    "        bbox is supported in geojson specification at both the feature and feature collection level. However, not all geojson writers generate the bbox at the feature collection level. \n",
    "        In those cases, the bbox property will be set on initial access.\n",
    "\n",
    "        \"\"\"\n",
    "              \n",
    "        self.type=ps.cg.Polygon\n",
    "        self.n = len(polygons)\n",
    "        self.polygons = polygons\n",
    "        self.ids = polygons.keys()\n",
    "        \n",
    "        if bbox is None:\n",
    "            self._bbox = None\n",
    "        else:\n",
    "            self._bbox = bbox\n",
    "            \n",
    "    @property\n",
    "    def bbox(self):\n",
    "        bboxes = np.array([self.polygons[p].bbox for p in self.polygons])\n",
    "        mins = bboxes.min(axis=0)\n",
    "        maxs = bboxes.max(axis=0)\n",
    "        self._bbox = [ mins[0], mins[1], maxs[2], maxs[3] ]\n",
    "        return self._bbox\n",
    "        \n",
    "    \n",
    "    def __getitem__(self, index):\n",
    "        return self.polygons[index]\n",
    "            "
   ]
  },
  {
   "cell_type": "code",
   "execution_count": 3,
   "metadata": {
    "collapsed": false
   },
   "outputs": [],
   "source": [
    "def queen_geojson(gjobj):\n",
    "    \"\"\"\n",
    "    Constructs a PySAL queen contiguity W from a geojson object\n",
    "\n",
    "    \"\"\"\n",
    "    polys = []\n",
    "    ids = []\n",
    "    i = 0\n",
    "    for feature in gjobj['features']:\n",
    "        polys.append(ps.cg.asShape(geojson.Polygon(feature['geometry']['coordinates'])))\n",
    "        ids.append(i)\n",
    "        i += 1\n",
    "    polygons = PolygonCollection(dict(zip(ids,polys)))\n",
    "    neighbors = ps.weights.Contiguity.ContiguityWeightsPolygons(polygons).w\n",
    "    return ps.W(neighbors)"
   ]
  },
  {
   "cell_type": "code",
   "execution_count": 4,
   "metadata": {
    "collapsed": false
   },
   "outputs": [],
   "source": [
    "def queen_from_geojson(uri):\n",
    "    gjobj = geojson.load(urllib.urlopen(uri))\n",
    "    return queen_geojson(gjobj)"
   ]
  },
  {
   "cell_type": "code",
   "execution_count": 5,
   "metadata": {
    "collapsed": false
   },
   "outputs": [],
   "source": [
    "def queen_from_geojsons(s):\n",
    "    return queen_geojson(info)"
   ]
  },
  {
   "cell_type": "code",
   "execution_count": 6,
   "metadata": {
    "collapsed": false
   },
   "outputs": [],
   "source": [
    "def queen_from_geojsonf(fileName):\n",
    "    fp = open(fileName)\n",
    "    obj = geojson.load(fp)\n",
    "    fp.close()\n",
    "    return queen_geojson(obj)"
   ]
  },
  {
   "cell_type": "code",
   "execution_count": 7,
   "metadata": {
    "collapsed": false
   },
   "outputs": [],
   "source": [
    "# from a uri\n",
    "uri = \"http://toae.org/pub/columbus.json\""
   ]
  },
  {
   "cell_type": "code",
   "execution_count": 8,
   "metadata": {
    "collapsed": false
   },
   "outputs": [],
   "source": [
    "wq = queen_from_geojson(uri)"
   ]
  },
  {
   "cell_type": "code",
   "execution_count": 9,
   "metadata": {
    "collapsed": false
   },
   "outputs": [
    {
     "data": {
      "text/plain": [
       "49"
      ]
     },
     "execution_count": 9,
     "metadata": {},
     "output_type": "execute_result"
    }
   ],
   "source": [
    "wq.n"
   ]
  },
  {
   "cell_type": "code",
   "execution_count": 10,
   "metadata": {
    "collapsed": false
   },
   "outputs": [],
   "source": [
    "# from a local file\n",
    "wf = queen_from_geojsonf(ps.examples.get_path(\"columbus.json\"))"
   ]
  },
  {
   "cell_type": "code",
   "execution_count": 11,
   "metadata": {
    "collapsed": false
   },
   "outputs": [
    {
     "data": {
      "text/plain": [
       "49"
      ]
     },
     "execution_count": 11,
     "metadata": {},
     "output_type": "execute_result"
    }
   ],
   "source": [
    "wf.n"
   ]
  },
  {
   "cell_type": "code",
   "execution_count": 12,
   "metadata": {
    "collapsed": false
   },
   "outputs": [],
   "source": [
    "# from a serialized geojson object\n",
    "\n",
    "fp = open(ps.examples.get_path(\"columbus.json\"))\n",
    "info = geojson.load(fp)\n",
    "fp.close()\n",
    "infos = geojson.dumps(info)\n",
    "ws = queen_from_geojsons(infos)"
   ]
  },
  {
   "cell_type": "code",
   "execution_count": 13,
   "metadata": {
    "collapsed": false
   },
   "outputs": [
    {
     "data": {
      "text/plain": [
       "49"
      ]
     },
     "execution_count": 13,
     "metadata": {},
     "output_type": "execute_result"
    }
   ],
   "source": [
    "ws.n"
   ]
  },
  {
   "cell_type": "code",
   "execution_count": 14,
   "metadata": {
    "collapsed": false
   },
   "outputs": [
    {
     "data": {
      "text/plain": [
       "True"
      ]
     },
     "execution_count": 14,
     "metadata": {},
     "output_type": "execute_result"
    }
   ],
   "source": [
    "wf.neighbors == ws.neighbors"
   ]
  },
  {
   "cell_type": "code",
   "execution_count": 15,
   "metadata": {
    "collapsed": false
   },
   "outputs": [
    {
     "data": {
      "text/plain": [
       "True"
      ]
     },
     "execution_count": 15,
     "metadata": {},
     "output_type": "execute_result"
    }
   ],
   "source": [
    "wq.neighbors == wf.neighbors"
   ]
  },
  {
   "cell_type": "markdown",
   "metadata": {
    "collapsed": false
   },
   "source": [
    "## Prototyping the construction of PySAL weights from shapely polygons."
   ]
  },
  {
   "cell_type": "markdown",
   "metadata": {},
   "source": [
    "The following function returns the weights object created based on contiguity criterion. Needs to be extended to other types. Doesnt handle errors like geoObj containing lines, points for now."
   ]
  },
  {
   "cell_type": "code",
   "execution_count": 16,
   "metadata": {
    "collapsed": true
   },
   "outputs": [],
   "source": [
    "import pysal as ps\n",
    "from pysal.weights._contW_binning import ContiguityWeightsPolygons\n",
    "from pysal.cg.shapes import asShape"
   ]
  },
  {
   "cell_type": "code",
   "execution_count": 17,
   "metadata": {
    "collapsed": true
   },
   "outputs": [],
   "source": [
    "WT_TYPE = {'queen': 1, 'rook': 2}"
   ]
  },
  {
   "cell_type": "code",
   "execution_count": 22,
   "metadata": {
    "collapsed": true
   },
   "outputs": [],
   "source": [
    "def weights_from_geoObject(geoObj, ids, wType = 'queen'):\n",
    "    '''\n",
    "    Returns a weights object.\n",
    "    \n",
    "    Parameters:\n",
    "    ==========\n",
    "    \n",
    "    geoObj: List \n",
    "            of polygons supporting the __geo_interface__.\n",
    "    \n",
    "    ids: List\n",
    "            of ids for the polygons.\n",
    "    \n",
    "    wType: 'queen' or 'rook'\n",
    "        Type of contiguity.\n",
    "    \n",
    "    '''\n",
    "    polys = map(asShape, geoObj)\n",
    "    \n",
    "    polys = dict(zip(ids, polys))\n",
    "    \n",
    "    polys = PolygonCollection(polys)\n",
    "    \n",
    "    neighbours = ContiguityWeightsPolygons(polys, WT_TYPE[wType]).w\n",
    "    \n",
    "    return ps.W(neighbours)"
   ]
  },
  {
   "cell_type": "code",
   "execution_count": 23,
   "metadata": {
    "collapsed": true
   },
   "outputs": [],
   "source": [
    "from shapely.geometry import Polygon"
   ]
  },
  {
   "cell_type": "code",
   "execution_count": 24,
   "metadata": {
    "collapsed": false
   },
   "outputs": [
    {
     "name": "stdout",
     "output_type": "stream",
     "text": [
      "(array([[ 0.,  1.,  0.,  1.,  1.,  0.,  0.,  0.,  0.],\n",
      "       [ 1.,  0.,  1.,  1.,  1.,  1.,  0.,  0.,  0.],\n",
      "       [ 0.,  1.,  0.,  0.,  1.,  1.,  0.,  0.,  0.],\n",
      "       [ 1.,  1.,  0.,  0.,  1.,  0.,  1.,  1.,  0.],\n",
      "       [ 1.,  1.,  1.,  1.,  0.,  1.,  1.,  1.,  1.],\n",
      "       [ 0.,  1.,  1.,  0.,  1.,  0.,  0.,  1.,  1.],\n",
      "       [ 0.,  0.,  0.,  1.,  1.,  0.,  0.,  1.,  0.],\n",
      "       [ 0.,  0.,  0.,  1.,  1.,  1.,  1.,  0.,  1.],\n",
      "       [ 0.,  0.,  0.,  0.,  1.,  1.,  0.,  1.,  0.]]), [0, 1, 2, 3, 4, 5, 6, 7, 8])\n"
     ]
    }
   ],
   "source": [
    "bl = [(x, y) for y in range(3) for x in range(3)]\n",
    "br = [(x, y) for y in range(3) for x in range(1,4)]\n",
    "tr = [(x, y) for y in range(1,4) for x in range(1,4)]\n",
    "tl = [(x,y) for y in range(1,4) for x in range(3)]\n",
    "\n",
    "polys = map(Polygon, zip(bl,br,tr,tl))\n",
    "\n",
    "w = weights_from_geoObject(polys, range(1, 10))\n",
    "\n",
    "wfull = w.full()\n",
    "print wfull\n"
   ]
  },
  {
   "cell_type": "code",
   "execution_count": null,
   "metadata": {
    "collapsed": true
   },
   "outputs": [],
   "source": []
  }
 ],
 "metadata": {
  "kernelspec": {
   "display_name": "Python 2",
   "language": "python",
   "name": "python2"
  },
  "language_info": {
   "codemirror_mode": {
    "name": "ipython",
    "version": 2
   },
   "file_extension": ".py",
   "mimetype": "text/x-python",
   "name": "python",
   "nbconvert_exporter": "python",
   "pygments_lexer": "ipython2",
   "version": "2.7.6"
  }
 },
 "nbformat": 4,
 "nbformat_minor": 0
}
