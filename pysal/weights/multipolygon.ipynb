{
 "metadata": {
  "name": "",
  "signature": "sha256:a0df9888bef0796f44cf3782a8533223fc059f5c71797c24a926f4f9e8ba832e"
 },
 "nbformat": 3,
 "nbformat_minor": 0,
 "worksheets": [
  {
   "cells": [
    {
     "cell_type": "heading",
     "level": 2,
     "metadata": {},
     "source": [
      "Prototyping the construction of PySAL weights from geojson. Supports local files, uri, and serialized streams\n",
      "\n"
     ]
    },
    {
     "cell_type": "raw",
     "metadata": {},
     "source": [
      "Author: Sergio Rey <sjsrey@gmail.com>"
     ]
    },
    {
     "cell_type": "code",
     "collapsed": false,
     "input": [
      "import geojson\n",
      "import pysal as ps\n",
      "import urllib2 as urllib"
     ],
     "language": "python",
     "metadata": {},
     "outputs": [],
     "prompt_number": 1
    },
    {
     "cell_type": "code",
     "collapsed": false,
     "input": [
      "class PolygonCollection:\n",
      "    def __init__(self, polygons, bbox=None):\n",
      "        \"\"\"\n",
      "\n",
      "        Parameters\n",
      "        ==========\n",
      "        polygons: dict\n",
      "                  key is polygon Id, value is PySAL Polygon object\n",
      "        bbox: list (optional)\n",
      "              [left, lower, right, upper]\n",
      "\n",
      "        Notes\n",
      "        =====\n",
      "        bbox is supported in geojson specification at both the feature and feature collection level. However, not all GeoJSON writers generate the bbox at the feature collection level. \n",
      "        In those cases, the bbox property will be set on initial access.\n",
      "\n",
      "        \"\"\"\n",
      "              \n",
      "        self.type=ps.cg.Polygon\n",
      "        self.n = len(polygons)\n",
      "        self.polygons = polygons\n",
      "        if bbox is None:\n",
      "            self._bbox = None\n",
      "        else:\n",
      "            self._bbox = bbox\n",
      "            \n",
      "    @property\n",
      "    def bbox(self):\n",
      "        bboxes = np.array([self.polygons[p].bbox for p in self.polygons])\n",
      "        mins = bboxes.min(axis=0)\n",
      "        maxs = bboxes.max(axis=0)\n",
      "        self._bbox = [ mins[0], mins[1], maxs[2], maxs[3] ]\n",
      "        return self._bbox\n",
      "        \n",
      "    \n",
      "    def __getitem__(self, index):\n",
      "        return self.polygons[index]\n",
      "            "
     ],
     "language": "python",
     "metadata": {},
     "outputs": [],
     "prompt_number": 2
    },
    {
     "cell_type": "code",
     "collapsed": false,
     "input": [
      "def queen_geojson(gjobj):\n",
      "    \"\"\"\n",
      "    Constructs a PySAL queen contiguity W from a GeoJSON feature collection consisting of Polygons and/or Multipolygons\n",
      "\n",
      "    \"\"\"\n",
      "    first = gjobj['features'][0]['geometry']['type']\n",
      "    if first == 'Polygon' or first =='MultiPolygon':\n",
      "        polys = []\n",
      "        ids = []\n",
      "        i = 0\n",
      "        for feature in gjobj['features']:\n",
      "            if feature['geometry']['type'] == 'Polygon':\n",
      "                polys.append(ps.cg.asShape(geojson.Polygon(feature['geometry']['coordinates'])))\n",
      "            else:               \n",
      "                polys.append(ps.cg.asShape(geojson.MultiPolygon(feature['geometry']['coordinates'])))\n",
      "            ids.append(i)\n",
      "            i += 1\n",
      "        polygons = PolygonCollection(dict(zip(ids,polys)))\n",
      "        neighbors = ps.weights.Contiguity.ContiguityWeightsPolygons(polygons).w\n",
      "        return ps.W(neighbors)\n",
      "    else:\n",
      "        print \"GeoJSON feature type must be 'Polygon' or 'MultiPolygon'\"\n",
      "        return None"
     ],
     "language": "python",
     "metadata": {},
     "outputs": [],
     "prompt_number": 3
    },
    {
     "cell_type": "code",
     "collapsed": false,
     "input": [
      "def queen_from_geojson(uri):\n",
      "    gjobj = geojson.load(urllib.urlopen(uri))\n",
      "    return queen_geojson(gjobj)"
     ],
     "language": "python",
     "metadata": {},
     "outputs": [],
     "prompt_number": 4
    },
    {
     "cell_type": "code",
     "collapsed": false,
     "input": [
      "def queen_from_geojsons(s):\n",
      "    return queen_geojson(info)"
     ],
     "language": "python",
     "metadata": {},
     "outputs": [],
     "prompt_number": 5
    },
    {
     "cell_type": "code",
     "collapsed": false,
     "input": [
      "def queen_from_geojsonf(fileName):\n",
      "    fp = open(fileName)\n",
      "    obj = geojson.load(fp)\n",
      "    fp.close()\n",
      "    return queen_geojson(obj)"
     ],
     "language": "python",
     "metadata": {},
     "outputs": [],
     "prompt_number": 6
    },
    {
     "cell_type": "code",
     "collapsed": false,
     "input": [
      "# from a uri\n",
      "uri = \"http://toae.org/pub/columbus.json\""
     ],
     "language": "python",
     "metadata": {},
     "outputs": [],
     "prompt_number": 7
    },
    {
     "cell_type": "code",
     "collapsed": false,
     "input": [
      "wq = queen_from_geojson(uri)"
     ],
     "language": "python",
     "metadata": {},
     "outputs": [
      {
       "ename": "TypeError",
       "evalue": "{\"coordinates\": [[[8.624129295349121, 14.236980438232422], [8.559700012207031, 14.742449760437012], [8.809452056884766, 14.734430313110352], [8.808412551879883, 14.636520385742188], [8.919304847717285, 14.638500213623047], [9.087138175964355, 14.63049030303955], [9.09996509552002, 14.244830131530762], [9.015047073364258, 14.241840362548828], [9.008951187133789, 13.995059967041016], [8.818140029907227, 14.002050399780273], [8.653305053710938, 14.008090019226074], [8.642902374267578, 14.089710235595703], [8.63259220123291, 14.1705904006958], [8.625825881958008, 14.22367000579834], [8.624129295349121, 14.236980438232422]]], \"type\": \"Polygon\"} does not appear to be a shape object",
       "output_type": "pyerr",
       "traceback": [
        "\u001b[1;31m---------------------------------------------------------------------------\u001b[0m\n\u001b[1;31mTypeError\u001b[0m                                 Traceback (most recent call last)",
        "\u001b[1;32m<ipython-input-8-6e9b64797d7e>\u001b[0m in \u001b[0;36m<module>\u001b[1;34m()\u001b[0m\n\u001b[1;32m----> 1\u001b[1;33m \u001b[0mwq\u001b[0m \u001b[1;33m=\u001b[0m \u001b[0mqueen_from_geojson\u001b[0m\u001b[1;33m(\u001b[0m\u001b[0muri\u001b[0m\u001b[1;33m)\u001b[0m\u001b[1;33m\u001b[0m\u001b[0m\n\u001b[0m",
        "\u001b[1;32m<ipython-input-4-8650e5ed40b8>\u001b[0m in \u001b[0;36mqueen_from_geojson\u001b[1;34m(uri)\u001b[0m\n\u001b[0;32m      1\u001b[0m \u001b[1;32mdef\u001b[0m \u001b[0mqueen_from_geojson\u001b[0m\u001b[1;33m(\u001b[0m\u001b[0muri\u001b[0m\u001b[1;33m)\u001b[0m\u001b[1;33m:\u001b[0m\u001b[1;33m\u001b[0m\u001b[0m\n\u001b[0;32m      2\u001b[0m     \u001b[0mgjobj\u001b[0m \u001b[1;33m=\u001b[0m \u001b[0mgeojson\u001b[0m\u001b[1;33m.\u001b[0m\u001b[0mload\u001b[0m\u001b[1;33m(\u001b[0m\u001b[0murllib\u001b[0m\u001b[1;33m.\u001b[0m\u001b[0murlopen\u001b[0m\u001b[1;33m(\u001b[0m\u001b[0muri\u001b[0m\u001b[1;33m)\u001b[0m\u001b[1;33m)\u001b[0m\u001b[1;33m\u001b[0m\u001b[0m\n\u001b[1;32m----> 3\u001b[1;33m     \u001b[1;32mreturn\u001b[0m \u001b[0mqueen_geojson\u001b[0m\u001b[1;33m(\u001b[0m\u001b[0mgjobj\u001b[0m\u001b[1;33m)\u001b[0m\u001b[1;33m\u001b[0m\u001b[0m\n\u001b[0m",
        "\u001b[1;32m<ipython-input-3-5be4eff0f003>\u001b[0m in \u001b[0;36mqueen_geojson\u001b[1;34m(gjobj)\u001b[0m\n\u001b[0;32m     11\u001b[0m         \u001b[1;32mfor\u001b[0m \u001b[0mfeature\u001b[0m \u001b[1;32min\u001b[0m \u001b[0mgjobj\u001b[0m\u001b[1;33m[\u001b[0m\u001b[1;34m'features'\u001b[0m\u001b[1;33m]\u001b[0m\u001b[1;33m:\u001b[0m\u001b[1;33m\u001b[0m\u001b[0m\n\u001b[0;32m     12\u001b[0m             \u001b[1;32mif\u001b[0m \u001b[0mfeature\u001b[0m\u001b[1;33m[\u001b[0m\u001b[1;34m'geometry'\u001b[0m\u001b[1;33m]\u001b[0m\u001b[1;33m[\u001b[0m\u001b[1;34m'type'\u001b[0m\u001b[1;33m]\u001b[0m \u001b[1;33m==\u001b[0m \u001b[1;34m'Polygon'\u001b[0m\u001b[1;33m:\u001b[0m\u001b[1;33m\u001b[0m\u001b[0m\n\u001b[1;32m---> 13\u001b[1;33m                 \u001b[0mpolys\u001b[0m\u001b[1;33m.\u001b[0m\u001b[0mappend\u001b[0m\u001b[1;33m(\u001b[0m\u001b[0mps\u001b[0m\u001b[1;33m.\u001b[0m\u001b[0mcg\u001b[0m\u001b[1;33m.\u001b[0m\u001b[0masShape\u001b[0m\u001b[1;33m(\u001b[0m\u001b[0mgeojson\u001b[0m\u001b[1;33m.\u001b[0m\u001b[0mPolygon\u001b[0m\u001b[1;33m(\u001b[0m\u001b[0mfeature\u001b[0m\u001b[1;33m[\u001b[0m\u001b[1;34m'geometry'\u001b[0m\u001b[1;33m]\u001b[0m\u001b[1;33m[\u001b[0m\u001b[1;34m'coordinates'\u001b[0m\u001b[1;33m]\u001b[0m\u001b[1;33m)\u001b[0m\u001b[1;33m)\u001b[0m\u001b[1;33m)\u001b[0m\u001b[1;33m\u001b[0m\u001b[0m\n\u001b[0m\u001b[0;32m     14\u001b[0m             \u001b[1;32melse\u001b[0m\u001b[1;33m:\u001b[0m\u001b[1;33m\u001b[0m\u001b[0m\n\u001b[0;32m     15\u001b[0m                 \u001b[0mpolys\u001b[0m\u001b[1;33m.\u001b[0m\u001b[0mappend\u001b[0m\u001b[1;33m(\u001b[0m\u001b[0mps\u001b[0m\u001b[1;33m.\u001b[0m\u001b[0mcg\u001b[0m\u001b[1;33m.\u001b[0m\u001b[0masShape\u001b[0m\u001b[1;33m(\u001b[0m\u001b[0mgeojson\u001b[0m\u001b[1;33m.\u001b[0m\u001b[0mMultiPolygon\u001b[0m\u001b[1;33m(\u001b[0m\u001b[0mfeature\u001b[0m\u001b[1;33m[\u001b[0m\u001b[1;34m'geometry'\u001b[0m\u001b[1;33m]\u001b[0m\u001b[1;33m[\u001b[0m\u001b[1;34m'coordinates'\u001b[0m\u001b[1;33m]\u001b[0m\u001b[1;33m)\u001b[0m\u001b[1;33m)\u001b[0m\u001b[1;33m)\u001b[0m\u001b[1;33m\u001b[0m\u001b[0m\n",
        "\u001b[1;32m/home/serge/Dropbox/p/pysal/src/pysal/pysal/cg/shapes.py\u001b[0m in \u001b[0;36masShape\u001b[1;34m(obj)\u001b[0m\n\u001b[0;32m     26\u001b[0m         \u001b[0mgeo\u001b[0m \u001b[1;33m=\u001b[0m \u001b[0mobj\u001b[0m\u001b[1;33m\u001b[0m\u001b[0m\n\u001b[0;32m     27\u001b[0m     \u001b[1;32mif\u001b[0m \u001b[0mhasattr\u001b[0m\u001b[1;33m(\u001b[0m\u001b[0mgeo\u001b[0m\u001b[1;33m,\u001b[0m \u001b[1;34m'type'\u001b[0m\u001b[1;33m)\u001b[0m\u001b[1;33m:\u001b[0m\u001b[1;33m\u001b[0m\u001b[0m\n\u001b[1;32m---> 28\u001b[1;33m         \u001b[1;32mraise\u001b[0m \u001b[0mTypeError\u001b[0m\u001b[1;33m(\u001b[0m\u001b[1;34m'%r does not appear to be a shape object'\u001b[0m \u001b[1;33m%\u001b[0m \u001b[1;33m(\u001b[0m\u001b[0mobj\u001b[0m\u001b[1;33m)\u001b[0m\u001b[1;33m)\u001b[0m\u001b[1;33m\u001b[0m\u001b[0m\n\u001b[0m\u001b[0;32m     29\u001b[0m     \u001b[0mgeo_type\u001b[0m \u001b[1;33m=\u001b[0m \u001b[0mgeo\u001b[0m\u001b[1;33m[\u001b[0m\u001b[1;34m'type'\u001b[0m\u001b[1;33m]\u001b[0m\u001b[1;33m.\u001b[0m\u001b[0mlower\u001b[0m\u001b[1;33m(\u001b[0m\u001b[1;33m)\u001b[0m\u001b[1;33m\u001b[0m\u001b[0m\n\u001b[0;32m     30\u001b[0m     \u001b[1;31m#if geo_type.startswith('multi'):\u001b[0m\u001b[1;33m\u001b[0m\u001b[1;33m\u001b[0m\u001b[0m\n",
        "\u001b[1;31mTypeError\u001b[0m: {\"coordinates\": [[[8.624129295349121, 14.236980438232422], [8.559700012207031, 14.742449760437012], [8.809452056884766, 14.734430313110352], [8.808412551879883, 14.636520385742188], [8.919304847717285, 14.638500213623047], [9.087138175964355, 14.63049030303955], [9.09996509552002, 14.244830131530762], [9.015047073364258, 14.241840362548828], [9.008951187133789, 13.995059967041016], [8.818140029907227, 14.002050399780273], [8.653305053710938, 14.008090019226074], [8.642902374267578, 14.089710235595703], [8.63259220123291, 14.1705904006958], [8.625825881958008, 14.22367000579834], [8.624129295349121, 14.236980438232422]]], \"type\": \"Polygon\"} does not appear to be a shape object"
       ]
      }
     ],
     "prompt_number": 8
    },
    {
     "cell_type": "code",
     "collapsed": false,
     "input": [
      "wq.n"
     ],
     "language": "python",
     "metadata": {},
     "outputs": [
      {
       "ename": "NameError",
       "evalue": "name 'wq' is not defined",
       "output_type": "pyerr",
       "traceback": [
        "\u001b[1;31m---------------------------------------------------------------------------\u001b[0m\n\u001b[1;31mNameError\u001b[0m                                 Traceback (most recent call last)",
        "\u001b[1;32m<ipython-input-9-3c111b2f7f2a>\u001b[0m in \u001b[0;36m<module>\u001b[1;34m()\u001b[0m\n\u001b[1;32m----> 1\u001b[1;33m \u001b[0mwq\u001b[0m\u001b[1;33m.\u001b[0m\u001b[0mn\u001b[0m\u001b[1;33m\u001b[0m\u001b[0m\n\u001b[0m",
        "\u001b[1;31mNameError\u001b[0m: name 'wq' is not defined"
       ]
      }
     ],
     "prompt_number": 9
    },
    {
     "cell_type": "code",
     "collapsed": false,
     "input": [
      "# counties\n",
      "# note that NAT.json needs to be created locally (too large for repos)\n",
      "# \"ogr2ogr -lco WRITE_BBOX=YES -f \"GeoJSON\" NAT.json NAT.shp\n",
      "wf = queen_from_geojsonf(ps.examples.get_path(\"NAT.json\"))"
     ],
     "language": "python",
     "metadata": {},
     "outputs": [],
     "prompt_number": 10
    },
    {
     "cell_type": "code",
     "collapsed": false,
     "input": [
      "wf.n"
     ],
     "language": "python",
     "metadata": {},
     "outputs": [
      {
       "metadata": {},
       "output_type": "pyout",
       "prompt_number": 11,
       "text": [
        "3085"
       ]
      }
     ],
     "prompt_number": 11
    },
    {
     "cell_type": "code",
     "collapsed": false,
     "input": [
      "wq = ps.queen_from_shapefile(ps.examples.get_path(\"NAT.shp\"))"
     ],
     "language": "python",
     "metadata": {},
     "outputs": [],
     "prompt_number": 12
    },
    {
     "cell_type": "code",
     "collapsed": false,
     "input": [
      "wq.n"
     ],
     "language": "python",
     "metadata": {},
     "outputs": [
      {
       "metadata": {},
       "output_type": "pyout",
       "prompt_number": 13,
       "text": [
        "3085"
       ]
      }
     ],
     "prompt_number": 13
    },
    {
     "cell_type": "code",
     "collapsed": false,
     "input": [
      "wq.pct_nonzero"
     ],
     "language": "python",
     "metadata": {},
     "outputs": [
      {
       "metadata": {},
       "output_type": "pyout",
       "prompt_number": 14,
       "text": [
        "0.0019089598070866245"
       ]
      }
     ],
     "prompt_number": 14
    },
    {
     "cell_type": "code",
     "collapsed": false,
     "input": [
      "wf.pct_nonzero"
     ],
     "language": "python",
     "metadata": {},
     "outputs": [
      {
       "metadata": {},
       "output_type": "pyout",
       "prompt_number": 15,
       "text": [
        "0.0019089598070866245"
       ]
      }
     ],
     "prompt_number": 15
    },
    {
     "cell_type": "code",
     "collapsed": false,
     "input": [
      "for i in wq.neighbors:\n",
      "    if set(wq.neighbors[i]) != set(wf.neighbors[i]):\n",
      "        print wq.neighbors[i]\n",
      "        print wf.neighbors[i]"
     ],
     "language": "python",
     "metadata": {},
     "outputs": [],
     "prompt_number": 16
    },
    {
     "cell_type": "code",
     "collapsed": false,
     "input": [
      "uri = \"http://toae.org/pub/NAT.json\"\n",
      "wi = queen_from_geojson(uri)"
     ],
     "language": "python",
     "metadata": {},
     "outputs": [],
     "prompt_number": 17
    },
    {
     "cell_type": "code",
     "collapsed": false,
     "input": [
      "wi.n"
     ],
     "language": "python",
     "metadata": {},
     "outputs": [
      {
       "metadata": {},
       "output_type": "pyout",
       "prompt_number": 18,
       "text": [
        "3085"
       ]
      }
     ],
     "prompt_number": 18
    },
    {
     "cell_type": "code",
     "collapsed": false,
     "input": [],
     "language": "python",
     "metadata": {},
     "outputs": []
    }
   ],
   "metadata": {}
  }
 ]
}