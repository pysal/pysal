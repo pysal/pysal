{
 "metadata": {
  "name": ""
 },
 "nbformat": 3,
 "nbformat_minor": 0,
 "worksheets": [
  {
   "cells": [
    {
     "cell_type": "code",
     "collapsed": false,
     "input": [
      "import pysal as ps"
     ],
     "language": "python",
     "metadata": {},
     "outputs": [],
     "prompt_number": 1
    },
    {
     "cell_type": "code",
     "collapsed": false,
     "input": [
      "w = ps.lat2W(5,5)"
     ],
     "language": "python",
     "metadata": {},
     "outputs": [],
     "prompt_number": 2
    },
    {
     "cell_type": "code",
     "collapsed": false,
     "input": [
      "w.n"
     ],
     "language": "python",
     "metadata": {},
     "outputs": [
      {
       "metadata": {},
       "output_type": "pyout",
       "prompt_number": 55,
       "text": [
        "25"
       ]
      }
     ],
     "prompt_number": 55
    },
    {
     "cell_type": "code",
     "collapsed": false,
     "input": [
      "w.id2i"
     ],
     "language": "python",
     "metadata": {},
     "outputs": [
      {
       "metadata": {},
       "output_type": "pyout",
       "prompt_number": 56,
       "text": [
        "{0: 0,\n",
        " 1: 1,\n",
        " 2: 2,\n",
        " 3: 3,\n",
        " 4: 4,\n",
        " 5: 5,\n",
        " 6: 6,\n",
        " 7: 7,\n",
        " 8: 8,\n",
        " 9: 9,\n",
        " 10: 10,\n",
        " 11: 11,\n",
        " 12: 12,\n",
        " 13: 13,\n",
        " 14: 14,\n",
        " 15: 15,\n",
        " 16: 16,\n",
        " 17: 17,\n",
        " 18: 18,\n",
        " 19: 19,\n",
        " 20: 20,\n",
        " 21: 21,\n",
        " 22: 22,\n",
        " 23: 23,\n",
        " 24: 24}"
       ]
      }
     ],
     "prompt_number": 56
    },
    {
     "cell_type": "code",
     "collapsed": false,
     "input": [
      "bridge = dict([ [i, i+11] for i in range(25)])"
     ],
     "language": "python",
     "metadata": {},
     "outputs": [],
     "prompt_number": 57
    },
    {
     "cell_type": "code",
     "collapsed": false,
     "input": [
      "bridge\n"
     ],
     "language": "python",
     "metadata": {},
     "outputs": [
      {
       "metadata": {},
       "output_type": "pyout",
       "prompt_number": 58,
       "text": [
        "{0: 11,\n",
        " 1: 12,\n",
        " 2: 13,\n",
        " 3: 14,\n",
        " 4: 15,\n",
        " 5: 16,\n",
        " 6: 17,\n",
        " 7: 18,\n",
        " 8: 19,\n",
        " 9: 20,\n",
        " 10: 21,\n",
        " 11: 22,\n",
        " 12: 23,\n",
        " 13: 24,\n",
        " 14: 25,\n",
        " 15: 26,\n",
        " 16: 27,\n",
        " 17: 28,\n",
        " 18: 29,\n",
        " 19: 30,\n",
        " 20: 31,\n",
        " 21: 32,\n",
        " 22: 33,\n",
        " 23: 34,\n",
        " 24: 35}"
       ]
      }
     ],
     "prompt_number": 58
    },
    {
     "cell_type": "code",
     "collapsed": false,
     "input": [
      "w.neighbors"
     ],
     "language": "python",
     "metadata": {},
     "outputs": [
      {
       "metadata": {},
       "output_type": "pyout",
       "prompt_number": 59,
       "text": [
        "{0: [5, 1],\n",
        " 1: [0, 6, 2],\n",
        " 2: [1, 7, 3],\n",
        " 3: [2, 8, 4],\n",
        " 4: [3, 9],\n",
        " 5: [0, 10, 6],\n",
        " 6: [1, 5, 11, 7],\n",
        " 7: [2, 6, 12, 8],\n",
        " 8: [3, 7, 13, 9],\n",
        " 9: [4, 8, 14],\n",
        " 10: [5, 15, 11],\n",
        " 11: [6, 10, 16, 12],\n",
        " 12: [7, 11, 17, 13],\n",
        " 13: [8, 12, 18, 14],\n",
        " 14: [9, 13, 19],\n",
        " 15: [10, 20, 16],\n",
        " 16: [11, 15, 21, 17],\n",
        " 17: [12, 16, 22, 18],\n",
        " 18: [13, 17, 23, 19],\n",
        " 19: [14, 18, 24],\n",
        " 20: [15, 21],\n",
        " 21: [16, 20, 22],\n",
        " 22: [17, 21, 23],\n",
        " 23: [18, 22, 24],\n",
        " 24: [19, 23]}"
       ]
      }
     ],
     "prompt_number": 59
    },
    {
     "cell_type": "code",
     "collapsed": false,
     "input": [
      "w1 = {}\n",
      "ids = w.neighbors.keys()\n",
      "for i in ids:\n",
      "    i_neighbors = w.neighbors[i]\n",
      "    for c,j in enumerate(i_neighbors):\n",
      "        new_j = bridge[j]\n",
      "        i_neighbors[c] = new_j\n",
      "    w1[bridge[i]] = i_neighbors\n",
      "    w.neighbors.pop(i)\n",
      "w.neighbors = w1\n",
      "    \n",
      "       "
     ],
     "language": "python",
     "metadata": {},
     "outputs": [],
     "prompt_number": 60
    },
    {
     "cell_type": "code",
     "collapsed": false,
     "input": [
      "w.neighbors"
     ],
     "language": "python",
     "metadata": {},
     "outputs": [
      {
       "metadata": {},
       "output_type": "pyout",
       "prompt_number": 61,
       "text": [
        "{11: [16, 12],\n",
        " 12: [11, 17, 13],\n",
        " 13: [12, 18, 14],\n",
        " 14: [13, 19, 15],\n",
        " 15: [14, 20],\n",
        " 16: [11, 21, 17],\n",
        " 17: [12, 16, 22, 18],\n",
        " 18: [13, 17, 23, 19],\n",
        " 19: [14, 18, 24, 20],\n",
        " 20: [15, 19, 25],\n",
        " 21: [16, 26, 22],\n",
        " 22: [17, 21, 27, 23],\n",
        " 23: [18, 22, 28, 24],\n",
        " 24: [19, 23, 29, 25],\n",
        " 25: [20, 24, 30],\n",
        " 26: [21, 31, 27],\n",
        " 27: [22, 26, 32, 28],\n",
        " 28: [23, 27, 33, 29],\n",
        " 29: [24, 28, 34, 30],\n",
        " 30: [25, 29, 35],\n",
        " 31: [26, 32],\n",
        " 32: [27, 31, 33],\n",
        " 33: [28, 32, 34],\n",
        " 34: [29, 33, 35],\n",
        " 35: [30, 34]}"
       ]
      }
     ],
     "prompt_number": 61
    },
    {
     "cell_type": "code",
     "collapsed": false,
     "input": [
      "w.neighbors.pop(0)\n"
     ],
     "language": "python",
     "metadata": {},
     "outputs": [
      {
       "metadata": {},
       "output_type": "pyout",
       "prompt_number": 41,
       "text": [
        "[16, 12]"
       ]
      }
     ],
     "prompt_number": 41
    },
    {
     "cell_type": "code",
     "collapsed": false,
     "input": [
      "w1"
     ],
     "language": "python",
     "metadata": {},
     "outputs": [
      {
       "metadata": {},
       "output_type": "pyout",
       "prompt_number": 42,
       "text": [
        "{11: [16, 12],\n",
        " 12: [11, 17, 13],\n",
        " 13: [12, 18, 14],\n",
        " 14: [13, 19, 15],\n",
        " 15: [14, 20],\n",
        " 16: [11, 21, 17],\n",
        " 17: [12, 16, 22, 18],\n",
        " 18: [13, 17, 23, 19],\n",
        " 19: [14, 18, 24, 20],\n",
        " 20: [15, 19, 25],\n",
        " 21: [16, 26, 22],\n",
        " 22: [17, 21, 27, 23],\n",
        " 23: [18, 22, 28, 24],\n",
        " 24: [19, 23, 29, 25],\n",
        " 25: [20, 24, 30],\n",
        " 26: [21, 31, 27],\n",
        " 27: [22, 26, 32, 28],\n",
        " 28: [23, 27, 33, 29],\n",
        " 29: [24, 28, 34, 30],\n",
        " 30: [25, 29, 35],\n",
        " 31: [26, 32],\n",
        " 32: [27, 31, 33],\n",
        " 33: [28, 32, 34],\n",
        " 34: [29, 33, 35],\n",
        " 35: [30, 34]}"
       ]
      }
     ],
     "prompt_number": 42
    },
    {
     "cell_type": "code",
     "collapsed": false,
     "input": [
      "w = ps.lat2W(5,5)"
     ],
     "language": "python",
     "metadata": {},
     "outputs": [],
     "prompt_number": 62
    },
    {
     "cell_type": "code",
     "collapsed": false,
     "input": [
      "w.neighbors"
     ],
     "language": "python",
     "metadata": {},
     "outputs": [
      {
       "metadata": {},
       "output_type": "pyout",
       "prompt_number": 63,
       "text": [
        "{0: [5, 1],\n",
        " 1: [0, 6, 2],\n",
        " 2: [1, 7, 3],\n",
        " 3: [2, 8, 4],\n",
        " 4: [3, 9],\n",
        " 5: [0, 10, 6],\n",
        " 6: [1, 5, 11, 7],\n",
        " 7: [2, 6, 12, 8],\n",
        " 8: [3, 7, 13, 9],\n",
        " 9: [4, 8, 14],\n",
        " 10: [5, 15, 11],\n",
        " 11: [6, 10, 16, 12],\n",
        " 12: [7, 11, 17, 13],\n",
        " 13: [8, 12, 18, 14],\n",
        " 14: [9, 13, 19],\n",
        " 15: [10, 20, 16],\n",
        " 16: [11, 15, 21, 17],\n",
        " 17: [12, 16, 22, 18],\n",
        " 18: [13, 17, 23, 19],\n",
        " 19: [14, 18, 24],\n",
        " 20: [15, 21],\n",
        " 21: [16, 20, 22],\n",
        " 22: [17, 21, 23],\n",
        " 23: [18, 22, 24],\n",
        " 24: [19, 23]}"
       ]
      }
     ],
     "prompt_number": 63
    },
    {
     "cell_type": "code",
     "collapsed": false,
     "input": [],
     "language": "python",
     "metadata": {},
     "outputs": []
    }
   ],
   "metadata": {}
  }
 ]
}