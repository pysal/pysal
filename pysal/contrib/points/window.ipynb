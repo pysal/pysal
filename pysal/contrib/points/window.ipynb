{
 "cells": [
  {
   "cell_type": "markdown",
   "metadata": {},
   "source": [
    "# Point Pattern Windows\n",
    "\n",
    "**Author: Serge Rey <sjsrey@gmail.com>**\n",
    "\n",
    "## Introduction\n",
    "Windows play several important roles in the analysis of planar point patterns. As we saw in the [introductory notebook](pointpattern.ipynb), the area of the window can be used to develop estimates of the intensity of the point pattern. A window also defines the domain for the point pattern and can support corrections for so-called edge effects in the statistical analysis of point patterns. However, there are different ways to define a window for a point pattern.\n",
    "\n",
    "This notebook provides an overview of how to work with windows and covers the following:\n",
    "\n",
    "* [Creating a window](#Creating-a-Window)\n",
    "* [Window attributes](#Window-Attributes)\n",
    "* [Window methods](#Window-Methods)\n",
    "* [Multi-part windows](#Multi-part-Windows)\n",
    "* [Windows and point pattern intensity revisited](#Windows-and-point-pattern-intensity-revisited)\n"
   ]
  },
  {
   "cell_type": "markdown",
   "metadata": {},
   "source": [
    "## Creating a Window\n",
    "\n",
    "We will first continue on with an example from the [introductory notebook](pointpattern.ipynb). Recall this uses  200 randomly distributed points within the counties of Virginia. Coordinates are for UTM zone 17 N."
   ]
  },
  {
   "cell_type": "code",
   "execution_count": 1,
   "metadata": {
    "collapsed": true
   },
   "outputs": [],
   "source": [
    "import pysal as ps\n",
    "import numpy as np\n",
    "from pysal.contrib.points.pointpattern import PointPattern"
   ]
  },
  {
   "cell_type": "code",
   "execution_count": 2,
   "metadata": {
    "collapsed": false
   },
   "outputs": [
    {
     "name": "stdout",
     "output_type": "stream",
     "text": [
      "Point Pattern\n",
      "200 points\n",
      "Bounding rectangle [(273959.664381,4049220.90341), (972595.989578,4359604.85978)]\n",
      "Area of window: 2.16845506675e+11\n",
      "Intensity estimate for window: 9.22315629531e-10\n",
      "               x             y\n",
      "0  865322.486181  4.150317e+06\n",
      "1  774479.213103  4.258993e+06\n",
      "2  308048.692232  4.054700e+06\n",
      "3  670711.529980  4.258864e+06\n",
      "4  666254.475614  4.256514e+06\n"
     ]
    }
   ],
   "source": [
    "f = ps.examples.get_path('vautm17n_points.shp')\n",
    "fo = ps.open(f)\n",
    "pp_va = PointPattern(np.asarray([pnt for pnt in fo]))\n",
    "fo.close()\n",
    "pp_va.summary()"
   ]
  },
  {
   "cell_type": "markdown",
   "metadata": {},
   "source": [
    "From the summary method we see that the **Bounding Rectangle** is reported along with the **Area of the window** for the point pattern. Two things to note here. \n",
    "\n",
    "First, the only argument we passed in to the `PointPattern`s constructor was the array of coordinates for the 200 points. In this case PySAL finds the [minimum bounding box](https://en.wikipedia.org/wiki/Minimum_bounding_rectangle) for the point pattern and uses this as the window.\n",
    "\n",
    "The second thing to note is that the area of the window in this case is simply the area of the bounding rectangle. Because we are using projected coordinates (UTM) the unit of measure for the area is in square meters."
   ]
  },
  {
   "cell_type": "markdown",
   "metadata": {},
   "source": [
    "## Window Attributes"
   ]
  },
  {
   "cell_type": "markdown",
   "metadata": {},
   "source": [
    "The window is an attribute of the `PointPattern`. It is also an object with its own attributes:"
   ]
  },
  {
   "cell_type": "code",
   "execution_count": 3,
   "metadata": {
    "collapsed": false
   },
   "outputs": [
    {
     "data": {
      "text/plain": [
       "216845506675.05569"
      ]
     },
     "execution_count": 3,
     "metadata": {},
     "output_type": "execute_result"
    }
   ],
   "source": [
    "pp_va.window.area"
   ]
  },
  {
   "cell_type": "code",
   "execution_count": 4,
   "metadata": {
    "collapsed": false
   },
   "outputs": [
    {
     "data": {
      "text/plain": [
       "[273959.664381352, 4049220.903414295, 972595.9895779632, 4359604.85977962]"
      ]
     },
     "execution_count": 4,
     "metadata": {},
     "output_type": "execute_result"
    }
   ],
   "source": [
    "pp_va.window.bbox"
   ]
  },
  {
   "cell_type": "markdown",
   "metadata": {},
   "source": [
    "The bounding box is given in left, bottom, right, top ordering."
   ]
  },
  {
   "cell_type": "code",
   "execution_count": 5,
   "metadata": {
    "collapsed": false
   },
   "outputs": [
    {
     "data": {
      "text/plain": [
       "(623277.82697965798, 4204412.8815969583)"
      ]
     },
     "execution_count": 5,
     "metadata": {},
     "output_type": "execute_result"
    }
   ],
   "source": [
    "pp_va.window.centroid"
   ]
  },
  {
   "cell_type": "code",
   "execution_count": 6,
   "metadata": {
    "collapsed": false
   },
   "outputs": [
    {
     "data": {
      "text/plain": [
       "[[(273959.66438135202, 4049220.9034142951),\n",
       "  (273959.66438135202, 4359604.8597796196),\n",
       "  (972595.98957796325, 4359604.8597796196),\n",
       "  (972595.98957796325, 4049220.9034142951),\n",
       "  (273959.66438135202, 4049220.9034142951)]]"
      ]
     },
     "execution_count": 6,
     "metadata": {},
     "output_type": "execute_result"
    }
   ],
   "source": [
    "pp_va.window.parts"
   ]
  },
  {
   "cell_type": "markdown",
   "metadata": {},
   "source": [
    "The `parts` attribute for the `window` is a list of polygons. In this case the window has only a single part and it is a rectangular polygon with vertices listed clockwise in closed cartographic form."
   ]
  },
  {
   "cell_type": "markdown",
   "metadata": {},
   "source": [
    "## Window Methods\n",
    "\n",
    "A window has several basic geometric operations that are heavily used in some of the other modules in the the `Point` package. Most of this is done under the hood and the user typically doesn't see this. However, there can be times when direct access to these method can be handy. Let's explore.\n"
   ]
  },
  {
   "cell_type": "markdown",
   "metadata": {},
   "source": [
    "The window supports basic point containment checks:"
   ]
  },
  {
   "cell_type": "code",
   "execution_count": 7,
   "metadata": {
    "collapsed": false
   },
   "outputs": [
    {
     "data": {
      "text/plain": [
       "True"
      ]
     },
     "execution_count": 7,
     "metadata": {},
     "output_type": "execute_result"
    }
   ],
   "source": [
    "pp_va.window.contains_point((623277.82697965798, 4204412.8815969583))"
   ]
  },
  {
   "cell_type": "markdown",
   "metadata": {},
   "source": [
    "This also applies to sequences of points:"
   ]
  },
  {
   "cell_type": "code",
   "execution_count": 8,
   "metadata": {
    "collapsed": true
   },
   "outputs": [],
   "source": [
    "pnts = ((-623277.82697965798, 4204412.8815969583),\n",
    "        (623277.82697965798, 4204412.8815969583),\n",
    "        (1000.01, 200.9))"
   ]
  },
  {
   "cell_type": "code",
   "execution_count": 9,
   "metadata": {
    "collapsed": false
   },
   "outputs": [
    {
     "data": {
      "text/plain": [
       "[array([  623277.82697966,  4204412.88159696])]"
      ]
     },
     "execution_count": 9,
     "metadata": {},
     "output_type": "execute_result"
    }
   ],
   "source": [
    "pnts_in = pp_va.window.filter_contained(pnts)\n",
    "pnts_in"
   ]
  },
  {
   "cell_type": "markdown",
   "metadata": {
    "collapsed": true
   },
   "source": [
    "## Multi-part Windows\n",
    "\n",
    "Thus far our window was a simple bounding box. There many instances when the relevant containing geometry for a point pattern is more complex. Examples include multi-part polygons and polygons with holes.\n",
    "\n",
    "Here we construct such a window, one with two parts and one hole."
   ]
  },
  {
   "cell_type": "code",
   "execution_count": 10,
   "metadata": {
    "collapsed": true
   },
   "outputs": [],
   "source": [
    "parts = [[(0.0, 0.0), (0.0, 10.0), (10.0, 10.0), (10.0, 0.0)],\n",
    "         [(11.,11.), (11.,20.), (20.,20.), (20.,11.)]]\n",
    "holes = [[(3.0,3.0), (6.0, 3.0), (6.0, 6.0), (3.0, 6.0)]]\n"
   ]
  },
  {
   "cell_type": "markdown",
   "metadata": {},
   "source": [
    "We will plot this using matplotlib to get a better understanding of the challenges that this type of window presents for statistical analysis of the associated point pattern."
   ]
  },
  {
   "cell_type": "code",
   "execution_count": 11,
   "metadata": {
    "collapsed": false
   },
   "outputs": [
    {
     "data": {
      "image/png": "[encoded data removed]",
      "text/plain": [
       "<matplotlib.figure.Figure at 0x7f4d842c60d0>"
      ]
     },
     "metadata": {},
     "output_type": "display_data"
    }
   ],
   "source": [
    "%matplotlib inline\n",
    "import matplotlib.pyplot as plt\n",
    "p0 = np.asarray(parts[0])\n",
    "plt.plot(p0[:,0], p0[:,1])\n",
    "plt.xlim(-10,20)\n",
    "t = plt.ylim(-10,20) # silence the output of ylim"
   ]
  },
  {
   "cell_type": "markdown",
   "metadata": {},
   "source": [
    "Not, quite what we wanted, as the first part of our multi-part polygon is a ring, but it was not encoded in closed cartographic form:"
   ]
  },
  {
   "cell_type": "code",
   "execution_count": 12,
   "metadata": {
    "collapsed": false
   },
   "outputs": [
    {
     "data": {
      "text/plain": [
       "array([[  0.,   0.],\n",
       "       [  0.,  10.],\n",
       "       [ 10.,  10.],\n",
       "       [ 10.,   0.]])"
      ]
     },
     "execution_count": 12,
     "metadata": {},
     "output_type": "execute_result"
    }
   ],
   "source": [
    "p0"
   ]
  },
  {
   "cell_type": "markdown",
   "metadata": {},
   "source": [
    "We can fix this with a helper function from the `window` module:"
   ]
  },
  {
   "cell_type": "code",
   "execution_count": 13,
   "metadata": {
    "collapsed": false
   },
   "outputs": [
    {
     "name": "stdout",
     "output_type": "stream",
     "text": [
      "[(0.0, 0.0), (0.0, 10.0), (10.0, 10.0), (10.0, 0.0)]\n",
      "[(0.0, 0.0), (0.0, 10.0), (10.0, 10.0), (10.0, 0.0), (0.0, 0.0)]\n"
     ]
    }
   ],
   "source": [
    "from pysal.contrib.points.window import to_ccf\n",
    "print(parts[0])\n",
    "print(to_ccf(parts[0])) #get closed ring"
   ]
  },
  {
   "cell_type": "code",
   "execution_count": 14,
   "metadata": {
    "collapsed": false
   },
   "outputs": [
    {
     "data": {
      "image/png": "[encoded data removed]",
      "text/plain": [
       "<matplotlib.figure.Figure at 0x7f4d8430fd90>"
      ]
     },
     "metadata": {},
     "output_type": "display_data"
    }
   ],
   "source": [
    "from pysal.contrib.points.window import to_ccf\n",
    "p0 = np.asarray(to_ccf(parts[0]))\n",
    "plt.plot(p0[:,0], p0[:,1])\n",
    "plt.xlim(-10,20)\n",
    "t=plt.ylim(-10,20)"
   ]
  },
  {
   "cell_type": "markdown",
   "metadata": {},
   "source": [
    "Now we can print all the rings composing our window: two exterior rings, and one hole:"
   ]
  },
  {
   "cell_type": "code",
   "execution_count": 15,
   "metadata": {
    "collapsed": false
   },
   "outputs": [
    {
     "data": {
      "image/png": "[encoded data removed]",
      "text/plain": [
       "<matplotlib.figure.Figure at 0x7f4d82151310>"
      ]
     },
     "metadata": {},
     "output_type": "display_data"
    }
   ],
   "source": [
    "for part in parts:\n",
    "    part = np.asarray(to_ccf(part))\n",
    "    plt.plot(part[:,0], part[:,1], 'b')\n",
    "for hole in holes:\n",
    "    hole = np.asarray(to_ccf(hole))\n",
    "    plt.plot(hole[:,0], hole[:,1], 'r')\n",
    "plt.xlim(-10,30)\n",
    "t = plt.ylim(-10,30)"
   ]
  },
  {
   "cell_type": "markdown",
   "metadata": {},
   "source": [
    "The red hole is associated with the first exterior ring.\n",
    "\n",
    "With this visual representation, consider the problem of testing whether or not this multi-part window contains one or more points in a sequence:"
   ]
  },
  {
   "cell_type": "code",
   "execution_count": 16,
   "metadata": {
    "collapsed": false
   },
   "outputs": [
    {
     "data": {
      "image/png": "[encoded data removed]",
      "text/plain": [
       "<matplotlib.figure.Figure at 0x7f4d842c6390>"
      ]
     },
     "metadata": {},
     "output_type": "display_data"
    }
   ],
   "source": [
    "pnts = [(12,12), (4,4), (2,2), (25,1), (5,20)]\n",
    "for pnt in pnts:\n",
    "    plt.plot(pnt[0], pnt[1], 'g.')\n",
    "\n",
    "for part in parts:\n",
    "    part = np.asarray(to_ccf(part))\n",
    "    plt.plot(part[:,0], part[:,1], 'b')\n",
    "for hole in holes:\n",
    "    hole = np.asarray(to_ccf(hole))\n",
    "    plt.plot(hole[:,0], hole[:,1], 'r')\n",
    "plt.xlim(-10,30)\n",
    "t = plt.ylim(-10,30)\n"
   ]
  },
  {
   "cell_type": "markdown",
   "metadata": {},
   "source": [
    "Of the five points two are clearly outside of both of the exterior rings. The three remaining points are each contained in one of the bounding boxes for an exterior ring. However, one of these points is also contained in the hole ring, and thus is not contained in the exterior ring associated with that hole.\n",
    "\n",
    "We can create a Window object from the parts and holes to demonstrate how to evaluate these containment checks."
   ]
  },
  {
   "cell_type": "code",
   "execution_count": 17,
   "metadata": {
    "collapsed": false
   },
   "outputs": [],
   "source": [
    "from pysal.contrib.points.window import Window\n",
    "window = Window(parts, holes)"
   ]
  },
  {
   "cell_type": "code",
   "execution_count": 18,
   "metadata": {
    "collapsed": false
   },
   "outputs": [
    {
     "data": {
      "text/plain": [
       "[[(0.0, 0.0), (0.0, 10.0), (10.0, 10.0), (10.0, 0.0), (0.0, 0.0)],\n",
       " [(11.0, 11.0), (11.0, 20.0), (20.0, 20.0), (20.0, 11.0), (11.0, 11.0)]]"
      ]
     },
     "execution_count": 18,
     "metadata": {},
     "output_type": "execute_result"
    }
   ],
   "source": [
    "window.parts"
   ]
  },
  {
   "cell_type": "code",
   "execution_count": 19,
   "metadata": {
    "collapsed": false
   },
   "outputs": [
    {
     "data": {
      "text/plain": [
       "[[(3.0, 3.0), (3.0, 6.0), (6.0, 6.0), (6.0, 3.0), (3.0, 3.0)]]"
      ]
     },
     "execution_count": 19,
     "metadata": {},
     "output_type": "execute_result"
    }
   ],
   "source": [
    "window.holes"
   ]
  },
  {
   "cell_type": "code",
   "execution_count": 20,
   "metadata": {
    "collapsed": false
   },
   "outputs": [
    {
     "data": {
      "text/plain": [
       "[0.0, 0.0, 20.0, 20.0]"
      ]
     },
     "execution_count": 20,
     "metadata": {},
     "output_type": "execute_result"
    }
   ],
   "source": [
    "window.bbox"
   ]
  },
  {
   "cell_type": "code",
   "execution_count": 21,
   "metadata": {
    "collapsed": false
   },
   "outputs": [
    {
     "data": {
      "text/plain": [
       "172.0"
      ]
     },
     "execution_count": 21,
     "metadata": {},
     "output_type": "execute_result"
    }
   ],
   "source": [
    "window.area"
   ]
  },
  {
   "cell_type": "code",
   "execution_count": 22,
   "metadata": {
    "collapsed": false
   },
   "outputs": [
    {
     "data": {
      "image/png": "[encoded data removed]",
      "text/plain": [
       "<matplotlib.figure.Figure at 0x7f4d81ff0410>"
      ]
     },
     "metadata": {},
     "output_type": "display_data"
    }
   ],
   "source": [
    "pnts = [(12,12), (4,4), (2,2), (25,1), (5,20)]\n",
    "for pnt in pnts:\n",
    "    plt.plot(pnt[0], pnt[1], 'g.') #plot the five points in green\n",
    "\n",
    "for part in parts:\n",
    "    part = np.asarray(to_ccf(part))\n",
    "    plt.plot(part[:,0], part[:,1], 'b') #plot \"parts\" in blue\n",
    "for hole in holes:\n",
    "    hole = np.asarray(to_ccf(hole))\n",
    "    plt.plot(hole[:,0], hole[:,1], 'r') #plot \"hole\" in red \n",
    "    \n",
    "from pysal.contrib.points.window import poly_from_bbox\n",
    "poly = np.asarray(poly_from_bbox(window.bbox).vertices)\n",
    "plt.plot(poly[:,0], poly[:,1], 'm-.') #plot the minimum bounding box in magenta\n",
    "\n",
    "plt.xlim(-10,30)\n",
    "t = plt.ylim(-10,30)"
   ]
  },
  {
   "cell_type": "markdown",
   "metadata": {},
   "source": [
    "Here we have extended the figure to include the bounding box for the multi-part window (in cyan). Now we can call the `filter_contained` method of the window on the point sequence:"
   ]
  },
  {
   "cell_type": "code",
   "execution_count": 23,
   "metadata": {
    "collapsed": false
   },
   "outputs": [
    {
     "data": {
      "text/plain": [
       "[array([12, 12]), array([2, 2])]"
      ]
     },
     "execution_count": 23,
     "metadata": {},
     "output_type": "execute_result"
    }
   ],
   "source": [
    "pin = window.filter_contained(pnts)\n",
    "pin"
   ]
  },
  {
   "cell_type": "markdown",
   "metadata": {},
   "source": [
    "This was a lot of code just to illustrate that the methods of a window can be used to identify topological relationships between points and the window's constituent parts. Let's turn to a less contrived example to see this in action.\n",
    "\n",
    "Here we will make use of PySAL's [shapely extension](https://pysal.readthedocs.org/en/latest/users/tutorials/shapely.html) to create a multi-part window from the county shapefile for Virgina."
   ]
  },
  {
   "cell_type": "code",
   "execution_count": 24,
   "metadata": {
    "collapsed": false
   },
   "outputs": [],
   "source": [
    "from pysal.contrib import shapely_ext\n",
    "import numpy as np\n",
    "from pysal.contrib.points.window import poly_from_bbox, as_window, Window\n",
    "import pysal as ps\n",
    "%matplotlib inline\n",
    "import matplotlib.pyplot as plt"
   ]
  },
  {
   "cell_type": "code",
   "execution_count": 25,
   "metadata": {
    "collapsed": false
   },
   "outputs": [],
   "source": [
    "va = ps.open(ps.examples.get_path(\"vautm17n.shp\")) #open \"vautm17n\" polygon shapefile\n",
    "polys = [shp for shp in va]\n",
    "vapnts = ps.open(ps.examples.get_path(\"vautm17n_points.shp\")) #open \"vautm17n_points\" point shapefile\n",
    "points = [shp for shp in vapnts]"
   ]
  },
  {
   "cell_type": "code",
   "execution_count": 26,
   "metadata": {
    "collapsed": false
   },
   "outputs": [
    {
     "name": "stdout",
     "output_type": "stream",
     "text": [
      "136\n"
     ]
    }
   ],
   "source": [
    "print(len(polys))"
   ]
  },
  {
   "cell_type": "markdown",
   "metadata": {},
   "source": [
    "The county shapefile `vautm17n.shp` has 136 shapes of the `polygon` type. Some of these are composed of multiple-rings and holes to reflect the [interesting history](https://en.wikipedia.org/wiki/List_of_counties_in_Virginia) of political boundaries in that State.\n",
    "Fortunately, with our window class we can handle these. We will come back to this shortly.\n",
    "\n",
    "First we are going to build up a realistic window for our point pattern based on a *cascaded union* made possible via [Shapely](https://pypi.python.org/pypi/Shapely) through the [PySAL shapely extension](https://pysal.readthedocs.org/en/latest/users/tutorials/shapely.html)."
   ]
  },
  {
   "cell_type": "code",
   "execution_count": 27,
   "metadata": {
    "collapsed": true
   },
   "outputs": [],
   "source": [
    "cu = shapely_ext.cascaded_union(polys)"
   ]
  },
  {
   "cell_type": "markdown",
   "metadata": {},
   "source": [
    "This creates a PySAL Polygon:"
   ]
  },
  {
   "cell_type": "code",
   "execution_count": 28,
   "metadata": {
    "collapsed": false
   },
   "outputs": [
    {
     "data": {
      "text/plain": [
       "pysal.cg.shapes.Polygon"
      ]
     },
     "execution_count": 28,
     "metadata": {},
     "output_type": "execute_result"
    }
   ],
   "source": [
    "type(cu)"
   ]
  },
  {
   "cell_type": "markdown",
   "metadata": {},
   "source": [
    "We can construct a Window from this polygon instance using the helper function `as_window`:"
   ]
  },
  {
   "cell_type": "code",
   "execution_count": 29,
   "metadata": {
    "collapsed": false
   },
   "outputs": [],
   "source": [
    "w = as_window(cu)"
   ]
  },
  {
   "cell_type": "code",
   "execution_count": 30,
   "metadata": {
    "collapsed": false
   },
   "outputs": [
    {
     "data": {
      "text/plain": [
       "[[]]"
      ]
     },
     "execution_count": 30,
     "metadata": {},
     "output_type": "execute_result"
    }
   ],
   "source": [
    "w.holes "
   ]
  },
  {
   "cell_type": "code",
   "execution_count": 31,
   "metadata": {
    "collapsed": false
   },
   "outputs": [
    {
     "data": {
      "text/plain": [
       "3"
      ]
     },
     "execution_count": 31,
     "metadata": {},
     "output_type": "execute_result"
    }
   ],
   "source": [
    "len(w.parts)"
   ]
  },
  {
   "cell_type": "markdown",
   "metadata": {},
   "source": [
    "The window has three parts consisting of the union of mainland counties and two \"island\" parts associated with Accomack and Northampton counties and has no holes.\n",
    "\n",
    "Since this a window, we can access its properties:"
   ]
  },
  {
   "cell_type": "code",
   "execution_count": 32,
   "metadata": {
    "collapsed": false
   },
   "outputs": [
    {
     "data": {
      "text/plain": [
       "[260694.99205079858, 4044845.4484747574, 1005496.0048517315, 4370839.043748417]"
      ]
     },
     "execution_count": 32,
     "metadata": {},
     "output_type": "execute_result"
    }
   ],
   "source": [
    "w.bbox"
   ]
  },
  {
   "cell_type": "code",
   "execution_count": 33,
   "metadata": {
    "collapsed": false
   },
   "outputs": [
    {
     "data": {
      "text/plain": [
       "(689097.7340935288, 4155195.0497352662)"
      ]
     },
     "execution_count": 33,
     "metadata": {},
     "output_type": "execute_result"
    }
   ],
   "source": [
    "w.centroid"
   ]
  },
  {
   "cell_type": "code",
   "execution_count": 34,
   "metadata": {
    "collapsed": false
   },
   "outputs": [
    {
     "data": {
      "text/plain": [
       "True"
      ]
     },
     "execution_count": 34,
     "metadata": {},
     "output_type": "execute_result"
    }
   ],
   "source": [
    "w.contains_point(w.centroid)"
   ]
  },
  {
   "cell_type": "markdown",
   "metadata": {},
   "source": [
    "So the centroid for our new window is contained by the window.  Such a result is not guaranteed as the geometry of the window could be complex such that the centroid falls outside of the window.\n",
    "\n",
    "Let's continue on with a more interesting query. Since we know the window centroid is contained in the Window, we can find which individual county contains the centroid. \n",
    "\n",
    "Our strategy is a simple one to illustrate the useful nature of the Window. We will create a sequence of Windows, one for each county and use them to carry out a containment test."
   ]
  },
  {
   "cell_type": "code",
   "execution_count": 35,
   "metadata": {
    "collapsed": true
   },
   "outputs": [],
   "source": [
    "#create a window for each of the individual counties in the state\n",
    "windows = [as_window(county) for county in polys] "
   ]
  },
  {
   "cell_type": "code",
   "execution_count": 36,
   "metadata": {
    "collapsed": false
   },
   "outputs": [
    {
     "data": {
      "text/plain": [
       "[(67, <pysal.contrib.points.window.Window at 0x7f4d814ff550>)]"
      ]
     },
     "execution_count": 36,
     "metadata": {},
     "output_type": "execute_result"
    }
   ],
   "source": [
    "#check each county for containment of the window's centroid\n",
    "cent_poly = [ (i, county) for i,county in enumerate(windows) if county.contains_point(w.centroid)]\n",
    "cent_poly"
   ]
  },
  {
   "cell_type": "code",
   "execution_count": 37,
   "metadata": {
    "collapsed": false
   },
   "outputs": [],
   "source": [
    "i, cent_poly = cent_poly[0]"
   ]
  },
  {
   "cell_type": "code",
   "execution_count": 38,
   "metadata": {
    "collapsed": false
   },
   "outputs": [
    {
     "data": {
      "text/plain": [
       "[674997.5183093206, 4119217.2472937624, 713300.2226730094, 4159075.43995212]"
      ]
     },
     "execution_count": 38,
     "metadata": {},
     "output_type": "execute_result"
    }
   ],
   "source": [
    "cent_poly.bbox"
   ]
  },
  {
   "cell_type": "markdown",
   "metadata": {
    "collapsed": false
   },
   "source": [
    "What we did here was create a window for each of the individual counties in the state. With these in hand we checked each one for containment of the window's centroid. The result is we see the window (count) with index 67 is the only one that contains the centroid point.\n",
    "\n",
    "The point of this exercise is not to use an inefficient brute force exhaustive search to find this county. There are more efficient spatial indices in PySAL that we could use for such a query. Rather, we wanted to explicitly check each window to ensure that only one contained the centroid.\n",
    "\n",
    "As we will see in elsewhere in this series of notebooks, this type of decomposition can support highly flexible types of spatial analysis."
   ]
  },
  {
   "cell_type": "markdown",
   "metadata": {},
   "source": [
    "## Windows and point pattern intensity revisited\n",
    "\n",
    "Returning to the central use of Windows, we saw in the [introductory notebook](pointpattern.ipynb) that the area of the Window is used to form the estimate of intensity for the point pattern:"
   ]
  },
  {
   "cell_type": "code",
   "execution_count": 39,
   "metadata": {
    "collapsed": false
   },
   "outputs": [
    {
     "name": "stdout",
     "output_type": "stream",
     "text": [
      "Point Pattern\n",
      "200 points\n",
      "Bounding rectangle [(273959.664381,4049220.90341), (972595.989578,4359604.85978)]\n",
      "Area of window: 2.16845506675e+11\n",
      "Intensity estimate for window: 9.22315629531e-10\n",
      "               x             y\n",
      "0  865322.486181  4.150317e+06\n",
      "1  774479.213103  4.258993e+06\n",
      "2  308048.692232  4.054700e+06\n",
      "3  670711.529980  4.258864e+06\n",
      "4  666254.475614  4.256514e+06\n"
     ]
    }
   ],
   "source": [
    "f = ps.examples.get_path('vautm17n_points.shp') #open \"vautm17n_points\" point shapefile\n",
    "fo = ps.open(f)\n",
    "pnts = np.asarray([pnt for pnt in fo])\n",
    "fo.close()\n",
    "pp_va = PointPattern(pnts)\n",
    "pp_va.summary()"
   ]
  },
  {
   "cell_type": "markdown",
   "metadata": {},
   "source": [
    "Here the default is to form the minimum bounding rectangle and use that as the window for the point pattern and, in turn, to implment the intesity estimation."
   ]
  },
  {
   "cell_type": "markdown",
   "metadata": {},
   "source": [
    "We can override the default by passing a window object in to the constructor for the point pattner. Here we use our window that was formed from the county cascading union above:"
   ]
  },
  {
   "cell_type": "code",
   "execution_count": 40,
   "metadata": {
    "collapsed": false
   },
   "outputs": [
    {
     "name": "stdout",
     "output_type": "stream",
     "text": [
      "Point Pattern\n",
      "200 points\n",
      "Bounding rectangle [(273959.664381,4049220.90341), (972595.989578,4359604.85978)]\n",
      "Area of window: 1.03195696156e+11\n",
      "Intensity estimate for window: 1.93806532104e-09\n",
      "               x             y\n",
      "0  865322.486181  4.150317e+06\n",
      "1  774479.213103  4.258993e+06\n",
      "2  308048.692232  4.054700e+06\n",
      "3  670711.529980  4.258864e+06\n",
      "4  666254.475614  4.256514e+06\n"
     ]
    }
   ],
   "source": [
    "pp_va_union = PointPattern(pnts, window=w)\n",
    "pp_va_union.summary()"
   ]
  },
  {
   "cell_type": "markdown",
   "metadata": {},
   "source": [
    "Here, the window is redefined. Thus, window related attributes **Area of window** and **Intensity estimate for window** are changed. However, the **Bounding rectangle** remains unchanged since it is not relavant to the definition of window.\n",
    "\n",
    "Close examination of the summary report from reveals that while the bounding rectangles for the two point pattern instances are identical (as they should be), the area of the windows are substantially different:"
   ]
  },
  {
   "cell_type": "code",
   "execution_count": 41,
   "metadata": {
    "collapsed": false
   },
   "outputs": [
    {
     "data": {
      "text/plain": [
       "2.1013037825521717"
      ]
     },
     "execution_count": 41,
     "metadata": {},
     "output_type": "execute_result"
    }
   ],
   "source": [
    "pp_va.window.area / pp_va_union.window.area"
   ]
  },
  {
   "cell_type": "markdown",
   "metadata": {},
   "source": [
    "as are the intensity estimates:"
   ]
  },
  {
   "cell_type": "code",
   "execution_count": 42,
   "metadata": {
    "collapsed": false
   },
   "outputs": [
    {
     "data": {
      "text/plain": [
       "0.47589501732368955"
      ]
     },
     "execution_count": 42,
     "metadata": {},
     "output_type": "execute_result"
    }
   ],
   "source": [
    "pp_va.lambda_window / pp_va_union.lambda_window"
   ]
  },
  {
   "cell_type": "code",
   "execution_count": null,
   "metadata": {
    "collapsed": true
   },
   "outputs": [],
   "source": []
  },
  {
   "cell_type": "code",
   "execution_count": null,
   "metadata": {
    "collapsed": true
   },
   "outputs": [],
   "source": []
  }
 ],
 "metadata": {
  "kernelspec": {
   "display_name": "Python 2",
   "language": "python",
   "name": "python2"
  },
  "language_info": {
   "codemirror_mode": {
    "name": "ipython",
    "version": 2
   },
   "file_extension": ".py",
   "mimetype": "text/x-python",
   "name": "python",
   "nbconvert_exporter": "python",
   "pygments_lexer": "ipython2",
   "version": "2.7.12"
  },
  "widgets": {
   "state": {},
   "version": "1.1.2"
  }
 },
 "nbformat": 4,
 "nbformat_minor": 0
}
