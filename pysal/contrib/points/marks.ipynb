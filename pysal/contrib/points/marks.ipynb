{
 "cells": [
  {
   "cell_type": "markdown",
   "metadata": {},
   "source": [
    "# Marked Point Pattern\n",
    "\n",
    "In addition to the [unmarked point pattern](pointpattern.ipynb), non-binary attributes might be associated with each point, leading to the so-called marked point pattern. The charactertistics of a marked point pattern are:\n",
    "\n",
    "* Location pattern of the events are of interest\n",
    "* Stochastic attribute attached to the events is of interest\n",
    "\n",
    "Unmarked point pattern can be modified to be a marked point pattern using the method **add_marks** while the method **explode** could decompose a marked point pattern into a sequence of unmarked point patterns. Both methods belong to the class **PointPattern**."
   ]
  },
  {
   "cell_type": "code",
   "execution_count": 49,
   "metadata": {
    "collapsed": false
   },
   "outputs": [],
   "source": [
    "from pysal.contrib.points.process import PoissonPointProcess, PoissonClusterPointProcess\n",
    "from pysal.contrib.points.window import Window, poly_from_bbox\n",
    "from pysal.contrib.points.pointpattern import PointPattern\n",
    "import pysal as ps\n",
    "from pysal.contrib import shapely_ext\n",
    "#import shapely\n",
    "%matplotlib inline\n",
    "import matplotlib.pyplot as plt"
   ]
  },
  {
   "cell_type": "code",
   "execution_count": 50,
   "metadata": {
    "collapsed": true
   },
   "outputs": [],
   "source": [
    "# open the virginia polygon shapefile\n",
    "va = ps.open(ps.examples.get_path(\"virginia.shp\"))\n",
    "polys = [shp for shp in va]"
   ]
  },
  {
   "cell_type": "code",
   "execution_count": 51,
   "metadata": {
    "collapsed": true
   },
   "outputs": [],
   "source": [
    "# Create the exterior polygons for VA from the union of the county shapes\n",
    "state = shapely_ext.cascaded_union(polys)\n",
    "# create window from virginia state boundary\n",
    "window = Window(state.parts)"
   ]
  },
  {
   "cell_type": "code",
   "execution_count": 52,
   "metadata": {
    "collapsed": false
   },
   "outputs": [
    {
     "data": {
      "text/plain": [
       "[-83.67526245117188, 36.541481018066406, -75.24258422851562, 39.45690155029297]"
      ]
     },
     "execution_count": 52,
     "metadata": {},
     "output_type": "execute_result"
    }
   ],
   "source": [
    "window.bbox"
   ]
  },
  {
   "cell_type": "code",
   "execution_count": 53,
   "metadata": {
    "collapsed": false
   },
   "outputs": [
    {
     "data": {
      "text/plain": [
       "(-78.85183583334933, 37.51851209850039)"
      ]
     },
     "execution_count": 53,
     "metadata": {},
     "output_type": "execute_result"
    }
   ],
   "source": [
    "window.centroid"
   ]
  },
  {
   "cell_type": "code",
   "execution_count": 54,
   "metadata": {
    "collapsed": true
   },
   "outputs": [],
   "source": [
    "samples = PoissonPointProcess(window, 200, 1, conditioning=False, asPP=False)"
   ]
  },
  {
   "cell_type": "code",
   "execution_count": 55,
   "metadata": {
    "collapsed": true
   },
   "outputs": [],
   "source": [
    "csr = PointPattern(samples.realizations[0])"
   ]
  },
  {
   "cell_type": "code",
   "execution_count": 56,
   "metadata": {
    "collapsed": false
   },
   "outputs": [],
   "source": [
    "cx, cy = window.centroid"
   ]
  },
  {
   "cell_type": "code",
   "execution_count": 57,
   "metadata": {
    "collapsed": false
   },
   "outputs": [
    {
     "data": {
      "text/plain": [
       "-78.85183583334933"
      ]
     },
     "execution_count": 57,
     "metadata": {},
     "output_type": "execute_result"
    }
   ],
   "source": [
    "cx"
   ]
  },
  {
   "cell_type": "code",
   "execution_count": 58,
   "metadata": {
    "collapsed": false
   },
   "outputs": [
    {
     "data": {
      "text/plain": [
       "37.51851209850039"
      ]
     },
     "execution_count": 58,
     "metadata": {},
     "output_type": "execute_result"
    }
   ],
   "source": [
    "cy"
   ]
  },
  {
   "cell_type": "code",
   "execution_count": 59,
   "metadata": {
    "collapsed": false
   },
   "outputs": [],
   "source": [
    "west = csr.points.x < cx\n",
    "south = csr.points.y < cy\n",
    "east = 1 - west\n",
    "north = 1 - south"
   ]
  },
  {
   "cell_type": "markdown",
   "metadata": {},
   "source": [
    "#### Create an attribute named quad which has a value for each event."
   ]
  },
  {
   "cell_type": "code",
   "execution_count": 60,
   "metadata": {
    "collapsed": false
   },
   "outputs": [],
   "source": [
    "quad = 1 * east * north +  2 * west * north + 3 * west * south + 4 * east * south"
   ]
  },
  {
   "cell_type": "code",
   "execution_count": 61,
   "metadata": {
    "collapsed": false
   },
   "outputs": [
    {
     "data": {
      "text/plain": [
       "pandas.core.series.Series"
      ]
     },
     "execution_count": 61,
     "metadata": {},
     "output_type": "execute_result"
    }
   ],
   "source": [
    "type(quad)"
   ]
  },
  {
   "cell_type": "code",
   "execution_count": 62,
   "metadata": {
    "collapsed": false
   },
   "outputs": [
    {
     "data": {
      "text/plain": [
       "0      3\n",
       "1      3\n",
       "2      2\n",
       "3      1\n",
       "4      4\n",
       "5      4\n",
       "6      4\n",
       "7      3\n",
       "8      1\n",
       "9      1\n",
       "10     3\n",
       "11     3\n",
       "12     1\n",
       "13     2\n",
       "14     1\n",
       "15     4\n",
       "16     4\n",
       "17     4\n",
       "18     4\n",
       "19     4\n",
       "20     4\n",
       "21     1\n",
       "22     3\n",
       "23     4\n",
       "24     4\n",
       "25     1\n",
       "26     4\n",
       "27     1\n",
       "28     1\n",
       "29     3\n",
       "      ..\n",
       "170    4\n",
       "171    1\n",
       "172    2\n",
       "173    3\n",
       "174    1\n",
       "175    3\n",
       "176    1\n",
       "177    3\n",
       "178    2\n",
       "179    2\n",
       "180    4\n",
       "181    1\n",
       "182    4\n",
       "183    1\n",
       "184    4\n",
       "185    2\n",
       "186    2\n",
       "187    3\n",
       "188    3\n",
       "189    2\n",
       "190    1\n",
       "191    3\n",
       "192    4\n",
       "193    1\n",
       "194    3\n",
       "195    3\n",
       "196    1\n",
       "197    1\n",
       "198    3\n",
       "199    3\n",
       "dtype: int64"
      ]
     },
     "execution_count": 62,
     "metadata": {},
     "output_type": "execute_result"
    }
   ],
   "source": [
    "quad"
   ]
  },
  {
   "cell_type": "markdown",
   "metadata": {},
   "source": [
    "#### Attach the attribute quad to the point pattern "
   ]
  },
  {
   "cell_type": "code",
   "execution_count": 63,
   "metadata": {
    "collapsed": true
   },
   "outputs": [],
   "source": [
    "csr.add_marks([quad], mark_names=['quad'])"
   ]
  },
  {
   "cell_type": "code",
   "execution_count": 64,
   "metadata": {
    "collapsed": false
   },
   "outputs": [
    {
     "data": {
      "text/html": [
       "<div>\n",
       "<table border=\"1\" class=\"dataframe\">\n",
       "  <thead>\n",
       "    <tr style=\"text-align: right;\">\n",
       "      <th></th>\n",
       "      <th>x</th>\n",
       "      <th>y</th>\n",
       "      <th>quad</th>\n",
       "    </tr>\n",
       "  </thead>\n",
       "  <tbody>\n",
       "    <tr>\n",
       "      <th>0</th>\n",
       "      <td>-82.364084</td>\n",
       "      <td>37.164776</td>\n",
       "      <td>3</td>\n",
       "    </tr>\n",
       "    <tr>\n",
       "      <th>1</th>\n",
       "      <td>-82.675551</td>\n",
       "      <td>36.746718</td>\n",
       "      <td>3</td>\n",
       "    </tr>\n",
       "    <tr>\n",
       "      <th>2</th>\n",
       "      <td>-79.356015</td>\n",
       "      <td>37.714839</td>\n",
       "      <td>2</td>\n",
       "    </tr>\n",
       "    <tr>\n",
       "      <th>3</th>\n",
       "      <td>-78.414304</td>\n",
       "      <td>37.936527</td>\n",
       "      <td>1</td>\n",
       "    </tr>\n",
       "    <tr>\n",
       "      <th>4</th>\n",
       "      <td>-78.547043</td>\n",
       "      <td>36.977961</td>\n",
       "      <td>4</td>\n",
       "    </tr>\n",
       "    <tr>\n",
       "      <th>5</th>\n",
       "      <td>-78.528684</td>\n",
       "      <td>37.244047</td>\n",
       "      <td>4</td>\n",
       "    </tr>\n",
       "    <tr>\n",
       "      <th>6</th>\n",
       "      <td>-76.649082</td>\n",
       "      <td>36.917415</td>\n",
       "      <td>4</td>\n",
       "    </tr>\n",
       "    <tr>\n",
       "      <th>7</th>\n",
       "      <td>-80.930822</td>\n",
       "      <td>37.188551</td>\n",
       "      <td>3</td>\n",
       "    </tr>\n",
       "    <tr>\n",
       "      <th>8</th>\n",
       "      <td>-77.895256</td>\n",
       "      <td>38.772231</td>\n",
       "      <td>1</td>\n",
       "    </tr>\n",
       "    <tr>\n",
       "      <th>9</th>\n",
       "      <td>-78.616262</td>\n",
       "      <td>38.004806</td>\n",
       "      <td>1</td>\n",
       "    </tr>\n",
       "    <tr>\n",
       "      <th>10</th>\n",
       "      <td>-82.162807</td>\n",
       "      <td>36.837442</td>\n",
       "      <td>3</td>\n",
       "    </tr>\n",
       "    <tr>\n",
       "      <th>11</th>\n",
       "      <td>-82.536781</td>\n",
       "      <td>36.826369</td>\n",
       "      <td>3</td>\n",
       "    </tr>\n",
       "    <tr>\n",
       "      <th>12</th>\n",
       "      <td>-77.478176</td>\n",
       "      <td>38.001523</td>\n",
       "      <td>1</td>\n",
       "    </tr>\n",
       "    <tr>\n",
       "      <th>13</th>\n",
       "      <td>-79.401665</td>\n",
       "      <td>37.856878</td>\n",
       "      <td>2</td>\n",
       "    </tr>\n",
       "    <tr>\n",
       "      <th>14</th>\n",
       "      <td>-78.172809</td>\n",
       "      <td>39.260280</td>\n",
       "      <td>1</td>\n",
       "    </tr>\n",
       "    <tr>\n",
       "      <th>15</th>\n",
       "      <td>-78.363372</td>\n",
       "      <td>37.020748</td>\n",
       "      <td>4</td>\n",
       "    </tr>\n",
       "    <tr>\n",
       "      <th>16</th>\n",
       "      <td>-77.762920</td>\n",
       "      <td>37.102565</td>\n",
       "      <td>4</td>\n",
       "    </tr>\n",
       "    <tr>\n",
       "      <th>17</th>\n",
       "      <td>-78.416681</td>\n",
       "      <td>36.846678</td>\n",
       "      <td>4</td>\n",
       "    </tr>\n",
       "    <tr>\n",
       "      <th>18</th>\n",
       "      <td>-78.476070</td>\n",
       "      <td>37.292968</td>\n",
       "      <td>4</td>\n",
       "    </tr>\n",
       "    <tr>\n",
       "      <th>19</th>\n",
       "      <td>-78.125305</td>\n",
       "      <td>37.424716</td>\n",
       "      <td>4</td>\n",
       "    </tr>\n",
       "    <tr>\n",
       "      <th>20</th>\n",
       "      <td>-78.767007</td>\n",
       "      <td>36.714031</td>\n",
       "      <td>4</td>\n",
       "    </tr>\n",
       "    <tr>\n",
       "      <th>21</th>\n",
       "      <td>-78.378092</td>\n",
       "      <td>38.703461</td>\n",
       "      <td>1</td>\n",
       "    </tr>\n",
       "    <tr>\n",
       "      <th>22</th>\n",
       "      <td>-80.354129</td>\n",
       "      <td>36.966363</td>\n",
       "      <td>3</td>\n",
       "    </tr>\n",
       "    <tr>\n",
       "      <th>23</th>\n",
       "      <td>-76.731635</td>\n",
       "      <td>37.444899</td>\n",
       "      <td>4</td>\n",
       "    </tr>\n",
       "    <tr>\n",
       "      <th>24</th>\n",
       "      <td>-78.293683</td>\n",
       "      <td>36.645052</td>\n",
       "      <td>4</td>\n",
       "    </tr>\n",
       "    <tr>\n",
       "      <th>25</th>\n",
       "      <td>-78.574851</td>\n",
       "      <td>38.884486</td>\n",
       "      <td>1</td>\n",
       "    </tr>\n",
       "    <tr>\n",
       "      <th>26</th>\n",
       "      <td>-77.802991</td>\n",
       "      <td>37.096991</td>\n",
       "      <td>4</td>\n",
       "    </tr>\n",
       "    <tr>\n",
       "      <th>27</th>\n",
       "      <td>-77.566125</td>\n",
       "      <td>39.063890</td>\n",
       "      <td>1</td>\n",
       "    </tr>\n",
       "    <tr>\n",
       "      <th>28</th>\n",
       "      <td>-78.817751</td>\n",
       "      <td>38.715690</td>\n",
       "      <td>1</td>\n",
       "    </tr>\n",
       "    <tr>\n",
       "      <th>29</th>\n",
       "      <td>-81.373073</td>\n",
       "      <td>37.167443</td>\n",
       "      <td>3</td>\n",
       "    </tr>\n",
       "    <tr>\n",
       "      <th>...</th>\n",
       "      <td>...</td>\n",
       "      <td>...</td>\n",
       "      <td>...</td>\n",
       "    </tr>\n",
       "    <tr>\n",
       "      <th>170</th>\n",
       "      <td>-76.848118</td>\n",
       "      <td>36.997592</td>\n",
       "      <td>4</td>\n",
       "    </tr>\n",
       "    <tr>\n",
       "      <th>171</th>\n",
       "      <td>-77.996960</td>\n",
       "      <td>38.183281</td>\n",
       "      <td>1</td>\n",
       "    </tr>\n",
       "    <tr>\n",
       "      <th>172</th>\n",
       "      <td>-79.682081</td>\n",
       "      <td>38.458912</td>\n",
       "      <td>2</td>\n",
       "    </tr>\n",
       "    <tr>\n",
       "      <th>173</th>\n",
       "      <td>-80.226608</td>\n",
       "      <td>37.438901</td>\n",
       "      <td>3</td>\n",
       "    </tr>\n",
       "    <tr>\n",
       "      <th>174</th>\n",
       "      <td>-77.252330</td>\n",
       "      <td>37.700653</td>\n",
       "      <td>1</td>\n",
       "    </tr>\n",
       "    <tr>\n",
       "      <th>175</th>\n",
       "      <td>-81.361118</td>\n",
       "      <td>36.802334</td>\n",
       "      <td>3</td>\n",
       "    </tr>\n",
       "    <tr>\n",
       "      <th>176</th>\n",
       "      <td>-77.095702</td>\n",
       "      <td>38.774650</td>\n",
       "      <td>1</td>\n",
       "    </tr>\n",
       "    <tr>\n",
       "      <th>177</th>\n",
       "      <td>-80.914639</td>\n",
       "      <td>37.006493</td>\n",
       "      <td>3</td>\n",
       "    </tr>\n",
       "    <tr>\n",
       "      <th>178</th>\n",
       "      <td>-79.598272</td>\n",
       "      <td>37.752542</td>\n",
       "      <td>2</td>\n",
       "    </tr>\n",
       "    <tr>\n",
       "      <th>179</th>\n",
       "      <td>-79.393960</td>\n",
       "      <td>38.275613</td>\n",
       "      <td>2</td>\n",
       "    </tr>\n",
       "    <tr>\n",
       "      <th>180</th>\n",
       "      <td>-78.601034</td>\n",
       "      <td>37.373922</td>\n",
       "      <td>4</td>\n",
       "    </tr>\n",
       "    <tr>\n",
       "      <th>181</th>\n",
       "      <td>-78.223932</td>\n",
       "      <td>38.857567</td>\n",
       "      <td>1</td>\n",
       "    </tr>\n",
       "    <tr>\n",
       "      <th>182</th>\n",
       "      <td>-76.967410</td>\n",
       "      <td>37.344135</td>\n",
       "      <td>4</td>\n",
       "    </tr>\n",
       "    <tr>\n",
       "      <th>183</th>\n",
       "      <td>-75.699914</td>\n",
       "      <td>37.785660</td>\n",
       "      <td>1</td>\n",
       "    </tr>\n",
       "    <tr>\n",
       "      <th>184</th>\n",
       "      <td>-76.907980</td>\n",
       "      <td>37.143920</td>\n",
       "      <td>4</td>\n",
       "    </tr>\n",
       "    <tr>\n",
       "      <th>185</th>\n",
       "      <td>-79.374206</td>\n",
       "      <td>38.076483</td>\n",
       "      <td>2</td>\n",
       "    </tr>\n",
       "    <tr>\n",
       "      <th>186</th>\n",
       "      <td>-79.054274</td>\n",
       "      <td>38.597828</td>\n",
       "      <td>2</td>\n",
       "    </tr>\n",
       "    <tr>\n",
       "      <th>187</th>\n",
       "      <td>-80.138302</td>\n",
       "      <td>37.347957</td>\n",
       "      <td>3</td>\n",
       "    </tr>\n",
       "    <tr>\n",
       "      <th>188</th>\n",
       "      <td>-82.648362</td>\n",
       "      <td>37.145339</td>\n",
       "      <td>3</td>\n",
       "    </tr>\n",
       "    <tr>\n",
       "      <th>189</th>\n",
       "      <td>-79.905017</td>\n",
       "      <td>37.896207</td>\n",
       "      <td>2</td>\n",
       "    </tr>\n",
       "    <tr>\n",
       "      <th>190</th>\n",
       "      <td>-77.182388</td>\n",
       "      <td>38.172545</td>\n",
       "      <td>1</td>\n",
       "    </tr>\n",
       "    <tr>\n",
       "      <th>191</th>\n",
       "      <td>-79.370653</td>\n",
       "      <td>37.200701</td>\n",
       "      <td>3</td>\n",
       "    </tr>\n",
       "    <tr>\n",
       "      <th>192</th>\n",
       "      <td>-77.624240</td>\n",
       "      <td>36.923602</td>\n",
       "      <td>4</td>\n",
       "    </tr>\n",
       "    <tr>\n",
       "      <th>193</th>\n",
       "      <td>-77.376302</td>\n",
       "      <td>37.677128</td>\n",
       "      <td>1</td>\n",
       "    </tr>\n",
       "    <tr>\n",
       "      <th>194</th>\n",
       "      <td>-80.127977</td>\n",
       "      <td>36.670156</td>\n",
       "      <td>3</td>\n",
       "    </tr>\n",
       "    <tr>\n",
       "      <th>195</th>\n",
       "      <td>-81.965635</td>\n",
       "      <td>36.837103</td>\n",
       "      <td>3</td>\n",
       "    </tr>\n",
       "    <tr>\n",
       "      <th>196</th>\n",
       "      <td>-77.556374</td>\n",
       "      <td>38.576909</td>\n",
       "      <td>1</td>\n",
       "    </tr>\n",
       "    <tr>\n",
       "      <th>197</th>\n",
       "      <td>-76.586181</td>\n",
       "      <td>37.992688</td>\n",
       "      <td>1</td>\n",
       "    </tr>\n",
       "    <tr>\n",
       "      <th>198</th>\n",
       "      <td>-80.869177</td>\n",
       "      <td>36.752164</td>\n",
       "      <td>3</td>\n",
       "    </tr>\n",
       "    <tr>\n",
       "      <th>199</th>\n",
       "      <td>-80.637032</td>\n",
       "      <td>36.880200</td>\n",
       "      <td>3</td>\n",
       "    </tr>\n",
       "  </tbody>\n",
       "</table>\n",
       "<p>200 rows × 3 columns</p>\n",
       "</div>"
      ],
      "text/plain": [
       "             x          y  quad\n",
       "0   -82.364084  37.164776     3\n",
       "1   -82.675551  36.746718     3\n",
       "2   -79.356015  37.714839     2\n",
       "3   -78.414304  37.936527     1\n",
       "4   -78.547043  36.977961     4\n",
       "5   -78.528684  37.244047     4\n",
       "6   -76.649082  36.917415     4\n",
       "7   -80.930822  37.188551     3\n",
       "8   -77.895256  38.772231     1\n",
       "9   -78.616262  38.004806     1\n",
       "10  -82.162807  36.837442     3\n",
       "11  -82.536781  36.826369     3\n",
       "12  -77.478176  38.001523     1\n",
       "13  -79.401665  37.856878     2\n",
       "14  -78.172809  39.260280     1\n",
       "15  -78.363372  37.020748     4\n",
       "16  -77.762920  37.102565     4\n",
       "17  -78.416681  36.846678     4\n",
       "18  -78.476070  37.292968     4\n",
       "19  -78.125305  37.424716     4\n",
       "20  -78.767007  36.714031     4\n",
       "21  -78.378092  38.703461     1\n",
       "22  -80.354129  36.966363     3\n",
       "23  -76.731635  37.444899     4\n",
       "24  -78.293683  36.645052     4\n",
       "25  -78.574851  38.884486     1\n",
       "26  -77.802991  37.096991     4\n",
       "27  -77.566125  39.063890     1\n",
       "28  -78.817751  38.715690     1\n",
       "29  -81.373073  37.167443     3\n",
       "..         ...        ...   ...\n",
       "170 -76.848118  36.997592     4\n",
       "171 -77.996960  38.183281     1\n",
       "172 -79.682081  38.458912     2\n",
       "173 -80.226608  37.438901     3\n",
       "174 -77.252330  37.700653     1\n",
       "175 -81.361118  36.802334     3\n",
       "176 -77.095702  38.774650     1\n",
       "177 -80.914639  37.006493     3\n",
       "178 -79.598272  37.752542     2\n",
       "179 -79.393960  38.275613     2\n",
       "180 -78.601034  37.373922     4\n",
       "181 -78.223932  38.857567     1\n",
       "182 -76.967410  37.344135     4\n",
       "183 -75.699914  37.785660     1\n",
       "184 -76.907980  37.143920     4\n",
       "185 -79.374206  38.076483     2\n",
       "186 -79.054274  38.597828     2\n",
       "187 -80.138302  37.347957     3\n",
       "188 -82.648362  37.145339     3\n",
       "189 -79.905017  37.896207     2\n",
       "190 -77.182388  38.172545     1\n",
       "191 -79.370653  37.200701     3\n",
       "192 -77.624240  36.923602     4\n",
       "193 -77.376302  37.677128     1\n",
       "194 -80.127977  36.670156     3\n",
       "195 -81.965635  36.837103     3\n",
       "196 -77.556374  38.576909     1\n",
       "197 -76.586181  37.992688     1\n",
       "198 -80.869177  36.752164     3\n",
       "199 -80.637032  36.880200     3\n",
       "\n",
       "[200 rows x 3 columns]"
      ]
     },
     "execution_count": 64,
     "metadata": {},
     "output_type": "execute_result"
    }
   ],
   "source": [
    "csr.df"
   ]
  },
  {
   "cell_type": "markdown",
   "metadata": {},
   "source": [
    "#### Explode a marked point pattern into a sequence of individual point patterns. Since the mark quad has 4 unique values, the sequence will be of length 4."
   ]
  },
  {
   "cell_type": "code",
   "execution_count": 66,
   "metadata": {
    "collapsed": false
   },
   "outputs": [],
   "source": [
    "csr_q = csr.explode('quad')"
   ]
  },
  {
   "cell_type": "code",
   "execution_count": 67,
   "metadata": {
    "collapsed": false
   },
   "outputs": [
    {
     "data": {
      "text/plain": [
       "4"
      ]
     },
     "execution_count": 67,
     "metadata": {},
     "output_type": "execute_result"
    }
   ],
   "source": [
    "len(csr_q)"
   ]
  },
  {
   "cell_type": "code",
   "execution_count": 68,
   "metadata": {
    "collapsed": false
   },
   "outputs": [
    {
     "data": {
      "text/plain": [
       "<pysal.contrib.points.pointpattern.PointPattern at 0x11042af50>"
      ]
     },
     "execution_count": 68,
     "metadata": {},
     "output_type": "execute_result"
    }
   ],
   "source": [
    "csr"
   ]
  },
  {
   "cell_type": "code",
   "execution_count": 69,
   "metadata": {
    "collapsed": false
   },
   "outputs": [
    {
     "name": "stdout",
     "output_type": "stream",
     "text": [
      "Point Pattern\n",
      "200 points\n",
      "Bounding rectangle [(-82.9883966975,36.5574740583), (-75.6999144984,39.2726634338)]\n",
      "Area of window: 19.7896094307\n",
      "Intensity estimate for window: 10.1063136542\n",
      "           x          y  quad\n",
      "0 -82.364084  37.164776     3\n",
      "1 -82.675551  36.746718     3\n",
      "2 -79.356015  37.714839     2\n",
      "3 -78.414304  37.936527     1\n",
      "4 -78.547043  36.977961     4\n"
     ]
    }
   ],
   "source": [
    "csr.summary()"
   ]
  },
  {
   "cell_type": "markdown",
   "metadata": {},
   "source": [
    "#### Plot the 4 individual sequences"
   ]
  },
  {
   "cell_type": "code",
   "execution_count": 71,
   "metadata": {
    "collapsed": true
   },
   "outputs": [],
   "source": [
    "plt.xlim?"
   ]
  },
  {
   "cell_type": "code",
   "execution_count": 70,
   "metadata": {
    "collapsed": false,
    "scrolled": true
   },
   "outputs": [
    {
     "data": {
      "image/png": "[encoded data removed]",
      "text/plain": [
       "<matplotlib.figure.Figure at 0x11042ae10>"
      ]
     },
     "metadata": {},
     "output_type": "display_data"
    },
    {
     "data": {
      "image/png": "[encoded data removed]",
      "text/plain": [
       "<matplotlib.figure.Figure at 0x10f3b56d0>"
      ]
     },
     "metadata": {},
     "output_type": "display_data"
    },
    {
     "data": {
      "image/png": "[encoded data removed]",
      "text/plain": [
       "<matplotlib.figure.Figure at 0x1103ea5d0>"
      ]
     },
     "metadata": {},
     "output_type": "display_data"
    },
    {
     "data": {
      "image/png": "[encoded data removed]",
      "text/plain": [
       "<matplotlib.figure.Figure at 0x11061bb50>"
      ]
     },
     "metadata": {},
     "output_type": "display_data"
    },
    {
     "data": {
      "image/png": "[encoded data removed]",
      "text/plain": [
       "<matplotlib.figure.Figure at 0x10f60dcd0>"
      ]
     },
     "metadata": {},
     "output_type": "display_data"
    }
   ],
   "source": [
    "plt.xlim()\n",
    "for ppn in csr_q:\n",
    "    ppn.plot()"
   ]
  },
  {
   "cell_type": "markdown",
   "metadata": {},
   "source": [
    "#### Plot the 4 unmarked point patterns using the same axes for a convenient comparison of locations"
   ]
  },
  {
   "cell_type": "code",
   "execution_count": 72,
   "metadata": {
    "collapsed": false
   },
   "outputs": [],
   "source": [
    "x0, y0, x1, y1 = csr.mbb\n",
    "ylim = (y0, y1)\n",
    "xlim = (x0, x1)"
   ]
  },
  {
   "cell_type": "code",
   "execution_count": 73,
   "metadata": {
    "collapsed": false
   },
   "outputs": [
    {
     "data": {
      "image/png": "[encoded data removed]",
      "text/plain": [
       "<matplotlib.figure.Figure at 0x10f75fb50>"
      ]
     },
     "metadata": {},
     "output_type": "display_data"
    },
    {
     "data": {
      "image/png": "[encoded data removed]",
      "text/plain": [
       "<matplotlib.figure.Figure at 0x111907850>"
      ]
     },
     "metadata": {},
     "output_type": "display_data"
    },
    {
     "data": {
      "image/png": "[encoded data removed]",
      "text/plain": [
       "<matplotlib.figure.Figure at 0x1119a1710>"
      ]
     },
     "metadata": {},
     "output_type": "display_data"
    },
    {
     "data": {
      "image/png": "[encoded data removed]",
      "text/plain": [
       "<matplotlib.figure.Figure at 0x111a08210>"
      ]
     },
     "metadata": {},
     "output_type": "display_data"
    }
   ],
   "source": [
    "for ppn in csr_q:\n",
    "    ppn.plot()\n",
    "    plt.xlim(xlim)\n",
    "    plt.ylim(ylim)"
   ]
  },
  {
   "cell_type": "code",
   "execution_count": null,
   "metadata": {
    "collapsed": true
   },
   "outputs": [],
   "source": []
  }
 ],
 "metadata": {
  "kernelspec": {
   "display_name": "Python 2",
   "language": "python",
   "name": "python2"
  },
  "language_info": {
   "codemirror_mode": {
    "name": "ipython",
    "version": 2
   },
   "file_extension": ".py",
   "mimetype": "text/x-python",
   "name": "python",
   "nbconvert_exporter": "python",
   "pygments_lexer": "ipython2",
   "version": "2.7.12"
  }
 },
 "nbformat": 4,
 "nbformat_minor": 0
}
