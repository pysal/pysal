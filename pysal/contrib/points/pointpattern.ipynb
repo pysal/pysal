{
 "cells": [
  {
   "cell_type": "markdown",
   "metadata": {},
   "source": [
    "# Planar Point Patterns in PySAL\n",
    "\n",
    "**Author: Serge Rey <sjsrey@gmail.com>**\n",
    "\n",
    "## Introduction\n",
    "This notebook introduces the basic PointPattern class in PySAL and covers the following:\n",
    "\n",
    "* [What is a point pattern?](#What-is-a-point-pattern?)\n",
    "* [Creating Point Patterns](#Creating-Point-Patterns)\n",
    "* [Atributes of Point Patterns](#Attributes-of-PySAL-Point-Patterns)\n",
    "* [Intensity Estimates](#Intensity-Estimates)\n",
    "* [Next steps](#Next-steps)"
   ]
  },
  {
   "cell_type": "markdown",
   "metadata": {},
   "source": [
    "## What is a point pattern?\n",
    "\n",
    "We introduce basic terminology here and point the interested reader to more [detailed references](#References) on the underlying theory of the statistical analysis of point patterns.\n",
    "\n",
    "### Points and Event Points\n",
    "\n",
    "To start we consider a series of *point locations*, $(s_1, s_2, \\ldots, s_n)$ in a study region $\\Re$. We limit our focus here to a two-dimensional space so that $s_j = (x_j, y_j)$ is the spatial coordinate pair for point location $j$.\n",
    "\n",
    "We will be interested in two different types of points.\n",
    "\n",
    "#### Event Points\n",
    "\n",
    "*Event Points* are locations where something of interest has occurred. The term *event* is very general here and could be used to represent a wide variety of phenomena. Some examples include:\n",
    "\n",
    "* [locations of individual plants of a certain species](http://link.springer.com/chapter/10.1007/978-3-642-01976-0_7#page-1)\n",
    "* [archeological sites](https://www.google.com/url?sa=t&rct=j&q=&esrc=s&source=web&cd=1&cad=rja&uact=8&ved=0ahUKEwjA46Si2oTKAhUU1GMKHZUBCBEQFgghMAA&url=http%3A%2F%2Fdiscovery.ucl.ac.uk%2F11345%2F&usg=AFQjCNG5dKBcsVJQZ9M20U5AOMTt3P6AWQ&sig2=Nt8ViSs8Q2G_-q1BSnNvKg&bvm=bv.110151844,d.cGc)\n",
    "* [addresses of disease cases](https://www.google.com/url?sa=t&rct=j&q=&esrc=s&source=web&cd=1&cad=rja&uact=8&ved=0ahUKEwiy7NSE2oTKAhUOyWMKHb7cDA4QFgghMAA&url=http%3A%2F%2Fwww.jstor.org%2Fstable%2F622936&usg=AFQjCNExfettAsU3i-Hs7twmB6_iVkghUA&sig2=tPROSM6wMtbZT0qlg_N6Hw&bvm=bv.110151844,d.cGc)\n",
    "* [locations of crimes](https://www.google.com/url?sa=t&rct=j&q=&esrc=s&source=web&cd=2&cad=rja&uact=8&ved=0ahUKEwiogfbl2YTKAhVT42MKHfTFCdUQFggqMAE&url=https%3A%2F%2Fgeodacenter.asu.edu%2Fsystem%2Ffiles%2Fpoints.pdf&usg=AFQjCNFase8ykAPuopayUDHQRvgj8S4Vsw&sig2=Ezzx45MLZIFaepvcOjV-aw)\n",
    "* the [distribution of neurons](http://www.ncbi.nlm.nih.gov/pmc/articles/PMC2889688/)\n",
    "\n",
    "among [many others](https://en.wikipedia.org/wiki/Point_process).\n",
    "\n",
    "It is important to recognize that in the statistical analysis of point patterns the interest extends beyond the observed point pattern at hand.\n",
    "The observed patterns are viewed as realizations from some underlying spatial stochastic process.\n",
    "\n",
    "\n",
    "#### Arbitrary Points\n",
    "\n",
    "The second type of point we consider are those locations where the phenomena  of interest has not been observed. These go by various names such as \"empty space\" or \"regular\" points, and at first glance might seem less interesting to a spatial analayst. However, these types of points play a central role in a class of point pattern methods that we explore below.\n",
    "\n",
    "\n",
    "### Point Pattern Analysis\n",
    "\n",
    "The analysis of event points focuses on a number of different characteristics of the collective spatial pattern that is observed. Often the pattern is jugded against the hypothesis of complete spatial randomness (CSR). That is, one assumes that the point events arise independently of one another and with constant probability across $\\Re$, loosely speaking.\n",
    "\n",
    "Of course, many of the empirical point patterns we encounter do not appear to be generated from such a simple stochastic process. The depatures from CSR can be due to two types of effects.\n",
    "\n",
    "#### First order effects\n",
    "\n",
    "For a point process, the first-order properties pertain to the intensity of the process across space. Whether and how the intensity of the point pattern varies within our study region are questions that assume center stage. Such variation in the itensity of the pattern of, say, addresses of individuals with a certain type of non-infectious disease may reflect the underlying population density. In other words, although the point pattern of disease cases may display variation in intensity in our study region, and thus violate the constant probability of an event condition, that spatial drift in the pattern intensity could be driven by an underlying covariate. \n",
    "\n",
    "\n",
    "\n",
    "#### Second order effects\n",
    "\n",
    "The second channel by which departures from CSR can arise is through interaction and dependence between events in space. The canonical example being contagious diseases whereby the presence of an infected individual increases the probability of subsequent additional cases nearby.\n",
    "\n",
    "\n",
    "When a pattern departs from expectation under CSR, this is suggestive that the underlying process may have some spatial structure that merits further investigation. Thus methods for detection of deviations from CSR and testing for alternative processes have given rise to a large literature in point pattern statistics."
   ]
  },
  {
   "cell_type": "markdown",
   "metadata": {},
   "source": [
    "\n",
    "### Methods of Point Pattern Analysis in PySAL\n",
    "\n",
    "The points module in PySAL implements basic methods of point pattern analysis organized into the following groups:\n",
    "\n",
    "* Point Processing\n",
    "* Centrography and Visualization\n",
    "* Quadrat Based Methods\n",
    "* Distance Based Methods\n",
    "\n",
    "In the remainder of this notebook we shall focus on point processing."
   ]
  },
  {
   "cell_type": "code",
   "execution_count": 1,
   "metadata": {
    "collapsed": false
   },
   "outputs": [],
   "source": [
    "import pysal as ps\n",
    "import numpy as np\n",
    "from pysal.contrib.points.pointpattern import PointPattern"
   ]
  },
  {
   "cell_type": "markdown",
   "metadata": {},
   "source": [
    "## Creating Point Patterns"
   ]
  },
  {
   "cell_type": "markdown",
   "metadata": {},
   "source": [
    "### From lists\n",
    "\n",
    "We can build a point pattern by using Python lists of coordinate pairs $(s_0, s_1,\\ldots, s_m)$ as follows:"
   ]
  },
  {
   "cell_type": "code",
   "execution_count": 2,
   "metadata": {
    "collapsed": false
   },
   "outputs": [],
   "source": [
    "points = [[66.22, 32.54], [22.52, 22.39], [31.01, 81.21],\n",
    "          [9.47, 31.02],  [30.78, 60.10], [75.21, 58.93],\n",
    "          [79.26,  7.68], [8.23, 39.93],  [98.73, 77.17],\n",
    "          [89.78, 42.53], [65.19, 92.08], [54.46, 8.48]]\n",
    "p1 = PointPattern(points)"
   ]
  },
  {
   "cell_type": "code",
   "execution_count": 3,
   "metadata": {
    "collapsed": false
   },
   "outputs": [
    {
     "data": {
      "text/plain": [
       "array([  8.23,   7.68,  98.73,  92.08])"
      ]
     },
     "execution_count": 3,
     "metadata": {},
     "output_type": "execute_result"
    }
   ],
   "source": [
    "p1.mbb"
   ]
  },
  {
   "cell_type": "markdown",
   "metadata": {},
   "source": [
    "Thus $s_0 = (66.22, 32.54), \\ s_{11}=(54.46, 8.48)$."
   ]
  },
  {
   "cell_type": "code",
   "execution_count": 4,
   "metadata": {
    "collapsed": false
   },
   "outputs": [
    {
     "name": "stdout",
     "output_type": "stream",
     "text": [
      "Point Pattern\n",
      "12 points\n",
      "Bounding rectangle [(8.23,7.68), (98.73,92.08)]\n",
      "Area of window: 7638.2\n",
      "Intensity estimate for window: 0.00157105077112\n",
      "       x      y\n",
      "0  66.22  32.54\n",
      "1  22.52  22.39\n",
      "2  31.01  81.21\n",
      "3   9.47  31.02\n",
      "4  30.78  60.10\n"
     ]
    }
   ],
   "source": [
    "p1.summary()"
   ]
  },
  {
   "cell_type": "code",
   "execution_count": 5,
   "metadata": {
    "collapsed": false
   },
   "outputs": [
    {
     "data": {
      "text/plain": [
       "pandas.core.frame.DataFrame"
      ]
     },
     "execution_count": 5,
     "metadata": {},
     "output_type": "execute_result"
    }
   ],
   "source": [
    "type(p1.points)"
   ]
  },
  {
   "cell_type": "code",
   "execution_count": 6,
   "metadata": {
    "collapsed": false
   },
   "outputs": [
    {
     "data": {
      "text/plain": [
       "array([[ 66.22,  32.54],\n",
       "       [ 22.52,  22.39],\n",
       "       [ 31.01,  81.21],\n",
       "       [  9.47,  31.02],\n",
       "       [ 30.78,  60.1 ],\n",
       "       [ 75.21,  58.93],\n",
       "       [ 79.26,   7.68],\n",
       "       [  8.23,  39.93],\n",
       "       [ 98.73,  77.17],\n",
       "       [ 89.78,  42.53],\n",
       "       [ 65.19,  92.08],\n",
       "       [ 54.46,   8.48]])"
      ]
     },
     "execution_count": 6,
     "metadata": {},
     "output_type": "execute_result"
    }
   ],
   "source": [
    "np.asarray(p1.points)"
   ]
  },
  {
   "cell_type": "code",
   "execution_count": 7,
   "metadata": {
    "collapsed": false
   },
   "outputs": [
    {
     "data": {
      "text/plain": [
       "array([  8.23,   7.68,  98.73,  92.08])"
      ]
     },
     "execution_count": 7,
     "metadata": {},
     "output_type": "execute_result"
    }
   ],
   "source": [
    "p1.mbb"
   ]
  },
  {
   "cell_type": "markdown",
   "metadata": {},
   "source": [
    "### From numpy arrays"
   ]
  },
  {
   "cell_type": "code",
   "execution_count": 8,
   "metadata": {
    "collapsed": false
   },
   "outputs": [
    {
     "data": {
      "text/plain": [
       "array([[ 66.22,  32.54],\n",
       "       [ 22.52,  22.39],\n",
       "       [ 31.01,  81.21],\n",
       "       [  9.47,  31.02],\n",
       "       [ 30.78,  60.1 ],\n",
       "       [ 75.21,  58.93],\n",
       "       [ 79.26,   7.68],\n",
       "       [  8.23,  39.93],\n",
       "       [ 98.73,  77.17],\n",
       "       [ 89.78,  42.53],\n",
       "       [ 65.19,  92.08],\n",
       "       [ 54.46,   8.48]])"
      ]
     },
     "execution_count": 8,
     "metadata": {},
     "output_type": "execute_result"
    }
   ],
   "source": [
    "points = np.asarray(points)\n",
    "points"
   ]
  },
  {
   "cell_type": "code",
   "execution_count": 9,
   "metadata": {
    "collapsed": false
   },
   "outputs": [
    {
     "name": "stdout",
     "output_type": "stream",
     "text": [
      "Point Pattern\n",
      "12 points\n",
      "Bounding rectangle [(8.23,7.68), (98.73,92.08)]\n",
      "Area of window: 7638.2\n",
      "Intensity estimate for window: 0.00157105077112\n",
      "       x      y\n",
      "0  66.22  32.54\n",
      "1  22.52  22.39\n",
      "2  31.01  81.21\n",
      "3   9.47  31.02\n",
      "4  30.78  60.10\n"
     ]
    }
   ],
   "source": [
    "p1_np = PointPattern(points)\n",
    "p1_np.summary()"
   ]
  },
  {
   "cell_type": "markdown",
   "metadata": {},
   "source": [
    "### From shapefiles\n",
    "\n",
    "This example uses 200 randomly distributed points within the counties of Virginia. Coordinates are for UTM zone 17 N."
   ]
  },
  {
   "cell_type": "code",
   "execution_count": 10,
   "metadata": {
    "collapsed": false
   },
   "outputs": [
    {
     "name": "stdout",
     "output_type": "stream",
     "text": [
      "Point Pattern\n",
      "200 points\n",
      "Bounding rectangle [(273959.664381,4049220.90341), (972595.989578,4359604.85978)]\n",
      "Area of window: 2.16845506675e+11\n",
      "Intensity estimate for window: 9.22315629531e-10\n",
      "               x             y\n",
      "0  865322.486181  4.150317e+06\n",
      "1  774479.213103  4.258993e+06\n",
      "2  308048.692232  4.054700e+06\n",
      "3  670711.529980  4.258864e+06\n",
      "4  666254.475614  4.256514e+06\n"
     ]
    }
   ],
   "source": [
    "f = ps.examples.get_path('vautm17n_points.shp')\n",
    "fo = ps.open(f)\n",
    "pp_va = PointPattern(np.asarray([pnt for pnt in fo]))\n",
    "fo.close()\n",
    "pp_va.summary()"
   ]
  },
  {
   "cell_type": "markdown",
   "metadata": {},
   "source": [
    "## Attributes of PySAL Point Patterns"
   ]
  },
  {
   "cell_type": "code",
   "execution_count": 11,
   "metadata": {
    "collapsed": false
   },
   "outputs": [
    {
     "name": "stdout",
     "output_type": "stream",
     "text": [
      "Point Pattern\n",
      "200 points\n",
      "Bounding rectangle [(273959.664381,4049220.90341), (972595.989578,4359604.85978)]\n",
      "Area of window: 2.16845506675e+11\n",
      "Intensity estimate for window: 9.22315629531e-10\n",
      "               x             y\n",
      "0  865322.486181  4.150317e+06\n",
      "1  774479.213103  4.258993e+06\n",
      "2  308048.692232  4.054700e+06\n",
      "3  670711.529980  4.258864e+06\n",
      "4  666254.475614  4.256514e+06\n"
     ]
    }
   ],
   "source": [
    "pp_va.summary()"
   ]
  },
  {
   "cell_type": "code",
   "execution_count": 12,
   "metadata": {
    "collapsed": false
   },
   "outputs": [
    {
     "data": {
      "text/html": [
       "<div>\n",
       "<table border=\"1\" class=\"dataframe\">\n",
       "  <thead>\n",
       "    <tr style=\"text-align: right;\">\n",
       "      <th></th>\n",
       "      <th>x</th>\n",
       "      <th>y</th>\n",
       "    </tr>\n",
       "  </thead>\n",
       "  <tbody>\n",
       "    <tr>\n",
       "      <th>0</th>\n",
       "      <td>865322.486181</td>\n",
       "      <td>4.150317e+06</td>\n",
       "    </tr>\n",
       "    <tr>\n",
       "      <th>1</th>\n",
       "      <td>774479.213103</td>\n",
       "      <td>4.258993e+06</td>\n",
       "    </tr>\n",
       "    <tr>\n",
       "      <th>2</th>\n",
       "      <td>308048.692232</td>\n",
       "      <td>4.054700e+06</td>\n",
       "    </tr>\n",
       "    <tr>\n",
       "      <th>3</th>\n",
       "      <td>670711.529980</td>\n",
       "      <td>4.258864e+06</td>\n",
       "    </tr>\n",
       "    <tr>\n",
       "      <th>4</th>\n",
       "      <td>666254.475614</td>\n",
       "      <td>4.256514e+06</td>\n",
       "    </tr>\n",
       "    <tr>\n",
       "      <th>5</th>\n",
       "      <td>664464.571678</td>\n",
       "      <td>4.061242e+06</td>\n",
       "    </tr>\n",
       "    <tr>\n",
       "      <th>6</th>\n",
       "      <td>784718.209785</td>\n",
       "      <td>4.076109e+06</td>\n",
       "    </tr>\n",
       "    <tr>\n",
       "      <th>7</th>\n",
       "      <td>972595.989578</td>\n",
       "      <td>4.183781e+06</td>\n",
       "    </tr>\n",
       "    <tr>\n",
       "      <th>8</th>\n",
       "      <td>657798.357403</td>\n",
       "      <td>4.253278e+06</td>\n",
       "    </tr>\n",
       "    <tr>\n",
       "      <th>9</th>\n",
       "      <td>682259.020242</td>\n",
       "      <td>4.282441e+06</td>\n",
       "    </tr>\n",
       "    <tr>\n",
       "      <th>10</th>\n",
       "      <td>727004.821077</td>\n",
       "      <td>4.068344e+06</td>\n",
       "    </tr>\n",
       "    <tr>\n",
       "      <th>11</th>\n",
       "      <td>705895.874812</td>\n",
       "      <td>4.266602e+06</td>\n",
       "    </tr>\n",
       "    <tr>\n",
       "      <th>12</th>\n",
       "      <td>828584.046576</td>\n",
       "      <td>4.065666e+06</td>\n",
       "    </tr>\n",
       "    <tr>\n",
       "      <th>13</th>\n",
       "      <td>713905.086059</td>\n",
       "      <td>4.316151e+06</td>\n",
       "    </tr>\n",
       "    <tr>\n",
       "      <th>14</th>\n",
       "      <td>881552.803340</td>\n",
       "      <td>4.091455e+06</td>\n",
       "    </tr>\n",
       "    <tr>\n",
       "      <th>15</th>\n",
       "      <td>469051.359337</td>\n",
       "      <td>4.117702e+06</td>\n",
       "    </tr>\n",
       "    <tr>\n",
       "      <th>16</th>\n",
       "      <td>316765.769715</td>\n",
       "      <td>4.074300e+06</td>\n",
       "    </tr>\n",
       "    <tr>\n",
       "      <th>17</th>\n",
       "      <td>697788.542435</td>\n",
       "      <td>4.060254e+06</td>\n",
       "    </tr>\n",
       "    <tr>\n",
       "      <th>18</th>\n",
       "      <td>735806.711384</td>\n",
       "      <td>4.169688e+06</td>\n",
       "    </tr>\n",
       "    <tr>\n",
       "      <th>19</th>\n",
       "      <td>857188.061626</td>\n",
       "      <td>4.069335e+06</td>\n",
       "    </tr>\n",
       "    <tr>\n",
       "      <th>20</th>\n",
       "      <td>840068.036835</td>\n",
       "      <td>4.157035e+06</td>\n",
       "    </tr>\n",
       "    <tr>\n",
       "      <th>21</th>\n",
       "      <td>554658.507423</td>\n",
       "      <td>4.056777e+06</td>\n",
       "    </tr>\n",
       "    <tr>\n",
       "      <th>22</th>\n",
       "      <td>273959.664381</td>\n",
       "      <td>4.057244e+06</td>\n",
       "    </tr>\n",
       "    <tr>\n",
       "      <th>23</th>\n",
       "      <td>751755.354691</td>\n",
       "      <td>4.212530e+06</td>\n",
       "    </tr>\n",
       "    <tr>\n",
       "      <th>24</th>\n",
       "      <td>862508.493456</td>\n",
       "      <td>4.068196e+06</td>\n",
       "    </tr>\n",
       "    <tr>\n",
       "      <th>25</th>\n",
       "      <td>608082.366460</td>\n",
       "      <td>4.137227e+06</td>\n",
       "    </tr>\n",
       "    <tr>\n",
       "      <th>26</th>\n",
       "      <td>783720.206483</td>\n",
       "      <td>4.131364e+06</td>\n",
       "    </tr>\n",
       "    <tr>\n",
       "      <th>27</th>\n",
       "      <td>648766.829060</td>\n",
       "      <td>4.193105e+06</td>\n",
       "    </tr>\n",
       "    <tr>\n",
       "      <th>28</th>\n",
       "      <td>560753.141222</td>\n",
       "      <td>4.059971e+06</td>\n",
       "    </tr>\n",
       "    <tr>\n",
       "      <th>29</th>\n",
       "      <td>659157.093262</td>\n",
       "      <td>4.157386e+06</td>\n",
       "    </tr>\n",
       "    <tr>\n",
       "      <th>...</th>\n",
       "      <td>...</td>\n",
       "      <td>...</td>\n",
       "    </tr>\n",
       "    <tr>\n",
       "      <th>170</th>\n",
       "      <td>693186.966524</td>\n",
       "      <td>4.139941e+06</td>\n",
       "    </tr>\n",
       "    <tr>\n",
       "      <th>171</th>\n",
       "      <td>845699.719699</td>\n",
       "      <td>4.231892e+06</td>\n",
       "    </tr>\n",
       "    <tr>\n",
       "      <th>172</th>\n",
       "      <td>796797.110375</td>\n",
       "      <td>4.313534e+06</td>\n",
       "    </tr>\n",
       "    <tr>\n",
       "      <th>173</th>\n",
       "      <td>691583.213674</td>\n",
       "      <td>4.074581e+06</td>\n",
       "    </tr>\n",
       "    <tr>\n",
       "      <th>174</th>\n",
       "      <td>752905.895923</td>\n",
       "      <td>4.166523e+06</td>\n",
       "    </tr>\n",
       "    <tr>\n",
       "      <th>175</th>\n",
       "      <td>963207.941343</td>\n",
       "      <td>4.165624e+06</td>\n",
       "    </tr>\n",
       "    <tr>\n",
       "      <th>176</th>\n",
       "      <td>611691.334171</td>\n",
       "      <td>4.049221e+06</td>\n",
       "    </tr>\n",
       "    <tr>\n",
       "      <th>177</th>\n",
       "      <td>777399.041143</td>\n",
       "      <td>4.170244e+06</td>\n",
       "    </tr>\n",
       "    <tr>\n",
       "      <th>178</th>\n",
       "      <td>781453.204801</td>\n",
       "      <td>4.124116e+06</td>\n",
       "    </tr>\n",
       "    <tr>\n",
       "      <th>179</th>\n",
       "      <td>675900.040876</td>\n",
       "      <td>4.059235e+06</td>\n",
       "    </tr>\n",
       "    <tr>\n",
       "      <th>180</th>\n",
       "      <td>530691.417350</td>\n",
       "      <td>4.087626e+06</td>\n",
       "    </tr>\n",
       "    <tr>\n",
       "      <th>181</th>\n",
       "      <td>555641.288115</td>\n",
       "      <td>4.122360e+06</td>\n",
       "    </tr>\n",
       "    <tr>\n",
       "      <th>182</th>\n",
       "      <td>532600.970765</td>\n",
       "      <td>4.051876e+06</td>\n",
       "    </tr>\n",
       "    <tr>\n",
       "      <th>183</th>\n",
       "      <td>800528.454702</td>\n",
       "      <td>4.335969e+06</td>\n",
       "    </tr>\n",
       "    <tr>\n",
       "      <th>184</th>\n",
       "      <td>516747.058864</td>\n",
       "      <td>4.104977e+06</td>\n",
       "    </tr>\n",
       "    <tr>\n",
       "      <th>185</th>\n",
       "      <td>647291.961412</td>\n",
       "      <td>4.223991e+06</td>\n",
       "    </tr>\n",
       "    <tr>\n",
       "      <th>186</th>\n",
       "      <td>673236.038854</td>\n",
       "      <td>4.292326e+06</td>\n",
       "    </tr>\n",
       "    <tr>\n",
       "      <th>187</th>\n",
       "      <td>534897.641241</td>\n",
       "      <td>4.129232e+06</td>\n",
       "    </tr>\n",
       "    <tr>\n",
       "      <th>188</th>\n",
       "      <td>789507.980935</td>\n",
       "      <td>4.240825e+06</td>\n",
       "    </tr>\n",
       "    <tr>\n",
       "      <th>189</th>\n",
       "      <td>701276.258284</td>\n",
       "      <td>4.199411e+06</td>\n",
       "    </tr>\n",
       "    <tr>\n",
       "      <th>190</th>\n",
       "      <td>669424.422196</td>\n",
       "      <td>4.276723e+06</td>\n",
       "    </tr>\n",
       "    <tr>\n",
       "      <th>191</th>\n",
       "      <td>602477.348747</td>\n",
       "      <td>4.146360e+06</td>\n",
       "    </tr>\n",
       "    <tr>\n",
       "      <th>192</th>\n",
       "      <td>872333.052082</td>\n",
       "      <td>4.156737e+06</td>\n",
       "    </tr>\n",
       "    <tr>\n",
       "      <th>193</th>\n",
       "      <td>773967.535489</td>\n",
       "      <td>4.145192e+06</td>\n",
       "    </tr>\n",
       "    <tr>\n",
       "      <th>194</th>\n",
       "      <td>803387.940279</td>\n",
       "      <td>4.173642e+06</td>\n",
       "    </tr>\n",
       "    <tr>\n",
       "      <th>195</th>\n",
       "      <td>876485.065262</td>\n",
       "      <td>4.148120e+06</td>\n",
       "    </tr>\n",
       "    <tr>\n",
       "      <th>196</th>\n",
       "      <td>621600.111400</td>\n",
       "      <td>4.177462e+06</td>\n",
       "    </tr>\n",
       "    <tr>\n",
       "      <th>197</th>\n",
       "      <td>450246.610116</td>\n",
       "      <td>4.106031e+06</td>\n",
       "    </tr>\n",
       "    <tr>\n",
       "      <th>198</th>\n",
       "      <td>740919.375814</td>\n",
       "      <td>4.359605e+06</td>\n",
       "    </tr>\n",
       "    <tr>\n",
       "      <th>199</th>\n",
       "      <td>797522.610898</td>\n",
       "      <td>4.208606e+06</td>\n",
       "    </tr>\n",
       "  </tbody>\n",
       "</table>\n",
       "<p>200 rows × 2 columns</p>\n",
       "</div>"
      ],
      "text/plain": [
       "                 x             y\n",
       "0    865322.486181  4.150317e+06\n",
       "1    774479.213103  4.258993e+06\n",
       "2    308048.692232  4.054700e+06\n",
       "3    670711.529980  4.258864e+06\n",
       "4    666254.475614  4.256514e+06\n",
       "5    664464.571678  4.061242e+06\n",
       "6    784718.209785  4.076109e+06\n",
       "7    972595.989578  4.183781e+06\n",
       "8    657798.357403  4.253278e+06\n",
       "9    682259.020242  4.282441e+06\n",
       "10   727004.821077  4.068344e+06\n",
       "11   705895.874812  4.266602e+06\n",
       "12   828584.046576  4.065666e+06\n",
       "13   713905.086059  4.316151e+06\n",
       "14   881552.803340  4.091455e+06\n",
       "15   469051.359337  4.117702e+06\n",
       "16   316765.769715  4.074300e+06\n",
       "17   697788.542435  4.060254e+06\n",
       "18   735806.711384  4.169688e+06\n",
       "19   857188.061626  4.069335e+06\n",
       "20   840068.036835  4.157035e+06\n",
       "21   554658.507423  4.056777e+06\n",
       "22   273959.664381  4.057244e+06\n",
       "23   751755.354691  4.212530e+06\n",
       "24   862508.493456  4.068196e+06\n",
       "25   608082.366460  4.137227e+06\n",
       "26   783720.206483  4.131364e+06\n",
       "27   648766.829060  4.193105e+06\n",
       "28   560753.141222  4.059971e+06\n",
       "29   659157.093262  4.157386e+06\n",
       "..             ...           ...\n",
       "170  693186.966524  4.139941e+06\n",
       "171  845699.719699  4.231892e+06\n",
       "172  796797.110375  4.313534e+06\n",
       "173  691583.213674  4.074581e+06\n",
       "174  752905.895923  4.166523e+06\n",
       "175  963207.941343  4.165624e+06\n",
       "176  611691.334171  4.049221e+06\n",
       "177  777399.041143  4.170244e+06\n",
       "178  781453.204801  4.124116e+06\n",
       "179  675900.040876  4.059235e+06\n",
       "180  530691.417350  4.087626e+06\n",
       "181  555641.288115  4.122360e+06\n",
       "182  532600.970765  4.051876e+06\n",
       "183  800528.454702  4.335969e+06\n",
       "184  516747.058864  4.104977e+06\n",
       "185  647291.961412  4.223991e+06\n",
       "186  673236.038854  4.292326e+06\n",
       "187  534897.641241  4.129232e+06\n",
       "188  789507.980935  4.240825e+06\n",
       "189  701276.258284  4.199411e+06\n",
       "190  669424.422196  4.276723e+06\n",
       "191  602477.348747  4.146360e+06\n",
       "192  872333.052082  4.156737e+06\n",
       "193  773967.535489  4.145192e+06\n",
       "194  803387.940279  4.173642e+06\n",
       "195  876485.065262  4.148120e+06\n",
       "196  621600.111400  4.177462e+06\n",
       "197  450246.610116  4.106031e+06\n",
       "198  740919.375814  4.359605e+06\n",
       "199  797522.610898  4.208606e+06\n",
       "\n",
       "[200 rows x 2 columns]"
      ]
     },
     "execution_count": 12,
     "metadata": {},
     "output_type": "execute_result"
    }
   ],
   "source": [
    "pp_va.points"
   ]
  },
  {
   "cell_type": "code",
   "execution_count": 13,
   "metadata": {
    "collapsed": false
   },
   "outputs": [
    {
     "data": {
      "text/html": [
       "<div>\n",
       "<table border=\"1\" class=\"dataframe\">\n",
       "  <thead>\n",
       "    <tr style=\"text-align: right;\">\n",
       "      <th></th>\n",
       "      <th>x</th>\n",
       "      <th>y</th>\n",
       "    </tr>\n",
       "  </thead>\n",
       "  <tbody>\n",
       "    <tr>\n",
       "      <th>0</th>\n",
       "      <td>865322.486181</td>\n",
       "      <td>4.150317e+06</td>\n",
       "    </tr>\n",
       "    <tr>\n",
       "      <th>1</th>\n",
       "      <td>774479.213103</td>\n",
       "      <td>4.258993e+06</td>\n",
       "    </tr>\n",
       "    <tr>\n",
       "      <th>2</th>\n",
       "      <td>308048.692232</td>\n",
       "      <td>4.054700e+06</td>\n",
       "    </tr>\n",
       "    <tr>\n",
       "      <th>3</th>\n",
       "      <td>670711.529980</td>\n",
       "      <td>4.258864e+06</td>\n",
       "    </tr>\n",
       "    <tr>\n",
       "      <th>4</th>\n",
       "      <td>666254.475614</td>\n",
       "      <td>4.256514e+06</td>\n",
       "    </tr>\n",
       "  </tbody>\n",
       "</table>\n",
       "</div>"
      ],
      "text/plain": [
       "               x             y\n",
       "0  865322.486181  4.150317e+06\n",
       "1  774479.213103  4.258993e+06\n",
       "2  308048.692232  4.054700e+06\n",
       "3  670711.529980  4.258864e+06\n",
       "4  666254.475614  4.256514e+06"
      ]
     },
     "execution_count": 13,
     "metadata": {},
     "output_type": "execute_result"
    }
   ],
   "source": [
    "pp_va.head()"
   ]
  },
  {
   "cell_type": "code",
   "execution_count": 14,
   "metadata": {
    "collapsed": false
   },
   "outputs": [
    {
     "data": {
      "text/html": [
       "<div>\n",
       "<table border=\"1\" class=\"dataframe\">\n",
       "  <thead>\n",
       "    <tr style=\"text-align: right;\">\n",
       "      <th></th>\n",
       "      <th>x</th>\n",
       "      <th>y</th>\n",
       "    </tr>\n",
       "  </thead>\n",
       "  <tbody>\n",
       "    <tr>\n",
       "      <th>195</th>\n",
       "      <td>876485.065262</td>\n",
       "      <td>4.148120e+06</td>\n",
       "    </tr>\n",
       "    <tr>\n",
       "      <th>196</th>\n",
       "      <td>621600.111400</td>\n",
       "      <td>4.177462e+06</td>\n",
       "    </tr>\n",
       "    <tr>\n",
       "      <th>197</th>\n",
       "      <td>450246.610116</td>\n",
       "      <td>4.106031e+06</td>\n",
       "    </tr>\n",
       "    <tr>\n",
       "      <th>198</th>\n",
       "      <td>740919.375814</td>\n",
       "      <td>4.359605e+06</td>\n",
       "    </tr>\n",
       "    <tr>\n",
       "      <th>199</th>\n",
       "      <td>797522.610898</td>\n",
       "      <td>4.208606e+06</td>\n",
       "    </tr>\n",
       "  </tbody>\n",
       "</table>\n",
       "</div>"
      ],
      "text/plain": [
       "                 x             y\n",
       "195  876485.065262  4.148120e+06\n",
       "196  621600.111400  4.177462e+06\n",
       "197  450246.610116  4.106031e+06\n",
       "198  740919.375814  4.359605e+06\n",
       "199  797522.610898  4.208606e+06"
      ]
     },
     "execution_count": 14,
     "metadata": {},
     "output_type": "execute_result"
    }
   ],
   "source": [
    "pp_va.tail()"
   ]
  },
  {
   "cell_type": "markdown",
   "metadata": {},
   "source": [
    "### Intensity Estimates"
   ]
  },
  {
   "cell_type": "markdown",
   "metadata": {},
   "source": [
    "The intensity of a point process at point $s_i$ can be defined as:\n",
    "\n",
    "$$\\lambda(s_j) = \\lim \\limits_{|\\mathbf{A}s_j| \\to 0} \\left \\{ \\frac{E(Y(\\mathbf{A}s_j)}{|\\mathbf{A}s_j|} \\right \\}   $$\n",
    "\n",
    "where $\\mathbf{A}s_j$ is a small region surrounding location $s_j$ with area $|\\mathbf{A}s_j|$, and $E(Y(\\mathbf{A}s_j)$ is the expected number of event points in $\\mathbf{A}s_j$. \n",
    "\n",
    "The intensity is the mean number of event points per unit of area at point $s_j$. \n",
    "\n",
    "\n",
    "\n",
    "Recall that one of the implications of CSR is that the intensity of the point process is constant in our study area $\\Re$. In other words $\\lambda(s_j) = \\lambda(s_{j+1}) = \\ldots = \\lambda(s_n) = \\lambda \\ \\forall s_j \\in \\Re$. Thus, if the area of $\\Re$ = $|\\Re|$ the expected number of event points in the study region is: $E(Y(\\Re)) = \\lambda |\\Re|.$"
   ]
  },
  {
   "cell_type": "markdown",
   "metadata": {},
   "source": [
    "In PySAL, the intensity is estimated by using a geometric object to encode the study region. We refer to this as the window, $W$. The reason for distinguishing between $\\Re$ and $W$ is that the latter permits alternative definitions of the bounding object."
   ]
  },
  {
   "cell_type": "markdown",
   "metadata": {},
   "source": [
    "**Intensity estimates are based on the following:**\n",
    "$$\\hat{\\lambda} = \\frac{n}{|W|}$$\n",
    "\n",
    "where $n$ is the number of points in the *window* $W$, and $|W|$ is the area of $W$."
   ]
  },
  {
   "cell_type": "markdown",
   "metadata": {},
   "source": [
    "**Intensity based on minimum bounding box:**\n",
    "$$\\hat{\\lambda}_{mbb} = \\frac{n}{|W_{mbb}|}$$\n",
    "\n",
    "where $W_{mbb}$ is the minimum bounding box for the point pattern."
   ]
  },
  {
   "cell_type": "code",
   "execution_count": 15,
   "metadata": {
    "collapsed": false
   },
   "outputs": [
    {
     "data": {
      "text/plain": [
       "9.2231562953112626e-10"
      ]
     },
     "execution_count": 15,
     "metadata": {},
     "output_type": "execute_result"
    }
   ],
   "source": [
    "pp_va.lambda_mbb"
   ]
  },
  {
   "cell_type": "markdown",
   "metadata": {},
   "source": [
    "**Intensity based on convex hull:**\n",
    "$$\\hat{\\lambda}_{hull} = \\frac{n}{|W_{hull}|}$$\n",
    "\n",
    "where $W_{hull}$ is the convex hull for the point pattern."
   ]
  },
  {
   "cell_type": "code",
   "execution_count": 16,
   "metadata": {
    "collapsed": false
   },
   "outputs": [
    {
     "data": {
      "text/plain": [
       "1.5973789098179388e-09"
      ]
     },
     "execution_count": 16,
     "metadata": {},
     "output_type": "execute_result"
    }
   ],
   "source": [
    "pp_va.lambda_hull"
   ]
  },
  {
   "cell_type": "markdown",
   "metadata": {},
   "source": [
    "## Next steps"
   ]
  },
  {
   "cell_type": "markdown",
   "metadata": {},
   "source": [
    "\n",
    "There is more to learn about point patterns in PySAL. \n",
    "\n",
    "The [centrographic notebook](centrography.ipynb) illustrates a number of spatial descriptive statistics and visualization of point patterns.\n",
    "\n",
    "Clearly the window chosen will impact the intensity estimate. For more on **windows** see the [window notebook](window.ipynb).\n",
    "\n",
    "To test if your point pattern departs from complete spatial randomness see the [distance statistics notebook](distance_statistics.ipynb) and  [quadrat statistics notebook](Quadrat_statistics.ipynb).\n",
    "\n",
    "\n",
    "To simulate different types of point processes in various windows see [process notebook](process.ipynb).\n",
    "\n",
    "If you have point pattern data with additional attributes associated with each point see how to handle this in the [marks notebook](marks.ipynb).\n",
    "\n"
   ]
  }
 ],
 "metadata": {
  "kernelspec": {
   "display_name": "Python 2",
   "language": "python",
   "name": "python2"
  },
  "language_info": {
   "codemirror_mode": {
    "name": "ipython",
    "version": 2
   },
   "file_extension": ".py",
   "mimetype": "text/x-python",
   "name": "python",
   "nbconvert_exporter": "python",
   "pygments_lexer": "ipython2",
   "version": "2.7.12"
  },
  "widgets": {
   "state": {},
   "version": "1.1.2"
  }
 },
 "nbformat": 4,
 "nbformat_minor": 0
}
