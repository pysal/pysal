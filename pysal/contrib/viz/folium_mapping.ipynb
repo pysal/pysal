{
 "cells": [
  {
   "cell_type": "markdown",
   "metadata": {},
   "source": [
    "# Mapping using Pysal and Folium: Example"
   ]
  },
  {
   "cell_type": "code",
   "execution_count": 1,
   "metadata": {
    "collapsed": false
   },
   "outputs": [],
   "source": [
    "import pysal as ps\n",
    "import geojson as gj\n",
    "import folium_mapping as fm"
   ]
  },
  {
   "cell_type": "markdown",
   "metadata": {},
   "source": [
    "First, we need to convert the data into a JSON format. JSON, short for \"Javascript Serialized Object Notation,\" is a simple and effective way to represent objects in a digital environment. For geographic information, the [GeoJSON](https://geojson.org) standard defines how to represent geographic information in JSON format. Python programmers may be more comfortable thinking of JSON data as something akin to a standard Python dictionary. "
   ]
  },
  {
   "cell_type": "code",
   "execution_count": 2,
   "metadata": {
    "collapsed": false
   },
   "outputs": [],
   "source": [
    "filepath = ps.examples.get_path('south.shp')[:-4]"
   ]
  },
  {
   "cell_type": "code",
   "execution_count": 3,
   "metadata": {
    "collapsed": false
   },
   "outputs": [],
   "source": [
    "shp = ps.open(filepath + '.shp')\n",
    "dbf = ps.open(filepath + '.dbf')"
   ]
  },
  {
   "cell_type": "code",
   "execution_count": 4,
   "metadata": {
    "collapsed": false
   },
   "outputs": [],
   "source": [
    "js = fm.build_features(shp, dbf)"
   ]
  },
  {
   "cell_type": "markdown",
   "metadata": {},
   "source": [
    "Just to show, this constructs a dictionary with the following keys:"
   ]
  },
  {
   "cell_type": "code",
   "execution_count": 5,
   "metadata": {
    "collapsed": false
   },
   "outputs": [
    {
     "data": {
      "text/plain": [
       "dict_keys(['features', 'bbox', 'type'])"
      ]
     },
     "execution_count": 5,
     "metadata": {},
     "output_type": "execute_result"
    }
   ],
   "source": [
    "js.keys()"
   ]
  },
  {
   "cell_type": "code",
   "execution_count": 6,
   "metadata": {
    "collapsed": false
   },
   "outputs": [
    {
     "data": {
      "text/plain": [
       "'FeatureCollection'"
      ]
     },
     "execution_count": 6,
     "metadata": {},
     "output_type": "execute_result"
    }
   ],
   "source": [
    "js.type"
   ]
  },
  {
   "cell_type": "code",
   "execution_count": 7,
   "metadata": {
    "collapsed": false
   },
   "outputs": [
    {
     "data": {
      "text/plain": [
       "[-106.6495132446289, 24.95596694946289, -75.0459976196289, 40.63713836669922]"
      ]
     },
     "execution_count": 7,
     "metadata": {},
     "output_type": "execute_result"
    }
   ],
   "source": [
    "js.bbox"
   ]
  },
  {
   "cell_type": "code",
   "execution_count": 8,
   "metadata": {
    "collapsed": false
   },
   "outputs": [
    {
     "data": {
      "text/plain": [
       "{\"bbox\": [-80.6688232421875, 40.39815902709961, -80.52220916748047, 40.63713836669922], \"geometry\": {\"coordinates\": [[[-80.6280517578125, 40.39815902709961], [-80.60203552246094, 40.480472564697266], [-80.62545776367188, 40.504398345947266], [-80.6336441040039, 40.53913879394531], [-80.6688232421875, 40.568214416503906], [-80.66793060302734, 40.58207321166992], [-80.63754272460938, 40.61391830444336], [-80.61175537109375, 40.619998931884766], [-80.57462310791016, 40.615909576416016], [-80.52220916748047, 40.63713836669922], [-80.52456665039062, 40.47871780395508], [-80.52377319335938, 40.4029655456543], [-80.6280517578125, 40.39815902709961]]], \"type\": \"Polygon\"}, \"properties\": {\"BLK60\": 3.839454752, \"BLK70\": 3.2554278095, \"BLK80\": 2.5607402642, \"BLK90\": 2.5572616581, \"CNTY_FIPS\": \"029\", \"COFIPS\": 29, \"DNL60\": 6.1681225056, \"DNL70\": 6.1714993547, \"DNL80\": 6.1714631077, \"DNL90\": 6.0508978146, \"DV60\": 2.2779893943, \"DV70\": 2.5591397849, \"DV80\": 5.0619350519, \"DV90\": 7.2636377003, \"FH60\": 9.9812973718, \"FH70\": 7.8, \"FH80\": 9.7857968181, \"FH90\": 12.604551644, \"FIPS\": \"54029\", \"FIPSNO\": 54029, \"FP59\": 9.6, \"FP69\": 5.9, \"FP79\": 6.5327526442, \"FP89\": 10.17311807, \"GI59\": 0.2236450331, \"GI69\": 0.2953773833, \"GI79\": 0.3322512119, \"GI89\": 0.3639335641, \"HC60\": 0.6666666667, \"HC70\": 1.6666666667, \"HC80\": 2.6666666667, \"HC90\": 0.3333333333, \"HR60\": 1.6828642349, \"HR70\": 4.1929776011, \"HR80\": 6.5977204876, \"HR90\": 0.9460827444, \"MA60\": 28.9, \"MA70\": 30.0, \"MA80\": 31.4, \"MA90\": 37.7, \"MFIL59\": 8.8410143105, \"MFIL69\": 9.2471543451, \"MFIL79\": 10.073356901, \"MFIL89\": 10.327970666, \"NAME\": \"Hancock\", \"PO60\": 39615, \"PO70\": 39749, \"PO80\": 40418, \"PO90\": 35233, \"POL60\": 10.586963113, \"POL70\": 10.590339963, \"POL80\": 10.607030509, \"POL90\": 10.469738422, \"PS60\": 1.218684208, \"PS70\": 1.1368342185, \"PS80\": 1.0385705291, \"PS90\": 0.8964534429, \"RD60\": -1.394676863, \"RD70\": -1.307438562, \"RD80\": -1.159302086, \"RD90\": -0.399028376, \"SOUTH\": 1, \"STATE_FIPS\": \"54\", \"STATE_NAME\": \"West Virginia\", \"STFIPS\": 54, \"UE60\": 3.1, \"UE70\": 2.7, \"UE80\": 7.0763827919, \"UE90\": 6.8578070515}, \"type\": \"Feature\"}"
      ]
     },
     "execution_count": 8,
     "metadata": {},
     "output_type": "execute_result"
    }
   ],
   "source": [
    "js.features[0]"
   ]
  },
  {
   "cell_type": "markdown",
   "metadata": {},
   "source": [
    "Then, we write the json to a file. "
   ]
  },
  {
   "cell_type": "code",
   "execution_count": 9,
   "metadata": {
    "collapsed": false
   },
   "outputs": [],
   "source": [
    "with open('./example.json', 'w') as out:\n",
    "    gj.dump(js, out)"
   ]
  },
  {
   "cell_type": "markdown",
   "metadata": {},
   "source": [
    "# Mapping"
   ]
  },
  {
   "cell_type": "markdown",
   "metadata": {},
   "source": [
    "Let's look at the columns that we're going to map."
   ]
  },
  {
   "cell_type": "code",
   "execution_count": 16,
   "metadata": {
    "collapsed": false
   },
   "outputs": [
    {
     "data": {
      "text/plain": [
       "['STFIPS', 'UE80', 'RD60', 'PS90', 'GI79']"
      ]
     },
     "execution_count": 16,
     "metadata": {},
     "output_type": "execute_result"
    }
   ],
   "source": [
    "#js.features[0].properties.keys()[0:5]\n",
    "list(js.features[0].properties.keys())[:5]"
   ]
  },
  {
   "cell_type": "markdown",
   "metadata": {},
   "source": [
    "We can map these attributes by calling them as commands to the choropleth mapping function. \n",
    "\n",
    "Here's the simplest mapping command:"
   ]
  },
  {
   "cell_type": "code",
   "execution_count": 17,
   "metadata": {
    "collapsed": false
   },
   "outputs": [
    {
     "name": "stderr",
     "output_type": "stream",
     "text": [
      "/home/dexter/anaconda3/lib/python3.5/site-packages/folium/folium.py:504: UserWarning: This method is deprecated. Please use Map.choropleth instead.\n",
      "  warnings.warn('This method is deprecated. '\n",
      "/home/dexter/Documents/pysal/pysal/contrib/viz/folium_mapping.py:269: FutureWarning: Map.create_map is deprecated. Use Map.save instead\n",
      "  choromap.create_map(fname)\n"
     ]
    },
    {
     "ename": "AttributeError",
     "evalue": "'Map' object has no attribute '_build_map'",
     "output_type": "error",
     "traceback": [
      "\u001b[1;31m---------------------------------------------------------------------------\u001b[0m",
      "\u001b[1;31mAttributeError\u001b[0m                            Traceback (most recent call last)",
      "\u001b[1;32m<ipython-input-17-58072a17ff9f>\u001b[0m in \u001b[0;36m<module>\u001b[1;34m()\u001b[0m\n\u001b[1;32m----> 1\u001b[1;33m \u001b[0mfm\u001b[0m\u001b[1;33m.\u001b[0m\u001b[0mchoropleth_map\u001b[0m\u001b[1;33m(\u001b[0m\u001b[1;34m'./example.json'\u001b[0m\u001b[1;33m,\u001b[0m \u001b[1;34m'FIPS'\u001b[0m\u001b[1;33m,\u001b[0m \u001b[1;34m'HR90'\u001b[0m\u001b[1;33m)\u001b[0m\u001b[1;33m\u001b[0m\u001b[0m\n\u001b[0m",
      "\u001b[1;32m/home/dexter/Documents/pysal/pysal/contrib/viz/folium_mapping.py\u001b[0m in \u001b[0;36mchoropleth_map\u001b[1;34m(jsonpath, key, attribute, df, classification, classes, bins, std, centroid, zoom_start, tiles, fill_color, fill_opacity, line_opacity, legend_name, save)\u001b[0m\n\u001b[0;32m    269\u001b[0m         \u001b[0mchoromap\u001b[0m\u001b[1;33m.\u001b[0m\u001b[0mcreate_map\u001b[0m\u001b[1;33m(\u001b[0m\u001b[0mfname\u001b[0m\u001b[1;33m)\u001b[0m\u001b[1;33m\u001b[0m\u001b[0m\n\u001b[0;32m    270\u001b[0m \u001b[1;33m\u001b[0m\u001b[0m\n\u001b[1;32m--> 271\u001b[1;33m     \u001b[1;32mreturn\u001b[0m \u001b[0minline_map\u001b[0m\u001b[1;33m(\u001b[0m\u001b[0mchoromap\u001b[0m\u001b[1;33m)\u001b[0m\u001b[1;33m\u001b[0m\u001b[0m\n\u001b[0m\u001b[0;32m    272\u001b[0m \u001b[1;33m\u001b[0m\u001b[0m\n",
      "\u001b[1;32m/home/dexter/Documents/pysal/pysal/contrib/viz/folium_mapping.py\u001b[0m in \u001b[0;36minline_map\u001b[1;34m(Map)\u001b[0m\n\u001b[0;32m     14\u001b[0m     \u001b[0mthe\u001b[0m \u001b[0mHTML5\u001b[0m \u001b[0msrcdoc\u001b[0m \u001b[0mattribute\u001b[0m\u001b[1;33m,\u001b[0m \u001b[0mwhich\u001b[0m \u001b[0mmay\u001b[0m \u001b[1;32mnot\u001b[0m \u001b[0mbe\u001b[0m \u001b[0msupported\u001b[0m \u001b[1;32min\u001b[0m \u001b[0mall\u001b[0m \u001b[0mbrowsers\u001b[0m\u001b[1;33m.\u001b[0m\u001b[1;33m\u001b[0m\u001b[0m\n\u001b[0;32m     15\u001b[0m     '''\n\u001b[1;32m---> 16\u001b[1;33m     \u001b[0mMap\u001b[0m\u001b[1;33m.\u001b[0m\u001b[0m_build_map\u001b[0m\u001b[1;33m(\u001b[0m\u001b[1;33m)\u001b[0m\u001b[1;33m\u001b[0m\u001b[0m\n\u001b[0m\u001b[0;32m     17\u001b[0m     \u001b[1;32mreturn\u001b[0m \u001b[0mHTML\u001b[0m\u001b[1;33m(\u001b[0m\u001b[1;34m'<iframe srcdoc=\"{srcdoc}\" style=\"width: 100%; height: 510px; border: none\"></iframe>'\u001b[0m\u001b[1;33m.\u001b[0m\u001b[0mformat\u001b[0m\u001b[1;33m(\u001b[0m\u001b[0msrcdoc\u001b[0m\u001b[1;33m=\u001b[0m\u001b[0mMap\u001b[0m\u001b[1;33m.\u001b[0m\u001b[0mHTML\u001b[0m\u001b[1;33m.\u001b[0m\u001b[0mreplace\u001b[0m\u001b[1;33m(\u001b[0m\u001b[1;34m'\"'\u001b[0m\u001b[1;33m,\u001b[0m \u001b[1;34m'&quot;'\u001b[0m\u001b[1;33m)\u001b[0m\u001b[1;33m)\u001b[0m\u001b[1;33m)\u001b[0m\u001b[1;33m\u001b[0m\u001b[0m\n\u001b[0;32m     18\u001b[0m \u001b[1;33m\u001b[0m\u001b[0m\n",
      "\u001b[1;31mAttributeError\u001b[0m: 'Map' object has no attribute '_build_map'"
     ]
    }
   ],
   "source": [
    "fm.choropleth_map('./example.json', 'FIPS', 'HR90')"
   ]
  },
  {
   "cell_type": "markdown",
   "metadata": {},
   "source": [
    "This produces a map using default classifications and color schemes and saves it to an html file. We set the function to have sane defaults. However, if the user wants to have more control, we have many options available. "
   ]
  },
  {
   "cell_type": "markdown",
   "metadata": {},
   "source": [
    "### There are arguments to change classification scheme:"
   ]
  },
  {
   "cell_type": "code",
   "execution_count": 18,
   "metadata": {
    "collapsed": false
   },
   "outputs": [
    {
     "name": "stderr",
     "output_type": "stream",
     "text": [
      "/home/dexter/anaconda3/lib/python3.5/site-packages/folium/folium.py:504: UserWarning: This method is deprecated. Please use Map.choropleth instead.\n",
      "  warnings.warn('This method is deprecated. '\n",
      "/home/dexter/Documents/pysal/pysal/contrib/viz/folium_mapping.py:269: FutureWarning: Map.create_map is deprecated. Use Map.save instead\n",
      "  choromap.create_map(fname)\n"
     ]
    },
    {
     "ename": "AttributeError",
     "evalue": "'Map' object has no attribute '_build_map'",
     "output_type": "error",
     "traceback": [
      "\u001b[1;31m---------------------------------------------------------------------------\u001b[0m",
      "\u001b[1;31mAttributeError\u001b[0m                            Traceback (most recent call last)",
      "\u001b[1;32m<ipython-input-18-ccdf301c9419>\u001b[0m in \u001b[0;36m<module>\u001b[1;34m()\u001b[0m\n\u001b[1;32m----> 1\u001b[1;33m \u001b[0mfm\u001b[0m\u001b[1;33m.\u001b[0m\u001b[0mchoropleth_map\u001b[0m\u001b[1;33m(\u001b[0m\u001b[1;34m'./example.json'\u001b[0m\u001b[1;33m,\u001b[0m \u001b[1;34m'FIPS'\u001b[0m\u001b[1;33m,\u001b[0m \u001b[1;34m'HR90'\u001b[0m\u001b[1;33m,\u001b[0m \u001b[0mclassification\u001b[0m \u001b[1;33m=\u001b[0m \u001b[1;34m'Quantiles'\u001b[0m\u001b[1;33m)\u001b[0m\u001b[1;33m\u001b[0m\u001b[0m\n\u001b[0m",
      "\u001b[1;32m/home/dexter/Documents/pysal/pysal/contrib/viz/folium_mapping.py\u001b[0m in \u001b[0;36mchoropleth_map\u001b[1;34m(jsonpath, key, attribute, df, classification, classes, bins, std, centroid, zoom_start, tiles, fill_color, fill_opacity, line_opacity, legend_name, save)\u001b[0m\n\u001b[0;32m    269\u001b[0m         \u001b[0mchoromap\u001b[0m\u001b[1;33m.\u001b[0m\u001b[0mcreate_map\u001b[0m\u001b[1;33m(\u001b[0m\u001b[0mfname\u001b[0m\u001b[1;33m)\u001b[0m\u001b[1;33m\u001b[0m\u001b[0m\n\u001b[0;32m    270\u001b[0m \u001b[1;33m\u001b[0m\u001b[0m\n\u001b[1;32m--> 271\u001b[1;33m     \u001b[1;32mreturn\u001b[0m \u001b[0minline_map\u001b[0m\u001b[1;33m(\u001b[0m\u001b[0mchoromap\u001b[0m\u001b[1;33m)\u001b[0m\u001b[1;33m\u001b[0m\u001b[0m\n\u001b[0m\u001b[0;32m    272\u001b[0m \u001b[1;33m\u001b[0m\u001b[0m\n",
      "\u001b[1;32m/home/dexter/Documents/pysal/pysal/contrib/viz/folium_mapping.py\u001b[0m in \u001b[0;36minline_map\u001b[1;34m(Map)\u001b[0m\n\u001b[0;32m     14\u001b[0m     \u001b[0mthe\u001b[0m \u001b[0mHTML5\u001b[0m \u001b[0msrcdoc\u001b[0m \u001b[0mattribute\u001b[0m\u001b[1;33m,\u001b[0m \u001b[0mwhich\u001b[0m \u001b[0mmay\u001b[0m \u001b[1;32mnot\u001b[0m \u001b[0mbe\u001b[0m \u001b[0msupported\u001b[0m \u001b[1;32min\u001b[0m \u001b[0mall\u001b[0m \u001b[0mbrowsers\u001b[0m\u001b[1;33m.\u001b[0m\u001b[1;33m\u001b[0m\u001b[0m\n\u001b[0;32m     15\u001b[0m     '''\n\u001b[1;32m---> 16\u001b[1;33m     \u001b[0mMap\u001b[0m\u001b[1;33m.\u001b[0m\u001b[0m_build_map\u001b[0m\u001b[1;33m(\u001b[0m\u001b[1;33m)\u001b[0m\u001b[1;33m\u001b[0m\u001b[0m\n\u001b[0m\u001b[0;32m     17\u001b[0m     \u001b[1;32mreturn\u001b[0m \u001b[0mHTML\u001b[0m\u001b[1;33m(\u001b[0m\u001b[1;34m'<iframe srcdoc=\"{srcdoc}\" style=\"width: 100%; height: 510px; border: none\"></iframe>'\u001b[0m\u001b[1;33m.\u001b[0m\u001b[0mformat\u001b[0m\u001b[1;33m(\u001b[0m\u001b[0msrcdoc\u001b[0m\u001b[1;33m=\u001b[0m\u001b[0mMap\u001b[0m\u001b[1;33m.\u001b[0m\u001b[0mHTML\u001b[0m\u001b[1;33m.\u001b[0m\u001b[0mreplace\u001b[0m\u001b[1;33m(\u001b[0m\u001b[1;34m'\"'\u001b[0m\u001b[1;33m,\u001b[0m \u001b[1;34m'&quot;'\u001b[0m\u001b[1;33m)\u001b[0m\u001b[1;33m)\u001b[0m\u001b[1;33m)\u001b[0m\u001b[1;33m\u001b[0m\u001b[0m\n\u001b[0;32m     18\u001b[0m \u001b[1;33m\u001b[0m\u001b[0m\n",
      "\u001b[1;31mAttributeError\u001b[0m: 'Map' object has no attribute '_build_map'"
     ]
    }
   ],
   "source": [
    "fm.choropleth_map('./example.json', 'FIPS', 'HR90', classification = 'Quantiles')"
   ]
  },
  {
   "cell_type": "markdown",
   "metadata": {},
   "source": [
    "Most `PySAL` classifiers are supprorted. "
   ]
  },
  {
   "cell_type": "markdown",
   "metadata": {},
   "source": [
    "## Base Map Type"
   ]
  },
  {
   "cell_type": "code",
   "execution_count": null,
   "metadata": {
    "collapsed": false
   },
   "outputs": [],
   "source": [
    "fm.choropleth_map('./example.json', 'FIPS', 'HR90', classification = 'Jenks Caspall', tiles='Stamen Toner', save=True) "
   ]
  },
  {
   "cell_type": "markdown",
   "metadata": {},
   "source": [
    "We support the entire range of builtin basemap types in Folium, but custom tilesets from MapBox are not supported yet. "
   ]
  },
  {
   "cell_type": "markdown",
   "metadata": {},
   "source": [
    "## Color Scheme"
   ]
  },
  {
   "cell_type": "code",
   "execution_count": null,
   "metadata": {
    "collapsed": false
   },
   "outputs": [],
   "source": [
    "fm.choropleth_map('./example.json', 'FIPS', 'HR80', classification = 'Jenks Caspall', tiles='Stamen Toner', fill_color = 'PuBuGn', save=True) "
   ]
  },
  {
   "cell_type": "markdown",
   "metadata": {},
   "source": [
    "All color schemes are [Color Brewer](https://colorbrewer2.org) and simply pass through to `Folium` on execution. "
   ]
  },
  {
   "cell_type": "markdown",
   "metadata": {},
   "source": [
    "## Class numbers"
   ]
  },
  {
   "cell_type": "code",
   "execution_count": null,
   "metadata": {
    "collapsed": false
   },
   "outputs": [],
   "source": [
    "fm.choropleth_map('./example.json', 'FIPS', 'HR80', classification = 'Equal Interval', classes=6, tiles='Stamen Toner', fill_color='PuBuGn',save=True) "
   ]
  },
  {
   "cell_type": "markdown",
   "metadata": {},
   "source": [
    "Folium supports up to 6 classes."
   ]
  },
  {
   "cell_type": "markdown",
   "metadata": {},
   "source": [
    "## Standardization"
   ]
  },
  {
   "cell_type": "code",
   "execution_count": null,
   "metadata": {
    "collapsed": false
   },
   "outputs": [],
   "source": [
    "fm.choropleth_map('./example.json', 'FIPS', 'HR90', classification = 'Quantiles', std='HR80' , tiles='Stamen Toner', fill_color='PuBuGn',save=True) "
   ]
  },
  {
   "cell_type": "markdown",
   "metadata": {},
   "source": [
    "The goal of the `std` argument was to implement a very flexible transformation argument that could take functions, fields, and static items. As of now, it only supports float/int scaling and division by another field, which would support the mapping of spatial rates or population rates."
   ]
  },
  {
   "cell_type": "markdown",
   "metadata": {},
   "source": [
    "# Conclusion"
   ]
  },
  {
   "cell_type": "markdown",
   "metadata": {},
   "source": [
    "Overall, the function neatly encapsulates three components:\n",
    "\n",
    "- plumbing large lists of arguments together to simplify mapping from JSON files\n",
    "- searching for sane defaults (bounding box & zoom level)\n",
    "- implementing classification and standardization useful for choropleth mapping"
   ]
  },
  {
   "cell_type": "markdown",
   "metadata": {},
   "source": [
    "Due to some pretty strong limitations in `Folium` itself, its usefulness for rich, dynamic, and interactive visualizations built from small, atomic functions is probably limited. It would need to be extended quite significantly (or linked with even more packages with more fickle APIs) to usefully generate mixed-mode scientific visualizations. With `Folium`'s natural linkages to `Pandas`, mapping derived quantites is also possible.\n",
    "\n",
    "But, it's really simple to map quickly from PySAL:"
   ]
  },
  {
   "cell_type": "code",
   "execution_count": 19,
   "metadata": {
    "collapsed": false
   },
   "outputs": [
    {
     "name": "stderr",
     "output_type": "stream",
     "text": [
      "/home/dexter/anaconda3/lib/python3.5/site-packages/folium/folium.py:504: UserWarning: This method is deprecated. Please use Map.choropleth instead.\n",
      "  warnings.warn('This method is deprecated. '\n",
      "/home/dexter/Documents/pysal/pysal/contrib/viz/folium_mapping.py:269: FutureWarning: Map.create_map is deprecated. Use Map.save instead\n",
      "  choromap.create_map(fname)\n"
     ]
    },
    {
     "ename": "AttributeError",
     "evalue": "'Map' object has no attribute '_build_map'",
     "output_type": "error",
     "traceback": [
      "\u001b[1;31m---------------------------------------------------------------------------\u001b[0m",
      "\u001b[1;31mAttributeError\u001b[0m                            Traceback (most recent call last)",
      "\u001b[1;32m<ipython-input-19-c27fae26f5e4>\u001b[0m in \u001b[0;36m<module>\u001b[1;34m()\u001b[0m\n\u001b[0;32m      1\u001b[0m \u001b[1;32mwith\u001b[0m \u001b[0mopen\u001b[0m\u001b[1;33m(\u001b[0m\u001b[1;34m'example2.json'\u001b[0m\u001b[1;33m,\u001b[0m \u001b[1;34m'w'\u001b[0m\u001b[1;33m)\u001b[0m \u001b[1;32mas\u001b[0m \u001b[0mout\u001b[0m\u001b[1;33m:\u001b[0m\u001b[1;33m\u001b[0m\u001b[0m\n\u001b[0;32m      2\u001b[0m     \u001b[0mgj\u001b[0m\u001b[1;33m.\u001b[0m\u001b[0mdump\u001b[0m\u001b[1;33m(\u001b[0m\u001b[0mfm\u001b[0m\u001b[1;33m.\u001b[0m\u001b[0mbuild_features\u001b[0m\u001b[1;33m(\u001b[0m\u001b[0mps\u001b[0m\u001b[1;33m.\u001b[0m\u001b[0mopen\u001b[0m\u001b[1;33m(\u001b[0m\u001b[0mfilepath\u001b[0m \u001b[1;33m+\u001b[0m \u001b[1;34m'.shp'\u001b[0m\u001b[1;33m)\u001b[0m\u001b[1;33m,\u001b[0m \u001b[0mps\u001b[0m\u001b[1;33m.\u001b[0m\u001b[0mopen\u001b[0m\u001b[1;33m(\u001b[0m\u001b[0mfilepath\u001b[0m \u001b[1;33m+\u001b[0m \u001b[1;34m'.dbf'\u001b[0m\u001b[1;33m)\u001b[0m\u001b[1;33m)\u001b[0m\u001b[1;33m,\u001b[0m \u001b[0mout\u001b[0m\u001b[1;33m)\u001b[0m\u001b[1;33m\u001b[0m\u001b[0m\n\u001b[1;32m----> 3\u001b[1;33m \u001b[0mfm\u001b[0m\u001b[1;33m.\u001b[0m\u001b[0mchoropleth_map\u001b[0m\u001b[1;33m(\u001b[0m\u001b[1;34m'example2.json'\u001b[0m\u001b[1;33m,\u001b[0m \u001b[1;34m'FIPS'\u001b[0m\u001b[1;33m,\u001b[0m \u001b[1;34m'HR70'\u001b[0m\u001b[1;33m)\u001b[0m\u001b[1;33m\u001b[0m\u001b[0m\n\u001b[0m",
      "\u001b[1;32m/home/dexter/Documents/pysal/pysal/contrib/viz/folium_mapping.py\u001b[0m in \u001b[0;36mchoropleth_map\u001b[1;34m(jsonpath, key, attribute, df, classification, classes, bins, std, centroid, zoom_start, tiles, fill_color, fill_opacity, line_opacity, legend_name, save)\u001b[0m\n\u001b[0;32m    269\u001b[0m         \u001b[0mchoromap\u001b[0m\u001b[1;33m.\u001b[0m\u001b[0mcreate_map\u001b[0m\u001b[1;33m(\u001b[0m\u001b[0mfname\u001b[0m\u001b[1;33m)\u001b[0m\u001b[1;33m\u001b[0m\u001b[0m\n\u001b[0;32m    270\u001b[0m \u001b[1;33m\u001b[0m\u001b[0m\n\u001b[1;32m--> 271\u001b[1;33m     \u001b[1;32mreturn\u001b[0m \u001b[0minline_map\u001b[0m\u001b[1;33m(\u001b[0m\u001b[0mchoromap\u001b[0m\u001b[1;33m)\u001b[0m\u001b[1;33m\u001b[0m\u001b[0m\n\u001b[0m\u001b[0;32m    272\u001b[0m \u001b[1;33m\u001b[0m\u001b[0m\n",
      "\u001b[1;32m/home/dexter/Documents/pysal/pysal/contrib/viz/folium_mapping.py\u001b[0m in \u001b[0;36minline_map\u001b[1;34m(Map)\u001b[0m\n\u001b[0;32m     14\u001b[0m     \u001b[0mthe\u001b[0m \u001b[0mHTML5\u001b[0m \u001b[0msrcdoc\u001b[0m \u001b[0mattribute\u001b[0m\u001b[1;33m,\u001b[0m \u001b[0mwhich\u001b[0m \u001b[0mmay\u001b[0m \u001b[1;32mnot\u001b[0m \u001b[0mbe\u001b[0m \u001b[0msupported\u001b[0m \u001b[1;32min\u001b[0m \u001b[0mall\u001b[0m \u001b[0mbrowsers\u001b[0m\u001b[1;33m.\u001b[0m\u001b[1;33m\u001b[0m\u001b[0m\n\u001b[0;32m     15\u001b[0m     '''\n\u001b[1;32m---> 16\u001b[1;33m     \u001b[0mMap\u001b[0m\u001b[1;33m.\u001b[0m\u001b[0m_build_map\u001b[0m\u001b[1;33m(\u001b[0m\u001b[1;33m)\u001b[0m\u001b[1;33m\u001b[0m\u001b[0m\n\u001b[0m\u001b[0;32m     17\u001b[0m     \u001b[1;32mreturn\u001b[0m \u001b[0mHTML\u001b[0m\u001b[1;33m(\u001b[0m\u001b[1;34m'<iframe srcdoc=\"{srcdoc}\" style=\"width: 100%; height: 510px; border: none\"></iframe>'\u001b[0m\u001b[1;33m.\u001b[0m\u001b[0mformat\u001b[0m\u001b[1;33m(\u001b[0m\u001b[0msrcdoc\u001b[0m\u001b[1;33m=\u001b[0m\u001b[0mMap\u001b[0m\u001b[1;33m.\u001b[0m\u001b[0mHTML\u001b[0m\u001b[1;33m.\u001b[0m\u001b[0mreplace\u001b[0m\u001b[1;33m(\u001b[0m\u001b[1;34m'\"'\u001b[0m\u001b[1;33m,\u001b[0m \u001b[1;34m'&quot;'\u001b[0m\u001b[1;33m)\u001b[0m\u001b[1;33m)\u001b[0m\u001b[1;33m)\u001b[0m\u001b[1;33m\u001b[0m\u001b[0m\n\u001b[0;32m     18\u001b[0m \u001b[1;33m\u001b[0m\u001b[0m\n",
      "\u001b[1;31mAttributeError\u001b[0m: 'Map' object has no attribute '_build_map'"
     ]
    }
   ],
   "source": [
    "with open('example2.json', 'w') as out:\n",
    "    gj.dump(fm.build_features(ps.open(filepath + '.shp'), ps.open(filepath + '.dbf')), out)\n",
    "fm.choropleth_map('example2.json', 'FIPS', 'HR70')"
   ]
  }
 ],
 "metadata": {
  "kernelspec": {
   "display_name": "Python 3",
   "language": "python",
   "name": "python3"
  },
  "language_info": {
   "codemirror_mode": {
    "name": "ipython",
    "version": 3
   },
   "file_extension": ".py",
   "mimetype": "text/x-python",
   "name": "python",
   "nbconvert_exporter": "python",
   "pygments_lexer": "ipython3",
   "version": "3.5.1"
  }
 },
 "nbformat": 4,
 "nbformat_minor": 0
}
