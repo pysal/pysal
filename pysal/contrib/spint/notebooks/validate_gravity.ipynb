{
 "cells": [
  {
   "cell_type": "code",
   "execution_count": 75,
   "metadata": {
    "collapsed": false
   },
   "outputs": [],
   "source": [
    "#import sys\n",
    "#sys.path.append('/Users/toshan/dev/pysal/pysal/contrib/glm')\n",
    "#from utils import \n",
    "import numpy as np\n",
    "import pandas as pd\n",
    "import sys\n",
    "sys.path.append('/Users/toshan/dev/pysal/pysal/contrib/spint')\n",
    "from gravity import Gravity, Production, Attraction, Doubly, BaseGravity\n",
    "import gravity\n",
    "from utils import sorensen\n",
    "import statsmodels.formula.api as smf\n",
    "from statsmodels.api import families as families"
   ]
  },
  {
   "cell_type": "code",
   "execution_count": 32,
   "metadata": {
    "collapsed": false
   },
   "outputs": [],
   "source": [
    "austria = pd.read_csv('http://dl.dropbox.com/u/8649795/AT_Austria.csv')\n",
    "austria = austria[austria['Origin'] != austria['Destination']]\n",
    "f = austria['Data'].values\n",
    "o = austria['Origin'].values\n",
    "d = austria['Destination'].values\n",
    "dij = austria['Dij'].values\n",
    "o_vars = austria['Oi2007'].values\n",
    "d_vars = austria['Dj2007'].values\n"
   ]
  },
  {
   "cell_type": "code",
   "execution_count": 33,
   "metadata": {
    "collapsed": false
   },
   "outputs": [
    {
     "name": "stdout",
     "output_type": "stream",
     "text": [
      "[ -7.95447436e+00   8.63867812e-01   8.80474585e-01  -6.20544765e-03]\n",
      "[ -7.95447436e+00   8.63867812e-01   8.80474585e-01  -6.20544766e-03]\n"
     ]
    }
   ],
   "source": [
    "grav = Gravity(f, o_vars, d_vars, dij, 'exp', framework='glm', constant=True)\n",
    "print grav.params\n",
    "\n",
    "gravity = smf.glm('Data~np.log(Oi2007)+np.log(Dj2007)+Dij', family=families.Poisson(), data=austria).fit()\n",
    "print gravity.params.values"
   ]
  },
  {
   "cell_type": "code",
   "execution_count": 35,
   "metadata": {
    "collapsed": false,
    "scrolled": false
   },
   "outputs": [
    {
     "name": "stdout",
     "output_type": "stream",
     "text": [
      "[-1.11700938  1.68662317  2.15188689  0.60300297  0.88380784  1.20926104\n",
      "  0.68938983  1.15472804  1.02479968  0.89278717 -0.00727113]\n",
      "[-1.11700938  1.68662317  2.15188689  0.60300297  0.88380784  1.20926105\n",
      "  0.68938983  1.15472805  1.02479968  0.89278717 -0.00727113]\n"
     ]
    }
   ],
   "source": [
    "production = Production(f, o, d_vars, dij, 'exp', framework='glm')\n",
    "print production.params\n",
    "\n",
    "gravity = smf.glm('Data~Origin+np.log(Dj2007)+Dij', family=families.Poisson(), data=austria).fit()\n",
    "print gravity.params.values"
   ]
  },
  {
   "cell_type": "code",
   "execution_count": 5,
   "metadata": {
    "collapsed": false
   },
   "outputs": [
    {
     "name": "stdout",
     "output_type": "stream",
     "text": [
      "[-0.88439723  1.62180605  1.92772078  0.12462001  0.62378812  0.69646073\n",
      "  0.20909411  0.6856777   0.48539625  0.89235874 -0.00693755]\n",
      "[-0.88439723  1.62180605  1.92772078  0.12462002  0.62378812  0.69646073\n",
      "  0.20909411  0.6856777   0.48539625  0.89235874 -0.00693755]\n"
     ]
    }
   ],
   "source": [
    "attraction = Attraction(f, d, o_vars, dij, 'exp', framework='glm', constant=True)\n",
    "print attraction.params\n",
    "\n",
    "gravity = smf.glm('Data~np.log(Oi2007)+Destination + Dij', family=families.Poisson(), data=austria).fit()\n",
    "print gravity.params.values"
   ]
  },
  {
   "cell_type": "code",
   "execution_count": 6,
   "metadata": {
    "collapsed": false,
    "scrolled": true
   },
   "outputs": [
    {
     "name": "stdout",
     "output_type": "stream",
     "text": [
      "[ 6.20471518  1.5449095   2.4414292   0.69924374  0.94869185  1.28967637\n",
      "  0.74270015  1.19468573  0.98874193  1.49709841  2.18492741  0.18784818\n",
      "  0.66434515  0.74264938  0.21334535  0.66765781  0.39986094 -0.00791533]\n",
      "[ 6.20471518  1.5449095   2.4414292   0.69924374  0.94869185  1.28967637\n",
      "  0.74270016  1.19468574  0.98874192  1.49709841  2.18492741  0.18784818\n",
      "  0.66434515  0.74264938  0.21334535  0.66765782  0.39986087 -0.00791533]\n"
     ]
    }
   ],
   "source": [
    "doubly = Doubly(f, o, d, dij, 'exp', framework='glm', constant=True)\n",
    "print doubly.params\n",
    "\n",
    "gravity = smf.glm('Data~Origin+Destination+Dij', family=families.Poisson(), data=austria).fit()\n",
    "print gravity.params.values"
   ]
  }
 ],
 "metadata": {
  "anaconda-cloud": {},
  "kernelspec": {
   "display_name": "Python [Root]",
   "language": "python",
   "name": "Python [Root]"
  },
  "language_info": {
   "codemirror_mode": {
    "name": "ipython",
    "version": 2
   },
   "file_extension": ".py",
   "mimetype": "text/x-python",
   "name": "python",
   "nbconvert_exporter": "python",
   "pygments_lexer": "ipython2",
   "version": "2.7.12"
  }
 },
 "nbformat": 4,
 "nbformat_minor": 0
}
