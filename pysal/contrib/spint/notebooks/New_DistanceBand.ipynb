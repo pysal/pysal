{
 "cells": [
  {
   "cell_type": "code",
   "execution_count": 1,
   "metadata": {
    "collapsed": false
   },
   "outputs": [],
   "source": [
    "import numpy as np\n",
    "from scipy.spatial import distance\n",
    "import scipy.spatial as spatial\n",
    "from pysal.weights import W\n",
    "from pysal.weights.util import isKDTree\n",
    "from pysal.weights import Distance as Distance\n",
    "from pysal.weights import WSP, WSP2W\n",
    "from scipy.spatial import distance_matrix\n",
    "import scipy.sparse as sp\n",
    "from pysal.common import KDTree"
   ]
  },
  {
   "cell_type": "code",
   "execution_count": 2,
   "metadata": {
    "collapsed": false
   },
   "outputs": [],
   "source": [
    "class DistanceBand(W):\n",
    "    \"\"\"\n",
    "    Spatial weights based on distance band.\n",
    "\n",
    "    Parameters\n",
    "    ----------\n",
    "\n",
    "    data        : array\n",
    "                  (n,k) or KDTree where KDtree.data is array (n,k)\n",
    "                  n observations on k characteristics used to measure\n",
    "                  distances between the n objects\n",
    "    threshold  : float\n",
    "                 distance band\n",
    "    p          : float\n",
    "                 Minkowski p-norm distance metric parameter:\n",
    "                 1<=p<=infinity\n",
    "                 2: Euclidean distance\n",
    "                 1: Manhattan distance\n",
    "    binary     : boolean\n",
    "                 If true w_{ij}=1 if d_{i,j}<=threshold, otherwise w_{i,j}=0\n",
    "                 If false wij=dij^{alpha}\n",
    "    alpha      : float\n",
    "                 distance decay parameter for weight (default -1.0)\n",
    "                 if alpha is positive the weights will not decline with\n",
    "                 distance. If binary is True, alpha is ignored\n",
    "\n",
    "    ids         : list\n",
    "                  values to use for keys of the neighbors and weights dicts\n",
    "\n",
    "    Attributes\n",
    "    ----------\n",
    "    weights : dict\n",
    "              of neighbor weights keyed by observation id\n",
    "\n",
    "    neighbors : dict\n",
    "                of neighbors keyed by observation id\n",
    "\n",
    "\n",
    "\n",
    "    \"\"\"\n",
    "\n",
    "    def __init__(self, data, threshold, p=2, alpha=-1.0, binary=True, ids=None, build_sp=True):\n",
    "        \"\"\"Casting to floats is a work around for a bug in scipy.spatial.\n",
    "        See detail in pysal issue #126.\n",
    "\n",
    "        \"\"\"\n",
    "        self.p = p\n",
    "        self.threshold = threshold\n",
    "        self.binary = binary\n",
    "        self.alpha = alpha\n",
    "        self.build_sp = build_sp\n",
    "        \n",
    "        if isKDTree(data):\n",
    "            self.kd = data\n",
    "            self.data = self.kd.data\n",
    "        else:\n",
    "            if self.build_sp:\n",
    "                try:\n",
    "                    data = np.asarray(data)\n",
    "                    if data.dtype.kind != 'f':\n",
    "                        data = data.astype(float)\n",
    "                        self.data = data\n",
    "                        self.kd = KDTree(self.data)\n",
    "                except:\n",
    "                    raise ValueError(\"Could not make array from data\")        \n",
    "            else:\n",
    "                self.data = data\n",
    "                self.kd = None       \n",
    "               \n",
    "\n",
    "        self._band()\n",
    "        neighbors, weights = self._distance_to_W(ids)\n",
    "        W.__init__(self, neighbors, weights, ids)\n",
    "\n",
    "    def _band(self):\n",
    "        \"\"\"Find all pairs within threshold.\n",
    "\n",
    "        \"\"\"\n",
    "        if self.build_sp:    \n",
    "            self.dmat = self.kd.sparse_distance_matrix(\n",
    "                    self.kd, max_distance=self.threshold)\n",
    "        else:\n",
    "            self.dmat = self._spdistance_matrix(self.data, self.data, self.threshold)\n",
    "    \n",
    "    def _distance_to_W(self, ids=None):\n",
    "        if self.binary:\n",
    "            self.dmat[self.dmat>0] = 1\n",
    "            tempW = WSP2W(WSP(self.dmat))\n",
    "            return tempW.neighbors, tempW.weights\n",
    "\n",
    "        else:\n",
    "            weighted = self.dmat.power(self.alpha)\n",
    "            weighted[weighted==np.inf] = 0\n",
    "            tempW = WSP2W(WSP(weighted))\n",
    "            return tempW.neighbors, tempW.weights\n",
    "          \n",
    "    def _spdistance_matrix(self, x,y, threshold=None):\n",
    "        dist = distance_matrix(x,y)\n",
    "        if threshold is not None:\n",
    "            zeros = dist > threshold\n",
    "            dist[zeros] = 0\n",
    "        return sp.csr_matrix(dist)"
   ]
  },
  {
   "cell_type": "code",
   "execution_count": 21,
   "metadata": {
    "collapsed": true
   },
   "outputs": [],
   "source": [
    "x = np.random.randint(0, 1000, 1000)\n",
    "y = np.random.randint(0, 1000, 1000)\n",
    "w = np.random.randint(0, 1000, 1000)\n",
    "z = np.random.randint(0, 1000, 1000)\n",
    "\n",
    "data = zip(x.ravel(), y.ravel(), w.ravel(), z.ravel())\n",
    "tree = KDTree(data)"
   ]
  },
  {
   "cell_type": "code",
   "execution_count": 22,
   "metadata": {
    "collapsed": false
   },
   "outputs": [],
   "source": [
    "#print np.allclose(Distance.DistanceBand(tree, threshold=500, alpha=-1.5, binary=True).full()[0], DistanceBand(tree, threshold=500, alpha=-1.5, binary=True).full()[0])\n",
    "#print np.allclose(Distance.DistanceBand(tree, threshold=500, alpha=-1.5, binary=False).full()[0], DistanceBand(tree, threshold=500, alpha=-1.5, binary=False).full()[0])"
   ]
  },
  {
   "cell_type": "code",
   "execution_count": 23,
   "metadata": {
    "collapsed": false,
    "scrolled": false
   },
   "outputs": [
    {
     "name": "stdout",
     "output_type": "stream",
     "text": [
      "CPU times: user 1.42 s, sys: 17.9 ms, total: 1.44 s\n",
      "Wall time: 1.44 s\n",
      "CPU times: user 366 ms, sys: 11.3 ms, total: 377 ms\n",
      "Wall time: 376 ms\n"
     ]
    },
    {
     "data": {
      "text/plain": [
       "<__main__.DistanceBand at 0x10c0aedd0>"
      ]
     },
     "execution_count": 23,
     "metadata": {},
     "output_type": "execute_result"
    }
   ],
   "source": [
    "%time Distance.DistanceBand(tree, threshold=500, alpha=-1.5, binary=True)\n",
    "%time DistanceBand(tree, threshold=500, alpha=-1.5, binary=True, build_sp=True)\n"
   ]
  },
  {
   "cell_type": "code",
   "execution_count": 24,
   "metadata": {
    "collapsed": false
   },
   "outputs": [
    {
     "name": "stdout",
     "output_type": "stream",
     "text": [
      "CPU times: user 1.37 s, sys: 21.7 ms, total: 1.39 s\n",
      "Wall time: 1.4 s\n",
      "CPU times: user 69.9 ms, sys: 4.84 ms, total: 74.7 ms\n",
      "Wall time: 74.7 ms\n"
     ]
    },
    {
     "data": {
      "text/plain": [
       "<__main__.DistanceBand at 0x117d18c90>"
      ]
     },
     "execution_count": 24,
     "metadata": {},
     "output_type": "execute_result"
    }
   ],
   "source": [
    "%time Distance.DistanceBand(tree, threshold=500, alpha=-1.5, binary=True)\n",
    "%time DistanceBand(tree, threshold=500, alpha=-1.5, binary=True, build_sp=False)"
   ]
  },
  {
   "cell_type": "code",
   "execution_count": 25,
   "metadata": {
    "collapsed": false
   },
   "outputs": [
    {
     "name": "stdout",
     "output_type": "stream",
     "text": [
      "CPU times: user 1.28 s, sys: 44 ms, total: 1.32 s\n",
      "Wall time: 1.3 s\n",
      "CPU times: user 199 ms, sys: 10.9 ms, total: 210 ms\n",
      "Wall time: 210 ms\n"
     ]
    },
    {
     "data": {
      "text/plain": [
       "<__main__.DistanceBand at 0x117d18a10>"
      ]
     },
     "execution_count": 25,
     "metadata": {},
     "output_type": "execute_result"
    }
   ],
   "source": [
    "%time Distance.DistanceBand(tree, threshold=500, alpha=-1.5, binary=False)\n",
    "%time DistanceBand(tree, threshold=500, alpha=-1.5, binary=False, build_sp=True)"
   ]
  },
  {
   "cell_type": "code",
   "execution_count": 26,
   "metadata": {
    "collapsed": false
   },
   "outputs": [
    {
     "name": "stdout",
     "output_type": "stream",
     "text": [
      "CPU times: user 1.5 s, sys: 46.3 ms, total: 1.54 s\n",
      "Wall time: 1.53 s\n",
      "CPU times: user 67.1 ms, sys: 5.1 ms, total: 72.2 ms\n",
      "Wall time: 72.2 ms\n"
     ]
    },
    {
     "data": {
      "text/plain": [
       "<__main__.DistanceBand at 0x117d18e90>"
      ]
     },
     "execution_count": 26,
     "metadata": {},
     "output_type": "execute_result"
    }
   ],
   "source": [
    "%time Distance.DistanceBand(tree, threshold=500, alpha=-1.5, binary=False)\n",
    "%time DistanceBand(tree, threshold=500, alpha=-1.5, binary=False, build_sp=False)"
   ]
  },
  {
   "cell_type": "code",
   "execution_count": null,
   "metadata": {
    "collapsed": true
   },
   "outputs": [],
   "source": []
  },
  {
   "cell_type": "code",
   "execution_count": null,
   "metadata": {
    "collapsed": true
   },
   "outputs": [],
   "source": []
  }
 ],
 "metadata": {
  "anaconda-cloud": {},
  "kernelspec": {
   "display_name": "Python [Root]",
   "language": "python",
   "name": "Python [Root]"
  },
  "language_info": {
   "codemirror_mode": {
    "name": "ipython",
    "version": 2
   },
   "file_extension": ".py",
   "mimetype": "text/x-python",
   "name": "python",
   "nbconvert_exporter": "python",
   "pygments_lexer": "ipython2",
   "version": "2.7.12"
  }
 },
 "nbformat": 4,
 "nbformat_minor": 0
}
