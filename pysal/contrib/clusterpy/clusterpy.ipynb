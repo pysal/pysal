{
 "metadata": {
  "name": "",
  "signature": "sha256:a138ff2bb82f0ff84b1c6ddbfcdd96a0d757ce0a91b7848a1d377b8e5b58d79b"
 },
 "nbformat": 3,
 "nbformat_minor": 0,
 "worksheets": [
  {
   "cells": [
    {
     "cell_type": "code",
     "collapsed": false,
     "input": [
      "import pysal.contrib.clusterpy as cp\n",
      "%pylab inline"
     ],
     "language": "python",
     "metadata": {},
     "outputs": [
      {
       "output_type": "stream",
       "stream": "stdout",
       "text": [
        "ClusterPy: Library of spatially constrained clustering algorithms\n",
        "Populating the interactive namespace from numpy and matplotlib"
       ]
      },
      {
       "output_type": "stream",
       "stream": "stdout",
       "text": [
        "\n"
       ]
      }
     ],
     "prompt_number": 1
    },
    {
     "cell_type": "code",
     "collapsed": false,
     "input": [
      "import numpy as np\n",
      "import pysal as ps\n",
      "from collections import Counter"
     ],
     "language": "python",
     "metadata": {},
     "outputs": [],
     "prompt_number": 2
    },
    {
     "cell_type": "code",
     "collapsed": false,
     "input": [
      "columbus = cp.loadArcData(ps.examples.get_path('columbus.shp'))\n",
      "columbus.fieldNames\n",
      "n = len(columbus.Wqueen)\n",
      "#columbus.generateData('Uniform', 'rook', 1, 1, 10)\n",
      "columbus.dataOperation(\"CONSTANT = 1\")\n",
      "columbus.cluster('maxpTabu', ['CRIME',  'CONSTANT'], threshold=4, dissolve=0, std=0)\n"
     ],
     "language": "python",
     "metadata": {},
     "outputs": [
      {
       "output_type": "stream",
       "stream": "stdout",
       "text": [
        "Adding CONSTANT to fieldNames\n",
        "Adding values from 1 to Y\n",
        "Adding variables\n",
        "Done\n",
        "Getting variables\n",
        "Variables successfully extracted\n",
        "Running max-p-regions model (Duque, Anselin and Rey, 2010)\n",
        "Local search method: Tabu Search\n",
        "Number of areas:  49\n",
        "threshold value:  4\n",
        "FINAL SOLUTION: "
       ]
      },
      {
       "output_type": "stream",
       "stream": "stdout",
       "text": [
        " [6, 6, 6, 6, 7, 1, 6, 6, 1, 1, 3, 3, 3, 3, 7, 3, 1, 8, 8, 5, 8, 1, 5, 8, 7, 7, 0, 0, 0, 0, 4, 5, 9, 4, 9, 4, 2, 0, 4, 5, 5, 4, 2, 9, 2, 4, 5, 2, 9]\n",
        "FINAL OF:  2615.44707346\n",
        "Done\n",
        "Adding variables\n",
        "Done\n"
       ]
      }
     ],
     "prompt_number": 3
    },
    {
     "cell_type": "code",
     "collapsed": false,
     "input": [
      "Counter(columbus.region2areas)"
     ],
     "language": "python",
     "metadata": {},
     "outputs": [
      {
       "metadata": {},
       "output_type": "pyout",
       "prompt_number": 4,
       "text": [
        "Counter({4: 6, 5: 6, 6: 6, 0: 5, 1: 5, 3: 5, 2: 4, 7: 4, 8: 4, 9: 4})"
       ]
      }
     ],
     "prompt_number": 4
    },
    {
     "cell_type": "code",
     "collapsed": false,
     "input": [
      "columbus.cluster('arisel', ['CRIME'], 5, wType='rook', inits=10, dissolve=0)\n",
      "#calif.cluster('arisel', ['PCR2002'], 9, wType='rook', inits=10, dissolve=1)"
     ],
     "language": "python",
     "metadata": {},
     "outputs": [
      {
       "output_type": "stream",
       "stream": "stdout",
       "text": [
        "Getting variables\n",
        "Variables successfully extracted\n",
        "Running original Arisel algorithm\n",
        "Number of areas:  49\n",
        "Number of regions:  5\n",
        "initial Solution: "
       ]
      },
      {
       "output_type": "stream",
       "stream": "stdout",
       "text": [
        " [2, 2, 2, 2, 0, 1, 2, 2, 1, 1, 0, 0, 0, 0, 0, 0, 1, 4, 0, 1, 4, 1, 1, 4, 0, 0, 0, 0, 0, 0, 4, 1, 3, 4, 3, 4, 3, 0, 4, 1, 1, 4, 3, 3, 3, 4, 1, 3, 3]\n",
        "initial O.F:  4292.34464226\n",
        "FINAL SOLUTION: "
       ]
      },
      {
       "output_type": "stream",
       "stream": "stdout",
       "text": [
        " [2, 2, 2, 2, 0, 1, 2, 2, 1, 1, 0, 0, 0, 0, 0, 0, 1, 0, 0, 1, 0, 1, 1, 0, 0, 0, 0, 0, 0, 0, 4, 1, 0, 4, 1, 4, 3, 0, 4, 1, 1, 4, 3, 1, 1, 4, 1, 1, 1]\n",
        "FINAL OF:  3695.95184733\n",
        "Done\n",
        "Adding variables\n",
        "Done\n"
       ]
      }
     ],
     "prompt_number": 5
    },
    {
     "cell_type": "code",
     "collapsed": false,
     "input": [
      "# regionalization solutions are added as a list of region ids at the end\n",
      "columbus.fieldNames"
     ],
     "language": "python",
     "metadata": {},
     "outputs": [
      {
       "metadata": {},
       "output_type": "pyout",
       "prompt_number": 6,
       "text": [
        "['ID',\n",
        " 'AREA',\n",
        " 'PERIMETER',\n",
        " 'COLUMBUS_',\n",
        " 'COLUMBUS_I',\n",
        " 'POLYID',\n",
        " 'NEIG',\n",
        " 'HOVAL',\n",
        " 'INC',\n",
        " 'CRIME',\n",
        " 'OPEN',\n",
        " 'PLUMB',\n",
        " 'DISCBD',\n",
        " 'X',\n",
        " 'Y',\n",
        " 'NSA',\n",
        " 'NSB',\n",
        " 'EW',\n",
        " 'CP',\n",
        " 'THOUS',\n",
        " 'NEIGNO',\n",
        " 'CONSTANT',\n",
        " 'maxpTabu_20140823211458',\n",
        " 'arisel_20140823211459']"
       ]
      }
     ],
     "prompt_number": 6
    },
    {
     "cell_type": "code",
     "collapsed": false,
     "input": [
      "warisel = ps.block_weights(columbus.region2areas)"
     ],
     "language": "python",
     "metadata": {},
     "outputs": [],
     "prompt_number": 7
    },
    {
     "cell_type": "code",
     "collapsed": false,
     "input": [
      "warisel.neighbors"
     ],
     "language": "python",
     "metadata": {},
     "outputs": [
      {
       "metadata": {},
       "output_type": "pyout",
       "prompt_number": 8,
       "text": [
        "{0: [1L, 2L, 3L, 6L, 7L],\n",
        " 1: [0L, 2L, 3L, 6L, 7L],\n",
        " 2: [0L, 1L, 3L, 6L, 7L],\n",
        " 3: [0L, 1L, 2L, 6L, 7L],\n",
        " 4: [10L,\n",
        "  11L,\n",
        "  12L,\n",
        "  13L,\n",
        "  14L,\n",
        "  15L,\n",
        "  17L,\n",
        "  18L,\n",
        "  20L,\n",
        "  23L,\n",
        "  24L,\n",
        "  25L,\n",
        "  26L,\n",
        "  27L,\n",
        "  28L,\n",
        "  29L,\n",
        "  32L,\n",
        "  37L],\n",
        " 5: [8L, 9L, 16L, 19L, 21L, 22L, 31L, 34L, 39L, 40L, 43L, 44L, 46L, 47L, 48L],\n",
        " 6: [0L, 1L, 2L, 3L, 7L],\n",
        " 7: [0L, 1L, 2L, 3L, 6L],\n",
        " 8: [5L, 9L, 16L, 19L, 21L, 22L, 31L, 34L, 39L, 40L, 43L, 44L, 46L, 47L, 48L],\n",
        " 9: [5L, 8L, 16L, 19L, 21L, 22L, 31L, 34L, 39L, 40L, 43L, 44L, 46L, 47L, 48L],\n",
        " 10: [4L,\n",
        "  11L,\n",
        "  12L,\n",
        "  13L,\n",
        "  14L,\n",
        "  15L,\n",
        "  17L,\n",
        "  18L,\n",
        "  20L,\n",
        "  23L,\n",
        "  24L,\n",
        "  25L,\n",
        "  26L,\n",
        "  27L,\n",
        "  28L,\n",
        "  29L,\n",
        "  32L,\n",
        "  37L],\n",
        " 11: [4L,\n",
        "  10L,\n",
        "  12L,\n",
        "  13L,\n",
        "  14L,\n",
        "  15L,\n",
        "  17L,\n",
        "  18L,\n",
        "  20L,\n",
        "  23L,\n",
        "  24L,\n",
        "  25L,\n",
        "  26L,\n",
        "  27L,\n",
        "  28L,\n",
        "  29L,\n",
        "  32L,\n",
        "  37L],\n",
        " 12: [4L,\n",
        "  10L,\n",
        "  11L,\n",
        "  13L,\n",
        "  14L,\n",
        "  15L,\n",
        "  17L,\n",
        "  18L,\n",
        "  20L,\n",
        "  23L,\n",
        "  24L,\n",
        "  25L,\n",
        "  26L,\n",
        "  27L,\n",
        "  28L,\n",
        "  29L,\n",
        "  32L,\n",
        "  37L],\n",
        " 13: [4L,\n",
        "  10L,\n",
        "  11L,\n",
        "  12L,\n",
        "  14L,\n",
        "  15L,\n",
        "  17L,\n",
        "  18L,\n",
        "  20L,\n",
        "  23L,\n",
        "  24L,\n",
        "  25L,\n",
        "  26L,\n",
        "  27L,\n",
        "  28L,\n",
        "  29L,\n",
        "  32L,\n",
        "  37L],\n",
        " 14: [4L,\n",
        "  10L,\n",
        "  11L,\n",
        "  12L,\n",
        "  13L,\n",
        "  15L,\n",
        "  17L,\n",
        "  18L,\n",
        "  20L,\n",
        "  23L,\n",
        "  24L,\n",
        "  25L,\n",
        "  26L,\n",
        "  27L,\n",
        "  28L,\n",
        "  29L,\n",
        "  32L,\n",
        "  37L],\n",
        " 15: [4L,\n",
        "  10L,\n",
        "  11L,\n",
        "  12L,\n",
        "  13L,\n",
        "  14L,\n",
        "  17L,\n",
        "  18L,\n",
        "  20L,\n",
        "  23L,\n",
        "  24L,\n",
        "  25L,\n",
        "  26L,\n",
        "  27L,\n",
        "  28L,\n",
        "  29L,\n",
        "  32L,\n",
        "  37L],\n",
        " 16: [5L, 8L, 9L, 19L, 21L, 22L, 31L, 34L, 39L, 40L, 43L, 44L, 46L, 47L, 48L],\n",
        " 17: [4L,\n",
        "  10L,\n",
        "  11L,\n",
        "  12L,\n",
        "  13L,\n",
        "  14L,\n",
        "  15L,\n",
        "  18L,\n",
        "  20L,\n",
        "  23L,\n",
        "  24L,\n",
        "  25L,\n",
        "  26L,\n",
        "  27L,\n",
        "  28L,\n",
        "  29L,\n",
        "  32L,\n",
        "  37L],\n",
        " 18: [4L,\n",
        "  10L,\n",
        "  11L,\n",
        "  12L,\n",
        "  13L,\n",
        "  14L,\n",
        "  15L,\n",
        "  17L,\n",
        "  20L,\n",
        "  23L,\n",
        "  24L,\n",
        "  25L,\n",
        "  26L,\n",
        "  27L,\n",
        "  28L,\n",
        "  29L,\n",
        "  32L,\n",
        "  37L],\n",
        " 19: [5L, 8L, 9L, 16L, 21L, 22L, 31L, 34L, 39L, 40L, 43L, 44L, 46L, 47L, 48L],\n",
        " 20: [4L,\n",
        "  10L,\n",
        "  11L,\n",
        "  12L,\n",
        "  13L,\n",
        "  14L,\n",
        "  15L,\n",
        "  17L,\n",
        "  18L,\n",
        "  23L,\n",
        "  24L,\n",
        "  25L,\n",
        "  26L,\n",
        "  27L,\n",
        "  28L,\n",
        "  29L,\n",
        "  32L,\n",
        "  37L],\n",
        " 21: [5L, 8L, 9L, 16L, 19L, 22L, 31L, 34L, 39L, 40L, 43L, 44L, 46L, 47L, 48L],\n",
        " 22: [5L, 8L, 9L, 16L, 19L, 21L, 31L, 34L, 39L, 40L, 43L, 44L, 46L, 47L, 48L],\n",
        " 23: [4L,\n",
        "  10L,\n",
        "  11L,\n",
        "  12L,\n",
        "  13L,\n",
        "  14L,\n",
        "  15L,\n",
        "  17L,\n",
        "  18L,\n",
        "  20L,\n",
        "  24L,\n",
        "  25L,\n",
        "  26L,\n",
        "  27L,\n",
        "  28L,\n",
        "  29L,\n",
        "  32L,\n",
        "  37L],\n",
        " 24: [4L,\n",
        "  10L,\n",
        "  11L,\n",
        "  12L,\n",
        "  13L,\n",
        "  14L,\n",
        "  15L,\n",
        "  17L,\n",
        "  18L,\n",
        "  20L,\n",
        "  23L,\n",
        "  25L,\n",
        "  26L,\n",
        "  27L,\n",
        "  28L,\n",
        "  29L,\n",
        "  32L,\n",
        "  37L],\n",
        " 25: [4L,\n",
        "  10L,\n",
        "  11L,\n",
        "  12L,\n",
        "  13L,\n",
        "  14L,\n",
        "  15L,\n",
        "  17L,\n",
        "  18L,\n",
        "  20L,\n",
        "  23L,\n",
        "  24L,\n",
        "  26L,\n",
        "  27L,\n",
        "  28L,\n",
        "  29L,\n",
        "  32L,\n",
        "  37L],\n",
        " 26: [4L,\n",
        "  10L,\n",
        "  11L,\n",
        "  12L,\n",
        "  13L,\n",
        "  14L,\n",
        "  15L,\n",
        "  17L,\n",
        "  18L,\n",
        "  20L,\n",
        "  23L,\n",
        "  24L,\n",
        "  25L,\n",
        "  27L,\n",
        "  28L,\n",
        "  29L,\n",
        "  32L,\n",
        "  37L],\n",
        " 27: [4L,\n",
        "  10L,\n",
        "  11L,\n",
        "  12L,\n",
        "  13L,\n",
        "  14L,\n",
        "  15L,\n",
        "  17L,\n",
        "  18L,\n",
        "  20L,\n",
        "  23L,\n",
        "  24L,\n",
        "  25L,\n",
        "  26L,\n",
        "  28L,\n",
        "  29L,\n",
        "  32L,\n",
        "  37L],\n",
        " 28: [4L,\n",
        "  10L,\n",
        "  11L,\n",
        "  12L,\n",
        "  13L,\n",
        "  14L,\n",
        "  15L,\n",
        "  17L,\n",
        "  18L,\n",
        "  20L,\n",
        "  23L,\n",
        "  24L,\n",
        "  25L,\n",
        "  26L,\n",
        "  27L,\n",
        "  29L,\n",
        "  32L,\n",
        "  37L],\n",
        " 29: [4L,\n",
        "  10L,\n",
        "  11L,\n",
        "  12L,\n",
        "  13L,\n",
        "  14L,\n",
        "  15L,\n",
        "  17L,\n",
        "  18L,\n",
        "  20L,\n",
        "  23L,\n",
        "  24L,\n",
        "  25L,\n",
        "  26L,\n",
        "  27L,\n",
        "  28L,\n",
        "  32L,\n",
        "  37L],\n",
        " 30: [33L, 35L, 38L, 41L, 45L],\n",
        " 31: [5L, 8L, 9L, 16L, 19L, 21L, 22L, 34L, 39L, 40L, 43L, 44L, 46L, 47L, 48L],\n",
        " 32: [4L,\n",
        "  10L,\n",
        "  11L,\n",
        "  12L,\n",
        "  13L,\n",
        "  14L,\n",
        "  15L,\n",
        "  17L,\n",
        "  18L,\n",
        "  20L,\n",
        "  23L,\n",
        "  24L,\n",
        "  25L,\n",
        "  26L,\n",
        "  27L,\n",
        "  28L,\n",
        "  29L,\n",
        "  37L],\n",
        " 33: [30L, 35L, 38L, 41L, 45L],\n",
        " 34: [5L, 8L, 9L, 16L, 19L, 21L, 22L, 31L, 39L, 40L, 43L, 44L, 46L, 47L, 48L],\n",
        " 35: [30L, 33L, 38L, 41L, 45L],\n",
        " 36: [42L],\n",
        " 37: [4L,\n",
        "  10L,\n",
        "  11L,\n",
        "  12L,\n",
        "  13L,\n",
        "  14L,\n",
        "  15L,\n",
        "  17L,\n",
        "  18L,\n",
        "  20L,\n",
        "  23L,\n",
        "  24L,\n",
        "  25L,\n",
        "  26L,\n",
        "  27L,\n",
        "  28L,\n",
        "  29L,\n",
        "  32L],\n",
        " 38: [30L, 33L, 35L, 41L, 45L],\n",
        " 39: [5L, 8L, 9L, 16L, 19L, 21L, 22L, 31L, 34L, 40L, 43L, 44L, 46L, 47L, 48L],\n",
        " 40: [5L, 8L, 9L, 16L, 19L, 21L, 22L, 31L, 34L, 39L, 43L, 44L, 46L, 47L, 48L],\n",
        " 41: [30L, 33L, 35L, 38L, 45L],\n",
        " 42: [36L],\n",
        " 43: [5L, 8L, 9L, 16L, 19L, 21L, 22L, 31L, 34L, 39L, 40L, 44L, 46L, 47L, 48L],\n",
        " 44: [5L, 8L, 9L, 16L, 19L, 21L, 22L, 31L, 34L, 39L, 40L, 43L, 46L, 47L, 48L],\n",
        " 45: [30L, 33L, 35L, 38L, 41L],\n",
        " 46: [5L, 8L, 9L, 16L, 19L, 21L, 22L, 31L, 34L, 39L, 40L, 43L, 44L, 47L, 48L],\n",
        " 47: [5L, 8L, 9L, 16L, 19L, 21L, 22L, 31L, 34L, 39L, 40L, 43L, 44L, 46L, 48L],\n",
        " 48: [5L, 8L, 9L, 16L, 19L, 21L, 22L, 31L, 34L, 39L, 40L, 43L, 44L, 46L, 47L]}"
       ]
      }
     ],
     "prompt_number": 8
    },
    {
     "cell_type": "code",
     "collapsed": false,
     "input": [
      "wregimes = ps.block_weights(columbus.region2areas)"
     ],
     "language": "python",
     "metadata": {},
     "outputs": [],
     "prompt_number": 9
    },
    {
     "cell_type": "code",
     "collapsed": false,
     "input": [
      "columbus.region2areas[5]"
     ],
     "language": "python",
     "metadata": {},
     "outputs": [
      {
       "metadata": {},
       "output_type": "pyout",
       "prompt_number": 10,
       "text": [
        "1"
       ]
      }
     ],
     "prompt_number": 10
    },
    {
     "cell_type": "code",
     "collapsed": false,
     "input": [
      "wregimes.n"
     ],
     "language": "python",
     "metadata": {},
     "outputs": [
      {
       "metadata": {},
       "output_type": "pyout",
       "prompt_number": 11,
       "text": [
        "49"
       ]
      }
     ],
     "prompt_number": 11
    },
    {
     "cell_type": "code",
     "collapsed": false,
     "input": [
      "wregimes.neighbors"
     ],
     "language": "python",
     "metadata": {},
     "outputs": [
      {
       "metadata": {},
       "output_type": "pyout",
       "prompt_number": 12,
       "text": [
        "{0: [1L, 2L, 3L, 6L, 7L],\n",
        " 1: [0L, 2L, 3L, 6L, 7L],\n",
        " 2: [0L, 1L, 3L, 6L, 7L],\n",
        " 3: [0L, 1L, 2L, 6L, 7L],\n",
        " 4: [10L,\n",
        "  11L,\n",
        "  12L,\n",
        "  13L,\n",
        "  14L,\n",
        "  15L,\n",
        "  17L,\n",
        "  18L,\n",
        "  20L,\n",
        "  23L,\n",
        "  24L,\n",
        "  25L,\n",
        "  26L,\n",
        "  27L,\n",
        "  28L,\n",
        "  29L,\n",
        "  32L,\n",
        "  37L],\n",
        " 5: [8L, 9L, 16L, 19L, 21L, 22L, 31L, 34L, 39L, 40L, 43L, 44L, 46L, 47L, 48L],\n",
        " 6: [0L, 1L, 2L, 3L, 7L],\n",
        " 7: [0L, 1L, 2L, 3L, 6L],\n",
        " 8: [5L, 9L, 16L, 19L, 21L, 22L, 31L, 34L, 39L, 40L, 43L, 44L, 46L, 47L, 48L],\n",
        " 9: [5L, 8L, 16L, 19L, 21L, 22L, 31L, 34L, 39L, 40L, 43L, 44L, 46L, 47L, 48L],\n",
        " 10: [4L,\n",
        "  11L,\n",
        "  12L,\n",
        "  13L,\n",
        "  14L,\n",
        "  15L,\n",
        "  17L,\n",
        "  18L,\n",
        "  20L,\n",
        "  23L,\n",
        "  24L,\n",
        "  25L,\n",
        "  26L,\n",
        "  27L,\n",
        "  28L,\n",
        "  29L,\n",
        "  32L,\n",
        "  37L],\n",
        " 11: [4L,\n",
        "  10L,\n",
        "  12L,\n",
        "  13L,\n",
        "  14L,\n",
        "  15L,\n",
        "  17L,\n",
        "  18L,\n",
        "  20L,\n",
        "  23L,\n",
        "  24L,\n",
        "  25L,\n",
        "  26L,\n",
        "  27L,\n",
        "  28L,\n",
        "  29L,\n",
        "  32L,\n",
        "  37L],\n",
        " 12: [4L,\n",
        "  10L,\n",
        "  11L,\n",
        "  13L,\n",
        "  14L,\n",
        "  15L,\n",
        "  17L,\n",
        "  18L,\n",
        "  20L,\n",
        "  23L,\n",
        "  24L,\n",
        "  25L,\n",
        "  26L,\n",
        "  27L,\n",
        "  28L,\n",
        "  29L,\n",
        "  32L,\n",
        "  37L],\n",
        " 13: [4L,\n",
        "  10L,\n",
        "  11L,\n",
        "  12L,\n",
        "  14L,\n",
        "  15L,\n",
        "  17L,\n",
        "  18L,\n",
        "  20L,\n",
        "  23L,\n",
        "  24L,\n",
        "  25L,\n",
        "  26L,\n",
        "  27L,\n",
        "  28L,\n",
        "  29L,\n",
        "  32L,\n",
        "  37L],\n",
        " 14: [4L,\n",
        "  10L,\n",
        "  11L,\n",
        "  12L,\n",
        "  13L,\n",
        "  15L,\n",
        "  17L,\n",
        "  18L,\n",
        "  20L,\n",
        "  23L,\n",
        "  24L,\n",
        "  25L,\n",
        "  26L,\n",
        "  27L,\n",
        "  28L,\n",
        "  29L,\n",
        "  32L,\n",
        "  37L],\n",
        " 15: [4L,\n",
        "  10L,\n",
        "  11L,\n",
        "  12L,\n",
        "  13L,\n",
        "  14L,\n",
        "  17L,\n",
        "  18L,\n",
        "  20L,\n",
        "  23L,\n",
        "  24L,\n",
        "  25L,\n",
        "  26L,\n",
        "  27L,\n",
        "  28L,\n",
        "  29L,\n",
        "  32L,\n",
        "  37L],\n",
        " 16: [5L, 8L, 9L, 19L, 21L, 22L, 31L, 34L, 39L, 40L, 43L, 44L, 46L, 47L, 48L],\n",
        " 17: [4L,\n",
        "  10L,\n",
        "  11L,\n",
        "  12L,\n",
        "  13L,\n",
        "  14L,\n",
        "  15L,\n",
        "  18L,\n",
        "  20L,\n",
        "  23L,\n",
        "  24L,\n",
        "  25L,\n",
        "  26L,\n",
        "  27L,\n",
        "  28L,\n",
        "  29L,\n",
        "  32L,\n",
        "  37L],\n",
        " 18: [4L,\n",
        "  10L,\n",
        "  11L,\n",
        "  12L,\n",
        "  13L,\n",
        "  14L,\n",
        "  15L,\n",
        "  17L,\n",
        "  20L,\n",
        "  23L,\n",
        "  24L,\n",
        "  25L,\n",
        "  26L,\n",
        "  27L,\n",
        "  28L,\n",
        "  29L,\n",
        "  32L,\n",
        "  37L],\n",
        " 19: [5L, 8L, 9L, 16L, 21L, 22L, 31L, 34L, 39L, 40L, 43L, 44L, 46L, 47L, 48L],\n",
        " 20: [4L,\n",
        "  10L,\n",
        "  11L,\n",
        "  12L,\n",
        "  13L,\n",
        "  14L,\n",
        "  15L,\n",
        "  17L,\n",
        "  18L,\n",
        "  23L,\n",
        "  24L,\n",
        "  25L,\n",
        "  26L,\n",
        "  27L,\n",
        "  28L,\n",
        "  29L,\n",
        "  32L,\n",
        "  37L],\n",
        " 21: [5L, 8L, 9L, 16L, 19L, 22L, 31L, 34L, 39L, 40L, 43L, 44L, 46L, 47L, 48L],\n",
        " 22: [5L, 8L, 9L, 16L, 19L, 21L, 31L, 34L, 39L, 40L, 43L, 44L, 46L, 47L, 48L],\n",
        " 23: [4L,\n",
        "  10L,\n",
        "  11L,\n",
        "  12L,\n",
        "  13L,\n",
        "  14L,\n",
        "  15L,\n",
        "  17L,\n",
        "  18L,\n",
        "  20L,\n",
        "  24L,\n",
        "  25L,\n",
        "  26L,\n",
        "  27L,\n",
        "  28L,\n",
        "  29L,\n",
        "  32L,\n",
        "  37L],\n",
        " 24: [4L,\n",
        "  10L,\n",
        "  11L,\n",
        "  12L,\n",
        "  13L,\n",
        "  14L,\n",
        "  15L,\n",
        "  17L,\n",
        "  18L,\n",
        "  20L,\n",
        "  23L,\n",
        "  25L,\n",
        "  26L,\n",
        "  27L,\n",
        "  28L,\n",
        "  29L,\n",
        "  32L,\n",
        "  37L],\n",
        " 25: [4L,\n",
        "  10L,\n",
        "  11L,\n",
        "  12L,\n",
        "  13L,\n",
        "  14L,\n",
        "  15L,\n",
        "  17L,\n",
        "  18L,\n",
        "  20L,\n",
        "  23L,\n",
        "  24L,\n",
        "  26L,\n",
        "  27L,\n",
        "  28L,\n",
        "  29L,\n",
        "  32L,\n",
        "  37L],\n",
        " 26: [4L,\n",
        "  10L,\n",
        "  11L,\n",
        "  12L,\n",
        "  13L,\n",
        "  14L,\n",
        "  15L,\n",
        "  17L,\n",
        "  18L,\n",
        "  20L,\n",
        "  23L,\n",
        "  24L,\n",
        "  25L,\n",
        "  27L,\n",
        "  28L,\n",
        "  29L,\n",
        "  32L,\n",
        "  37L],\n",
        " 27: [4L,\n",
        "  10L,\n",
        "  11L,\n",
        "  12L,\n",
        "  13L,\n",
        "  14L,\n",
        "  15L,\n",
        "  17L,\n",
        "  18L,\n",
        "  20L,\n",
        "  23L,\n",
        "  24L,\n",
        "  25L,\n",
        "  26L,\n",
        "  28L,\n",
        "  29L,\n",
        "  32L,\n",
        "  37L],\n",
        " 28: [4L,\n",
        "  10L,\n",
        "  11L,\n",
        "  12L,\n",
        "  13L,\n",
        "  14L,\n",
        "  15L,\n",
        "  17L,\n",
        "  18L,\n",
        "  20L,\n",
        "  23L,\n",
        "  24L,\n",
        "  25L,\n",
        "  26L,\n",
        "  27L,\n",
        "  29L,\n",
        "  32L,\n",
        "  37L],\n",
        " 29: [4L,\n",
        "  10L,\n",
        "  11L,\n",
        "  12L,\n",
        "  13L,\n",
        "  14L,\n",
        "  15L,\n",
        "  17L,\n",
        "  18L,\n",
        "  20L,\n",
        "  23L,\n",
        "  24L,\n",
        "  25L,\n",
        "  26L,\n",
        "  27L,\n",
        "  28L,\n",
        "  32L,\n",
        "  37L],\n",
        " 30: [33L, 35L, 38L, 41L, 45L],\n",
        " 31: [5L, 8L, 9L, 16L, 19L, 21L, 22L, 34L, 39L, 40L, 43L, 44L, 46L, 47L, 48L],\n",
        " 32: [4L,\n",
        "  10L,\n",
        "  11L,\n",
        "  12L,\n",
        "  13L,\n",
        "  14L,\n",
        "  15L,\n",
        "  17L,\n",
        "  18L,\n",
        "  20L,\n",
        "  23L,\n",
        "  24L,\n",
        "  25L,\n",
        "  26L,\n",
        "  27L,\n",
        "  28L,\n",
        "  29L,\n",
        "  37L],\n",
        " 33: [30L, 35L, 38L, 41L, 45L],\n",
        " 34: [5L, 8L, 9L, 16L, 19L, 21L, 22L, 31L, 39L, 40L, 43L, 44L, 46L, 47L, 48L],\n",
        " 35: [30L, 33L, 38L, 41L, 45L],\n",
        " 36: [42L],\n",
        " 37: [4L,\n",
        "  10L,\n",
        "  11L,\n",
        "  12L,\n",
        "  13L,\n",
        "  14L,\n",
        "  15L,\n",
        "  17L,\n",
        "  18L,\n",
        "  20L,\n",
        "  23L,\n",
        "  24L,\n",
        "  25L,\n",
        "  26L,\n",
        "  27L,\n",
        "  28L,\n",
        "  29L,\n",
        "  32L],\n",
        " 38: [30L, 33L, 35L, 41L, 45L],\n",
        " 39: [5L, 8L, 9L, 16L, 19L, 21L, 22L, 31L, 34L, 40L, 43L, 44L, 46L, 47L, 48L],\n",
        " 40: [5L, 8L, 9L, 16L, 19L, 21L, 22L, 31L, 34L, 39L, 43L, 44L, 46L, 47L, 48L],\n",
        " 41: [30L, 33L, 35L, 38L, 45L],\n",
        " 42: [36L],\n",
        " 43: [5L, 8L, 9L, 16L, 19L, 21L, 22L, 31L, 34L, 39L, 40L, 44L, 46L, 47L, 48L],\n",
        " 44: [5L, 8L, 9L, 16L, 19L, 21L, 22L, 31L, 34L, 39L, 40L, 43L, 46L, 47L, 48L],\n",
        " 45: [30L, 33L, 35L, 38L, 41L],\n",
        " 46: [5L, 8L, 9L, 16L, 19L, 21L, 22L, 31L, 34L, 39L, 40L, 43L, 44L, 47L, 48L],\n",
        " 47: [5L, 8L, 9L, 16L, 19L, 21L, 22L, 31L, 34L, 39L, 40L, 43L, 44L, 46L, 48L],\n",
        " 48: [5L, 8L, 9L, 16L, 19L, 21L, 22L, 31L, 34L, 39L, 40L, 43L, 44L, 46L, 47L]}"
       ]
      }
     ],
     "prompt_number": 12
    },
    {
     "cell_type": "markdown",
     "metadata": {},
     "source": [
      "## Attrribute data from a csv file and a W from a gal file"
     ]
    },
    {
     "cell_type": "code",
     "collapsed": false,
     "input": [
      "mexico = cp.importCsvData(ps.examples.get_path('mexico.csv'))"
     ],
     "language": "python",
     "metadata": {},
     "outputs": [],
     "prompt_number": 13
    },
    {
     "cell_type": "code",
     "collapsed": false,
     "input": [
      "mexico.fieldNames"
     ],
     "language": "python",
     "metadata": {},
     "outputs": [
      {
       "metadata": {},
       "output_type": "pyout",
       "prompt_number": 14,
       "text": [
        "['ID',\n",
        " 'State',\n",
        " 'pcgdp1940',\n",
        " 'pcgdp1950',\n",
        " 'pcgdp1960',\n",
        " 'pcgdp1970',\n",
        " 'pcgdp1980',\n",
        " 'pcgdp1990',\n",
        " 'pcgdp2000',\n",
        " 'hanson03',\n",
        " 'hanson98',\n",
        " 'esquivel99',\n",
        " 'inegi',\n",
        " 'inegi2']"
       ]
      }
     ],
     "prompt_number": 14
    },
    {
     "cell_type": "code",
     "collapsed": false,
     "input": [
      "w = ps.open(ps.examples.get_path('mexico.gal')).read()"
     ],
     "language": "python",
     "metadata": {},
     "outputs": [],
     "prompt_number": 15
    },
    {
     "cell_type": "code",
     "collapsed": false,
     "input": [
      "w.n"
     ],
     "language": "python",
     "metadata": {},
     "outputs": [
      {
       "metadata": {},
       "output_type": "pyout",
       "prompt_number": 16,
       "text": [
        "32"
       ]
      }
     ],
     "prompt_number": 16
    },
    {
     "cell_type": "code",
     "collapsed": false,
     "input": [
      "cp.addRook2Layer(ps.examples.get_path('mexico.gal'), mexico)"
     ],
     "language": "python",
     "metadata": {},
     "outputs": [],
     "prompt_number": 17
    },
    {
     "cell_type": "code",
     "collapsed": false,
     "input": [
      "mexico.Wrook"
     ],
     "language": "python",
     "metadata": {},
     "outputs": [
      {
       "metadata": {},
       "output_type": "pyout",
       "prompt_number": 18,
       "text": [
        "{0: [31, 13],\n",
        " 1: [2, 25],\n",
        " 2: [1],\n",
        " 3: [30, 22, 26],\n",
        " 4: [19, 26, 29],\n",
        " 5: [6, 9, 24, 25],\n",
        " 6: [18, 23, 31, 9, 5],\n",
        " 7: [13, 15],\n",
        " 8: [16, 14],\n",
        " 9: [5, 6, 31, 13, 17, 24],\n",
        " 10: [23, 21, 31, 15, 13],\n",
        " 11: [15, 14, 16, 20, 19],\n",
        " 12: [21, 23, 29, 20, 28, 14],\n",
        " 13: [17, 31, 0, 23, 10, 15, 7, 9],\n",
        " 14: [21, 12, 28, 20, 16, 11, 15, 8],\n",
        " 15: [7, 13, 10, 21, 14, 11],\n",
        " 16: [14, 8, 20, 11],\n",
        " 17: [24, 9, 31, 13],\n",
        " 18: [6, 27, 23, 31],\n",
        " 19: [11, 20, 29, 4],\n",
        " 20: [29, 19, 11, 16, 14, 28, 12],\n",
        " 21: [23, 12, 14, 15, 10],\n",
        " 22: [30, 3],\n",
        " 23: [18, 27, 29, 12, 21, 10, 31, 6, 13],\n",
        " 24: [25, 5, 9, 17],\n",
        " 25: [1, 5, 24],\n",
        " 26: [3, 4, 29],\n",
        " 27: [18, 29, 23],\n",
        " 28: [12, 20, 14],\n",
        " 29: [26, 4, 19, 20, 12, 23, 27],\n",
        " 30: [3, 22],\n",
        " 31: [18, 23, 10, 0, 13, 17, 9, 6]}"
       ]
      }
     ],
     "prompt_number": 18
    },
    {
     "cell_type": "code",
     "collapsed": false,
     "input": [
      "mexico.cluster('arisel', ['pcgdp1940'], 5, wType='rook', inits=10, dissolve=0)\n"
     ],
     "language": "python",
     "metadata": {},
     "outputs": [
      {
       "output_type": "stream",
       "stream": "stdout",
       "text": [
        "Getting variables\n",
        "Variables successfully extracted\n",
        "Running original Arisel algorithm\n",
        "Number of areas:  32\n",
        "Number of regions:  5\n",
        "initial Solution: "
       ]
      },
      {
       "output_type": "stream",
       "stream": "stdout",
       "text": [
        " [2, 3, 3, 2, 2, 2, 2, 2, 4, 2, 2, 2, 2, 2, 2, 2, 2, 2, 2, 2, 2, 2, 1, 2, 2, 2, 2, 2, 2, 2, 0, 2]\n",
        "initial O.F:  287200188.741\n",
        "FINAL SOLUTION: "
       ]
      },
      {
       "output_type": "stream",
       "stream": "stdout",
       "text": [
        " [2, 3, 3, 0, 0, 2, 2, 2, 4, 2, 0, 0, 2, 2, 0, 0, 0, 0, 2, 0, 0, 2, 1, 0, 0, 2, 0, 2, 0, 2, 0, 0]\n",
        "FINAL OF:  186036319.667\n",
        "Done\n",
        "Adding variables\n",
        "Done\n"
       ]
      }
     ],
     "prompt_number": 19
    },
    {
     "cell_type": "code",
     "collapsed": false,
     "input": [
      "mexico.fieldNames"
     ],
     "language": "python",
     "metadata": {},
     "outputs": [
      {
       "metadata": {},
       "output_type": "pyout",
       "prompt_number": 20,
       "text": [
        "['ID',\n",
        " 'State',\n",
        " 'pcgdp1940',\n",
        " 'pcgdp1950',\n",
        " 'pcgdp1960',\n",
        " 'pcgdp1970',\n",
        " 'pcgdp1980',\n",
        " 'pcgdp1990',\n",
        " 'pcgdp2000',\n",
        " 'hanson03',\n",
        " 'hanson98',\n",
        " 'esquivel99',\n",
        " 'inegi',\n",
        " 'inegi2',\n",
        " 'arisel_20140823211523']"
       ]
      }
     ],
     "prompt_number": 20
    },
    {
     "cell_type": "code",
     "collapsed": false,
     "input": [
      "mexico.getVars('pcgdp1940')"
     ],
     "language": "python",
     "metadata": {},
     "outputs": [
      {
       "output_type": "stream",
       "stream": "stdout",
       "text": [
        "Getting variables\n",
        "Variables successfully extracted\n"
       ]
      },
      {
       "metadata": {},
       "output_type": "pyout",
       "prompt_number": 21,
       "text": [
        "{0: [10384.0],\n",
        " 1: [22361.0],\n",
        " 2: [9573.0],\n",
        " 3: [3758.0],\n",
        " 4: [2934.0],\n",
        " 5: [8578.0],\n",
        " 6: [8537.0],\n",
        " 7: [6909.0],\n",
        " 8: [17816.0],\n",
        " 9: [12132.0],\n",
        " 10: [4359.0],\n",
        " 11: [2181.0],\n",
        " 12: [4414.0],\n",
        " 13: [5309.0],\n",
        " 14: [3408.0],\n",
        " 15: [3327.0],\n",
        " 16: [6936.0],\n",
        " 17: [4836.0],\n",
        " 18: [9073.0],\n",
        " 19: [1892.0],\n",
        " 20: [3569.0],\n",
        " 21: [11016.0],\n",
        " 22: [21965.0],\n",
        " 23: [4372.0],\n",
        " 24: [4840.0],\n",
        " 25: [6399.0],\n",
        " 26: [2459.0],\n",
        " 27: [7508.0],\n",
        " 28: [3605.0],\n",
        " 29: [5203.0],\n",
        " 30: [7990.0],\n",
        " 31: [3734.0]}"
       ]
      }
     ],
     "prompt_number": 21
    },
    {
     "cell_type": "code",
     "collapsed": false,
     "input": [
      "# mexico example all together\n",
      "\n",
      "csvfile = ps.examples.get_path('mexico.csv')\n",
      "galfile = ps.examples.get_path('mexico.gal')\n",
      "\n",
      "mexico = cp.importCsvData(csvfile)\n",
      "cp.addRook2Layer(galfile, mexico)\n",
      "mexico.cluster('arisel', ['pcgdp1940'], 5, wType='rook', inits=10, dissolve=0)\n"
     ],
     "language": "python",
     "metadata": {},
     "outputs": [
      {
       "output_type": "stream",
       "stream": "stdout",
       "text": [
        "Getting variables\n",
        "Variables successfully extracted\n",
        "Running original Arisel algorithm\n",
        "Number of areas:  32\n",
        "Number of regions:  5\n",
        "initial Solution: "
       ]
      },
      {
       "output_type": "stream",
       "stream": "stdout",
       "text": [
        " [2, 0, 0, 1, 1, 2, 2, 2, 4, 2, 2, 1, 2, 2, 1, 1, 1, 2, 2, 1, 1, 2, 3, 2, 2, 2, 1, 2, 1, 2, 1, 2]\n",
        "initial O.F:  228683641.198\n",
        "FINAL SOLUTION: "
       ]
      },
      {
       "output_type": "stream",
       "stream": "stdout",
       "text": [
        " [2, 0, 0, 1, 1, 2, 2, 2, 4, 2, 1, 1, 2, 2, 1, 1, 1, 1, 2, 1, 1, 2, 3, 1, 1, 2, 1, 2, 1, 2, 1, 1]\n",
        "FINAL OF:  186036319.667\n",
        "Done\n",
        "Adding variables\n",
        "Done\n"
       ]
      }
     ],
     "prompt_number": 22
    },
    {
     "cell_type": "code",
     "collapsed": false,
     "input": [
      "mexico.region2areas.index(2)"
     ],
     "language": "python",
     "metadata": {},
     "outputs": [
      {
       "metadata": {},
       "output_type": "pyout",
       "prompt_number": 23,
       "text": [
        "0"
       ]
      }
     ],
     "prompt_number": 23
    },
    {
     "cell_type": "code",
     "collapsed": false,
     "input": [
      "mexico.Wrook[0]"
     ],
     "language": "python",
     "metadata": {},
     "outputs": [
      {
       "metadata": {},
       "output_type": "pyout",
       "prompt_number": 24,
       "text": [
        "[31, 13]"
       ]
      }
     ],
     "prompt_number": 24
    },
    {
     "cell_type": "code",
     "collapsed": false,
     "input": [
      "mexico.getVars('State')"
     ],
     "language": "python",
     "metadata": {},
     "outputs": [
      {
       "output_type": "stream",
       "stream": "stdout",
       "text": [
        "Getting variables\n",
        "Variables successfully extracted\n"
       ]
      },
      {
       "metadata": {},
       "output_type": "pyout",
       "prompt_number": 25,
       "text": [
        "{0: ['Aguascalientes'],\n",
        " 1: ['Baja California'],\n",
        " 2: ['Baja California Sur'],\n",
        " 3: ['Campeche'],\n",
        " 4: ['Chiapas'],\n",
        " 5: ['Chihuahua'],\n",
        " 6: ['Coahuila'],\n",
        " 7: ['Colima'],\n",
        " 8: ['Distrito Federal'],\n",
        " 9: ['Durango'],\n",
        " 10: ['Guanajuato'],\n",
        " 11: ['Guerrero'],\n",
        " 12: ['Hidalgo'],\n",
        " 13: ['Jalisco'],\n",
        " 14: ['Mexico'],\n",
        " 15: ['Michoacan'],\n",
        " 16: ['Morelos'],\n",
        " 17: ['Nayarit'],\n",
        " 18: ['Nuevo Leon'],\n",
        " 19: ['Oaxaca'],\n",
        " 20: ['Puebla'],\n",
        " 21: ['Quertaro'],\n",
        " 22: ['Quintana Roo'],\n",
        " 23: ['San Luis Potosi'],\n",
        " 24: ['Sinaloa'],\n",
        " 25: ['Sonora'],\n",
        " 26: ['Tabasco'],\n",
        " 27: ['Tamaulipas'],\n",
        " 28: ['Tlaxcala'],\n",
        " 29: ['Veracruz'],\n",
        " 30: ['Yucatan'],\n",
        " 31: ['Zacatecas']}"
       ]
      }
     ],
     "prompt_number": 25
    },
    {
     "cell_type": "code",
     "collapsed": false,
     "input": [
      "regions = np.array(mexico.region2areas)"
     ],
     "language": "python",
     "metadata": {},
     "outputs": [],
     "prompt_number": 26
    },
    {
     "cell_type": "code",
     "collapsed": false,
     "input": [
      "regions"
     ],
     "language": "python",
     "metadata": {},
     "outputs": [
      {
       "metadata": {},
       "output_type": "pyout",
       "prompt_number": 27,
       "text": [
        "array([2, 0, 0, 1, 1, 2, 2, 2, 4, 2, 1, 1, 2, 2, 1, 1, 1, 1, 2, 1, 1, 2, 3,\n",
        "       1, 1, 2, 1, 2, 1, 2, 1, 1])"
       ]
      }
     ],
     "prompt_number": 27
    },
    {
     "cell_type": "code",
     "collapsed": false,
     "input": [
      "Counter(regions)"
     ],
     "language": "python",
     "metadata": {},
     "outputs": [
      {
       "metadata": {},
       "output_type": "pyout",
       "prompt_number": 28,
       "text": [
        "Counter({1: 16, 2: 12, 0: 2, 3: 1, 4: 1})"
       ]
      }
     ],
     "prompt_number": 28
    },
    {
     "cell_type": "markdown",
     "metadata": {},
     "source": [
      "## Shapefile and mapping results with PySAL Viz"
     ]
    },
    {
     "cell_type": "code",
     "collapsed": false,
     "input": [
      "usf = ps.examples.get_path('us48.shp')"
     ],
     "language": "python",
     "metadata": {},
     "outputs": [],
     "prompt_number": 29
    },
    {
     "cell_type": "code",
     "collapsed": false,
     "input": [
      "us = cp.loadArcData(usf.split(\".\")[0])"
     ],
     "language": "python",
     "metadata": {},
     "outputs": [],
     "prompt_number": 30
    },
    {
     "cell_type": "code",
     "collapsed": false,
     "input": [
      "us.Wqueen"
     ],
     "language": "python",
     "metadata": {},
     "outputs": [
      {
       "metadata": {},
       "output_type": "pyout",
       "prompt_number": 31,
       "text": [
        "{0: [10, 7],\n",
        " 1: [3, 4, 5, 7],\n",
        " 2: [11],\n",
        " 3: [1, 4, 9],\n",
        " 4: [1, 3, 5, 9, 12, 14],\n",
        " 5: [1, 4, 7, 14, 22, 29],\n",
        " 6: [9, 12, 25, 47],\n",
        " 7: [0, 1, 5, 10, 21, 22],\n",
        " 8: [11, 13, 15],\n",
        " 9: [12, 3, 4, 6],\n",
        " 10: [0, 23, 21, 7],\n",
        " 11: [8, 2, 13],\n",
        " 12: [33, 4, 6, 9, 14, 25],\n",
        " 13: [8, 17, 18, 11, 15],\n",
        " 14: [33, 4, 5, 12, 29, 31],\n",
        " 15: [8, 16, 19, 13, 17],\n",
        " 16: [15, 19, 24, 26, 27, 28],\n",
        " 17: [18, 13, 15],\n",
        " 18: [17, 13],\n",
        " 19: [16, 26, 15],\n",
        " 20: [24, 25, 30, 47],\n",
        " 21: [10, 23, 34, 22, 7],\n",
        " 22: [34, 5, 39, 7, 21, 29],\n",
        " 23: [10, 34, 21],\n",
        " 24: [16, 27, 20, 30, 47],\n",
        " 25: [20, 12, 30, 6, 33],\n",
        " 26: [16, 19, 28],\n",
        " 27: [16, 24, 28, 30, 32],\n",
        " 28: [16, 32, 26, 27],\n",
        " 29: [34, 35, 5, 39, 14, 22, 31],\n",
        " 30: [32, 33, 37, 20, 24, 25, 27],\n",
        " 31: [33, 35, 29, 14],\n",
        " 32: [36, 27, 28, 37, 30],\n",
        " 33: [35, 37, 44, 12, 14, 25, 30, 31],\n",
        " 34: [39, 29, 21, 22, 23],\n",
        " 35: [33, 38, 39, 44, 29, 31],\n",
        " 36: [32, 42, 43, 37],\n",
        " 37: [32, 33, 36, 40, 41, 42, 44, 30],\n",
        " 38: [35, 44, 45, 39],\n",
        " 39: [38, 34, 35, 29, 22],\n",
        " 40: [41, 42, 37, 46],\n",
        " 41: [40, 44, 37, 45],\n",
        " 42: [40, 43, 36, 37, 46],\n",
        " 43: [42, 36],\n",
        " 44: [33, 35, 37, 38, 41, 45],\n",
        " 45: [41, 44, 38],\n",
        " 46: [40, 42],\n",
        " 47: [24, 20, 6]}"
       ]
      }
     ],
     "prompt_number": 31
    },
    {
     "cell_type": "code",
     "collapsed": false,
     "input": [
      "us.fieldNames"
     ],
     "language": "python",
     "metadata": {},
     "outputs": [
      {
       "metadata": {},
       "output_type": "pyout",
       "prompt_number": 32,
       "text": [
        "['ID',\n",
        " 'AREA',\n",
        " 'PERIMETER',\n",
        " 'STATE_',\n",
        " 'STATE_ID',\n",
        " 'STATE_NAME',\n",
        " 'STATE_FIPS',\n",
        " 'SUB_REGION',\n",
        " 'STATE_ABBR']"
       ]
      }
     ],
     "prompt_number": 32
    },
    {
     "cell_type": "code",
     "collapsed": false,
     "input": [
      "uscsv = ps.examples.get_path(\"usjoin.csv\")"
     ],
     "language": "python",
     "metadata": {},
     "outputs": [],
     "prompt_number": 33
    },
    {
     "cell_type": "code",
     "collapsed": false,
     "input": [
      "f = ps.open(uscsv)\n",
      "pci = np.array([f.by_col[str(y)] for y in range(1929, 2010)]).T"
     ],
     "language": "python",
     "metadata": {},
     "outputs": [],
     "prompt_number": 34
    },
    {
     "cell_type": "code",
     "collapsed": false,
     "input": [
      "pci"
     ],
     "language": "python",
     "metadata": {},
     "outputs": [
      {
       "metadata": {},
       "output_type": "pyout",
       "prompt_number": 35,
       "text": [
        "array([[  323,   267,   224, ..., 31988, 32819, 32274],\n",
        "       [  600,   520,   429, ..., 33470, 33445, 32077],\n",
        "       [  310,   228,   215, ..., 31070, 31800, 31493],\n",
        "       ..., \n",
        "       [  460,   408,   356, ..., 29769, 31265, 31843],\n",
        "       [  673,   588,   469, ..., 35839, 36594, 35676],\n",
        "       [  675,   585,   476, ..., 43453, 45177, 42504]])"
       ]
      }
     ],
     "prompt_number": 35
    },
    {
     "cell_type": "code",
     "collapsed": false,
     "input": [
      "usy = cp.Layer()"
     ],
     "language": "python",
     "metadata": {},
     "outputs": [],
     "prompt_number": 36
    },
    {
     "cell_type": "code",
     "collapsed": false,
     "input": [
      "cp.addQueen2Layer(ps.examples.get_path('states48.gal'), usy)"
     ],
     "language": "python",
     "metadata": {},
     "outputs": [],
     "prompt_number": 37
    },
    {
     "cell_type": "code",
     "collapsed": true,
     "input": [
      "names = [\"Y_%d\"%v for v in range(1929,2010)]\n",
      "cp.addArray2Layer(pci, usy, names)"
     ],
     "language": "python",
     "metadata": {},
     "outputs": [
      {
       "output_type": "stream",
       "stream": "stdout",
       "text": [
        "Adding variables\n",
        "Done\n",
        "Adding variables\n",
        "Done\n",
        "Adding variables\n",
        "Done\n",
        "Adding variables\n",
        "Done\n",
        "Adding variables\n",
        "Done\n",
        "Adding variables\n",
        "Done\n",
        "Adding variables\n",
        "Done\n",
        "Adding variables\n",
        "Done\n",
        "Adding variables\n",
        "Done\n",
        "Adding variables\n",
        "Done\n",
        "Adding variables\n",
        "Done\n",
        "Adding variables\n",
        "Done\n",
        "Adding variables\n",
        "Done\n",
        "Adding variables\n",
        "Done\n",
        "Adding variables\n",
        "Done\n",
        "Adding variables\n",
        "Done\n",
        "Adding variables\n",
        "Done\n",
        "Adding variables\n",
        "Done\n",
        "Adding variables\n",
        "Done\n",
        "Adding variables\n",
        "Done\n",
        "Adding variables\n",
        "Done\n",
        "Adding variables\n",
        "Done\n",
        "Adding variables\n",
        "Done\n",
        "Adding variables\n",
        "Done\n",
        "Adding variables\n",
        "Done\n",
        "Adding variables\n",
        "Done\n",
        "Adding variables\n",
        "Done\n",
        "Adding variables\n",
        "Done\n",
        "Adding variables\n",
        "Done\n",
        "Adding variables\n",
        "Done\n",
        "Adding variables\n",
        "Done\n",
        "Adding variables\n",
        "Done\n",
        "Adding variables\n",
        "Done\n",
        "Adding variables\n",
        "Done\n",
        "Adding variables\n",
        "Done\n",
        "Adding variables\n",
        "Done\n",
        "Adding variables\n",
        "Done\n",
        "Adding variables\n",
        "Done\n",
        "Adding variables\n",
        "Done\n",
        "Adding variables\n",
        "Done\n",
        "Adding variables\n",
        "Done\n",
        "Adding variables\n",
        "Done\n",
        "Adding variables\n",
        "Done\n",
        "Adding variables\n",
        "Done\n",
        "Adding variables\n",
        "Done\n",
        "Adding variables\n",
        "Done\n",
        "Adding variables\n",
        "Done\n",
        "Adding variables\n",
        "Done\n",
        "Adding variables\n",
        "Done\n",
        "Adding variables\n",
        "Done\n",
        "Adding variables\n",
        "Done\n",
        "Adding variables\n",
        "Done\n",
        "Adding variables\n",
        "Done\n",
        "Adding variables\n",
        "Done\n",
        "Adding variables\n",
        "Done\n",
        "Adding variables\n",
        "Done\n",
        "Adding variables\n",
        "Done\n",
        "Adding variables\n",
        "Done\n",
        "Adding variables\n",
        "Done\n",
        "Adding variables\n",
        "Done\n",
        "Adding variables\n",
        "Done\n",
        "Adding variables\n",
        "Done\n",
        "Adding variables\n",
        "Done\n",
        "Adding variables\n",
        "Done\n",
        "Adding variables\n",
        "Done\n",
        "Adding variables\n",
        "Done\n",
        "Adding variables\n",
        "Done\n",
        "Adding variables\n",
        "Done\n",
        "Adding variables\n",
        "Done\n",
        "Adding variables\n",
        "Done\n",
        "Adding variables\n",
        "Done\n",
        "Adding variables\n",
        "Done\n",
        "Adding variables\n",
        "Done\n",
        "Adding variables\n",
        "Done\n",
        "Adding variables\n",
        "Done\n",
        "Adding variables\n",
        "Done\n",
        "Adding variables\n",
        "Done\n",
        "Adding variables\n",
        "Done\n",
        "Adding variables\n",
        "Done\n",
        "Adding variables\n",
        "Done\n",
        "Adding variables\n",
        "Done\n"
       ]
      }
     ],
     "prompt_number": 38
    },
    {
     "cell_type": "code",
     "collapsed": false,
     "input": [
      "names"
     ],
     "language": "python",
     "metadata": {},
     "outputs": [
      {
       "metadata": {},
       "output_type": "pyout",
       "prompt_number": 39,
       "text": [
        "['Y_1929',\n",
        " 'Y_1930',\n",
        " 'Y_1931',\n",
        " 'Y_1932',\n",
        " 'Y_1933',\n",
        " 'Y_1934',\n",
        " 'Y_1935',\n",
        " 'Y_1936',\n",
        " 'Y_1937',\n",
        " 'Y_1938',\n",
        " 'Y_1939',\n",
        " 'Y_1940',\n",
        " 'Y_1941',\n",
        " 'Y_1942',\n",
        " 'Y_1943',\n",
        " 'Y_1944',\n",
        " 'Y_1945',\n",
        " 'Y_1946',\n",
        " 'Y_1947',\n",
        " 'Y_1948',\n",
        " 'Y_1949',\n",
        " 'Y_1950',\n",
        " 'Y_1951',\n",
        " 'Y_1952',\n",
        " 'Y_1953',\n",
        " 'Y_1954',\n",
        " 'Y_1955',\n",
        " 'Y_1956',\n",
        " 'Y_1957',\n",
        " 'Y_1958',\n",
        " 'Y_1959',\n",
        " 'Y_1960',\n",
        " 'Y_1961',\n",
        " 'Y_1962',\n",
        " 'Y_1963',\n",
        " 'Y_1964',\n",
        " 'Y_1965',\n",
        " 'Y_1966',\n",
        " 'Y_1967',\n",
        " 'Y_1968',\n",
        " 'Y_1969',\n",
        " 'Y_1970',\n",
        " 'Y_1971',\n",
        " 'Y_1972',\n",
        " 'Y_1973',\n",
        " 'Y_1974',\n",
        " 'Y_1975',\n",
        " 'Y_1976',\n",
        " 'Y_1977',\n",
        " 'Y_1978',\n",
        " 'Y_1979',\n",
        " 'Y_1980',\n",
        " 'Y_1981',\n",
        " 'Y_1982',\n",
        " 'Y_1983',\n",
        " 'Y_1984',\n",
        " 'Y_1985',\n",
        " 'Y_1986',\n",
        " 'Y_1987',\n",
        " 'Y_1988',\n",
        " 'Y_1989',\n",
        " 'Y_1990',\n",
        " 'Y_1991',\n",
        " 'Y_1992',\n",
        " 'Y_1993',\n",
        " 'Y_1994',\n",
        " 'Y_1995',\n",
        " 'Y_1996',\n",
        " 'Y_1997',\n",
        " 'Y_1998',\n",
        " 'Y_1999',\n",
        " 'Y_2000',\n",
        " 'Y_2001',\n",
        " 'Y_2002',\n",
        " 'Y_2003',\n",
        " 'Y_2004',\n",
        " 'Y_2005',\n",
        " 'Y_2006',\n",
        " 'Y_2007',\n",
        " 'Y_2008',\n",
        " 'Y_2009']"
       ]
      }
     ],
     "prompt_number": 39
    },
    {
     "cell_type": "code",
     "collapsed": false,
     "input": [
      "usy.fieldNames"
     ],
     "language": "python",
     "metadata": {},
     "outputs": [
      {
       "metadata": {},
       "output_type": "pyout",
       "prompt_number": 40,
       "text": [
        "['Y_1929',\n",
        " 'Y_1930',\n",
        " 'Y_1931',\n",
        " 'Y_1932',\n",
        " 'Y_1933',\n",
        " 'Y_1934',\n",
        " 'Y_1935',\n",
        " 'Y_1936',\n",
        " 'Y_1937',\n",
        " 'Y_1938',\n",
        " 'Y_1939',\n",
        " 'Y_1940',\n",
        " 'Y_1941',\n",
        " 'Y_1942',\n",
        " 'Y_1943',\n",
        " 'Y_1944',\n",
        " 'Y_1945',\n",
        " 'Y_1946',\n",
        " 'Y_1947',\n",
        " 'Y_1948',\n",
        " 'Y_1949',\n",
        " 'Y_1950',\n",
        " 'Y_1951',\n",
        " 'Y_1952',\n",
        " 'Y_1953',\n",
        " 'Y_1954',\n",
        " 'Y_1955',\n",
        " 'Y_1956',\n",
        " 'Y_1957',\n",
        " 'Y_1958',\n",
        " 'Y_1959',\n",
        " 'Y_1960',\n",
        " 'Y_1961',\n",
        " 'Y_1962',\n",
        " 'Y_1963',\n",
        " 'Y_1964',\n",
        " 'Y_1965',\n",
        " 'Y_1966',\n",
        " 'Y_1967',\n",
        " 'Y_1968',\n",
        " 'Y_1969',\n",
        " 'Y_1970',\n",
        " 'Y_1971',\n",
        " 'Y_1972',\n",
        " 'Y_1973',\n",
        " 'Y_1974',\n",
        " 'Y_1975',\n",
        " 'Y_1976',\n",
        " 'Y_1977',\n",
        " 'Y_1978',\n",
        " 'Y_1979',\n",
        " 'Y_1980',\n",
        " 'Y_1981',\n",
        " 'Y_1982',\n",
        " 'Y_1983',\n",
        " 'Y_1984',\n",
        " 'Y_1985',\n",
        " 'Y_1986',\n",
        " 'Y_1987',\n",
        " 'Y_1988',\n",
        " 'Y_1989',\n",
        " 'Y_1990',\n",
        " 'Y_1991',\n",
        " 'Y_1992',\n",
        " 'Y_1993',\n",
        " 'Y_1994',\n",
        " 'Y_1995',\n",
        " 'Y_1996',\n",
        " 'Y_1997',\n",
        " 'Y_1998',\n",
        " 'Y_1999',\n",
        " 'Y_2000',\n",
        " 'Y_2001',\n",
        " 'Y_2002',\n",
        " 'Y_2003',\n",
        " 'Y_2004',\n",
        " 'Y_2005',\n",
        " 'Y_2006',\n",
        " 'Y_2007',\n",
        " 'Y_2008',\n",
        " 'Y_2009']"
       ]
      }
     ],
     "prompt_number": 40
    },
    {
     "cell_type": "code",
     "collapsed": false,
     "input": [
      "usy.getVars('Y_1929')"
     ],
     "language": "python",
     "metadata": {},
     "outputs": [
      {
       "output_type": "stream",
       "stream": "stdout",
       "text": [
        "Getting variables\n",
        "Variables successfully extracted\n"
       ]
      },
      {
       "metadata": {},
       "output_type": "pyout",
       "prompt_number": 41,
       "text": [
        "{0: [323],\n",
        " 1: [600],\n",
        " 2: [310],\n",
        " 3: [991],\n",
        " 4: [634],\n",
        " 5: [1024],\n",
        " 6: [1032],\n",
        " 7: [518],\n",
        " 8: [347],\n",
        " 9: [507],\n",
        " 10: [948],\n",
        " 11: [607],\n",
        " 12: [581],\n",
        " 13: [532],\n",
        " 14: [393],\n",
        " 15: [414],\n",
        " 16: [601],\n",
        " 17: [768],\n",
        " 18: [906],\n",
        " 19: [790],\n",
        " 20: [599],\n",
        " 21: [286],\n",
        " 22: [621],\n",
        " 23: [592],\n",
        " 24: [596],\n",
        " 25: [868],\n",
        " 26: [686],\n",
        " 27: [918],\n",
        " 28: [410],\n",
        " 29: [1152],\n",
        " 30: [332],\n",
        " 31: [382],\n",
        " 32: [771],\n",
        " 33: [455],\n",
        " 34: [668],\n",
        " 35: [772],\n",
        " 36: [874],\n",
        " 37: [271],\n",
        " 38: [426],\n",
        " 39: [378],\n",
        " 40: [479],\n",
        " 41: [551],\n",
        " 42: [634],\n",
        " 43: [434],\n",
        " 44: [741],\n",
        " 45: [460],\n",
        " 46: [673],\n",
        " 47: [675]}"
       ]
      }
     ],
     "prompt_number": 41
    },
    {
     "cell_type": "code",
     "collapsed": false,
     "input": [
      "usy.Wrook"
     ],
     "language": "python",
     "metadata": {},
     "outputs": [
      {
       "metadata": {},
       "output_type": "pyout",
       "prompt_number": 42,
       "text": [
        "{}"
       ]
      }
     ],
     "prompt_number": 42
    },
    {
     "cell_type": "code",
     "collapsed": false,
     "input": [
      "usy.cluster('arisel', ['Y_1980'], 8, wType='queen', inits=10, dissolve=0)\n",
      "#mexico.cluster('arisel', ['pcgdp1940'], 5, wType='rook', inits=10, dissolve=0)\n"
     ],
     "language": "python",
     "metadata": {},
     "outputs": [
      {
       "output_type": "stream",
       "stream": "stdout",
       "text": [
        "Getting variables\n",
        "Variables successfully extracted\n",
        "Running original Arisel algorithm\n",
        "Number of areas:  48\n",
        "Number of regions:  8\n",
        "initial Solution: "
       ]
      },
      {
       "output_type": "stream",
       "stream": "stdout",
       "text": [
        " [4, 0, 4, 2, 0, 6, 0, 4, 4, 1, 0, 0, 0, 0, 4, 4, 5, 0, 7, 0, 0, 4, 0, 1, 0, 2, 5, 7, 1, 7, 4, 1, 0, 0, 1, 0, 3, 4, 1, 4, 0, 1, 5, 0, 1, 4, 0, 0]\n",
        "initial O.F:  23338316.0\n",
        "FINAL SOLUTION: "
       ]
      },
      {
       "output_type": "stream",
       "stream": "stdout",
       "text": [
        " [4, 1, 4, 2, 0, 6, 7, 4, 4, 1, 0, 0, 1, 0, 4, 1, 5, 0, 7, 0, 0, 4, 0, 1, 1, 2, 5, 7, 1, 7, 4, 1, 0, 1, 1, 0, 3, 4, 1, 4, 1, 1, 5, 0, 1, 4, 0, 0]\n",
        "FINAL OF:  21804253.0\n",
        "Done\n",
        "Adding variables\n",
        "Done\n"
       ]
      }
     ],
     "prompt_number": 43
    },
    {
     "cell_type": "code",
     "collapsed": false,
     "input": [],
     "language": "python",
     "metadata": {},
     "outputs": [],
     "prompt_number": 43
    },
    {
     "cell_type": "code",
     "collapsed": false,
     "input": [
      "us = cp.Layer()"
     ],
     "language": "python",
     "metadata": {},
     "outputs": [],
     "prompt_number": 44
    },
    {
     "cell_type": "code",
     "collapsed": false,
     "input": [
      "cp.addQueen2Layer(ps.examples.get_path('states48.gal'), us)"
     ],
     "language": "python",
     "metadata": {},
     "outputs": [],
     "prompt_number": 45
    },
    {
     "cell_type": "code",
     "collapsed": false,
     "input": [
      "uscsv = ps.examples.get_path(\"usjoin.csv\")"
     ],
     "language": "python",
     "metadata": {},
     "outputs": [],
     "prompt_number": 46
    },
    {
     "cell_type": "code",
     "collapsed": true,
     "input": [
      "f = ps.open(uscsv)\n",
      "pci = np.array([f.by_col[str(y)] for y in range(1929, 2010)]).T\n",
      "names = [\"Y_%d\"%v for v in range(1929,2010)]\n",
      "cp.addArray2Layer(pci, us, names)"
     ],
     "language": "python",
     "metadata": {},
     "outputs": [
      {
       "output_type": "stream",
       "stream": "stdout",
       "text": [
        "Adding variables\n",
        "Done\n",
        "Adding variables\n",
        "Done\n",
        "Adding variables\n",
        "Done\n",
        "Adding variables\n",
        "Done\n",
        "Adding variables\n",
        "Done\n",
        "Adding variables\n",
        "Done\n",
        "Adding variables\n",
        "Done\n",
        "Adding variables\n",
        "Done\n",
        "Adding variables\n",
        "Done\n",
        "Adding variables\n",
        "Done\n",
        "Adding variables\n",
        "Done\n",
        "Adding variables\n",
        "Done\n",
        "Adding variables\n",
        "Done\n",
        "Adding variables\n",
        "Done\n",
        "Adding variables\n",
        "Done\n",
        "Adding variables\n",
        "Done\n",
        "Adding variables\n",
        "Done\n",
        "Adding variables\n",
        "Done\n",
        "Adding variables\n",
        "Done\n",
        "Adding variables\n",
        "Done\n",
        "Adding variables\n",
        "Done\n",
        "Adding variables\n",
        "Done\n",
        "Adding variables\n",
        "Done\n",
        "Adding variables\n",
        "Done\n",
        "Adding variables\n",
        "Done\n",
        "Adding variables\n",
        "Done\n",
        "Adding variables\n",
        "Done\n",
        "Adding variables\n",
        "Done\n",
        "Adding variables\n",
        "Done\n",
        "Adding variables\n",
        "Done\n",
        "Adding variables\n",
        "Done\n",
        "Adding variables\n",
        "Done\n",
        "Adding variables\n",
        "Done\n",
        "Adding variables\n",
        "Done\n",
        "Adding variables\n",
        "Done\n",
        "Adding variables\n",
        "Done\n",
        "Adding variables\n",
        "Done\n",
        "Adding variables\n",
        "Done\n",
        "Adding variables\n",
        "Done\n",
        "Adding variables\n",
        "Done\n",
        "Adding variables\n",
        "Done\n",
        "Adding variables\n",
        "Done\n",
        "Adding variables\n",
        "Done\n",
        "Adding variables\n",
        "Done\n",
        "Adding variables\n",
        "Done\n",
        "Adding variables\n",
        "Done\n",
        "Adding variables\n",
        "Done\n",
        "Adding variables\n",
        "Done\n",
        "Adding variables\n",
        "Done\n",
        "Adding variables\n",
        "Done\n",
        "Adding variables\n",
        "Done\n",
        "Adding variables\n",
        "Done\n",
        "Adding variables\n",
        "Done\n",
        "Adding variables\n",
        "Done\n",
        "Adding variables\n",
        "Done\n",
        "Adding variables\n",
        "Done\n",
        "Adding variables\n",
        "Done\n",
        "Adding variables\n",
        "Done\n",
        "Adding variables\n",
        "Done\n",
        "Adding variables\n",
        "Done\n",
        "Adding variables\n",
        "Done\n",
        "Adding variables\n",
        "Done\n",
        "Adding variables\n",
        "Done\n",
        "Adding variables\n",
        "Done\n",
        "Adding variables\n",
        "Done\n",
        "Adding variables\n",
        "Done\n",
        "Adding variables\n",
        "Done\n",
        "Adding variables\n",
        "Done\n",
        "Adding variables\n",
        "Done\n",
        "Adding variables\n",
        "Done\n",
        "Adding variables\n",
        "Done\n",
        "Adding variables\n",
        "Done\n",
        "Adding variables\n",
        "Done\n",
        "Adding variables\n",
        "Done\n",
        "Adding variables\n",
        "Done\n",
        "Adding variables\n",
        "Done\n",
        "Adding variables\n",
        "Done\n",
        "Adding variables\n",
        "Done\n",
        "Adding variables\n",
        "Done\n",
        "Adding variables\n",
        "Done\n",
        "Adding variables\n",
        "Done\n"
       ]
      }
     ],
     "prompt_number": 47
    },
    {
     "cell_type": "code",
     "collapsed": false,
     "input": [
      "usy.cluster('arisel', ['Y_1980'], 8, wType='queen', inits=10, dissolve=0)\n"
     ],
     "language": "python",
     "metadata": {},
     "outputs": [
      {
       "output_type": "stream",
       "stream": "stdout",
       "text": [
        "Getting variables\n",
        "Variables successfully extracted\n",
        "Running original Arisel algorithm\n",
        "Number of areas:  48\n",
        "Number of regions:  8\n",
        "initial Solution: "
       ]
      },
      {
       "output_type": "stream",
       "stream": "stdout",
       "text": [
        " [0, 6, 0, 2, 6, 5, 6, 0, 0, 7, 6, 6, 6, 6, 0, 0, 4, 6, 4, 6, 6, 0, 6, 7, 6, 2, 4, 1, 7, 4, 0, 7, 6, 6, 2, 6, 4, 0, 7, 0, 6, 7, 3, 6, 2, 0, 6, 6]\n",
        "initial O.F:  21166215.0\n",
        "FINAL SOLUTION: "
       ]
      },
      {
       "output_type": "stream",
       "stream": "stdout",
       "text": [
        " [0, 6, 0, 2, 6, 5, 1, 0, 0, 7, 6, 6, 6, 6, 0, 0, 4, 6, 4, 6, 6, 0, 6, 7, 7, 2, 4, 1, 7, 1, 0, 7, 6, 6, 2, 6, 4, 0, 7, 0, 6, 7, 3, 6, 2, 0, 6, 6]\n",
        "FINAL OF:  19355956.0\n",
        "Done\n",
        "Adding variables\n",
        "Done\n"
       ]
      }
     ],
     "prompt_number": 48
    },
    {
     "cell_type": "code",
     "collapsed": false,
     "input": [
      "us_alpha = cp.importCsvData(ps.examples.get_path('usjoin.csv'))"
     ],
     "language": "python",
     "metadata": {},
     "outputs": [],
     "prompt_number": 49
    },
    {
     "cell_type": "code",
     "collapsed": false,
     "input": [
      "alpha_fips = us_alpha.getVars('STATE_FIPS')"
     ],
     "language": "python",
     "metadata": {},
     "outputs": [
      {
       "output_type": "stream",
       "stream": "stdout",
       "text": [
        "Getting variables\n",
        "Variables successfully extracted\n"
       ]
      }
     ],
     "prompt_number": 50
    },
    {
     "cell_type": "code",
     "collapsed": false,
     "input": [
      "alpha_fips"
     ],
     "language": "python",
     "metadata": {},
     "outputs": [
      {
       "metadata": {},
       "output_type": "pyout",
       "prompt_number": 51,
       "text": [
        "{0: [1],\n",
        " 1: [4],\n",
        " 2: [5],\n",
        " 3: [6],\n",
        " 4: [8],\n",
        " 5: [9],\n",
        " 6: [10],\n",
        " 7: [12],\n",
        " 8: [13],\n",
        " 9: [16],\n",
        " 10: [17],\n",
        " 11: [18],\n",
        " 12: [19],\n",
        " 13: [20],\n",
        " 14: [21],\n",
        " 15: [22],\n",
        " 16: [23],\n",
        " 17: [24],\n",
        " 18: [25],\n",
        " 19: [26],\n",
        " 20: [27],\n",
        " 21: [28],\n",
        " 22: [29],\n",
        " 23: [30],\n",
        " 24: [31],\n",
        " 25: [32],\n",
        " 26: [33],\n",
        " 27: [34],\n",
        " 28: [35],\n",
        " 29: [36],\n",
        " 30: [37],\n",
        " 31: [38],\n",
        " 32: [39],\n",
        " 33: [40],\n",
        " 34: [41],\n",
        " 35: [42],\n",
        " 36: [44],\n",
        " 37: [45],\n",
        " 38: [46],\n",
        " 39: [47],\n",
        " 40: [48],\n",
        " 41: [49],\n",
        " 42: [50],\n",
        " 43: [51],\n",
        " 44: [53],\n",
        " 45: [54],\n",
        " 46: [55],\n",
        " 47: [56]}"
       ]
      }
     ],
     "prompt_number": 51
    },
    {
     "cell_type": "code",
     "collapsed": false,
     "input": [
      "dbf = ps.open(ps.examples.get_path('us48.dbf'))"
     ],
     "language": "python",
     "metadata": {},
     "outputs": [],
     "prompt_number": 52
    },
    {
     "cell_type": "code",
     "collapsed": false,
     "input": [
      "dbf.header"
     ],
     "language": "python",
     "metadata": {},
     "outputs": [
      {
       "metadata": {},
       "output_type": "pyout",
       "prompt_number": 53,
       "text": [
        "['AREA',\n",
        " 'PERIMETER',\n",
        " 'STATE_',\n",
        " 'STATE_ID',\n",
        " 'STATE_NAME',\n",
        " 'STATE_FIPS',\n",
        " 'SUB_REGION',\n",
        " 'STATE_ABBR']"
       ]
      }
     ],
     "prompt_number": 53
    },
    {
     "cell_type": "code",
     "collapsed": false,
     "input": [
      "state_fips = dbf.by_col('STATE_FIPS')\n",
      "names = dbf.by_col('STATE_NAME')"
     ],
     "language": "python",
     "metadata": {},
     "outputs": [],
     "prompt_number": 54
    },
    {
     "cell_type": "code",
     "collapsed": false,
     "input": [
      "names"
     ],
     "language": "python",
     "metadata": {},
     "outputs": [
      {
       "metadata": {},
       "output_type": "pyout",
       "prompt_number": 55,
       "text": [
        "['Washington',\n",
        " 'Montana',\n",
        " 'Maine',\n",
        " 'North Dakota',\n",
        " 'South Dakota',\n",
        " 'Wyoming',\n",
        " 'Wisconsin',\n",
        " 'Idaho',\n",
        " 'Vermont',\n",
        " 'Minnesota',\n",
        " 'Oregon',\n",
        " 'New Hampshire',\n",
        " 'Iowa',\n",
        " 'Massachusetts',\n",
        " 'Nebraska',\n",
        " 'New York',\n",
        " 'Pennsylvania',\n",
        " 'Connecticut',\n",
        " 'Rhode Island',\n",
        " 'New Jersey',\n",
        " 'Indiana',\n",
        " 'Nevada',\n",
        " 'Utah',\n",
        " 'California',\n",
        " 'Ohio',\n",
        " 'Illinois',\n",
        " 'Delaware',\n",
        " 'West Virginia',\n",
        " 'Maryland',\n",
        " 'Colorado',\n",
        " 'Kentucky',\n",
        " 'Kansas',\n",
        " 'Virginia',\n",
        " 'Missouri',\n",
        " 'Arizona',\n",
        " 'Oklahoma',\n",
        " 'North Carolina',\n",
        " 'Tennessee',\n",
        " 'Texas',\n",
        " 'New Mexico',\n",
        " 'Alabama',\n",
        " 'Mississippi',\n",
        " 'Georgia',\n",
        " 'South Carolina',\n",
        " 'Arkansas',\n",
        " 'Louisiana',\n",
        " 'Florida',\n",
        " 'Michigan']"
       ]
      }
     ],
     "prompt_number": 55
    },
    {
     "cell_type": "code",
     "collapsed": false,
     "input": [
      "state_fips = map(int, state_fips)"
     ],
     "language": "python",
     "metadata": {},
     "outputs": [],
     "prompt_number": 56
    },
    {
     "cell_type": "code",
     "collapsed": false,
     "input": [
      "state_fips"
     ],
     "language": "python",
     "metadata": {},
     "outputs": [
      {
       "metadata": {},
       "output_type": "pyout",
       "prompt_number": 57,
       "text": [
        "[53,\n",
        " 30,\n",
        " 23,\n",
        " 38,\n",
        " 46,\n",
        " 56,\n",
        " 55,\n",
        " 16,\n",
        " 50,\n",
        " 27,\n",
        " 41,\n",
        " 33,\n",
        " 19,\n",
        " 25,\n",
        " 31,\n",
        " 36,\n",
        " 42,\n",
        " 9,\n",
        " 44,\n",
        " 34,\n",
        " 18,\n",
        " 32,\n",
        " 49,\n",
        " 6,\n",
        " 39,\n",
        " 17,\n",
        " 10,\n",
        " 54,\n",
        " 24,\n",
        " 8,\n",
        " 21,\n",
        " 20,\n",
        " 51,\n",
        " 29,\n",
        " 4,\n",
        " 40,\n",
        " 37,\n",
        " 47,\n",
        " 48,\n",
        " 35,\n",
        " 1,\n",
        " 28,\n",
        " 13,\n",
        " 45,\n",
        " 5,\n",
        " 22,\n",
        " 12,\n",
        " 26]"
       ]
      }
     ],
     "prompt_number": 57
    },
    {
     "cell_type": "code",
     "collapsed": false,
     "input": [
      "# the csv file has the states ordered alphabetically, but this isn't the case for the order in the shapefile so we have to reorder before any choropleths are drawn\n",
      "alpha_fips = [i[0] for i in alpha_fips.values()]\n",
      "reorder = [ alpha_fips.index(s) for s in state_fips]"
     ],
     "language": "python",
     "metadata": {},
     "outputs": [],
     "prompt_number": 58
    },
    {
     "cell_type": "code",
     "collapsed": false,
     "input": [
      "regions = usy.region2areas"
     ],
     "language": "python",
     "metadata": {},
     "outputs": [],
     "prompt_number": 59
    },
    {
     "cell_type": "code",
     "collapsed": false,
     "input": [
      "regions"
     ],
     "language": "python",
     "metadata": {},
     "outputs": [
      {
       "metadata": {},
       "output_type": "pyout",
       "prompt_number": 60,
       "text": [
        "[0,\n",
        " 6,\n",
        " 0,\n",
        " 2,\n",
        " 6,\n",
        " 5,\n",
        " 1,\n",
        " 0,\n",
        " 0,\n",
        " 7,\n",
        " 6,\n",
        " 6,\n",
        " 6,\n",
        " 6,\n",
        " 0,\n",
        " 0,\n",
        " 4,\n",
        " 6,\n",
        " 4,\n",
        " 6,\n",
        " 6,\n",
        " 0,\n",
        " 6,\n",
        " 7,\n",
        " 7,\n",
        " 2,\n",
        " 4,\n",
        " 1,\n",
        " 7,\n",
        " 1,\n",
        " 0,\n",
        " 7,\n",
        " 6,\n",
        " 6,\n",
        " 2,\n",
        " 6,\n",
        " 4,\n",
        " 0,\n",
        " 7,\n",
        " 0,\n",
        " 6,\n",
        " 7,\n",
        " 3,\n",
        " 6,\n",
        " 2,\n",
        " 0,\n",
        " 6,\n",
        " 6]"
       ]
      }
     ],
     "prompt_number": 60
    },
    {
     "cell_type": "code",
     "collapsed": false,
     "input": [
      "from pysal.contrib.viz import mapping as maps"
     ],
     "language": "python",
     "metadata": {},
     "outputs": [],
     "prompt_number": 61
    },
    {
     "cell_type": "code",
     "collapsed": false,
     "input": [
      "shp = ps.examples.get_path('us48.shp')\n",
      "regions = np.array(regions)"
     ],
     "language": "python",
     "metadata": {},
     "outputs": [],
     "prompt_number": 62
    },
    {
     "cell_type": "code",
     "collapsed": false,
     "input": [
      "maps.plot_choropleth(shp, regions[reorder], 'unique_values')"
     ],
     "language": "python",
     "metadata": {},
     "outputs": [
      {
       "metadata": {},
       "output_type": "display_data",
       "png": "[encoded data removed]",
       "text": [
        "<matplotlib.figure.Figure at 0x149ca390>"
       ]
      }
     ],
     "prompt_number": 63
    },
    {
     "cell_type": "code",
     "collapsed": false,
     "input": [
      "usy.cluster('arisel', ['Y_1929'], 8, wType='queen', inits=10, dissolve=0)\n"
     ],
     "language": "python",
     "metadata": {},
     "outputs": [
      {
       "output_type": "stream",
       "stream": "stdout",
       "text": [
        "Getting variables\n",
        "Variables successfully extracted\n",
        "Running original Arisel algorithm\n",
        "Number of areas:  48\n",
        "Number of regions:  8\n",
        "initial Solution: "
       ]
      },
      {
       "output_type": "stream",
       "stream": "stdout",
       "text": [
        " [0, 4, 0, 1, 4, 6, 6, 0, 0, 4, 5, 5, 4, 4, 2, 0, 3, 5, 6, 5, 4, 0, 4, 7, 4, 1, 3, 6, 0, 6, 0, 4, 5, 0, 4, 5, 6, 0, 4, 2, 0, 4, 3, 2, 4, 2, 4, 7]\n",
        "initial O.F:  320792.0\n",
        "FINAL SOLUTION: "
       ]
      },
      {
       "output_type": "stream",
       "stream": "stdout",
       "text": [
        " [0, 4, 0, 1, 7, 6, 6, 0, 0, 4, 5, 5, 4, 4, 0, 0, 3, 5, 6, 5, 4, 0, 4, 4, 4, 1, 3, 6, 0, 6, 0, 4, 5, 0, 4, 5, 6, 0, 4, 0, 0, 4, 3, 2, 4, 2, 5, 7]\n",
        "FINAL OF:  311057.0\n",
        "Done\n",
        "Adding variables\n",
        "Done\n"
       ]
      }
     ],
     "prompt_number": 64
    },
    {
     "cell_type": "code",
     "collapsed": false,
     "input": [
      "regions = usy.region2areas"
     ],
     "language": "python",
     "metadata": {},
     "outputs": [],
     "prompt_number": 65
    },
    {
     "cell_type": "code",
     "collapsed": false,
     "input": [
      "regions = np.array(regions)"
     ],
     "language": "python",
     "metadata": {},
     "outputs": [],
     "prompt_number": 66
    },
    {
     "cell_type": "code",
     "collapsed": false,
     "input": [
      "maps.plot_choropleth(shp, regions[reorder], 'unique_values')"
     ],
     "language": "python",
     "metadata": {},
     "outputs": [
      {
       "metadata": {},
       "output_type": "display_data",
       "png": "[encoded data removed]",
       "text": [
        "<matplotlib.figure.Figure at 0x1495def0>"
       ]
      }
     ],
     "prompt_number": 67
    },
    {
     "cell_type": "code",
     "collapsed": false,
     "input": [
      "names = [\"Y_%d\"%i for i in range(1929, 2010)]\n",
      "#usy.cluster('arisel', ['Y_1929'], 8, wType='queen', inits=10, dissolve=0)\n",
      "usy.cluster('arisel', names, 8, wType='queen', inits=10, dissolve=0)\n"
     ],
     "language": "python",
     "metadata": {},
     "outputs": []
    },
    {
     "cell_type": "code",
     "collapsed": false,
     "input": [
      "regions = usy.region2areas\n",
      "regions = np.array(regions)\n",
      "maps.plot_choropleth(shp, regions[reorder], 'unique_values', title='All Years')"
     ],
     "language": "python",
     "metadata": {},
     "outputs": []
    },
    {
     "cell_type": "code",
     "collapsed": false,
     "input": [
      "ps.version"
     ],
     "language": "python",
     "metadata": {},
     "outputs": []
    },
    {
     "cell_type": "code",
     "collapsed": false,
     "input": [
      "usy.cluster('arisel', names[:40], 8, wType='queen', inits=10, dissolve=0)\n",
      "regions = usy.region2areas\n",
      "regions = np.array(regions)\n",
      "maps.plot_choropleth(shp, regions[reorder], 'unique_values', title='1929-68')"
     ],
     "language": "python",
     "metadata": {},
     "outputs": []
    },
    {
     "cell_type": "code",
     "collapsed": false,
     "input": [
      "usy.cluster('arisel', names[40:], 8, wType='queen', inits=10, dissolve=0)\n",
      "regions = usy.region2areas\n",
      "regions = np.array(regions)\n",
      "maps.plot_choropleth(shp, regions[reorder], 'unique_values', title='1969-2009')"
     ],
     "language": "python",
     "metadata": {},
     "outputs": []
    },
    {
     "cell_type": "code",
     "collapsed": false,
     "input": [
      "usy.cluster('arisel', names[40:], 8, wType='queen', inits=10, dissolve=0)"
     ],
     "language": "python",
     "metadata": {},
     "outputs": []
    },
    {
     "cell_type": "code",
     "collapsed": false,
     "input": [
      "usy.dataOperation(\"CONSTANT = 1\")\n",
      "usy.Wrook = usy.Wqueen\n",
      "usy.cluster('maxpTabu', ['Y_1929', 'Y_1929'], threshold=1000, dissolve=0)\n",
      "regions = usy.region2areas\n",
      "regions = np.array(regions)\n",
      "maps.plot_choropleth(shp, regions[reorder], 'unique_values', title='maxp 1929')"
     ],
     "language": "python",
     "metadata": {},
     "outputs": []
    },
    {
     "cell_type": "code",
     "collapsed": false,
     "input": [
      "Counter(regions)"
     ],
     "language": "python",
     "metadata": {},
     "outputs": []
    },
    {
     "cell_type": "code",
     "collapsed": false,
     "input": [
      "usy.getVars('Y_1929')"
     ],
     "language": "python",
     "metadata": {},
     "outputs": []
    },
    {
     "cell_type": "code",
     "collapsed": false,
     "input": [
      "usy.Wrook"
     ],
     "language": "python",
     "metadata": {},
     "outputs": []
    },
    {
     "cell_type": "code",
     "collapsed": false,
     "input": [
      "usy.cluster('maxpTabu', ['Y_1929', 'CONSTANT'], threshold=8, dissolve=0)\n",
      "regions = usy.region2areas\n",
      "regions = np.array(regions)\n",
      "maps.plot_choropleth(shp, regions[reorder], 'unique_values', title='maxp 1929')"
     ],
     "language": "python",
     "metadata": {},
     "outputs": []
    },
    {
     "cell_type": "code",
     "collapsed": false,
     "input": [
      "regions"
     ],
     "language": "python",
     "metadata": {},
     "outputs": []
    },
    {
     "cell_type": "code",
     "collapsed": false,
     "input": [
      "Counter(regions)"
     ],
     "language": "python",
     "metadata": {},
     "outputs": []
    },
    {
     "cell_type": "code",
     "collapsed": false,
     "input": [
      "vars = names"
     ],
     "language": "python",
     "metadata": {},
     "outputs": []
    },
    {
     "cell_type": "code",
     "collapsed": false,
     "input": [
      "vars.append('CONSTANT')"
     ],
     "language": "python",
     "metadata": {},
     "outputs": []
    },
    {
     "cell_type": "code",
     "collapsed": false,
     "input": [
      "vars"
     ],
     "language": "python",
     "metadata": {},
     "outputs": []
    },
    {
     "cell_type": "code",
     "collapsed": false,
     "input": [
      "usy.cluster('maxpTabu', vars, threshold=8, dissolve=0)\n",
      "regions = usy.region2areas\n",
      "regions = np.array(regions)\n",
      "maps.plot_choropleth(shp, regions[reorder], 'unique_values', title='maxp 1929-2009')"
     ],
     "language": "python",
     "metadata": {},
     "outputs": []
    },
    {
     "cell_type": "code",
     "collapsed": false,
     "input": [
      "Counter(regions)"
     ],
     "language": "python",
     "metadata": {},
     "outputs": []
    },
    {
     "cell_type": "code",
     "collapsed": false,
     "input": [
      "south = cp.loadArcData(ps.examples.get_path(\"south.shp\"))"
     ],
     "language": "python",
     "metadata": {},
     "outputs": []
    },
    {
     "cell_type": "code",
     "collapsed": false,
     "input": [
      "south.fieldNames"
     ],
     "language": "python",
     "metadata": {},
     "outputs": []
    },
    {
     "cell_type": "code",
     "collapsed": false,
     "input": [
      "# uncomment if you have some time ;->\n",
      "#south.cluster('arisel', ['HR70'], 20, wType='queen', inits=10, dissolve=0)"
     ],
     "language": "python",
     "metadata": {},
     "outputs": []
    },
    {
     "cell_type": "code",
     "collapsed": false,
     "input": [
      "#regions = south.region2areas"
     ],
     "language": "python",
     "metadata": {},
     "outputs": []
    },
    {
     "cell_type": "code",
     "collapsed": false,
     "input": [
      "shp = ps.examples.get_path('south.shp')\n",
      "#maps.plot_choropleth(shp, np.array(regions), 'unique_values')"
     ],
     "language": "python",
     "metadata": {},
     "outputs": []
    },
    {
     "cell_type": "code",
     "collapsed": false,
     "input": [
      "south.dataOperation(\"CONSTANT = 1\")\n",
      "south.cluster('maxpTabu', ['HR70', 'CONSTANT'], threshold=70, dissolve=0)\n",
      "regions = south.region2areas\n",
      "regions = np.array(regions)\n",
      "maps.plot_choropleth(shp, regions, 'unique_values', title='maxp HR70 threshold=70')"
     ],
     "language": "python",
     "metadata": {},
     "outputs": []
    },
    {
     "cell_type": "code",
     "collapsed": false,
     "input": [
      "Counter(regions)"
     ],
     "language": "python",
     "metadata": {},
     "outputs": []
    },
    {
     "cell_type": "code",
     "collapsed": false,
     "input": [],
     "language": "python",
     "metadata": {},
     "outputs": []
    }
   ],
   "metadata": {}
  }
 ]
}