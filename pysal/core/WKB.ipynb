{
 "cells": [
  {
   "cell_type": "code",
   "execution_count": 1,
   "metadata": {
    "collapsed": false
   },
   "outputs": [],
   "source": [
    "import time\n",
    "\n",
    "import pysal as ps\n",
    "from geomet import wkb\n",
    "from sqlalchemy.ext.automap import automap_base\n",
    "from sqlalchemy.orm import Session\n",
    "from sqlalchemy import create_engine"
   ]
  },
  {
   "cell_type": "code",
   "execution_count": 17,
   "metadata": {
    "collapsed": false
   },
   "outputs": [
    {
     "name": "stdout",
     "output_type": "stream",
     "text": [
      "['/Users/jay/github/pysal/pysal/examples/10740/10740.shp', '/Users/jay/github/pysal/pysal/examples/baltim/baltim.shp', '/Users/jay/github/pysal/pysal/examples/burkitt/burkitt.shp', '/Users/jay/github/pysal/pysal/examples/chicago/Chicago77.shp', '/Users/jay/github/pysal/pysal/examples/columbus/columbus.shp', '/Users/jay/github/pysal/pysal/examples/geodanet/crimes.shp', '/Users/jay/github/pysal/pysal/examples/geodanet/schools.shp', '/Users/jay/github/pysal/pysal/examples/geodanet/streets.shp', '/Users/jay/github/pysal/pysal/examples/juvenile/juvenile.shp', '/Users/jay/github/pysal/pysal/examples/Line/Line.shp', '/Users/jay/github/pysal/pysal/examples/nat/NAT.shp', '/Users/jay/github/pysal/pysal/examples/nat/natregimes.shp', '/Users/jay/github/pysal/pysal/examples/networks/eberly_net.shp', '/Users/jay/github/pysal/pysal/examples/networks/eberly_net_pts_offnetwork.shp', '/Users/jay/github/pysal/pysal/examples/networks/eberly_net_pts_onnetwork.shp', '/Users/jay/github/pysal/pysal/examples/networks/nonplanarsegments.shp', '/Users/jay/github/pysal/pysal/examples/newHaven/new_haven_merged.shp', '/Users/jay/github/pysal/pysal/examples/newHaven/newhaven_nework.shp', '/Users/jay/github/pysal/pysal/examples/Point/Point.shp', '/Users/jay/github/pysal/pysal/examples/Polygon/Polygon.shp', '/Users/jay/github/pysal/pysal/examples/sacramento2/sacramentot2.shp', '/Users/jay/github/pysal/pysal/examples/sids2/sids2.shp', '/Users/jay/github/pysal/pysal/examples/snow_maps/Soho_Network.shp', '/Users/jay/github/pysal/pysal/examples/snow_maps/SohoPeople.shp', '/Users/jay/github/pysal/pysal/examples/snow_maps/SohoWater.shp', '/Users/jay/github/pysal/pysal/examples/south/south.shp', '/Users/jay/github/pysal/pysal/examples/stl/stl_hom.shp', '/Users/jay/github/pysal/pysal/examples/street_net_pts/street_net_pts.shp', '/Users/jay/github/pysal/pysal/examples/taz/taz.shp', '/Users/jay/github/pysal/pysal/examples/us_income/us48.shp', '/Users/jay/github/pysal/pysal/examples/virginia/virginia.shp', '/Users/jay/github/pysal/pysal/examples/wmat/lattice10x10.shp', '/Users/jay/github/pysal/pysal/examples/wmat/rook31.shp']\n"
     ]
    },
    {
     "ename": "NameError",
     "evalue": "name 'asd' is not defined",
     "output_type": "error",
     "traceback": [
      "\u001b[0;31m---------------------------------------------------------------------------\u001b[0m",
      "\u001b[0;31mNameError\u001b[0m                                 Traceback (most recent call last)",
      "\u001b[0;32m<ipython-input-17-ebc5befddf3f>\u001b[0m in \u001b[0;36m<module>\u001b[0;34m()\u001b[0m\n\u001b[1;32m      4\u001b[0m \u001b[0mpsexamples\u001b[0m \u001b[0;34m=\u001b[0m \u001b[0mglob\u001b[0m\u001b[0;34m.\u001b[0m\u001b[0mglob\u001b[0m\u001b[0;34m(\u001b[0m\u001b[0;34m'/Users/jay/github/pysal/pysal/examples/*/*.shp'\u001b[0m\u001b[0;34m)\u001b[0m\u001b[0;34m\u001b[0m\u001b[0m\n\u001b[1;32m      5\u001b[0m \u001b[0;32mprint\u001b[0m \u001b[0mpsexamples\u001b[0m\u001b[0;34m\u001b[0m\u001b[0m\n\u001b[0;32m----> 6\u001b[0;31m \u001b[0masd\u001b[0m\u001b[0;34m\u001b[0m\u001b[0m\n\u001b[0m\u001b[1;32m      7\u001b[0m \u001b[0;32mfor\u001b[0m \u001b[0mi\u001b[0m\u001b[0;34m,\u001b[0m \u001b[0ms\u001b[0m \u001b[0;32min\u001b[0m \u001b[0menumerate\u001b[0m\u001b[0;34m(\u001b[0m\u001b[0mpsexamples\u001b[0m\u001b[0;34m)\u001b[0m\u001b[0;34m:\u001b[0m\u001b[0;34m\u001b[0m\u001b[0m\n\u001b[1;32m      8\u001b[0m     \u001b[0mcmd\u001b[0m \u001b[0;34m=\u001b[0m \u001b[0;34m'ogr2ogr -f SQLite -append /Users/jay/Desktop/psexamples.sqlite {}'\u001b[0m\u001b[0;34m.\u001b[0m\u001b[0mformat\u001b[0m\u001b[0;34m(\u001b[0m\u001b[0ms\u001b[0m\u001b[0;34m)\u001b[0m\u001b[0;34m\u001b[0m\u001b[0m\n",
      "\u001b[0;31mNameError\u001b[0m: name 'asd' is not defined"
     ]
    }
   ],
   "source": [
    "#Slurp all the pysal example files into a single sqlite database\n",
    "import glob\n",
    "import subprocess\n",
    "psexamples = glob.glob('/Users/jay/github/pysal/pysal/examples/*/*.shp')\n",
    "for i, s in enumerate(psexamples):\n",
    "    cmd = 'ogr2ogr -f SQLite -append /Users/jay/Desktop/psexamples.sqlite {}'.format(s)\n",
    "    subprocess.check_call(cmd.split())"
   ]
  },
  {
   "cell_type": "code",
   "execution_count": 2,
   "metadata": {
    "collapsed": false
   },
   "outputs": [],
   "source": [
    "class SQLConnection():\n",
    "    \n",
    "    def __init__(self, db):\n",
    "        self.dbname = db\n",
    "        self.Base = automap_base()\n",
    "        self._engine = create_engine(self.dbname)\n",
    "        self.Base.prepare(self._engine, reflect=True)\n",
    "        \n",
    "    @property\n",
    "    def tables(self):\n",
    "        if not hasattr(self, '_tables'):\n",
    "            self._tables = {}\n",
    "            for k in self.Base.classes.keys():\n",
    "                self._tables[k] = self.Base.classes[k]\n",
    "        return self._tables\n",
    "\n",
    "    @property\n",
    "    def session(self):\n",
    "        #What happens if the session is externally closed?  Check for None?\n",
    "        if not hasattr(self, '_session'):\n",
    "            self._session = Session(self._engine)\n",
    "        return self._session\n",
    "    \n",
    "    def get_gjson(self, tablename, attributes=False, geom_column=\"GEOMETRY\"):\n",
    "    \n",
    "        gjson = {\n",
    "            \"type\": \"FeatureCollection\",\n",
    "            \"features\": []}\n",
    "\n",
    "        for row in self.session.query(self.tables[tablename]):\n",
    "            feat = {\"type\": \"Feature\",\n",
    "                    \"geometry\": {},\n",
    "                    \"properties\":{}}\n",
    "\n",
    "            feat[\"geometry\"] = wkb.loads(row.GEOMETRY)\n",
    "            attributes = row.__dict__\n",
    "            attributes.pop('_sa_instance_state', None)\n",
    "            attributes.pop(geom_column, None)\n",
    "            feat[\"properties\"] = attributes\n",
    "            gjson[\"features\"].append(feat)\n",
    "\n",
    "        return gjson"
   ]
  },
  {
   "cell_type": "code",
   "execution_count": 3,
   "metadata": {
    "collapsed": false
   },
   "outputs": [],
   "source": [
    "conn = SQLConnection(\"sqlite:////Users/jay/Desktop/psexamples.sqlite\")"
   ]
  },
  {
   "cell_type": "code",
   "execution_count": 4,
   "metadata": {
    "collapsed": false
   },
   "outputs": [
    {
     "data": {
      "text/plain": [
       "['burkitt',\n",
       " 'stl_hom',\n",
       " 'juvenile',\n",
       " 'point',\n",
       " 'sacramentot2',\n",
       " 'taz',\n",
       " 'eberly_net',\n",
       " 'polygon',\n",
       " 'eberly_net_pts_offnetwork',\n",
       " 'natregimes',\n",
       " 'lattice10x10',\n",
       " 'nat',\n",
       " 'sids2',\n",
       " '10740',\n",
       " 'columbus',\n",
       " 'street_net_pts',\n",
       " 'virginia',\n",
       " 'nonplanarsegments',\n",
       " 'line',\n",
       " 'rook31',\n",
       " 'us48',\n",
       " 'baltim',\n",
       " 'chicago77',\n",
       " 'eberly_net_pts_onnetwork',\n",
       " 'south']"
      ]
     },
     "execution_count": 4,
     "metadata": {},
     "output_type": "execute_result"
    }
   ],
   "source": [
    "conn.tables.keys()"
   ]
  },
  {
   "cell_type": "code",
   "execution_count": 27,
   "metadata": {
    "collapsed": false
   },
   "outputs": [
    {
     "name": "stdout",
     "output_type": "stream",
     "text": [
      "2.06201100349\n",
      "3085\n",
      "setting bounding box for FeatureCollection\n",
      "3.89124917984\n",
      "------------\n",
      "5.95346713066\n"
     ]
    }
   ],
   "source": [
    "t1 = time.time()\n",
    "gjson = conn.get_gjson('nat')\n",
    "t2 = time.time()\n",
    "print t2 - t1\n",
    "t3 = time.time()\n",
    "w = contiguity_from_geojson(gjson, wtype='rook')\n",
    "t4 = time.time()\n",
    "print t4 - t3\n",
    "print '------------'\n",
    "print t4 - t1"
   ]
  },
  {
   "cell_type": "code",
   "execution_count": 30,
   "metadata": {
    "collapsed": false
   },
   "outputs": [
    {
     "name": "stdout",
     "output_type": "stream",
     "text": [
      "setting bounding box for FeatureCollection\n",
      "\n"
     ]
    }
   ],
   "source": [
    "#%load_ext line_profiler\n",
    "%lprun -f contiguity_from_geojson contiguity_from_geojson(gjson, wtype='rook')"
   ]
  },
  {
   "cell_type": "code",
   "execution_count": 14,
   "metadata": {
    "collapsed": false
   },
   "outputs": [
    {
     "name": "stdout",
     "output_type": "stream",
     "text": [
      "1.27663397789\n"
     ]
    }
   ],
   "source": [
    "t1 = time.time()\n",
    "ps_w = ps.queen_from_shapefile('/Users/jay/github/pysal/pysal/examples/nat/nat.shp')\n",
    "t2 = time.time()\n",
    "print t2 - t1"
   ]
  },
  {
   "cell_type": "code",
   "execution_count": 32,
   "metadata": {
    "collapsed": false
   },
   "outputs": [],
   "source": [
    "ps_w = ps.queen_from_shapefile(ps.examples.get_path('NAT.shp'))"
   ]
  },
  {
   "cell_type": "markdown",
   "metadata": {},
   "source": [
    "Is the performance issue caused by the conversion from WKB to GeoJSON, database access, or the generalized builder because it is iterating over GeoJSON?"
   ]
  },
  {
   "cell_type": "code",
   "execution_count": 60,
   "metadata": {
    "collapsed": false
   },
   "outputs": [
    {
     "name": "stdout",
     "output_type": "stream",
     "text": [
      "setting bounding box for FeatureCollection\n",
      "0.128070831299\n"
     ]
    }
   ],
   "source": [
    "t1 = time.time()\n",
    "gjson = conn.get_gjson('columbus')\n",
    "w = contiguity_from_geojson(gjson, wtype='queen')\n",
    "t2 = time.time()\n",
    "print t2 - t1"
   ]
  },
  {
   "cell_type": "code",
   "execution_count": 18,
   "metadata": {
    "collapsed": false
   },
   "outputs": [
    {
     "name": "stdout",
     "output_type": "stream",
     "text": [
      "setting bounding box for FeatureCollection\n",
      "0.149102926254\n"
     ]
    }
   ],
   "source": [
    "t1 = time.time()\n",
    "gjson = conn.get_gjson('columbus')\n",
    "w = contiguity_from_geojson(gjson, wtype='rook')\n",
    "t2 = time.time()\n",
    "print t2 - t1"
   ]
  },
  {
   "cell_type": "code",
   "execution_count": 29,
   "metadata": {
    "collapsed": true
   },
   "outputs": [],
   "source": [
    "#Serge's code from: https://github.com/sjsrey/pysal/blob/wconstructor/pysal/weights/json.ipynb\n",
    "def parse_geojson(resource):\n",
    "    return json.loads(resource)\n",
    "\n",
    "def contiguity_from_geojson(gj_input, wtype='rook'):\n",
    "    WTYPE = wtype.upper()\n",
    "    if WTYPE not in ['QUEEN', 'ROOK']:\n",
    "        print \"wtype must be 'QUEEN' or 'ROOK'\"\n",
    "    WTYPE =[\"QUEEN\", 'ROOK'].index(WTYPE)+1\n",
    "    collection = gj_input\n",
    "    n = len(collection)\n",
    "    collection_type = collection['features'][0]['geometry']['type']\n",
    "    if collection_type in ['Polygon', 'MultiPolygon']:\n",
    "        polys = []\n",
    "        ids = []\n",
    "        i = 0\n",
    "        pappend = polys.append\n",
    "        makeshape = ps.cg.asShape\n",
    "        ids = xrange(len(collection['features']))\n",
    "        for feature in collection['features']:\n",
    "            pappend(makeshape(feature['geometry']))\n",
    "            #ids.append(i)\n",
    "            #i +=1\n",
    "        pcollection = ps.cg.shapes.PolygonCollection(dict(zip(ids,polys)))\n",
    "        neighbors = ps.weights.Contiguity.ContiguityWeightsPolygons(pcollection, wttype=WTYPE).w\n",
    "        return ps.W(neighbors)\n",
    "    else:\n",
    "        print \"GeoJSON feature type must be 'Polygon' or 'MultiPolygon'\""
   ]
  },
  {
   "cell_type": "code",
   "execution_count": 31,
   "metadata": {
    "collapsed": false
   },
   "outputs": [
    {
     "name": "stdout",
     "output_type": "stream",
     "text": [
      "setting bounding box for FeatureCollection\n"
     ]
    }
   ],
   "source": [
    "w = contiguity_from_geojson(gjson, wtype='queen')"
   ]
  },
  {
   "cell_type": "code",
   "execution_count": 33,
   "metadata": {
    "collapsed": false
   },
   "outputs": [],
   "source": [
    "w_ps = ps.queen_from_shapefile(ps.examples.get_path('columbus.shp'))"
   ]
  },
  {
   "cell_type": "code",
   "execution_count": 46,
   "metadata": {
    "collapsed": false
   },
   "outputs": [],
   "source": [
    "for k, v in w.neighbors.iteritems():\n",
    "    assert(list(v) == w_ps.neighbors[k])"
   ]
  },
  {
   "cell_type": "code",
   "execution_count": 30,
   "metadata": {
    "collapsed": false
   },
   "outputs": [],
   "source": [
    "import numpy as np\n",
    "import pysal.cg.shapes as shp\n",
    "\n",
    "class PolygonCollection:\n",
    "    def __init__(self, polygons, bbox=None):\n",
    "        \"\"\"\n",
    "        Parameters\n",
    "        ==========\n",
    "        polygons: dict\n",
    "                  key is polygon Id, value is PySAL Polygon object\n",
    "        bbox: list (optional)\n",
    "              [left, lower, right, upper]\n",
    "        Notes\n",
    "        =====\n",
    "        bbox is supported in geojson specification at both the feature and feature collection level. However, not all GeoJSON writers generate the bbox at the feature collection level. \n",
    "        In those cases, the bbox property will be set on initial access.\n",
    "        \"\"\"\n",
    "              \n",
    "        self.type = shp.Polygon\n",
    "        self.n = len(polygons)\n",
    "        self.polygons = polygons\n",
    "        if bbox is None:\n",
    "            self._bbox = None\n",
    "        else:\n",
    "            self._bbox = bbox\n",
    "            \n",
    "    @property\n",
    "    def bbox(self):\n",
    "        if self._bbox is None:\n",
    "            print 'setting bounding box for FeatureCollection'\n",
    "            bboxes = np.array([self.polygons[p].bbox for p in self.polygons])\n",
    "            mins = bboxes.min(axis=0)\n",
    "            maxs = bboxes.max(axis=0)\n",
    "            self._bbox = [ mins[0], mins[1], maxs[2], maxs[3] ]\n",
    "        return self._bbox\n",
    "        \n",
    "    \n",
    "    def __getitem__(self, index):\n",
    "        return self.polygons[index]\n",
    "    \n",
    "ps.cg.shapes.PolygonCollection = PolygonCollection"
   ]
  },
  {
   "cell_type": "code",
   "execution_count": null,
   "metadata": {
    "collapsed": true
   },
   "outputs": [],
   "source": [
    "class SqlConnection(lite.Connection):\n",
    "    def __init__(self, *args):\n",
    "        super(SqlConnection, self).__init__(*args)\n",
    "        self.cur = self.cursor()\n",
    "\n",
    "    def execute(self, query):\n",
    "        self.cur.execute(query)\n",
    "    \n",
    "    @property\n",
    "    def tables(self):\n",
    "        if not hasattr(self, '_tables'):\n",
    "            query = 'SELECT name FROM sqlite_master WHERE type=\"table\" ORDER BY name' \n",
    "            self.execute(query)\n",
    "            self._tables = self.cur.fetchall()\n",
    "        return self._tables\n",
    "    \n",
    "    def get_columns(self, table):\n",
    "        query = \"PRAGMA table_info('{}')\".format(table)\n",
    "        self.execute(query)\n",
    "        return [c[:3] for c in self.cur]\n",
    "    \n",
    "    def get_table(self, table, columns=['*'], where=None):\n",
    "        columns = ','.join(columns)\n",
    "        query = 'SELECT {} FROM {}'.format(columns, table)\n",
    "        if where:\n",
    "            query = query + ' {}'.format(where)\n",
    "        self.execute(query)\n",
    "        column_names = [description[0].lower() for description in self.cur.description]\n",
    "        return column_names, self.cur\n",
    "\n",
    "class Table():\n",
    "    \n",
    "    def __init__(self, db, tablename):\n",
    "        self.tablename = tablename\n",
    "        self.db = db\n",
    "        \n",
    "    @property\n",
    "    def columns(self):\n",
    "        if not hasattr('self', _columns):\n",
    "            query = \"PRAGMA table_info('{}')\".format(self.tablename)\n",
    "            self.db.execute(query)\n",
    "            "
   ]
  }
 ],
 "metadata": {
  "kernelspec": {
   "display_name": "Python 2",
   "language": "python",
   "name": "python2"
  },
  "language_info": {
   "codemirror_mode": {
    "name": "ipython",
    "version": 2
   },
   "file_extension": ".py",
   "mimetype": "text/x-python",
   "name": "python",
   "nbconvert_exporter": "python",
   "pygments_lexer": "ipython2",
   "version": "2.7.10"
  }
 },
 "nbformat": 4,
 "nbformat_minor": 0
}
